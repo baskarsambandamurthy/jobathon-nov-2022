{
 "cells": [
  {
   "cell_type": "code",
   "execution_count": 1,
   "id": "96492fc3",
   "metadata": {
    "_cell_guid": "b1076dfc-b9ad-4769-8c92-a6c4dae69d19",
    "_uuid": "8f2839f25d086af736a60e9eeb907d3b93b6e0e5",
    "execution": {
     "iopub.execute_input": "2022-11-20T08:30:01.352247Z",
     "iopub.status.busy": "2022-11-20T08:30:01.351520Z",
     "iopub.status.idle": "2022-11-20T08:30:01.371148Z",
     "shell.execute_reply": "2022-11-20T08:30:01.369684Z"
    },
    "papermill": {
     "duration": 0.048979,
     "end_time": "2022-11-20T08:30:01.374635",
     "exception": false,
     "start_time": "2022-11-20T08:30:01.325656",
     "status": "completed"
    },
    "tags": []
   },
   "outputs": [
    {
     "name": "stdout",
     "output_type": "stream",
     "text": [
      "/kaggle/input/jobathon-nov-2022/sample_submission.csv\n",
      "/kaggle/input/jobathon-nov-2022/train.csv\n",
      "/kaggle/input/jobathon-nov-2022/test.csv\n"
     ]
    }
   ],
   "source": [
    "# This Python 3 environment comes with many helpful analytics libraries installed\n",
    "# It is defined by the kaggle/python Docker image: https://github.com/kaggle/docker-python\n",
    "# For example, here's several helpful packages to load\n",
    "\n",
    "import numpy as np # linear algebra\n",
    "import pandas as pd # data processing, CSV file I/O (e.g. pd.read_csv)\n",
    "\n",
    "# Input data files are available in the read-only \"../input/\" directory\n",
    "# For example, running this (by clicking run or pressing Shift+Enter) will list all files under the input directory\n",
    "\n",
    "import os\n",
    "for dirname, _, filenames in os.walk('/kaggle/input'):\n",
    "    for filename in filenames:\n",
    "        print(os.path.join(dirname, filename))\n",
    "\n",
    "# You can write up to 20GB to the current directory (/kaggle/working/) that gets preserved as output when you create a version using \"Save & Run All\" \n",
    "# You can also write temporary files to /kaggle/temp/, but they won't be saved outside of the current session"
   ]
  },
  {
   "cell_type": "code",
   "execution_count": 2,
   "id": "5d77bd3b",
   "metadata": {
    "execution": {
     "iopub.execute_input": "2022-11-20T08:30:01.406143Z",
     "iopub.status.busy": "2022-11-20T08:30:01.405323Z",
     "iopub.status.idle": "2022-11-20T08:30:01.424707Z",
     "shell.execute_reply": "2022-11-20T08:30:01.423192Z"
    },
    "papermill": {
     "duration": 0.039612,
     "end_time": "2022-11-20T08:30:01.428815",
     "exception": false,
     "start_time": "2022-11-20T08:30:01.389203",
     "status": "completed"
    },
    "tags": []
   },
   "outputs": [],
   "source": [
    "from pandas.tseries.holiday import *"
   ]
  },
  {
   "cell_type": "code",
   "execution_count": 3,
   "id": "acfa2632",
   "metadata": {
    "execution": {
     "iopub.execute_input": "2022-11-20T08:30:01.467779Z",
     "iopub.status.busy": "2022-11-20T08:30:01.466558Z",
     "iopub.status.idle": "2022-11-20T08:30:16.051476Z",
     "shell.execute_reply": "2022-11-20T08:30:16.049881Z"
    },
    "papermill": {
     "duration": 14.607991,
     "end_time": "2022-11-20T08:30:16.054499",
     "exception": false,
     "start_time": "2022-11-20T08:30:01.446508",
     "status": "completed"
    },
    "tags": []
   },
   "outputs": [
    {
     "name": "stdout",
     "output_type": "stream",
     "text": [
      "Collecting pmdarima\r\n",
      "  Downloading pmdarima-2.0.1-cp37-cp37m-manylinux_2_17_x86_64.manylinux2014_x86_64.manylinux_2_28_x86_64.whl (1.8 MB)\r\n",
      "\u001b[2K     \u001b[90m━━━━━━━━━━━━━━━━━━━━━━━━━━━━━━━━━━━━━━━━\u001b[0m \u001b[32m1.8/1.8 MB\u001b[0m \u001b[31m5.4 MB/s\u001b[0m eta \u001b[36m0:00:00\u001b[0m\r\n",
      "\u001b[?25hRequirement already satisfied: joblib>=0.11 in /opt/conda/lib/python3.7/site-packages (from pmdarima) (1.0.1)\r\n",
      "Requirement already satisfied: setuptools!=50.0.0,>=38.6.0 in /opt/conda/lib/python3.7/site-packages (from pmdarima) (59.8.0)\r\n",
      "Requirement already satisfied: numpy>=1.21 in /opt/conda/lib/python3.7/site-packages (from pmdarima) (1.21.6)\r\n",
      "Requirement already satisfied: pandas>=0.19 in /opt/conda/lib/python3.7/site-packages (from pmdarima) (1.3.5)\r\n",
      "Requirement already satisfied: scipy>=1.3.2 in /opt/conda/lib/python3.7/site-packages (from pmdarima) (1.7.3)\r\n",
      "Requirement already satisfied: urllib3 in /opt/conda/lib/python3.7/site-packages (from pmdarima) (1.26.12)\r\n",
      "Requirement already satisfied: statsmodels>=0.13.2 in /opt/conda/lib/python3.7/site-packages (from pmdarima) (0.13.2)\r\n",
      "Requirement already satisfied: Cython!=0.29.18,!=0.29.31,>=0.29 in /opt/conda/lib/python3.7/site-packages (from pmdarima) (0.29.32)\r\n",
      "Requirement already satisfied: scikit-learn>=0.22 in /opt/conda/lib/python3.7/site-packages (from pmdarima) (1.0.2)\r\n",
      "Requirement already satisfied: python-dateutil>=2.7.3 in /opt/conda/lib/python3.7/site-packages (from pandas>=0.19->pmdarima) (2.8.2)\r\n",
      "Requirement already satisfied: pytz>=2017.3 in /opt/conda/lib/python3.7/site-packages (from pandas>=0.19->pmdarima) (2022.1)\r\n",
      "Requirement already satisfied: threadpoolctl>=2.0.0 in /opt/conda/lib/python3.7/site-packages (from scikit-learn>=0.22->pmdarima) (3.1.0)\r\n",
      "Requirement already satisfied: patsy>=0.5.2 in /opt/conda/lib/python3.7/site-packages (from statsmodels>=0.13.2->pmdarima) (0.5.2)\r\n",
      "Requirement already satisfied: packaging>=21.3 in /opt/conda/lib/python3.7/site-packages (from statsmodels>=0.13.2->pmdarima) (21.3)\r\n",
      "Requirement already satisfied: pyparsing!=3.0.5,>=2.0.2 in /opt/conda/lib/python3.7/site-packages (from packaging>=21.3->statsmodels>=0.13.2->pmdarima) (3.0.9)\r\n",
      "Requirement already satisfied: six in /opt/conda/lib/python3.7/site-packages (from patsy>=0.5.2->statsmodels>=0.13.2->pmdarima) (1.15.0)\r\n",
      "Installing collected packages: pmdarima\r\n",
      "Successfully installed pmdarima-2.0.1\r\n",
      "\u001b[33mWARNING: Running pip as the 'root' user can result in broken permissions and conflicting behaviour with the system package manager. It is recommended to use a virtual environment instead: https://pip.pypa.io/warnings/venv\u001b[0m\u001b[33m\r\n",
      "\u001b[0m"
     ]
    }
   ],
   "source": [
    "!pip install pmdarima"
   ]
  },
  {
   "cell_type": "code",
   "execution_count": 4,
   "id": "5bf7b648",
   "metadata": {
    "execution": {
     "iopub.execute_input": "2022-11-20T08:30:16.086469Z",
     "iopub.status.busy": "2022-11-20T08:30:16.085932Z",
     "iopub.status.idle": "2022-11-20T08:30:16.236390Z",
     "shell.execute_reply": "2022-11-20T08:30:16.235024Z"
    },
    "papermill": {
     "duration": 0.169707,
     "end_time": "2022-11-20T08:30:16.238926",
     "exception": false,
     "start_time": "2022-11-20T08:30:16.069219",
     "status": "completed"
    },
    "tags": []
   },
   "outputs": [
    {
     "name": "stdout",
     "output_type": "stream",
     "text": [
      "(94992, 3)\n"
     ]
    }
   ],
   "source": [
    "train=pd.read_csv('/kaggle/input/jobathon-nov-2022/train.csv')\n",
    "print(train.shape)"
   ]
  },
  {
   "cell_type": "code",
   "execution_count": 5,
   "id": "9f115e9f",
   "metadata": {
    "execution": {
     "iopub.execute_input": "2022-11-20T08:30:16.270058Z",
     "iopub.status.busy": "2022-11-20T08:30:16.269561Z",
     "iopub.status.idle": "2022-11-20T08:30:16.310293Z",
     "shell.execute_reply": "2022-11-20T08:30:16.308802Z"
    },
    "papermill": {
     "duration": 0.05948,
     "end_time": "2022-11-20T08:30:16.312884",
     "exception": false,
     "start_time": "2022-11-20T08:30:16.253404",
     "status": "completed"
    },
    "tags": []
   },
   "outputs": [
    {
     "name": "stdout",
     "output_type": "stream",
     "text": [
      "(26304, 2)\n"
     ]
    }
   ],
   "source": [
    "test=pd.read_csv('/kaggle/input/jobathon-nov-2022/test.csv')\n",
    "print(test.shape)"
   ]
  },
  {
   "cell_type": "code",
   "execution_count": 6,
   "id": "c0328d21",
   "metadata": {
    "execution": {
     "iopub.execute_input": "2022-11-20T08:30:16.344271Z",
     "iopub.status.busy": "2022-11-20T08:30:16.343810Z",
     "iopub.status.idle": "2022-11-20T08:30:16.372871Z",
     "shell.execute_reply": "2022-11-20T08:30:16.371333Z"
    },
    "papermill": {
     "duration": 0.048672,
     "end_time": "2022-11-20T08:30:16.376115",
     "exception": false,
     "start_time": "2022-11-20T08:30:16.327443",
     "status": "completed"
    },
    "tags": []
   },
   "outputs": [
    {
     "data": {
      "text/html": [
       "<div>\n",
       "<style scoped>\n",
       "    .dataframe tbody tr th:only-of-type {\n",
       "        vertical-align: middle;\n",
       "    }\n",
       "\n",
       "    .dataframe tbody tr th {\n",
       "        vertical-align: top;\n",
       "    }\n",
       "\n",
       "    .dataframe thead th {\n",
       "        text-align: right;\n",
       "    }\n",
       "</style>\n",
       "<table border=\"1\" class=\"dataframe\">\n",
       "  <thead>\n",
       "    <tr style=\"text-align: right;\">\n",
       "      <th></th>\n",
       "      <th>row_id</th>\n",
       "      <th>datetime</th>\n",
       "      <th>energy</th>\n",
       "    </tr>\n",
       "  </thead>\n",
       "  <tbody>\n",
       "    <tr>\n",
       "      <th>0</th>\n",
       "      <td>1</td>\n",
       "      <td>2008-03-01 00:00:00</td>\n",
       "      <td>1259.985563</td>\n",
       "    </tr>\n",
       "    <tr>\n",
       "      <th>1</th>\n",
       "      <td>2</td>\n",
       "      <td>2008-03-01 01:00:00</td>\n",
       "      <td>1095.541500</td>\n",
       "    </tr>\n",
       "    <tr>\n",
       "      <th>2</th>\n",
       "      <td>3</td>\n",
       "      <td>2008-03-01 02:00:00</td>\n",
       "      <td>1056.247500</td>\n",
       "    </tr>\n",
       "    <tr>\n",
       "      <th>3</th>\n",
       "      <td>4</td>\n",
       "      <td>2008-03-01 03:00:00</td>\n",
       "      <td>1034.742000</td>\n",
       "    </tr>\n",
       "    <tr>\n",
       "      <th>4</th>\n",
       "      <td>5</td>\n",
       "      <td>2008-03-01 04:00:00</td>\n",
       "      <td>1026.334500</td>\n",
       "    </tr>\n",
       "  </tbody>\n",
       "</table>\n",
       "</div>"
      ],
      "text/plain": [
       "   row_id             datetime       energy\n",
       "0       1  2008-03-01 00:00:00  1259.985563\n",
       "1       2  2008-03-01 01:00:00  1095.541500\n",
       "2       3  2008-03-01 02:00:00  1056.247500\n",
       "3       4  2008-03-01 03:00:00  1034.742000\n",
       "4       5  2008-03-01 04:00:00  1026.334500"
      ]
     },
     "execution_count": 6,
     "metadata": {},
     "output_type": "execute_result"
    }
   ],
   "source": [
    "train.head()"
   ]
  },
  {
   "cell_type": "code",
   "execution_count": 7,
   "id": "1005110b",
   "metadata": {
    "execution": {
     "iopub.execute_input": "2022-11-20T08:30:16.409447Z",
     "iopub.status.busy": "2022-11-20T08:30:16.408972Z",
     "iopub.status.idle": "2022-11-20T08:30:16.441301Z",
     "shell.execute_reply": "2022-11-20T08:30:16.440316Z"
    },
    "papermill": {
     "duration": 0.052136,
     "end_time": "2022-11-20T08:30:16.443854",
     "exception": false,
     "start_time": "2022-11-20T08:30:16.391718",
     "status": "completed"
    },
    "tags": []
   },
   "outputs": [
    {
     "name": "stdout",
     "output_type": "stream",
     "text": [
      "<class 'pandas.core.frame.DataFrame'>\n",
      "RangeIndex: 94992 entries, 0 to 94991\n",
      "Data columns (total 3 columns):\n",
      " #   Column    Non-Null Count  Dtype  \n",
      "---  ------    --------------  -----  \n",
      " 0   row_id    94992 non-null  int64  \n",
      " 1   datetime  94992 non-null  object \n",
      " 2   energy    93092 non-null  float64\n",
      "dtypes: float64(1), int64(1), object(1)\n",
      "memory usage: 2.2+ MB\n"
     ]
    }
   ],
   "source": [
    "train.info()"
   ]
  },
  {
   "cell_type": "code",
   "execution_count": 8,
   "id": "026d1e34",
   "metadata": {
    "execution": {
     "iopub.execute_input": "2022-11-20T08:30:16.476432Z",
     "iopub.status.busy": "2022-11-20T08:30:16.476047Z",
     "iopub.status.idle": "2022-11-20T08:30:16.498017Z",
     "shell.execute_reply": "2022-11-20T08:30:16.496773Z"
    },
    "papermill": {
     "duration": 0.041254,
     "end_time": "2022-11-20T08:30:16.500572",
     "exception": false,
     "start_time": "2022-11-20T08:30:16.459318",
     "status": "completed"
    },
    "tags": []
   },
   "outputs": [
    {
     "data": {
      "text/plain": [
       "count    93092.000000\n",
       "mean      1702.995014\n",
       "std        369.322103\n",
       "min        866.388600\n",
       "25%       1431.541100\n",
       "50%       1654.465800\n",
       "75%       1935.993450\n",
       "max       3374.399600\n",
       "Name: energy, dtype: float64"
      ]
     },
     "execution_count": 8,
     "metadata": {},
     "output_type": "execute_result"
    }
   ],
   "source": [
    "train['energy'].describe()"
   ]
  },
  {
   "cell_type": "code",
   "execution_count": 9,
   "id": "ea5778ec",
   "metadata": {
    "execution": {
     "iopub.execute_input": "2022-11-20T08:30:16.533973Z",
     "iopub.status.busy": "2022-11-20T08:30:16.533259Z",
     "iopub.status.idle": "2022-11-20T08:30:16.567104Z",
     "shell.execute_reply": "2022-11-20T08:30:16.565621Z"
    },
    "papermill": {
     "duration": 0.054739,
     "end_time": "2022-11-20T08:30:16.570964",
     "exception": false,
     "start_time": "2022-11-20T08:30:16.516225",
     "status": "completed"
    },
    "tags": []
   },
   "outputs": [],
   "source": [
    "train['datetime']=pd.to_datetime(train['datetime'],infer_datetime_format=True)"
   ]
  },
  {
   "cell_type": "code",
   "execution_count": 10,
   "id": "51496b1d",
   "metadata": {
    "execution": {
     "iopub.execute_input": "2022-11-20T08:30:16.603673Z",
     "iopub.status.busy": "2022-11-20T08:30:16.603210Z",
     "iopub.status.idle": "2022-11-20T08:30:16.613829Z",
     "shell.execute_reply": "2022-11-20T08:30:16.612540Z"
    },
    "papermill": {
     "duration": 0.029898,
     "end_time": "2022-11-20T08:30:16.616209",
     "exception": false,
     "start_time": "2022-11-20T08:30:16.586311",
     "status": "completed"
    },
    "tags": []
   },
   "outputs": [
    {
     "data": {
      "text/plain": [
       "(Timestamp('2008-03-01 00:00:00'), Timestamp('2018-12-31 23:00:00'))"
      ]
     },
     "execution_count": 10,
     "metadata": {},
     "output_type": "execute_result"
    }
   ],
   "source": [
    "train['datetime'].min(),train['datetime'].max()"
   ]
  },
  {
   "cell_type": "code",
   "execution_count": 11,
   "id": "6b745a9f",
   "metadata": {
    "execution": {
     "iopub.execute_input": "2022-11-20T08:30:16.650139Z",
     "iopub.status.busy": "2022-11-20T08:30:16.649153Z",
     "iopub.status.idle": "2022-11-20T08:30:16.655768Z",
     "shell.execute_reply": "2022-11-20T08:30:16.654899Z"
    },
    "papermill": {
     "duration": 0.026109,
     "end_time": "2022-11-20T08:30:16.658058",
     "exception": false,
     "start_time": "2022-11-20T08:30:16.631949",
     "status": "completed"
    },
    "tags": []
   },
   "outputs": [],
   "source": [
    "hour_map={0:0,1:0,2:0,3:0,4:0,5:0,\n",
    "         6:1,7:1,8:1,\n",
    "         9:2,10:2,11:2,\n",
    "         12:3,13:3,14:3,15:3,\n",
    "         16:4,17:4,\n",
    "         18:5,19:5,20:5,\n",
    "         21:6,22:6,23:6}"
   ]
  },
  {
   "cell_type": "code",
   "execution_count": 12,
   "id": "189781cf",
   "metadata": {
    "execution": {
     "iopub.execute_input": "2022-11-20T08:30:16.691507Z",
     "iopub.status.busy": "2022-11-20T08:30:16.690768Z",
     "iopub.status.idle": "2022-11-20T08:30:16.766367Z",
     "shell.execute_reply": "2022-11-20T08:30:16.765271Z"
    },
    "papermill": {
     "duration": 0.095447,
     "end_time": "2022-11-20T08:30:16.769321",
     "exception": false,
     "start_time": "2022-11-20T08:30:16.673874",
     "status": "completed"
    },
    "tags": []
   },
   "outputs": [],
   "source": [
    "train['year']=train['datetime'].dt.year\n",
    "train['month']=train['datetime'].dt.month\n",
    "train['day']=train['datetime'].dt.day\n",
    "train['hour']=train['datetime'].dt.hour\n",
    "train['quarter']=train['datetime'].dt.quarter\n",
    "train['is_weekend']=train['datetime'].dt.dayofweek >4\n",
    "train['day_part']=train['hour'].replace(hour_map)"
   ]
  },
  {
   "cell_type": "code",
   "execution_count": 13,
   "id": "c49a6134",
   "metadata": {
    "execution": {
     "iopub.execute_input": "2022-11-20T08:30:16.801907Z",
     "iopub.status.busy": "2022-11-20T08:30:16.801503Z",
     "iopub.status.idle": "2022-11-20T08:30:16.811045Z",
     "shell.execute_reply": "2022-11-20T08:30:16.809951Z"
    },
    "papermill": {
     "duration": 0.028986,
     "end_time": "2022-11-20T08:30:16.813777",
     "exception": false,
     "start_time": "2022-11-20T08:30:16.784791",
     "status": "completed"
    },
    "tags": []
   },
   "outputs": [],
   "source": [
    "#generate holidays feature\n",
    "def gen_holiday_feat(data,start,end):\n",
    "    cal = USFederalHolidayCalendar()\n",
    "    holiday_dates = cal.holidays(start=start, end=end)\n",
    "#     for dt in cal.holidays(start=sdt, end=edt): \n",
    "#         print (dt)\n",
    "    data['is_holiday'] = False\n",
    "    mask = data['datetime'].dt.date.astype('datetime64').isin(holiday_dates)\n",
    "    data.loc[mask,'is_holiday']=True   \n",
    "    \n",
    "    data['special_holiday']=False\n",
    "    mask= ((data['datetime'].dt.month==12) & (data['datetime'].dt.day>=24))  \\\n",
    "           | ((data['datetime'].dt.month==1) & (data['datetime'].dt.day<3)) \n",
    "    data.loc[mask,'special_holiday']=True   \n",
    "        \n",
    "    return holiday_dates"
   ]
  },
  {
   "cell_type": "code",
   "execution_count": 14,
   "id": "79b6475b",
   "metadata": {
    "execution": {
     "iopub.execute_input": "2022-11-20T08:30:16.846530Z",
     "iopub.status.busy": "2022-11-20T08:30:16.846120Z",
     "iopub.status.idle": "2022-11-20T08:30:17.053082Z",
     "shell.execute_reply": "2022-11-20T08:30:17.051497Z"
    },
    "papermill": {
     "duration": 0.226307,
     "end_time": "2022-11-20T08:30:17.055606",
     "exception": false,
     "start_time": "2022-11-20T08:30:16.829299",
     "status": "completed"
    },
    "tags": []
   },
   "outputs": [
    {
     "name": "stdout",
     "output_type": "stream",
     "text": [
      "DatetimeIndex(['2008-05-26', '2008-07-04', '2008-09-01', '2008-10-13',\n",
      "               '2008-11-11', '2008-11-27', '2008-12-25', '2009-01-01',\n",
      "               '2009-01-19', '2009-02-16',\n",
      "               ...\n",
      "               '2018-01-01', '2018-01-15', '2018-02-19', '2018-05-28',\n",
      "               '2018-07-04', '2018-09-03', '2018-10-08', '2018-11-12',\n",
      "               '2018-11-22', '2018-12-25'],\n",
      "              dtype='datetime64[ns]', length=107, freq=None)\n",
      "False    92400\n",
      "True      2592\n",
      "Name: special_holiday, dtype: int64\n"
     ]
    },
    {
     "data": {
      "text/plain": [
       "False    92424\n",
       "True      2568\n",
       "Name: is_holiday, dtype: int64"
      ]
     },
     "execution_count": 14,
     "metadata": {},
     "output_type": "execute_result"
    }
   ],
   "source": [
    "holidays= gen_holiday_feat(train,train['datetime'].dt.date.min(),train['datetime'].dt.date.max())\n",
    "print(holidays)\n",
    "print(train['special_holiday'].value_counts())\n",
    "train['is_holiday'].value_counts()"
   ]
  },
  {
   "cell_type": "code",
   "execution_count": 15,
   "id": "6565efd9",
   "metadata": {
    "execution": {
     "iopub.execute_input": "2022-11-20T08:30:17.088485Z",
     "iopub.status.busy": "2022-11-20T08:30:17.088054Z",
     "iopub.status.idle": "2022-11-20T08:30:17.097510Z",
     "shell.execute_reply": "2022-11-20T08:30:17.096682Z"
    },
    "papermill": {
     "duration": 0.028781,
     "end_time": "2022-11-20T08:30:17.099812",
     "exception": false,
     "start_time": "2022-11-20T08:30:17.071031",
     "status": "completed"
    },
    "tags": []
   },
   "outputs": [
    {
     "data": {
      "text/plain": [
       "array([2008, 2009, 2010, 2011, 2012, 2013, 2014, 2015, 2016, 2017, 2018])"
      ]
     },
     "execution_count": 15,
     "metadata": {},
     "output_type": "execute_result"
    }
   ],
   "source": [
    "train['year'].unique()"
   ]
  },
  {
   "cell_type": "code",
   "execution_count": 16,
   "id": "dd16f812",
   "metadata": {
    "execution": {
     "iopub.execute_input": "2022-11-20T08:30:17.134037Z",
     "iopub.status.busy": "2022-11-20T08:30:17.133037Z",
     "iopub.status.idle": "2022-11-20T08:30:17.147301Z",
     "shell.execute_reply": "2022-11-20T08:30:17.146124Z"
    },
    "papermill": {
     "duration": 0.034496,
     "end_time": "2022-11-20T08:30:17.150403",
     "exception": false,
     "start_time": "2022-11-20T08:30:17.115907",
     "status": "completed"
    },
    "tags": []
   },
   "outputs": [],
   "source": [
    "test['datetime']=pd.to_datetime(test['datetime'],infer_datetime_format=True)"
   ]
  },
  {
   "cell_type": "code",
   "execution_count": 17,
   "id": "c44396b5",
   "metadata": {
    "execution": {
     "iopub.execute_input": "2022-11-20T08:30:17.183712Z",
     "iopub.status.busy": "2022-11-20T08:30:17.183257Z",
     "iopub.status.idle": "2022-11-20T08:30:17.193126Z",
     "shell.execute_reply": "2022-11-20T08:30:17.191872Z"
    },
    "papermill": {
     "duration": 0.029384,
     "end_time": "2022-11-20T08:30:17.195428",
     "exception": false,
     "start_time": "2022-11-20T08:30:17.166044",
     "status": "completed"
    },
    "tags": []
   },
   "outputs": [
    {
     "data": {
      "text/plain": [
       "(Timestamp('2019-01-01 00:00:00'), Timestamp('2021-12-31 23:00:00'))"
      ]
     },
     "execution_count": 17,
     "metadata": {},
     "output_type": "execute_result"
    }
   ],
   "source": [
    "test['datetime'].min(),test['datetime'].max()"
   ]
  },
  {
   "cell_type": "code",
   "execution_count": 18,
   "id": "407dd3f5",
   "metadata": {
    "execution": {
     "iopub.execute_input": "2022-11-20T08:30:17.229294Z",
     "iopub.status.busy": "2022-11-20T08:30:17.228313Z",
     "iopub.status.idle": "2022-11-20T08:30:17.259429Z",
     "shell.execute_reply": "2022-11-20T08:30:17.258524Z"
    },
    "papermill": {
     "duration": 0.05104,
     "end_time": "2022-11-20T08:30:17.262095",
     "exception": false,
     "start_time": "2022-11-20T08:30:17.211055",
     "status": "completed"
    },
    "tags": []
   },
   "outputs": [],
   "source": [
    "test['year']=test['datetime'].dt.year\n",
    "test['month']=test['datetime'].dt.month\n",
    "test['day']=test['datetime'].dt.day\n",
    "test['hour']=test['datetime'].dt.hour\n",
    "test['quarter']=test['datetime'].dt.quarter\n",
    "test['is_weekend']=test['datetime'].dt.dayofweek >4\n",
    "test['day_part']=test['hour'].replace(hour_map)"
   ]
  },
  {
   "cell_type": "code",
   "execution_count": 19,
   "id": "15f1e715",
   "metadata": {
    "execution": {
     "iopub.execute_input": "2022-11-20T08:30:17.296270Z",
     "iopub.status.busy": "2022-11-20T08:30:17.294965Z",
     "iopub.status.idle": "2022-11-20T08:30:17.374846Z",
     "shell.execute_reply": "2022-11-20T08:30:17.373390Z"
    },
    "papermill": {
     "duration": 0.099861,
     "end_time": "2022-11-20T08:30:17.377495",
     "exception": false,
     "start_time": "2022-11-20T08:30:17.277634",
     "status": "completed"
    },
    "tags": []
   },
   "outputs": [
    {
     "name": "stdout",
     "output_type": "stream",
     "text": [
      "31\n",
      "DatetimeIndex(['2019-01-01', '2019-01-21', '2019-02-18', '2019-05-27',\n",
      "               '2019-07-04', '2019-09-02', '2019-10-14', '2019-11-11',\n",
      "               '2019-11-28', '2019-12-25', '2020-01-01', '2020-01-20',\n",
      "               '2020-02-17', '2020-05-25', '2020-07-03', '2020-09-07',\n",
      "               '2020-10-12', '2020-11-11', '2020-11-26', '2020-12-25',\n",
      "               '2021-01-01', '2021-01-18', '2021-02-15', '2021-05-31',\n",
      "               '2021-07-05', '2021-09-06', '2021-10-11', '2021-11-11',\n",
      "               '2021-11-25', '2021-12-24', '2021-12-31'],\n",
      "              dtype='datetime64[ns]', freq=None)\n",
      "False    25584\n",
      "True       720\n",
      "Name: special_holiday, dtype: int64\n"
     ]
    },
    {
     "data": {
      "text/plain": [
       "False    25560\n",
       "True       744\n",
       "Name: is_holiday, dtype: int64"
      ]
     },
     "execution_count": 19,
     "metadata": {},
     "output_type": "execute_result"
    }
   ],
   "source": [
    "holidays= gen_holiday_feat(test,test['datetime'].dt.date.min(),test['datetime'].dt.date.max())\n",
    "print(len(holidays))\n",
    "print(holidays)\n",
    "print(test['special_holiday'].value_counts())\n",
    "test['is_holiday'].value_counts()"
   ]
  },
  {
   "cell_type": "code",
   "execution_count": 20,
   "id": "bbcbad47",
   "metadata": {
    "execution": {
     "iopub.execute_input": "2022-11-20T08:30:17.411733Z",
     "iopub.status.busy": "2022-11-20T08:30:17.411260Z",
     "iopub.status.idle": "2022-11-20T08:30:17.417137Z",
     "shell.execute_reply": "2022-11-20T08:30:17.415871Z"
    },
    "papermill": {
     "duration": 0.025658,
     "end_time": "2022-11-20T08:30:17.419620",
     "exception": false,
     "start_time": "2022-11-20T08:30:17.393962",
     "status": "completed"
    },
    "tags": []
   },
   "outputs": [],
   "source": [
    "targetcol = 'energy'"
   ]
  },
  {
   "cell_type": "code",
   "execution_count": 21,
   "id": "d825cda1",
   "metadata": {
    "execution": {
     "iopub.execute_input": "2022-11-20T08:30:17.454818Z",
     "iopub.status.busy": "2022-11-20T08:30:17.453918Z",
     "iopub.status.idle": "2022-11-20T08:30:17.461749Z",
     "shell.execute_reply": "2022-11-20T08:30:17.460504Z"
    },
    "papermill": {
     "duration": 0.028716,
     "end_time": "2022-11-20T08:30:17.464056",
     "exception": false,
     "start_time": "2022-11-20T08:30:17.435340",
     "status": "completed"
    },
    "tags": []
   },
   "outputs": [],
   "source": [
    "train[targetcol].fillna(train[targetcol].mean(),inplace=True)"
   ]
  },
  {
   "cell_type": "markdown",
   "id": "da74246b",
   "metadata": {
    "papermill": {
     "duration": 0.016219,
     "end_time": "2022-11-20T08:30:17.496762",
     "exception": false,
     "start_time": "2022-11-20T08:30:17.480543",
     "status": "completed"
    },
    "tags": []
   },
   "source": [
    "Create Lag Features"
   ]
  },
  {
   "cell_type": "code",
   "execution_count": 22,
   "id": "af6c10e8",
   "metadata": {
    "execution": {
     "iopub.execute_input": "2022-11-20T08:30:17.533089Z",
     "iopub.status.busy": "2022-11-20T08:30:17.532559Z",
     "iopub.status.idle": "2022-11-20T08:30:17.539623Z",
     "shell.execute_reply": "2022-11-20T08:30:17.538240Z"
    },
    "papermill": {
     "duration": 0.028934,
     "end_time": "2022-11-20T08:30:17.542390",
     "exception": false,
     "start_time": "2022-11-20T08:30:17.513456",
     "status": "completed"
    },
    "tags": []
   },
   "outputs": [],
   "source": [
    "def create_lag(data,lagno_list):\n",
    "    res = pd.DataFrame()\n",
    "    for i in lagno_list:\n",
    "        shifted = data.shift(i)\n",
    "        res=pd.concat([res,shifted],axis=1)\n",
    "\n",
    "#     res=pd.concat([data.shift(i) for i in lagno_list],axis=1)\n",
    "    res.columns=[f'lag_{i}' for i in lagno_list]\n",
    "    return res"
   ]
  },
  {
   "cell_type": "code",
   "execution_count": 23,
   "id": "c5fc61e3",
   "metadata": {
    "execution": {
     "iopub.execute_input": "2022-11-20T08:30:17.576785Z",
     "iopub.status.busy": "2022-11-20T08:30:17.576341Z",
     "iopub.status.idle": "2022-11-20T08:30:17.584337Z",
     "shell.execute_reply": "2022-11-20T08:30:17.582887Z"
    },
    "papermill": {
     "duration": 0.02816,
     "end_time": "2022-11-20T08:30:17.586797",
     "exception": false,
     "start_time": "2022-11-20T08:30:17.558637",
     "status": "completed"
    },
    "tags": []
   },
   "outputs": [
    {
     "data": {
      "text/plain": [
       "(26304, 11)"
      ]
     },
     "execution_count": 23,
     "metadata": {},
     "output_type": "execute_result"
    }
   ],
   "source": [
    "test.shape"
   ]
  },
  {
   "cell_type": "code",
   "execution_count": 24,
   "id": "f7989804",
   "metadata": {
    "execution": {
     "iopub.execute_input": "2022-11-20T08:30:17.621382Z",
     "iopub.status.busy": "2022-11-20T08:30:17.620957Z",
     "iopub.status.idle": "2022-11-20T08:30:17.951287Z",
     "shell.execute_reply": "2022-11-20T08:30:17.950128Z"
    },
    "papermill": {
     "duration": 0.350764,
     "end_time": "2022-11-20T08:30:17.953940",
     "exception": false,
     "start_time": "2022-11-20T08:30:17.603176",
     "status": "completed"
    },
    "tags": []
   },
   "outputs": [
    {
     "name": "stdout",
     "output_type": "stream",
     "text": [
      "(94992, 18) (26304, 17)\n"
     ]
    }
   ],
   "source": [
    "train['istrain']=1\n",
    "test['istrain']=0\n",
    "combined = pd.concat([train,test],axis=0) \n",
    "#lag 1 year, 3 year, quarter, month,week\n",
    "lag_df = create_lag(combined[targetcol],[24,168,720,2160,8760,26304])\n",
    "combined=pd.concat([combined,lag_df],axis=1)\n",
    "train=combined[combined['istrain']==1]\n",
    "test=combined[combined['istrain']==0]\n",
    "\n",
    "del combined,train['istrain'],test['istrain'],test[targetcol]\n",
    "print(train.shape,test.shape)"
   ]
  },
  {
   "cell_type": "code",
   "execution_count": 25,
   "id": "5a2f72aa",
   "metadata": {
    "execution": {
     "iopub.execute_input": "2022-11-20T08:30:17.987569Z",
     "iopub.status.busy": "2022-11-20T08:30:17.987186Z",
     "iopub.status.idle": "2022-11-20T08:30:17.995179Z",
     "shell.execute_reply": "2022-11-20T08:30:17.993866Z"
    },
    "papermill": {
     "duration": 0.027688,
     "end_time": "2022-11-20T08:30:17.997569",
     "exception": false,
     "start_time": "2022-11-20T08:30:17.969881",
     "status": "completed"
    },
    "tags": []
   },
   "outputs": [
    {
     "data": {
      "text/plain": [
       "Index(['row_id', 'datetime', 'energy', 'year', 'month', 'day', 'hour',\n",
       "       'quarter', 'is_weekend', 'day_part', 'is_holiday', 'special_holiday',\n",
       "       'lag_24', 'lag_168', 'lag_720', 'lag_2160', 'lag_8760', 'lag_26304'],\n",
       "      dtype='object')"
      ]
     },
     "execution_count": 25,
     "metadata": {},
     "output_type": "execute_result"
    }
   ],
   "source": [
    "# cols = [col for col in train.columns if col.startswith('lag_')]\n",
    "# train.drop(cols,axis=1,inplace=True)\n",
    "# test.drop(cols,axis=1,inplace=True)\n",
    "train.columns"
   ]
  },
  {
   "cell_type": "code",
   "execution_count": 26,
   "id": "3011eb86",
   "metadata": {
    "execution": {
     "iopub.execute_input": "2022-11-20T08:30:18.032068Z",
     "iopub.status.busy": "2022-11-20T08:30:18.031634Z",
     "iopub.status.idle": "2022-11-20T08:30:18.042619Z",
     "shell.execute_reply": "2022-11-20T08:30:18.041294Z"
    },
    "papermill": {
     "duration": 0.031229,
     "end_time": "2022-11-20T08:30:18.045484",
     "exception": false,
     "start_time": "2022-11-20T08:30:18.014255",
     "status": "completed"
    },
    "tags": []
   },
   "outputs": [],
   "source": [
    "cols = [col for col in train.columns if col.startswith('lag_')]\n",
    "target_mean = train[targetcol].mean()\n",
    "for col in cols:\n",
    "    train[col].fillna(target_mean,inplace=True)"
   ]
  },
  {
   "cell_type": "markdown",
   "id": "05abe51e",
   "metadata": {
    "papermill": {
     "duration": 0.015561,
     "end_time": "2022-11-20T08:30:18.077411",
     "exception": false,
     "start_time": "2022-11-20T08:30:18.061850",
     "status": "completed"
    },
    "tags": []
   },
   "source": [
    "Split Train into train and validation sets"
   ]
  },
  {
   "cell_type": "code",
   "execution_count": 27,
   "id": "7696a4d4",
   "metadata": {
    "execution": {
     "iopub.execute_input": "2022-11-20T08:30:18.111530Z",
     "iopub.status.busy": "2022-11-20T08:30:18.111051Z",
     "iopub.status.idle": "2022-11-20T08:30:18.116572Z",
     "shell.execute_reply": "2022-11-20T08:30:18.115310Z"
    },
    "papermill": {
     "duration": 0.025935,
     "end_time": "2022-11-20T08:30:18.119172",
     "exception": false,
     "start_time": "2022-11-20T08:30:18.093237",
     "status": "completed"
    },
    "tags": []
   },
   "outputs": [],
   "source": [
    "# import cudf\n",
    "# from cuml.tsa.arima import ARIMA"
   ]
  },
  {
   "cell_type": "code",
   "execution_count": 28,
   "id": "ce8349e7",
   "metadata": {
    "execution": {
     "iopub.execute_input": "2022-11-20T08:30:18.152831Z",
     "iopub.status.busy": "2022-11-20T08:30:18.152451Z",
     "iopub.status.idle": "2022-11-20T08:30:18.207872Z",
     "shell.execute_reply": "2022-11-20T08:30:18.206776Z"
    },
    "papermill": {
     "duration": 0.07541,
     "end_time": "2022-11-20T08:30:18.210390",
     "exception": false,
     "start_time": "2022-11-20T08:30:18.134980",
     "status": "completed"
    },
    "tags": []
   },
   "outputs": [
    {
     "name": "stdout",
     "output_type": "stream",
     "text": [
      "(68688, 18)\n",
      "(26304, 18)\n"
     ]
    },
    {
     "data": {
      "text/html": [
       "<div>\n",
       "<style scoped>\n",
       "    .dataframe tbody tr th:only-of-type {\n",
       "        vertical-align: middle;\n",
       "    }\n",
       "\n",
       "    .dataframe tbody tr th {\n",
       "        vertical-align: top;\n",
       "    }\n",
       "\n",
       "    .dataframe thead th {\n",
       "        text-align: right;\n",
       "    }\n",
       "</style>\n",
       "<table border=\"1\" class=\"dataframe\">\n",
       "  <thead>\n",
       "    <tr style=\"text-align: right;\">\n",
       "      <th></th>\n",
       "      <th>row_id</th>\n",
       "      <th>datetime</th>\n",
       "      <th>energy</th>\n",
       "      <th>year</th>\n",
       "      <th>month</th>\n",
       "      <th>day</th>\n",
       "      <th>hour</th>\n",
       "      <th>quarter</th>\n",
       "      <th>is_weekend</th>\n",
       "      <th>day_part</th>\n",
       "      <th>is_holiday</th>\n",
       "      <th>special_holiday</th>\n",
       "      <th>lag_24</th>\n",
       "      <th>lag_168</th>\n",
       "      <th>lag_720</th>\n",
       "      <th>lag_2160</th>\n",
       "      <th>lag_8760</th>\n",
       "      <th>lag_26304</th>\n",
       "    </tr>\n",
       "  </thead>\n",
       "  <tbody>\n",
       "    <tr>\n",
       "      <th>68688</th>\n",
       "      <td>68689</td>\n",
       "      <td>2016-01-01 00:00:00</td>\n",
       "      <td>2002.2470</td>\n",
       "      <td>2016</td>\n",
       "      <td>1</td>\n",
       "      <td>1</td>\n",
       "      <td>0</td>\n",
       "      <td>1</td>\n",
       "      <td>False</td>\n",
       "      <td>0</td>\n",
       "      <td>True</td>\n",
       "      <td>True</td>\n",
       "      <td>2045.0170</td>\n",
       "      <td>2274.7530</td>\n",
       "      <td>1983.0616</td>\n",
       "      <td>1878.091800</td>\n",
       "      <td>2287.2788</td>\n",
       "      <td>1479.1658</td>\n",
       "    </tr>\n",
       "    <tr>\n",
       "      <th>68689</th>\n",
       "      <td>68690</td>\n",
       "      <td>2016-01-01 01:00:00</td>\n",
       "      <td>1843.3870</td>\n",
       "      <td>2016</td>\n",
       "      <td>1</td>\n",
       "      <td>1</td>\n",
       "      <td>1</td>\n",
       "      <td>1</td>\n",
       "      <td>False</td>\n",
       "      <td>0</td>\n",
       "      <td>True</td>\n",
       "      <td>True</td>\n",
       "      <td>1881.1468</td>\n",
       "      <td>2118.4592</td>\n",
       "      <td>1827.3788</td>\n",
       "      <td>1702.995014</td>\n",
       "      <td>2120.5124</td>\n",
       "      <td>1375.2627</td>\n",
       "    </tr>\n",
       "    <tr>\n",
       "      <th>68690</th>\n",
       "      <td>68691</td>\n",
       "      <td>2016-01-01 02:00:00</td>\n",
       "      <td>1735.1178</td>\n",
       "      <td>2016</td>\n",
       "      <td>1</td>\n",
       "      <td>1</td>\n",
       "      <td>2</td>\n",
       "      <td>1</td>\n",
       "      <td>False</td>\n",
       "      <td>0</td>\n",
       "      <td>True</td>\n",
       "      <td>True</td>\n",
       "      <td>1781.7982</td>\n",
       "      <td>2020.4548</td>\n",
       "      <td>1719.9650</td>\n",
       "      <td>1627.704000</td>\n",
       "      <td>2015.9704</td>\n",
       "      <td>1307.8261</td>\n",
       "    </tr>\n",
       "    <tr>\n",
       "      <th>68691</th>\n",
       "      <td>68692</td>\n",
       "      <td>2016-01-01 03:00:00</td>\n",
       "      <td>1666.1970</td>\n",
       "      <td>2016</td>\n",
       "      <td>1</td>\n",
       "      <td>1</td>\n",
       "      <td>3</td>\n",
       "      <td>1</td>\n",
       "      <td>False</td>\n",
       "      <td>0</td>\n",
       "      <td>True</td>\n",
       "      <td>True</td>\n",
       "      <td>1719.5984</td>\n",
       "      <td>1936.5034</td>\n",
       "      <td>1648.2336</td>\n",
       "      <td>1564.526600</td>\n",
       "      <td>1939.9740</td>\n",
       "      <td>1261.5295</td>\n",
       "    </tr>\n",
       "    <tr>\n",
       "      <th>68692</th>\n",
       "      <td>68693</td>\n",
       "      <td>2016-01-01 04:00:00</td>\n",
       "      <td>1630.3924</td>\n",
       "      <td>2016</td>\n",
       "      <td>1</td>\n",
       "      <td>1</td>\n",
       "      <td>4</td>\n",
       "      <td>1</td>\n",
       "      <td>False</td>\n",
       "      <td>0</td>\n",
       "      <td>True</td>\n",
       "      <td>True</td>\n",
       "      <td>1657.1542</td>\n",
       "      <td>1895.8108</td>\n",
       "      <td>1603.2640</td>\n",
       "      <td>1541.553000</td>\n",
       "      <td>1885.3868</td>\n",
       "      <td>1228.8682</td>\n",
       "    </tr>\n",
       "  </tbody>\n",
       "</table>\n",
       "</div>"
      ],
      "text/plain": [
       "       row_id            datetime     energy  year  month  day  hour  quarter  \\\n",
       "68688   68689 2016-01-01 00:00:00  2002.2470  2016      1    1     0        1   \n",
       "68689   68690 2016-01-01 01:00:00  1843.3870  2016      1    1     1        1   \n",
       "68690   68691 2016-01-01 02:00:00  1735.1178  2016      1    1     2        1   \n",
       "68691   68692 2016-01-01 03:00:00  1666.1970  2016      1    1     3        1   \n",
       "68692   68693 2016-01-01 04:00:00  1630.3924  2016      1    1     4        1   \n",
       "\n",
       "       is_weekend  day_part  is_holiday  special_holiday     lag_24  \\\n",
       "68688       False         0        True             True  2045.0170   \n",
       "68689       False         0        True             True  1881.1468   \n",
       "68690       False         0        True             True  1781.7982   \n",
       "68691       False         0        True             True  1719.5984   \n",
       "68692       False         0        True             True  1657.1542   \n",
       "\n",
       "         lag_168    lag_720     lag_2160   lag_8760  lag_26304  \n",
       "68688  2274.7530  1983.0616  1878.091800  2287.2788  1479.1658  \n",
       "68689  2118.4592  1827.3788  1702.995014  2120.5124  1375.2627  \n",
       "68690  2020.4548  1719.9650  1627.704000  2015.9704  1307.8261  \n",
       "68691  1936.5034  1648.2336  1564.526600  1939.9740  1261.5295  \n",
       "68692  1895.8108  1603.2640  1541.553000  1885.3868  1228.8682  "
      ]
     },
     "execution_count": 28,
     "metadata": {},
     "output_type": "execute_result"
    }
   ],
   "source": [
    "import datetime \n",
    "train_start = datetime.datetime(year=2008,month=1,day=1,hour=0)\n",
    "val_start = datetime.datetime(year=2016,month=1,day=1,hour=0)\n",
    "val_end = datetime.datetime(year=2018,month=12,day=31,hour=23)\n",
    "# train_start = datetime.datetime(year=2017,month=1,day=1,hour=0)\n",
    "# val_start = datetime.datetime(year=2018,month=1,day=1,hour=0)\n",
    "# val_end = datetime.datetime(year=2018,month=12,day=31,hour=23)\n",
    "# hour_mask = (train['hour']>=0)\n",
    "X_val= train[(train['datetime']>=val_start) & (train['datetime']<=val_end)].copy()\n",
    "X_train= train[(train['datetime']>=train_start) & (train['datetime']<val_start)].copy()\n",
    "print(X_train.shape)\n",
    "print(X_val.shape)\n",
    "X_val.head()           "
   ]
  },
  {
   "cell_type": "code",
   "execution_count": 29,
   "id": "084fa717",
   "metadata": {
    "execution": {
     "iopub.execute_input": "2022-11-20T08:30:18.245233Z",
     "iopub.status.busy": "2022-11-20T08:30:18.244818Z",
     "iopub.status.idle": "2022-11-20T08:30:18.251689Z",
     "shell.execute_reply": "2022-11-20T08:30:18.250518Z"
    },
    "papermill": {
     "duration": 0.02893,
     "end_time": "2022-11-20T08:30:18.255726",
     "exception": false,
     "start_time": "2022-11-20T08:30:18.226796",
     "status": "completed"
    },
    "tags": []
   },
   "outputs": [
    {
     "name": "stdout",
     "output_type": "stream",
     "text": [
      "0\n"
     ]
    }
   ],
   "source": [
    "val_target = X_val[targetcol]\n",
    "print(X_val[targetcol].isnull().sum())"
   ]
  },
  {
   "cell_type": "code",
   "execution_count": 30,
   "id": "0af535fb",
   "metadata": {
    "execution": {
     "iopub.execute_input": "2022-11-20T08:30:18.293027Z",
     "iopub.status.busy": "2022-11-20T08:30:18.292533Z",
     "iopub.status.idle": "2022-11-20T08:30:18.298055Z",
     "shell.execute_reply": "2022-11-20T08:30:18.296803Z"
    },
    "papermill": {
     "duration": 0.026549,
     "end_time": "2022-11-20T08:30:18.300458",
     "exception": false,
     "start_time": "2022-11-20T08:30:18.273909",
     "status": "completed"
    },
    "tags": []
   },
   "outputs": [],
   "source": [
    "# val_target.fillna(X_train[targetcol].mean(),inplace=True)"
   ]
  },
  {
   "cell_type": "code",
   "execution_count": 31,
   "id": "bec05411",
   "metadata": {
    "execution": {
     "iopub.execute_input": "2022-11-20T08:30:18.337380Z",
     "iopub.status.busy": "2022-11-20T08:30:18.336632Z",
     "iopub.status.idle": "2022-11-20T08:30:19.582876Z",
     "shell.execute_reply": "2022-11-20T08:30:19.581531Z"
    },
    "papermill": {
     "duration": 1.267649,
     "end_time": "2022-11-20T08:30:19.585844",
     "exception": false,
     "start_time": "2022-11-20T08:30:18.318195",
     "status": "completed"
    },
    "tags": []
   },
   "outputs": [],
   "source": [
    "from sklearn.metrics import mean_squared_error"
   ]
  },
  {
   "cell_type": "code",
   "execution_count": 32,
   "id": "5655af02",
   "metadata": {
    "execution": {
     "iopub.execute_input": "2022-11-20T08:30:19.621045Z",
     "iopub.status.busy": "2022-11-20T08:30:19.620542Z",
     "iopub.status.idle": "2022-11-20T08:30:19.627329Z",
     "shell.execute_reply": "2022-11-20T08:30:19.626079Z"
    },
    "papermill": {
     "duration": 0.027394,
     "end_time": "2022-11-20T08:30:19.629634",
     "exception": false,
     "start_time": "2022-11-20T08:30:19.602240",
     "status": "completed"
    },
    "tags": []
   },
   "outputs": [],
   "source": [
    "#compute baseline error by predicting train energy mean as the energy for all time\n",
    "val_preds_baseline = np.full(len(X_val),train[targetcol].mean())"
   ]
  },
  {
   "cell_type": "code",
   "execution_count": 33,
   "id": "7b21438c",
   "metadata": {
    "execution": {
     "iopub.execute_input": "2022-11-20T08:30:19.664785Z",
     "iopub.status.busy": "2022-11-20T08:30:19.664106Z",
     "iopub.status.idle": "2022-11-20T08:30:19.668138Z",
     "shell.execute_reply": "2022-11-20T08:30:19.667190Z"
    },
    "papermill": {
     "duration": 0.024617,
     "end_time": "2022-11-20T08:30:19.670591",
     "exception": false,
     "start_time": "2022-11-20T08:30:19.645974",
     "status": "completed"
    },
    "tags": []
   },
   "outputs": [],
   "source": [
    "# print(X_train[targetcol].isnull().sum())\n",
    "# X_train.fillna(X_train[targetcol].mean(),inplace=True)\n",
    "# print(X_train[targetcol].isnull().sum())"
   ]
  },
  {
   "cell_type": "code",
   "execution_count": 34,
   "id": "66c44f50",
   "metadata": {
    "execution": {
     "iopub.execute_input": "2022-11-20T08:30:19.706063Z",
     "iopub.status.busy": "2022-11-20T08:30:19.705351Z",
     "iopub.status.idle": "2022-11-20T08:30:19.713248Z",
     "shell.execute_reply": "2022-11-20T08:30:19.711659Z"
    },
    "papermill": {
     "duration": 0.029207,
     "end_time": "2022-11-20T08:30:19.716326",
     "exception": false,
     "start_time": "2022-11-20T08:30:19.687119",
     "status": "completed"
    },
    "tags": []
   },
   "outputs": [
    {
     "name": "stdout",
     "output_type": "stream",
     "text": [
      "68688    2002.2470\n",
      "68689    1843.3870\n",
      "68690    1735.1178\n",
      "68691    1666.1970\n",
      "68692    1630.3924\n",
      "Name: energy, dtype: float64\n"
     ]
    }
   ],
   "source": [
    "print(val_target[0:5])"
   ]
  },
  {
   "cell_type": "code",
   "execution_count": 35,
   "id": "f0718d1c",
   "metadata": {
    "execution": {
     "iopub.execute_input": "2022-11-20T08:30:19.752353Z",
     "iopub.status.busy": "2022-11-20T08:30:19.751656Z",
     "iopub.status.idle": "2022-11-20T08:30:19.759771Z",
     "shell.execute_reply": "2022-11-20T08:30:19.757851Z"
    },
    "papermill": {
     "duration": 0.02921,
     "end_time": "2022-11-20T08:30:19.762405",
     "exception": false,
     "start_time": "2022-11-20T08:30:19.733195",
     "status": "completed"
    },
    "tags": []
   },
   "outputs": [
    {
     "name": "stdout",
     "output_type": "stream",
     "text": [
      "valid score: 427.29210032008933\n"
     ]
    }
   ],
   "source": [
    "#compute error score on baseline predictions\n",
    "val_score = mean_squared_error(val_target,val_preds_baseline,squared=False)\n",
    "print('valid score:',val_score)"
   ]
  },
  {
   "cell_type": "markdown",
   "id": "6812de2a",
   "metadata": {
    "papermill": {
     "duration": 0.016839,
     "end_time": "2022-11-20T08:30:19.795533",
     "exception": false,
     "start_time": "2022-11-20T08:30:19.778694",
     "status": "completed"
    },
    "tags": []
   },
   "source": [
    "UCM"
   ]
  },
  {
   "cell_type": "code",
   "execution_count": 36,
   "id": "e59918a9",
   "metadata": {
    "execution": {
     "iopub.execute_input": "2022-11-20T08:30:19.832127Z",
     "iopub.status.busy": "2022-11-20T08:30:19.831257Z",
     "iopub.status.idle": "2022-11-20T08:30:19.838274Z",
     "shell.execute_reply": "2022-11-20T08:30:19.836979Z"
    },
    "papermill": {
     "duration": 0.028521,
     "end_time": "2022-11-20T08:30:19.840591",
     "exception": false,
     "start_time": "2022-11-20T08:30:19.812070",
     "status": "completed"
    },
    "tags": []
   },
   "outputs": [
    {
     "data": {
      "text/plain": [
       "(68688, 18)"
      ]
     },
     "execution_count": 36,
     "metadata": {},
     "output_type": "execute_result"
    }
   ],
   "source": [
    "X_val.shape\n",
    "X_train.shape"
   ]
  },
  {
   "cell_type": "code",
   "execution_count": 37,
   "id": "856e24ea",
   "metadata": {
    "execution": {
     "iopub.execute_input": "2022-11-20T08:30:19.878229Z",
     "iopub.status.busy": "2022-11-20T08:30:19.876459Z",
     "iopub.status.idle": "2022-11-20T08:30:20.655616Z",
     "shell.execute_reply": "2022-11-20T08:30:20.654601Z"
    },
    "papermill": {
     "duration": 0.800886,
     "end_time": "2022-11-20T08:30:20.658217",
     "exception": false,
     "start_time": "2022-11-20T08:30:19.857331",
     "status": "completed"
    },
    "tags": []
   },
   "outputs": [],
   "source": [
    "import statsmodels.api as sm"
   ]
  },
  {
   "cell_type": "code",
   "execution_count": 38,
   "id": "2eccc803",
   "metadata": {
    "execution": {
     "iopub.execute_input": "2022-11-20T08:30:20.693970Z",
     "iopub.status.busy": "2022-11-20T08:30:20.693447Z",
     "iopub.status.idle": "2022-11-20T08:30:20.698224Z",
     "shell.execute_reply": "2022-11-20T08:30:20.697316Z"
    },
    "papermill": {
     "duration": 0.025722,
     "end_time": "2022-11-20T08:30:20.700490",
     "exception": false,
     "start_time": "2022-11-20T08:30:20.674768",
     "status": "completed"
    },
    "tags": []
   },
   "outputs": [],
   "source": [
    "# X_train= X_train.set_index(X_train.datetime).sort_index()\n",
    "# X_val= X_val.set_index(X_val.datetime).sort_index()"
   ]
  },
  {
   "cell_type": "code",
   "execution_count": 39,
   "id": "3ad77a27",
   "metadata": {
    "execution": {
     "iopub.execute_input": "2022-11-20T08:30:20.736623Z",
     "iopub.status.busy": "2022-11-20T08:30:20.736134Z",
     "iopub.status.idle": "2022-11-20T08:34:58.547203Z",
     "shell.execute_reply": "2022-11-20T08:34:58.545367Z"
    },
    "papermill": {
     "duration": 277.837072,
     "end_time": "2022-11-20T08:34:58.554153",
     "exception": false,
     "start_time": "2022-11-20T08:30:20.717081",
     "status": "completed"
    },
    "tags": []
   },
   "outputs": [
    {
     "name": "stderr",
     "output_type": "stream",
     "text": [
      "/opt/conda/lib/python3.7/site-packages/statsmodels/tsa/base/tsa_model.py:471: ValueWarning: No frequency information was provided, so inferred frequency N will be used.\n",
      "  self._init_dates(dates, freq)\n"
     ]
    },
    {
     "name": "stdout",
     "output_type": "stream",
     "text": [
      "RUNNING THE L-BFGS-B CODE\n",
      "\n",
      "           * * *\n",
      "\n",
      "Machine precision = 2.220D-16\n",
      " N =           11     M =           10\n",
      "\n",
      "At X0         0 variables are exactly at the bounds\n",
      "\n",
      "At iterate    0    f=  6.74971D+00    |proj g|=  3.56193D-03\n"
     ]
    },
    {
     "name": "stderr",
     "output_type": "stream",
     "text": [
      " This problem is unconstrained.\n"
     ]
    },
    {
     "name": "stdout",
     "output_type": "stream",
     "text": [
      "\n",
      "At iterate    5    f=  6.71819D+00    |proj g|=  2.13437D-02\n",
      "\n",
      "At iterate   10    f=  5.85587D+00    |proj g|=  4.18569D-03\n",
      "\n",
      "At iterate   15    f=  5.81330D+00    |proj g|=  3.31337D-04\n",
      "\n",
      "At iterate   20    f=  5.81257D+00    |proj g|=  1.76703D-03\n",
      "\n",
      "At iterate   25    f=  5.81140D+00    |proj g|=  6.05556D-04\n",
      "\n",
      "At iterate   30    f=  5.80993D+00    |proj g|=  2.92484D-04\n",
      "\n",
      "At iterate   35    f=  5.80966D+00    |proj g|=  1.96350D-04\n",
      "\n",
      "At iterate   40    f=  5.80938D+00    |proj g|=  2.01699D-03\n",
      "\n",
      "At iterate   45    f=  5.80929D+00    |proj g|=  3.71018D-04\n",
      "\n",
      "At iterate   50    f=  5.80921D+00    |proj g|=  1.06671D-03\n",
      "\n",
      "           * * *\n",
      "\n",
      "Tit   = total number of iterations\n",
      "Tnf   = total number of function evaluations\n",
      "Tnint = total number of segments explored during Cauchy searches\n",
      "Skip  = number of BFGS updates skipped\n",
      "Nact  = number of active bounds at final generalized Cauchy point\n",
      "Projg = norm of the final projected gradient\n",
      "F     = final function value\n",
      "\n",
      "           * * *\n",
      "\n",
      "   N    Tit     Tnf  Tnint  Skip  Nact     Projg        F\n",
      "   11     50     68      1     0     0   1.067D-03   5.809D+00\n",
      "  F =   5.8092056771694649     \n",
      "\n",
      "STOP: TOTAL NO. of ITERATIONS REACHED LIMIT                 \n"
     ]
    },
    {
     "name": "stderr",
     "output_type": "stream",
     "text": [
      "/opt/conda/lib/python3.7/site-packages/statsmodels/base/model.py:606: ConvergenceWarning: Maximum Likelihood optimization failed to converge. Check mle_retvals\n",
      "  ConvergenceWarning)\n"
     ]
    },
    {
     "name": "stdout",
     "output_type": "stream",
     "text": [
      "                                 Unobserved Components Results                                 \n",
      "===============================================================================================\n",
      "Dep. Variable:                                  energy   No. Observations:                68688\n",
      "Model:                local linear deterministic trend   Log Likelihood             -399022.720\n",
      "                                + freq_seasonal(24(1))   AIC                         798067.439\n",
      "                               + freq_seasonal(168(1))   BIC                         798167.948\n",
      "                   + stochastic freq_seasonal(8766(2))   HQIC                        798098.465\n",
      "                                               + AR(2)                                         \n",
      "Date:                                 Sun, 20 Nov 2022                                         \n",
      "Time:                                         08:34:57                                         \n",
      "Sample:                                     01-01-1970                                         \n",
      "                                          - 01-01-1970                                         \n",
      "Covariance Type:                                   opg                                         \n",
      "================================================================================================\n",
      "                                   coef    std err          z      P>|z|      [0.025      0.975]\n",
      "------------------------------------------------------------------------------------------------\n",
      "sigma2.irregular                 0.6372    106.689      0.006      0.995    -208.470     209.744\n",
      "sigma2.level                  4513.4275    284.815     15.847      0.000    3955.200    5071.655\n",
      "sigma2.freq_seasonal_8766(2)     2.0975     95.909      0.022      0.983    -185.881     190.076\n",
      "sigma2.ar                     1706.7229    407.732      4.186      0.000     907.582    2505.864\n",
      "ar.L1                            0.5462      0.040     13.490      0.000       0.467       0.626\n",
      "ar.L2                            0.4538      0.040     11.207      0.000       0.374       0.533\n",
      "beta.is_weekend                -20.8311      3.533     -5.896      0.000     -27.756     -13.906\n",
      "beta.month                       4.5139      5.487      0.823      0.411      -6.241      15.269\n",
      "beta.hour                        3.5362      0.083     42.412      0.000       3.373       3.700\n",
      "beta.is_holiday                -23.9468      6.502     -3.683      0.000     -36.690     -11.203\n",
      "beta.special_holiday            23.6608     25.973      0.911      0.362     -27.246      74.567\n",
      "===================================================================================\n",
      "Ljung-Box (L1) (Q):                  19.91   Jarque-Bera (JB):           1340048.40\n",
      "Prob(Q):                              0.00   Prob(JB):                         0.00\n",
      "Heteroskedasticity (H):               1.15   Skew:                             0.15\n",
      "Prob(H) (two-sided):                  0.00   Kurtosis:                        24.64\n",
      "===================================================================================\n",
      "\n",
      "Warnings:\n",
      "[1] Covariance matrix calculated using the outer product of gradients (complex-step).\n",
      "\n",
      "In-sample mean absolute error (MAE): 49, In-sample root mean squared error (RMSE): 81\n",
      "CPU times: user 6min 34s, sys: 3min 5s, total: 9min 40s\n",
      "Wall time: 4min 37s\n"
     ]
    }
   ],
   "source": [
    "%%time\n",
    "#splitting time series to train and test subsets\n",
    "y_train = X_train[targetcol].copy()\n",
    "y_test = X_val[targetcol].copy()\n",
    "\n",
    "exog_train = X_train[['is_weekend','month','hour','is_holiday','special_holiday']].astype('int')\n",
    "exog_test = X_val[['is_weekend','month','hour','is_holiday','special_holiday']].astype('int')\n",
    "\n",
    "#Unobserved Components model definition\n",
    "model_UC1 = sm.tsa.UnobservedComponents(y_train,\n",
    "                                        autoregressive=2,\n",
    "                                        level='lldtrend',\n",
    "                                        exog=exog_train,\n",
    "                                        cycle=False,\n",
    "                                        irregular=False,\n",
    "                                        stochastic_level = False,\n",
    "                                        stochastic_trend = False,\n",
    "                                        stochastic_freq_seasonal = [False,False,True],\n",
    "#                                         seasonal_period =24,\n",
    "                                        freq_seasonal=[{'period': 24, 'harmonics': 1},\n",
    "                                                       {'period': 168, 'harmonics': 1},\n",
    "#                                                        {'period': 5040, 'harmonics': 1},\n",
    "                                                       {'period': 8766, 'harmonics': 2}\n",
    "                                                      ]\n",
    "                                       )\n",
    "#fitting model to train data\n",
    "model_UC1res = model_UC1.fit()\n",
    "\n",
    "#printing statsmodels summary for model\n",
    "print(model_UC1res.summary())\n",
    "\n",
    "print(\"\")\n",
    "\n",
    "#calculating mean absolute error and root mean squared error for in-sample prediction of model\n",
    "print(f\"In-sample mean absolute error (MAE): {'%.0f' % model_UC1res.mae}, In-sample root mean squared error (RMSE): {'%.0f' % np.sqrt(model_UC1res.mse)}\")\n",
    "\n",
    "#model forecast"
   ]
  },
  {
   "cell_type": "code",
   "execution_count": 40,
   "id": "f5a1da9c",
   "metadata": {
    "execution": {
     "iopub.execute_input": "2022-11-20T08:34:58.632275Z",
     "iopub.status.busy": "2022-11-20T08:34:58.631775Z",
     "iopub.status.idle": "2022-11-20T08:34:59.522185Z",
     "shell.execute_reply": "2022-11-20T08:34:59.520538Z"
    },
    "papermill": {
     "duration": 0.922899,
     "end_time": "2022-11-20T08:34:59.525799",
     "exception": false,
     "start_time": "2022-11-20T08:34:58.602900",
     "status": "completed"
    },
    "tags": []
   },
   "outputs": [
    {
     "name": "stdout",
     "output_type": "stream",
     "text": [
      "valid score: 259.1740399472912\n"
     ]
    }
   ],
   "source": [
    "forecast_UC1 = model_UC1res.forecast(steps=26304,exog=exog_test)\n",
    "#calculating root mean squared error\n",
    "RMSE_UC1 = mean_squared_error(y_test,forecast_UC1,squared=False)\n",
    "print('valid score:',RMSE_UC1)"
   ]
  },
  {
   "cell_type": "code",
   "execution_count": 41,
   "id": "67dc5f9e",
   "metadata": {
    "execution": {
     "iopub.execute_input": "2022-11-20T08:34:59.565179Z",
     "iopub.status.busy": "2022-11-20T08:34:59.564681Z",
     "iopub.status.idle": "2022-11-20T08:34:59.570934Z",
     "shell.execute_reply": "2022-11-20T08:34:59.569522Z"
    },
    "papermill": {
     "duration": 0.029359,
     "end_time": "2022-11-20T08:34:59.573885",
     "exception": false,
     "start_time": "2022-11-20T08:34:59.544526",
     "status": "completed"
    },
    "tags": []
   },
   "outputs": [],
   "source": [
    "import joblib"
   ]
  },
  {
   "cell_type": "code",
   "execution_count": 42,
   "id": "d555e3e9",
   "metadata": {
    "execution": {
     "iopub.execute_input": "2022-11-20T08:34:59.613781Z",
     "iopub.status.busy": "2022-11-20T08:34:59.613346Z",
     "iopub.status.idle": "2022-11-20T08:36:15.437024Z",
     "shell.execute_reply": "2022-11-20T08:36:15.435738Z"
    },
    "papermill": {
     "duration": 75.846716,
     "end_time": "2022-11-20T08:36:15.439928",
     "exception": false,
     "start_time": "2022-11-20T08:34:59.593212",
     "status": "completed"
    },
    "tags": []
   },
   "outputs": [],
   "source": [
    "np.save('val_forecast_UC.npy',forecast_UC1)\n",
    "joblib.dump(model_UC1res,'UC_model_val.pkl',compress=True)\n",
    "X_val.to_csv('X_val.csv',index=False)"
   ]
  },
  {
   "cell_type": "code",
   "execution_count": 43,
   "id": "5bcdd125",
   "metadata": {
    "execution": {
     "iopub.execute_input": "2022-11-20T08:36:15.478196Z",
     "iopub.status.busy": "2022-11-20T08:36:15.477699Z",
     "iopub.status.idle": "2022-11-20T08:36:15.492039Z",
     "shell.execute_reply": "2022-11-20T08:36:15.490833Z"
    },
    "papermill": {
     "duration": 0.036353,
     "end_time": "2022-11-20T08:36:15.494489",
     "exception": false,
     "start_time": "2022-11-20T08:36:15.458136",
     "status": "completed"
    },
    "tags": []
   },
   "outputs": [
    {
     "data": {
      "text/plain": [
       "count    26304.000000\n",
       "mean      2063.073223\n",
       "std        198.572534\n",
       "min       1553.085297\n",
       "25%       1921.324813\n",
       "50%       2062.138065\n",
       "75%       2203.910161\n",
       "max       2600.708568\n",
       "Name: predicted_mean, dtype: float64"
      ]
     },
     "execution_count": 43,
     "metadata": {},
     "output_type": "execute_result"
    }
   ],
   "source": [
    "pd.Series(forecast_UC1.describe())"
   ]
  },
  {
   "cell_type": "code",
   "execution_count": 44,
   "id": "883fcf79",
   "metadata": {
    "execution": {
     "iopub.execute_input": "2022-11-20T08:36:15.532625Z",
     "iopub.status.busy": "2022-11-20T08:36:15.532170Z",
     "iopub.status.idle": "2022-11-20T08:36:15.537542Z",
     "shell.execute_reply": "2022-11-20T08:36:15.536360Z"
    },
    "papermill": {
     "duration": 0.027537,
     "end_time": "2022-11-20T08:36:15.539966",
     "exception": false,
     "start_time": "2022-11-20T08:36:15.512429",
     "status": "completed"
    },
    "tags": []
   },
   "outputs": [],
   "source": [
    "# pred_diff = y_test.values-forecast_UC1.reset_index(drop=True)\n",
    "# print(pd.Series(pred_diff).describe())\n",
    "# pd.Series(pred_diff.abs()).describe()"
   ]
  },
  {
   "cell_type": "code",
   "execution_count": 45,
   "id": "24342baf",
   "metadata": {
    "execution": {
     "iopub.execute_input": "2022-11-20T08:36:15.577457Z",
     "iopub.status.busy": "2022-11-20T08:36:15.576950Z",
     "iopub.status.idle": "2022-11-20T08:36:15.582556Z",
     "shell.execute_reply": "2022-11-20T08:36:15.581315Z"
    },
    "papermill": {
     "duration": 0.027269,
     "end_time": "2022-11-20T08:36:15.584842",
     "exception": false,
     "start_time": "2022-11-20T08:36:15.557573",
     "status": "completed"
    },
    "tags": []
   },
   "outputs": [],
   "source": [
    "# mask1 = (pred_diff <-100)\n",
    "# mask =  mask1 & (X_val.reset_index()['year']==2018) & (X_val.reset_index()['month']>0)\n",
    "# print(pred_diff[mask1].shape)\n",
    "# print(pred_diff[mask].shape)\n",
    "# X_val.reset_index().loc[mask,'hour'].value_counts()"
   ]
  },
  {
   "cell_type": "code",
   "execution_count": 46,
   "id": "760c22bc",
   "metadata": {
    "execution": {
     "iopub.execute_input": "2022-11-20T08:36:15.622966Z",
     "iopub.status.busy": "2022-11-20T08:36:15.622528Z",
     "iopub.status.idle": "2022-11-20T08:36:15.627679Z",
     "shell.execute_reply": "2022-11-20T08:36:15.626355Z"
    },
    "papermill": {
     "duration": 0.026842,
     "end_time": "2022-11-20T08:36:15.629962",
     "exception": false,
     "start_time": "2022-11-20T08:36:15.603120",
     "status": "completed"
    },
    "tags": []
   },
   "outputs": [],
   "source": [
    "# from sklearn.preprocessing import MinMaxScaler\n",
    "# import tensorflow as tf\n",
    "# import os"
   ]
  },
  {
   "cell_type": "code",
   "execution_count": 47,
   "id": "4ecea5c1",
   "metadata": {
    "execution": {
     "iopub.execute_input": "2022-11-20T08:36:15.668392Z",
     "iopub.status.busy": "2022-11-20T08:36:15.667821Z",
     "iopub.status.idle": "2022-11-20T08:36:15.675009Z",
     "shell.execute_reply": "2022-11-20T08:36:15.673617Z"
    },
    "papermill": {
     "duration": 0.029612,
     "end_time": "2022-11-20T08:36:15.677357",
     "exception": false,
     "start_time": "2022-11-20T08:36:15.647745",
     "status": "completed"
    },
    "tags": []
   },
   "outputs": [],
   "source": [
    "# create a differenced series\n",
    "def difference(dataset, interval=1):\n",
    "    diff = list()\n",
    "    for i in range(interval, len(dataset)):\n",
    "        value = dataset[i] - dataset[i - interval]\n",
    "        diff.append(value)\n",
    "    return pd.Series(diff)"
   ]
  },
  {
   "cell_type": "code",
   "execution_count": 48,
   "id": "22eccb73",
   "metadata": {
    "execution": {
     "iopub.execute_input": "2022-11-20T08:36:15.715541Z",
     "iopub.status.busy": "2022-11-20T08:36:15.715086Z",
     "iopub.status.idle": "2022-11-20T08:36:15.721068Z",
     "shell.execute_reply": "2022-11-20T08:36:15.719606Z"
    },
    "papermill": {
     "duration": 0.02843,
     "end_time": "2022-11-20T08:36:15.723654",
     "exception": false,
     "start_time": "2022-11-20T08:36:15.695224",
     "status": "completed"
    },
    "tags": []
   },
   "outputs": [],
   "source": [
    "import matplotlib.pyplot as plt"
   ]
  },
  {
   "cell_type": "markdown",
   "id": "0907f33e",
   "metadata": {
    "papermill": {
     "duration": 0.017595,
     "end_time": "2022-11-20T08:36:15.759069",
     "exception": false,
     "start_time": "2022-11-20T08:36:15.741474",
     "status": "completed"
    },
    "tags": []
   },
   "source": [
    "UC for Test Prediction"
   ]
  },
  {
   "cell_type": "code",
   "execution_count": 49,
   "id": "ca2eb15e",
   "metadata": {
    "execution": {
     "iopub.execute_input": "2022-11-20T08:36:15.797292Z",
     "iopub.status.busy": "2022-11-20T08:36:15.796583Z",
     "iopub.status.idle": "2022-11-20T08:41:57.721167Z",
     "shell.execute_reply": "2022-11-20T08:41:57.719935Z"
    },
    "papermill": {
     "duration": 341.951632,
     "end_time": "2022-11-20T08:41:57.728534",
     "exception": false,
     "start_time": "2022-11-20T08:36:15.776902",
     "status": "completed"
    },
    "tags": []
   },
   "outputs": [
    {
     "name": "stderr",
     "output_type": "stream",
     "text": [
      "/opt/conda/lib/python3.7/site-packages/statsmodels/tsa/base/tsa_model.py:471: ValueWarning: No frequency information was provided, so inferred frequency N will be used.\n",
      "  self._init_dates(dates, freq)\n"
     ]
    },
    {
     "name": "stdout",
     "output_type": "stream",
     "text": [
      "RUNNING THE L-BFGS-B CODE\n",
      "\n",
      "           * * *\n",
      "\n",
      "Machine precision = 2.220D-16\n",
      " N =           11     M =           10\n",
      "\n",
      "At X0         0 variables are exactly at the bounds\n",
      "\n",
      "At iterate    0    f=  6.87085D+00    |proj g|=  3.40192D-03\n"
     ]
    },
    {
     "name": "stderr",
     "output_type": "stream",
     "text": [
      " This problem is unconstrained.\n"
     ]
    },
    {
     "name": "stdout",
     "output_type": "stream",
     "text": [
      "\n",
      "At iterate    5    f=  6.69119D+00    |proj g|=  2.28953D-02\n",
      "\n",
      "At iterate   10    f=  5.90876D+00    |proj g|=  2.26628D-03\n",
      "\n",
      "At iterate   15    f=  5.88966D+00    |proj g|=  2.16192D-04\n",
      "\n",
      "At iterate   20    f=  5.88939D+00    |proj g|=  1.92116D-04\n",
      "\n",
      "At iterate   25    f=  5.88715D+00    |proj g|=  2.04354D-03\n",
      "\n",
      "At iterate   30    f=  5.88674D+00    |proj g|=  1.38083D-03\n",
      "\n",
      "At iterate   35    f=  5.88657D+00    |proj g|=  4.95605D-05\n",
      "\n",
      "At iterate   40    f=  5.88654D+00    |proj g|=  3.27081D-04\n",
      "\n",
      "At iterate   45    f=  5.88653D+00    |proj g|=  7.51533D-04\n"
     ]
    },
    {
     "name": "stderr",
     "output_type": "stream",
     "text": [
      "/opt/conda/lib/python3.7/site-packages/statsmodels/base/model.py:606: ConvergenceWarning: Maximum Likelihood optimization failed to converge. Check mle_retvals\n",
      "  ConvergenceWarning)\n"
     ]
    },
    {
     "name": "stdout",
     "output_type": "stream",
     "text": [
      "\n",
      "At iterate   50    f=  5.88635D+00    |proj g|=  3.18644D-04\n",
      "\n",
      "           * * *\n",
      "\n",
      "Tit   = total number of iterations\n",
      "Tnf   = total number of function evaluations\n",
      "Tnint = total number of segments explored during Cauchy searches\n",
      "Skip  = number of BFGS updates skipped\n",
      "Nact  = number of active bounds at final generalized Cauchy point\n",
      "Projg = norm of the final projected gradient\n",
      "F     = final function value\n",
      "\n",
      "           * * *\n",
      "\n",
      "   N    Tit     Tnf  Tnint  Skip  Nact     Projg        F\n",
      "   11     50     65      1     0     0   3.186D-04   5.886D+00\n",
      "  F =   5.8863544414190665     \n",
      "\n",
      "STOP: TOTAL NO. of ITERATIONS REACHED LIMIT                 \n",
      "                                 Unobserved Components Results                                 \n",
      "===============================================================================================\n",
      "Dep. Variable:                                  energy   No. Observations:                94992\n",
      "Model:                local linear deterministic trend   Log Likelihood             -559156.581\n",
      "                                + freq_seasonal(24(1))   AIC                        1118335.162\n",
      "                               + freq_seasonal(168(1))   BIC                        1118439.238\n",
      "                   + stochastic freq_seasonal(8766(2))   HQIC                       1118366.820\n",
      "                                               + AR(2)                                         \n",
      "Date:                                 Sun, 20 Nov 2022                                         \n",
      "Time:                                         08:41:55                                         \n",
      "Sample:                                     01-01-1970                                         \n",
      "                                          - 01-01-1970                                         \n",
      "Covariance Type:                                   opg                                         \n",
      "================================================================================================\n",
      "                                   coef    std err          z      P>|z|      [0.025      0.975]\n",
      "------------------------------------------------------------------------------------------------\n",
      "sigma2.irregular                31.8697     87.008      0.366      0.714    -138.663     202.403\n",
      "sigma2.level                  4934.3331   1719.070      2.870      0.004    1565.018    8303.648\n",
      "sigma2.freq_seasonal_8766(2)   131.7774    857.442      0.154      0.878   -1548.778    1812.333\n",
      "sigma2.ar                     2075.4240    332.241      6.247      0.000    1424.244    2726.604\n",
      "ar.L1                            0.5547      0.027     20.783      0.000       0.502       0.607\n",
      "ar.L2                            0.4453      0.027     16.678      0.000       0.393       0.498\n",
      "beta.is_weekend                -24.0170      3.584     -6.700      0.000     -31.042     -16.992\n",
      "beta.month                       0.1915      4.205      0.046      0.964      -8.050       8.433\n",
      "beta.hour                        3.8406      0.082     47.120      0.000       3.681       4.000\n",
      "beta.is_holiday                -28.9146      6.639     -4.355      0.000     -41.926     -15.903\n",
      "beta.special_holiday            25.4715     25.799      0.987      0.323     -25.094      76.037\n",
      "===================================================================================\n",
      "Ljung-Box (L1) (Q):                   2.30   Jarque-Bera (JB):           2895641.35\n",
      "Prob(Q):                              0.13   Prob(JB):                         0.00\n",
      "Heteroskedasticity (H):               1.61   Skew:                            -0.30\n",
      "Prob(H) (two-sided):                  0.00   Kurtosis:                        30.04\n",
      "===================================================================================\n",
      "\n",
      "Warnings:\n",
      "[1] Covariance matrix calculated using the outer product of gradients (complex-step).\n",
      "\n",
      "In-sample mean absolute error (MAE): 52, In-sample root mean squared error (RMSE): 87\n",
      "CPU times: user 7min 35s, sys: 2min 59s, total: 10min 34s\n",
      "Wall time: 5min 41s\n"
     ]
    }
   ],
   "source": [
    "%%time\n",
    "#splitting time series to train and test subsets\n",
    "y_train_full = train[targetcol].copy()\n",
    "\n",
    "exog_train_full = train[['is_weekend','month','hour','is_holiday','special_holiday']].astype('int')\n",
    "exog_test_full = test[['is_weekend','month','hour','is_holiday','special_holiday']].astype('int')\n",
    "\n",
    "#Unobserved Components model definition\n",
    "model_UC_full = sm.tsa.UnobservedComponents(y_train_full,\n",
    "                                        autoregressive=2,\n",
    "                                        level='lldtrend',\n",
    "                                        exog=exog_train_full,\n",
    "                                        cycle=False,\n",
    "                                        irregular=False,\n",
    "                                        stochastic_level = False,\n",
    "                                        stochastic_trend = False,\n",
    "                                        stochastic_freq_seasonal = [False,False,True],\n",
    "#                                         seasonal_period =24,\n",
    "                                        freq_seasonal=[{'period': 24, 'harmonics': 1},\n",
    "                                                       {'period': 168, 'harmonics': 1},\n",
    "#                                                        {'period': 5040, 'harmonics': 1},\n",
    "                                                       {'period': 8766, 'harmonics': 2}\n",
    "                                                      ]\n",
    "                                       )\n",
    "#fitting model to train data\n",
    "model_UC_full_res = model_UC_full.fit()\n",
    "\n",
    "#printing statsmodels summary for model\n",
    "print(model_UC_full_res.summary())\n",
    "\n",
    "print(\"\")\n",
    "\n",
    "#calculating mean absolute error and root mean squared error for in-sample prediction of model\n",
    "print(f\"In-sample mean absolute error (MAE): {'%.0f' % model_UC_full_res.mae}, In-sample root mean squared error (RMSE): {'%.0f' % np.sqrt(model_UC_full_res.mse)}\")"
   ]
  },
  {
   "cell_type": "code",
   "execution_count": 50,
   "id": "0925064c",
   "metadata": {
    "execution": {
     "iopub.execute_input": "2022-11-20T08:41:57.808280Z",
     "iopub.status.busy": "2022-11-20T08:41:57.807807Z",
     "iopub.status.idle": "2022-11-20T08:41:58.763296Z",
     "shell.execute_reply": "2022-11-20T08:41:58.762039Z"
    },
    "papermill": {
     "duration": 0.989053,
     "end_time": "2022-11-20T08:41:58.766847",
     "exception": false,
     "start_time": "2022-11-20T08:41:57.777794",
     "status": "completed"
    },
    "tags": []
   },
   "outputs": [],
   "source": [
    "#Predict Test Set\n",
    "forecast_UC_test = model_UC_full_res.forecast(steps=26304,exog=exog_test_full)"
   ]
  },
  {
   "cell_type": "code",
   "execution_count": 51,
   "id": "b1a5a399",
   "metadata": {
    "execution": {
     "iopub.execute_input": "2022-11-20T08:41:58.808881Z",
     "iopub.status.busy": "2022-11-20T08:41:58.807759Z",
     "iopub.status.idle": "2022-11-20T08:43:43.458752Z",
     "shell.execute_reply": "2022-11-20T08:43:43.457284Z"
    },
    "papermill": {
     "duration": 104.694191,
     "end_time": "2022-11-20T08:43:43.480789",
     "exception": false,
     "start_time": "2022-11-20T08:41:58.786598",
     "status": "completed"
    },
    "tags": []
   },
   "outputs": [
    {
     "data": {
      "text/plain": [
       "['UC_model_full.pkl']"
      ]
     },
     "execution_count": 51,
     "metadata": {},
     "output_type": "execute_result"
    }
   ],
   "source": [
    "joblib.dump(model_UC_full_res,'UC_model_full.pkl',compress=True)"
   ]
  },
  {
   "cell_type": "code",
   "execution_count": 52,
   "id": "d87acace",
   "metadata": {
    "execution": {
     "iopub.execute_input": "2022-11-20T08:43:43.521354Z",
     "iopub.status.busy": "2022-11-20T08:43:43.520859Z",
     "iopub.status.idle": "2022-11-20T08:43:43.527547Z",
     "shell.execute_reply": "2022-11-20T08:43:43.526225Z"
    },
    "papermill": {
     "duration": 0.030511,
     "end_time": "2022-11-20T08:43:43.530397",
     "exception": false,
     "start_time": "2022-11-20T08:43:43.499886",
     "status": "completed"
    },
    "tags": []
   },
   "outputs": [
    {
     "name": "stdout",
     "output_type": "stream",
     "text": [
      "26304 26304\n"
     ]
    }
   ],
   "source": [
    "print(len(test),len(forecast_UC_test))"
   ]
  },
  {
   "cell_type": "code",
   "execution_count": 53,
   "id": "50a3a0da",
   "metadata": {
    "execution": {
     "iopub.execute_input": "2022-11-20T08:43:43.571356Z",
     "iopub.status.busy": "2022-11-20T08:43:43.570875Z",
     "iopub.status.idle": "2022-11-20T08:43:43.581638Z",
     "shell.execute_reply": "2022-11-20T08:43:43.580179Z"
    },
    "papermill": {
     "duration": 0.034363,
     "end_time": "2022-11-20T08:43:43.584157",
     "exception": false,
     "start_time": "2022-11-20T08:43:43.549794",
     "status": "completed"
    },
    "tags": []
   },
   "outputs": [
    {
     "data": {
      "text/plain": [
       "DatetimeIndex(['1970-01-01 00:00:00.000094992',\n",
       "               '1970-01-01 00:00:00.000094993',\n",
       "               '1970-01-01 00:00:00.000094994',\n",
       "               '1970-01-01 00:00:00.000094995',\n",
       "               '1970-01-01 00:00:00.000094996',\n",
       "               '1970-01-01 00:00:00.000094997',\n",
       "               '1970-01-01 00:00:00.000094998',\n",
       "               '1970-01-01 00:00:00.000094999',\n",
       "                  '1970-01-01 00:00:00.000095',\n",
       "               '1970-01-01 00:00:00.000095001',\n",
       "               ...\n",
       "               '1970-01-01 00:00:00.000121286',\n",
       "               '1970-01-01 00:00:00.000121287',\n",
       "               '1970-01-01 00:00:00.000121288',\n",
       "               '1970-01-01 00:00:00.000121289',\n",
       "               '1970-01-01 00:00:00.000121290',\n",
       "               '1970-01-01 00:00:00.000121291',\n",
       "               '1970-01-01 00:00:00.000121292',\n",
       "               '1970-01-01 00:00:00.000121293',\n",
       "               '1970-01-01 00:00:00.000121294',\n",
       "               '1970-01-01 00:00:00.000121295'],\n",
       "              dtype='datetime64[ns]', length=26304, freq='N')"
      ]
     },
     "execution_count": 53,
     "metadata": {},
     "output_type": "execute_result"
    }
   ],
   "source": [
    "forecast_UC_test.index"
   ]
  },
  {
   "cell_type": "code",
   "execution_count": 54,
   "id": "38a3f608",
   "metadata": {
    "execution": {
     "iopub.execute_input": "2022-11-20T08:43:43.626108Z",
     "iopub.status.busy": "2022-11-20T08:43:43.625426Z",
     "iopub.status.idle": "2022-11-20T08:43:43.637268Z",
     "shell.execute_reply": "2022-11-20T08:43:43.636076Z"
    },
    "papermill": {
     "duration": 0.035836,
     "end_time": "2022-11-20T08:43:43.639728",
     "exception": false,
     "start_time": "2022-11-20T08:43:43.603892",
     "status": "completed"
    },
    "tags": []
   },
   "outputs": [
    {
     "data": {
      "text/plain": [
       "count    26304.000000\n",
       "mean      2269.119901\n",
       "std        239.693010\n",
       "min       1685.060499\n",
       "25%       2094.712455\n",
       "50%       2260.765820\n",
       "75%       2435.250446\n",
       "max       2957.025972\n",
       "Name: predicted_mean, dtype: float64"
      ]
     },
     "execution_count": 54,
     "metadata": {},
     "output_type": "execute_result"
    }
   ],
   "source": [
    "pd.Series(forecast_UC_test).describe()"
   ]
  },
  {
   "cell_type": "code",
   "execution_count": 55,
   "id": "c73e727e",
   "metadata": {
    "execution": {
     "iopub.execute_input": "2022-11-20T08:43:43.682214Z",
     "iopub.status.busy": "2022-11-20T08:43:43.681573Z",
     "iopub.status.idle": "2022-11-20T08:43:43.742643Z",
     "shell.execute_reply": "2022-11-20T08:43:43.741468Z"
    },
    "papermill": {
     "duration": 0.086251,
     "end_time": "2022-11-20T08:43:43.745981",
     "exception": false,
     "start_time": "2022-11-20T08:43:43.659730",
     "status": "completed"
    },
    "tags": []
   },
   "outputs": [],
   "source": [
    "subm = pd.DataFrame()\n",
    "subm['row_id'] = test['row_id']\n",
    "subm[targetcol]=forecast_UC_test.values\n",
    "subm.to_csv('submission.csv',index=False)"
   ]
  },
  {
   "cell_type": "code",
   "execution_count": 56,
   "id": "f6fd4efb",
   "metadata": {
    "execution": {
     "iopub.execute_input": "2022-11-20T08:43:43.787445Z",
     "iopub.status.busy": "2022-11-20T08:43:43.787002Z",
     "iopub.status.idle": "2022-11-20T08:43:43.809369Z",
     "shell.execute_reply": "2022-11-20T08:43:43.808036Z"
    },
    "papermill": {
     "duration": 0.046259,
     "end_time": "2022-11-20T08:43:43.812093",
     "exception": false,
     "start_time": "2022-11-20T08:43:43.765834",
     "status": "completed"
    },
    "tags": []
   },
   "outputs": [
    {
     "data": {
      "text/html": [
       "<div>\n",
       "<style scoped>\n",
       "    .dataframe tbody tr th:only-of-type {\n",
       "        vertical-align: middle;\n",
       "    }\n",
       "\n",
       "    .dataframe tbody tr th {\n",
       "        vertical-align: top;\n",
       "    }\n",
       "\n",
       "    .dataframe thead th {\n",
       "        text-align: right;\n",
       "    }\n",
       "</style>\n",
       "<table border=\"1\" class=\"dataframe\">\n",
       "  <thead>\n",
       "    <tr style=\"text-align: right;\">\n",
       "      <th></th>\n",
       "      <th>row_id</th>\n",
       "      <th>energy</th>\n",
       "    </tr>\n",
       "  </thead>\n",
       "  <tbody>\n",
       "    <tr>\n",
       "      <th>0</th>\n",
       "      <td>94993</td>\n",
       "      <td>2047.576496</td>\n",
       "    </tr>\n",
       "    <tr>\n",
       "      <th>1</th>\n",
       "      <td>94994</td>\n",
       "      <td>2015.767909</td>\n",
       "    </tr>\n",
       "    <tr>\n",
       "      <th>2</th>\n",
       "      <td>94995</td>\n",
       "      <td>2004.353486</td>\n",
       "    </tr>\n",
       "    <tr>\n",
       "      <th>3</th>\n",
       "      <td>94996</td>\n",
       "      <td>1996.878382</td>\n",
       "    </tr>\n",
       "    <tr>\n",
       "      <th>4</th>\n",
       "      <td>94997</td>\n",
       "      <td>2002.141353</td>\n",
       "    </tr>\n",
       "  </tbody>\n",
       "</table>\n",
       "</div>"
      ],
      "text/plain": [
       "   row_id       energy\n",
       "0   94993  2047.576496\n",
       "1   94994  2015.767909\n",
       "2   94995  2004.353486\n",
       "3   94996  1996.878382\n",
       "4   94997  2002.141353"
      ]
     },
     "execution_count": 56,
     "metadata": {},
     "output_type": "execute_result"
    }
   ],
   "source": [
    "#check saved submission data\n",
    "pd.read_csv('submission.csv').head()"
   ]
  },
  {
   "cell_type": "code",
   "execution_count": 57,
   "id": "aca1a2cd",
   "metadata": {
    "execution": {
     "iopub.execute_input": "2022-11-20T08:43:43.854368Z",
     "iopub.status.busy": "2022-11-20T08:43:43.853892Z",
     "iopub.status.idle": "2022-11-20T08:43:43.859321Z",
     "shell.execute_reply": "2022-11-20T08:43:43.858022Z"
    },
    "papermill": {
     "duration": 0.029915,
     "end_time": "2022-11-20T08:43:43.862148",
     "exception": false,
     "start_time": "2022-11-20T08:43:43.832233",
     "status": "completed"
    },
    "tags": []
   },
   "outputs": [],
   "source": [
    "# import pmdarima as pm"
   ]
  }
 ],
 "metadata": {
  "kernelspec": {
   "display_name": "Python 3",
   "language": "python",
   "name": "python3"
  },
  "language_info": {
   "codemirror_mode": {
    "name": "ipython",
    "version": 3
   },
   "file_extension": ".py",
   "mimetype": "text/x-python",
   "name": "python",
   "nbconvert_exporter": "python",
   "pygments_lexer": "ipython3",
   "version": "3.7.12"
  },
  "papermill": {
   "default_parameters": {},
   "duration": 832.972862,
   "end_time": "2022-11-20T08:43:45.110442",
   "environment_variables": {},
   "exception": null,
   "input_path": "__notebook__.ipynb",
   "output_path": "__notebook__.ipynb",
   "parameters": {},
   "start_time": "2022-11-20T08:29:52.137580",
   "version": "2.3.4"
  }
 },
 "nbformat": 4,
 "nbformat_minor": 5
}
