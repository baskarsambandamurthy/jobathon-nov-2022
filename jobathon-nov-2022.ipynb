{
 "cells": [
  {
   "cell_type": "code",
   "execution_count": 1,
   "id": "bc0ad4a8",
   "metadata": {
    "_cell_guid": "b1076dfc-b9ad-4769-8c92-a6c4dae69d19",
    "_uuid": "8f2839f25d086af736a60e9eeb907d3b93b6e0e5",
    "execution": {
     "iopub.execute_input": "2022-11-20T09:35:51.029521Z",
     "iopub.status.busy": "2022-11-20T09:35:51.028875Z",
     "iopub.status.idle": "2022-11-20T09:35:51.052542Z",
     "shell.execute_reply": "2022-11-20T09:35:51.051298Z"
    },
    "papermill": {
     "duration": 0.047751,
     "end_time": "2022-11-20T09:35:51.056119",
     "exception": false,
     "start_time": "2022-11-20T09:35:51.008368",
     "status": "completed"
    },
    "tags": []
   },
   "outputs": [
    {
     "name": "stdout",
     "output_type": "stream",
     "text": [
      "/kaggle/input/jobathon-nov-2022/sample_submission.csv\n",
      "/kaggle/input/jobathon-nov-2022/train.csv\n",
      "/kaggle/input/jobathon-nov-2022/test.csv\n"
     ]
    }
   ],
   "source": [
    "# This Python 3 environment comes with many helpful analytics libraries installed\n",
    "# It is defined by the kaggle/python Docker image: https://github.com/kaggle/docker-python\n",
    "# For example, here's several helpful packages to load\n",
    "\n",
    "import numpy as np # linear algebra\n",
    "import pandas as pd # data processing, CSV file I/O (e.g. pd.read_csv)\n",
    "\n",
    "# Input data files are available in the read-only \"../input/\" directory\n",
    "# For example, running this (by clicking run or pressing Shift+Enter) will list all files under the input directory\n",
    "\n",
    "import os\n",
    "for dirname, _, filenames in os.walk('/kaggle/input'):\n",
    "    for filename in filenames:\n",
    "        print(os.path.join(dirname, filename))\n",
    "\n",
    "# You can write up to 20GB to the current directory (/kaggle/working/) that gets preserved as output when you create a version using \"Save & Run All\" \n",
    "# You can also write temporary files to /kaggle/temp/, but they won't be saved outside of the current session"
   ]
  },
  {
   "cell_type": "code",
   "execution_count": 2,
   "id": "0fff9aa0",
   "metadata": {
    "execution": {
     "iopub.execute_input": "2022-11-20T09:35:51.088446Z",
     "iopub.status.busy": "2022-11-20T09:35:51.087388Z",
     "iopub.status.idle": "2022-11-20T09:35:51.104340Z",
     "shell.execute_reply": "2022-11-20T09:35:51.103276Z"
    },
    "papermill": {
     "duration": 0.035393,
     "end_time": "2022-11-20T09:35:51.106866",
     "exception": false,
     "start_time": "2022-11-20T09:35:51.071473",
     "status": "completed"
    },
    "tags": []
   },
   "outputs": [],
   "source": [
    "from pandas.tseries.holiday import *"
   ]
  },
  {
   "cell_type": "code",
   "execution_count": 3,
   "id": "2a0b0224",
   "metadata": {
    "execution": {
     "iopub.execute_input": "2022-11-20T09:35:51.138716Z",
     "iopub.status.busy": "2022-11-20T09:35:51.138012Z",
     "iopub.status.idle": "2022-11-20T09:36:06.818815Z",
     "shell.execute_reply": "2022-11-20T09:36:06.817567Z"
    },
    "papermill": {
     "duration": 15.699678,
     "end_time": "2022-11-20T09:36:06.821505",
     "exception": false,
     "start_time": "2022-11-20T09:35:51.121827",
     "status": "completed"
    },
    "tags": []
   },
   "outputs": [
    {
     "name": "stdout",
     "output_type": "stream",
     "text": [
      "Collecting pmdarima\r\n",
      "  Downloading pmdarima-2.0.1-cp37-cp37m-manylinux_2_17_x86_64.manylinux2014_x86_64.manylinux_2_28_x86_64.whl (1.8 MB)\r\n",
      "\u001b[2K     \u001b[90m━━━━━━━━━━━━━━━━━━━━━━━━━━━━━━━━━━━━━━━━\u001b[0m \u001b[32m1.8/1.8 MB\u001b[0m \u001b[31m1.8 MB/s\u001b[0m eta \u001b[36m0:00:00\u001b[0m\r\n",
      "\u001b[?25hRequirement already satisfied: statsmodels>=0.13.2 in /opt/conda/lib/python3.7/site-packages (from pmdarima) (0.13.2)\r\n",
      "Requirement already satisfied: numpy>=1.21 in /opt/conda/lib/python3.7/site-packages (from pmdarima) (1.21.6)\r\n",
      "Requirement already satisfied: scikit-learn>=0.22 in /opt/conda/lib/python3.7/site-packages (from pmdarima) (1.0.2)\r\n",
      "Requirement already satisfied: joblib>=0.11 in /opt/conda/lib/python3.7/site-packages (from pmdarima) (1.0.1)\r\n",
      "Requirement already satisfied: Cython!=0.29.18,!=0.29.31,>=0.29 in /opt/conda/lib/python3.7/site-packages (from pmdarima) (0.29.32)\r\n",
      "Requirement already satisfied: scipy>=1.3.2 in /opt/conda/lib/python3.7/site-packages (from pmdarima) (1.7.3)\r\n",
      "Requirement already satisfied: urllib3 in /opt/conda/lib/python3.7/site-packages (from pmdarima) (1.26.12)\r\n",
      "Requirement already satisfied: setuptools!=50.0.0,>=38.6.0 in /opt/conda/lib/python3.7/site-packages (from pmdarima) (59.8.0)\r\n",
      "Requirement already satisfied: pandas>=0.19 in /opt/conda/lib/python3.7/site-packages (from pmdarima) (1.3.5)\r\n",
      "Requirement already satisfied: python-dateutil>=2.7.3 in /opt/conda/lib/python3.7/site-packages (from pandas>=0.19->pmdarima) (2.8.2)\r\n",
      "Requirement already satisfied: pytz>=2017.3 in /opt/conda/lib/python3.7/site-packages (from pandas>=0.19->pmdarima) (2022.1)\r\n",
      "Requirement already satisfied: threadpoolctl>=2.0.0 in /opt/conda/lib/python3.7/site-packages (from scikit-learn>=0.22->pmdarima) (3.1.0)\r\n",
      "Requirement already satisfied: patsy>=0.5.2 in /opt/conda/lib/python3.7/site-packages (from statsmodels>=0.13.2->pmdarima) (0.5.2)\r\n",
      "Requirement already satisfied: packaging>=21.3 in /opt/conda/lib/python3.7/site-packages (from statsmodels>=0.13.2->pmdarima) (21.3)\r\n",
      "Requirement already satisfied: pyparsing!=3.0.5,>=2.0.2 in /opt/conda/lib/python3.7/site-packages (from packaging>=21.3->statsmodels>=0.13.2->pmdarima) (3.0.9)\r\n",
      "Requirement already satisfied: six in /opt/conda/lib/python3.7/site-packages (from patsy>=0.5.2->statsmodels>=0.13.2->pmdarima) (1.15.0)\r\n",
      "Installing collected packages: pmdarima\r\n",
      "Successfully installed pmdarima-2.0.1\r\n",
      "\u001b[33mWARNING: Running pip as the 'root' user can result in broken permissions and conflicting behaviour with the system package manager. It is recommended to use a virtual environment instead: https://pip.pypa.io/warnings/venv\u001b[0m\u001b[33m\r\n",
      "\u001b[0m"
     ]
    }
   ],
   "source": [
    "!pip install pmdarima"
   ]
  },
  {
   "cell_type": "code",
   "execution_count": 4,
   "id": "97898eee",
   "metadata": {
    "execution": {
     "iopub.execute_input": "2022-11-20T09:36:06.857335Z",
     "iopub.status.busy": "2022-11-20T09:36:06.856869Z",
     "iopub.status.idle": "2022-11-20T09:36:07.004024Z",
     "shell.execute_reply": "2022-11-20T09:36:07.002111Z"
    },
    "papermill": {
     "duration": 0.168458,
     "end_time": "2022-11-20T09:36:07.006928",
     "exception": false,
     "start_time": "2022-11-20T09:36:06.838470",
     "status": "completed"
    },
    "tags": []
   },
   "outputs": [
    {
     "name": "stdout",
     "output_type": "stream",
     "text": [
      "(94992, 3)\n"
     ]
    }
   ],
   "source": [
    "train=pd.read_csv('/kaggle/input/jobathon-nov-2022/train.csv')\n",
    "print(train.shape)"
   ]
  },
  {
   "cell_type": "code",
   "execution_count": 5,
   "id": "1424de31",
   "metadata": {
    "execution": {
     "iopub.execute_input": "2022-11-20T09:36:07.041608Z",
     "iopub.status.busy": "2022-11-20T09:36:07.041177Z",
     "iopub.status.idle": "2022-11-20T09:36:07.079871Z",
     "shell.execute_reply": "2022-11-20T09:36:07.078581Z"
    },
    "papermill": {
     "duration": 0.059384,
     "end_time": "2022-11-20T09:36:07.082878",
     "exception": false,
     "start_time": "2022-11-20T09:36:07.023494",
     "status": "completed"
    },
    "tags": []
   },
   "outputs": [
    {
     "name": "stdout",
     "output_type": "stream",
     "text": [
      "(26304, 2)\n"
     ]
    }
   ],
   "source": [
    "test=pd.read_csv('/kaggle/input/jobathon-nov-2022/test.csv')\n",
    "print(test.shape)"
   ]
  },
  {
   "cell_type": "code",
   "execution_count": 6,
   "id": "3ce21766",
   "metadata": {
    "execution": {
     "iopub.execute_input": "2022-11-20T09:36:07.118816Z",
     "iopub.status.busy": "2022-11-20T09:36:07.118377Z",
     "iopub.status.idle": "2022-11-20T09:36:07.140359Z",
     "shell.execute_reply": "2022-11-20T09:36:07.139223Z"
    },
    "papermill": {
     "duration": 0.042659,
     "end_time": "2022-11-20T09:36:07.142826",
     "exception": false,
     "start_time": "2022-11-20T09:36:07.100167",
     "status": "completed"
    },
    "tags": []
   },
   "outputs": [
    {
     "data": {
      "text/html": [
       "<div>\n",
       "<style scoped>\n",
       "    .dataframe tbody tr th:only-of-type {\n",
       "        vertical-align: middle;\n",
       "    }\n",
       "\n",
       "    .dataframe tbody tr th {\n",
       "        vertical-align: top;\n",
       "    }\n",
       "\n",
       "    .dataframe thead th {\n",
       "        text-align: right;\n",
       "    }\n",
       "</style>\n",
       "<table border=\"1\" class=\"dataframe\">\n",
       "  <thead>\n",
       "    <tr style=\"text-align: right;\">\n",
       "      <th></th>\n",
       "      <th>row_id</th>\n",
       "      <th>datetime</th>\n",
       "      <th>energy</th>\n",
       "    </tr>\n",
       "  </thead>\n",
       "  <tbody>\n",
       "    <tr>\n",
       "      <th>0</th>\n",
       "      <td>1</td>\n",
       "      <td>2008-03-01 00:00:00</td>\n",
       "      <td>1259.985563</td>\n",
       "    </tr>\n",
       "    <tr>\n",
       "      <th>1</th>\n",
       "      <td>2</td>\n",
       "      <td>2008-03-01 01:00:00</td>\n",
       "      <td>1095.541500</td>\n",
       "    </tr>\n",
       "    <tr>\n",
       "      <th>2</th>\n",
       "      <td>3</td>\n",
       "      <td>2008-03-01 02:00:00</td>\n",
       "      <td>1056.247500</td>\n",
       "    </tr>\n",
       "    <tr>\n",
       "      <th>3</th>\n",
       "      <td>4</td>\n",
       "      <td>2008-03-01 03:00:00</td>\n",
       "      <td>1034.742000</td>\n",
       "    </tr>\n",
       "    <tr>\n",
       "      <th>4</th>\n",
       "      <td>5</td>\n",
       "      <td>2008-03-01 04:00:00</td>\n",
       "      <td>1026.334500</td>\n",
       "    </tr>\n",
       "  </tbody>\n",
       "</table>\n",
       "</div>"
      ],
      "text/plain": [
       "   row_id             datetime       energy\n",
       "0       1  2008-03-01 00:00:00  1259.985563\n",
       "1       2  2008-03-01 01:00:00  1095.541500\n",
       "2       3  2008-03-01 02:00:00  1056.247500\n",
       "3       4  2008-03-01 03:00:00  1034.742000\n",
       "4       5  2008-03-01 04:00:00  1026.334500"
      ]
     },
     "execution_count": 6,
     "metadata": {},
     "output_type": "execute_result"
    }
   ],
   "source": [
    "train.head()"
   ]
  },
  {
   "cell_type": "code",
   "execution_count": 7,
   "id": "dc89fb0f",
   "metadata": {
    "execution": {
     "iopub.execute_input": "2022-11-20T09:36:07.178791Z",
     "iopub.status.busy": "2022-11-20T09:36:07.177969Z",
     "iopub.status.idle": "2022-11-20T09:36:07.209105Z",
     "shell.execute_reply": "2022-11-20T09:36:07.207738Z"
    },
    "papermill": {
     "duration": 0.051897,
     "end_time": "2022-11-20T09:36:07.211661",
     "exception": false,
     "start_time": "2022-11-20T09:36:07.159764",
     "status": "completed"
    },
    "tags": []
   },
   "outputs": [
    {
     "name": "stdout",
     "output_type": "stream",
     "text": [
      "<class 'pandas.core.frame.DataFrame'>\n",
      "RangeIndex: 94992 entries, 0 to 94991\n",
      "Data columns (total 3 columns):\n",
      " #   Column    Non-Null Count  Dtype  \n",
      "---  ------    --------------  -----  \n",
      " 0   row_id    94992 non-null  int64  \n",
      " 1   datetime  94992 non-null  object \n",
      " 2   energy    93092 non-null  float64\n",
      "dtypes: float64(1), int64(1), object(1)\n",
      "memory usage: 2.2+ MB\n"
     ]
    }
   ],
   "source": [
    "train.info()"
   ]
  },
  {
   "cell_type": "code",
   "execution_count": 8,
   "id": "08b809f7",
   "metadata": {
    "execution": {
     "iopub.execute_input": "2022-11-20T09:36:07.247439Z",
     "iopub.status.busy": "2022-11-20T09:36:07.246634Z",
     "iopub.status.idle": "2022-11-20T09:36:07.265353Z",
     "shell.execute_reply": "2022-11-20T09:36:07.264347Z"
    },
    "papermill": {
     "duration": 0.039127,
     "end_time": "2022-11-20T09:36:07.267714",
     "exception": false,
     "start_time": "2022-11-20T09:36:07.228587",
     "status": "completed"
    },
    "tags": []
   },
   "outputs": [
    {
     "data": {
      "text/plain": [
       "count    93092.000000\n",
       "mean      1702.995014\n",
       "std        369.322103\n",
       "min        866.388600\n",
       "25%       1431.541100\n",
       "50%       1654.465800\n",
       "75%       1935.993450\n",
       "max       3374.399600\n",
       "Name: energy, dtype: float64"
      ]
     },
     "execution_count": 8,
     "metadata": {},
     "output_type": "execute_result"
    }
   ],
   "source": [
    "train['energy'].describe()"
   ]
  },
  {
   "cell_type": "code",
   "execution_count": 9,
   "id": "42852c16",
   "metadata": {
    "execution": {
     "iopub.execute_input": "2022-11-20T09:36:07.304531Z",
     "iopub.status.busy": "2022-11-20T09:36:07.303795Z",
     "iopub.status.idle": "2022-11-20T09:36:07.336495Z",
     "shell.execute_reply": "2022-11-20T09:36:07.335240Z"
    },
    "papermill": {
     "duration": 0.054228,
     "end_time": "2022-11-20T09:36:07.339482",
     "exception": false,
     "start_time": "2022-11-20T09:36:07.285254",
     "status": "completed"
    },
    "tags": []
   },
   "outputs": [],
   "source": [
    "train['datetime']=pd.to_datetime(train['datetime'],infer_datetime_format=True)"
   ]
  },
  {
   "cell_type": "code",
   "execution_count": 10,
   "id": "831495fb",
   "metadata": {
    "execution": {
     "iopub.execute_input": "2022-11-20T09:36:07.375175Z",
     "iopub.status.busy": "2022-11-20T09:36:07.374705Z",
     "iopub.status.idle": "2022-11-20T09:36:07.384218Z",
     "shell.execute_reply": "2022-11-20T09:36:07.383048Z"
    },
    "papermill": {
     "duration": 0.029997,
     "end_time": "2022-11-20T09:36:07.386568",
     "exception": false,
     "start_time": "2022-11-20T09:36:07.356571",
     "status": "completed"
    },
    "tags": []
   },
   "outputs": [
    {
     "data": {
      "text/plain": [
       "(Timestamp('2008-03-01 00:00:00'), Timestamp('2018-12-31 23:00:00'))"
      ]
     },
     "execution_count": 10,
     "metadata": {},
     "output_type": "execute_result"
    }
   ],
   "source": [
    "train['datetime'].min(),train['datetime'].max()"
   ]
  },
  {
   "cell_type": "code",
   "execution_count": 11,
   "id": "2f88cecf",
   "metadata": {
    "execution": {
     "iopub.execute_input": "2022-11-20T09:36:07.426142Z",
     "iopub.status.busy": "2022-11-20T09:36:07.425225Z",
     "iopub.status.idle": "2022-11-20T09:36:07.431737Z",
     "shell.execute_reply": "2022-11-20T09:36:07.430794Z"
    },
    "papermill": {
     "duration": 0.028402,
     "end_time": "2022-11-20T09:36:07.433955",
     "exception": false,
     "start_time": "2022-11-20T09:36:07.405553",
     "status": "completed"
    },
    "tags": []
   },
   "outputs": [],
   "source": [
    "hour_map={0:0,1:0,2:0,3:0,4:0,5:0,\n",
    "         6:1,7:1,8:1,\n",
    "         9:2,10:2,11:2,\n",
    "         12:3,13:3,14:3,15:3,\n",
    "         16:4,17:4,\n",
    "         18:5,19:5,20:5,\n",
    "         21:6,22:6,23:6}"
   ]
  },
  {
   "cell_type": "code",
   "execution_count": 12,
   "id": "6ed07da3",
   "metadata": {
    "execution": {
     "iopub.execute_input": "2022-11-20T09:36:07.472516Z",
     "iopub.status.busy": "2022-11-20T09:36:07.471744Z",
     "iopub.status.idle": "2022-11-20T09:36:07.550492Z",
     "shell.execute_reply": "2022-11-20T09:36:07.548870Z"
    },
    "papermill": {
     "duration": 0.102134,
     "end_time": "2022-11-20T09:36:07.554200",
     "exception": false,
     "start_time": "2022-11-20T09:36:07.452066",
     "status": "completed"
    },
    "tags": []
   },
   "outputs": [],
   "source": [
    "train['year']=train['datetime'].dt.year\n",
    "train['month']=train['datetime'].dt.month\n",
    "train['day']=train['datetime'].dt.day\n",
    "train['hour']=train['datetime'].dt.hour\n",
    "train['quarter']=train['datetime'].dt.quarter\n",
    "train['is_weekend']=train['datetime'].dt.dayofweek >4\n",
    "train['day_part']=train['hour'].replace(hour_map)"
   ]
  },
  {
   "cell_type": "code",
   "execution_count": 13,
   "id": "b91fb002",
   "metadata": {
    "execution": {
     "iopub.execute_input": "2022-11-20T09:36:07.590908Z",
     "iopub.status.busy": "2022-11-20T09:36:07.590247Z",
     "iopub.status.idle": "2022-11-20T09:36:07.600057Z",
     "shell.execute_reply": "2022-11-20T09:36:07.598945Z"
    },
    "papermill": {
     "duration": 0.031302,
     "end_time": "2022-11-20T09:36:07.602598",
     "exception": false,
     "start_time": "2022-11-20T09:36:07.571296",
     "status": "completed"
    },
    "tags": []
   },
   "outputs": [],
   "source": [
    "#generate holidays feature\n",
    "def gen_holiday_feat(data,start,end):\n",
    "    cal = USFederalHolidayCalendar()\n",
    "    holiday_dates = cal.holidays(start=start, end=end)\n",
    "#     for dt in cal.holidays(start=sdt, end=edt): \n",
    "#         print (dt)\n",
    "    data['is_holiday'] = False\n",
    "    mask = data['datetime'].dt.date.astype('datetime64').isin(holiday_dates)\n",
    "    data.loc[mask,'is_holiday']=True   \n",
    "    \n",
    "    data['special_holiday']=False\n",
    "    mask= ((data['datetime'].dt.month==12) & (data['datetime'].dt.day>=24))  \\\n",
    "           | ((data['datetime'].dt.month==1) & (data['datetime'].dt.day<3)) \n",
    "    data.loc[mask,'special_holiday']=True   \n",
    "        \n",
    "    return holiday_dates"
   ]
  },
  {
   "cell_type": "code",
   "execution_count": 14,
   "id": "fefd9454",
   "metadata": {
    "execution": {
     "iopub.execute_input": "2022-11-20T09:36:07.638468Z",
     "iopub.status.busy": "2022-11-20T09:36:07.638061Z",
     "iopub.status.idle": "2022-11-20T09:36:07.862185Z",
     "shell.execute_reply": "2022-11-20T09:36:07.861001Z"
    },
    "papermill": {
     "duration": 0.245143,
     "end_time": "2022-11-20T09:36:07.864862",
     "exception": false,
     "start_time": "2022-11-20T09:36:07.619719",
     "status": "completed"
    },
    "tags": []
   },
   "outputs": [
    {
     "name": "stdout",
     "output_type": "stream",
     "text": [
      "DatetimeIndex(['2008-05-26', '2008-07-04', '2008-09-01', '2008-10-13',\n",
      "               '2008-11-11', '2008-11-27', '2008-12-25', '2009-01-01',\n",
      "               '2009-01-19', '2009-02-16',\n",
      "               ...\n",
      "               '2018-01-01', '2018-01-15', '2018-02-19', '2018-05-28',\n",
      "               '2018-07-04', '2018-09-03', '2018-10-08', '2018-11-12',\n",
      "               '2018-11-22', '2018-12-25'],\n",
      "              dtype='datetime64[ns]', length=107, freq=None)\n",
      "False    92400\n",
      "True      2592\n",
      "Name: special_holiday, dtype: int64\n"
     ]
    },
    {
     "data": {
      "text/plain": [
       "False    92424\n",
       "True      2568\n",
       "Name: is_holiday, dtype: int64"
      ]
     },
     "execution_count": 14,
     "metadata": {},
     "output_type": "execute_result"
    }
   ],
   "source": [
    "holidays= gen_holiday_feat(train,train['datetime'].dt.date.min(),train['datetime'].dt.date.max())\n",
    "print(holidays)\n",
    "print(train['special_holiday'].value_counts())\n",
    "train['is_holiday'].value_counts()"
   ]
  },
  {
   "cell_type": "code",
   "execution_count": 15,
   "id": "3ad95ca7",
   "metadata": {
    "execution": {
     "iopub.execute_input": "2022-11-20T09:36:07.903812Z",
     "iopub.status.busy": "2022-11-20T09:36:07.903282Z",
     "iopub.status.idle": "2022-11-20T09:36:07.915228Z",
     "shell.execute_reply": "2022-11-20T09:36:07.914106Z"
    },
    "papermill": {
     "duration": 0.033954,
     "end_time": "2022-11-20T09:36:07.917745",
     "exception": false,
     "start_time": "2022-11-20T09:36:07.883791",
     "status": "completed"
    },
    "tags": []
   },
   "outputs": [
    {
     "data": {
      "text/plain": [
       "array([2008, 2009, 2010, 2011, 2012, 2013, 2014, 2015, 2016, 2017, 2018])"
      ]
     },
     "execution_count": 15,
     "metadata": {},
     "output_type": "execute_result"
    }
   ],
   "source": [
    "train['year'].unique()"
   ]
  },
  {
   "cell_type": "code",
   "execution_count": 16,
   "id": "eb43d6e9",
   "metadata": {
    "execution": {
     "iopub.execute_input": "2022-11-20T09:36:07.966091Z",
     "iopub.status.busy": "2022-11-20T09:36:07.965555Z",
     "iopub.status.idle": "2022-11-20T09:36:07.982204Z",
     "shell.execute_reply": "2022-11-20T09:36:07.981043Z"
    },
    "papermill": {
     "duration": 0.049419,
     "end_time": "2022-11-20T09:36:07.984910",
     "exception": false,
     "start_time": "2022-11-20T09:36:07.935491",
     "status": "completed"
    },
    "tags": []
   },
   "outputs": [],
   "source": [
    "test['datetime']=pd.to_datetime(test['datetime'],infer_datetime_format=True)"
   ]
  },
  {
   "cell_type": "code",
   "execution_count": 17,
   "id": "f315aeef",
   "metadata": {
    "execution": {
     "iopub.execute_input": "2022-11-20T09:36:08.022237Z",
     "iopub.status.busy": "2022-11-20T09:36:08.021386Z",
     "iopub.status.idle": "2022-11-20T09:36:08.030544Z",
     "shell.execute_reply": "2022-11-20T09:36:08.029547Z"
    },
    "papermill": {
     "duration": 0.030434,
     "end_time": "2022-11-20T09:36:08.032941",
     "exception": false,
     "start_time": "2022-11-20T09:36:08.002507",
     "status": "completed"
    },
    "tags": []
   },
   "outputs": [
    {
     "data": {
      "text/plain": [
       "(Timestamp('2019-01-01 00:00:00'), Timestamp('2021-12-31 23:00:00'))"
      ]
     },
     "execution_count": 17,
     "metadata": {},
     "output_type": "execute_result"
    }
   ],
   "source": [
    "test['datetime'].min(),test['datetime'].max()"
   ]
  },
  {
   "cell_type": "code",
   "execution_count": 18,
   "id": "a7ceafed",
   "metadata": {
    "execution": {
     "iopub.execute_input": "2022-11-20T09:36:08.072271Z",
     "iopub.status.busy": "2022-11-20T09:36:08.071386Z",
     "iopub.status.idle": "2022-11-20T09:36:08.105148Z",
     "shell.execute_reply": "2022-11-20T09:36:08.104217Z"
    },
    "papermill": {
     "duration": 0.057303,
     "end_time": "2022-11-20T09:36:08.107782",
     "exception": false,
     "start_time": "2022-11-20T09:36:08.050479",
     "status": "completed"
    },
    "tags": []
   },
   "outputs": [],
   "source": [
    "test['year']=test['datetime'].dt.year\n",
    "test['month']=test['datetime'].dt.month\n",
    "test['day']=test['datetime'].dt.day\n",
    "test['hour']=test['datetime'].dt.hour\n",
    "test['quarter']=test['datetime'].dt.quarter\n",
    "test['is_weekend']=test['datetime'].dt.dayofweek >4\n",
    "test['day_part']=test['hour'].replace(hour_map)"
   ]
  },
  {
   "cell_type": "code",
   "execution_count": 19,
   "id": "84b4e859",
   "metadata": {
    "execution": {
     "iopub.execute_input": "2022-11-20T09:36:08.145500Z",
     "iopub.status.busy": "2022-11-20T09:36:08.144696Z",
     "iopub.status.idle": "2022-11-20T09:36:08.222293Z",
     "shell.execute_reply": "2022-11-20T09:36:08.220836Z"
    },
    "papermill": {
     "duration": 0.099403,
     "end_time": "2022-11-20T09:36:08.224904",
     "exception": false,
     "start_time": "2022-11-20T09:36:08.125501",
     "status": "completed"
    },
    "tags": []
   },
   "outputs": [
    {
     "name": "stdout",
     "output_type": "stream",
     "text": [
      "31\n",
      "DatetimeIndex(['2019-01-01', '2019-01-21', '2019-02-18', '2019-05-27',\n",
      "               '2019-07-04', '2019-09-02', '2019-10-14', '2019-11-11',\n",
      "               '2019-11-28', '2019-12-25', '2020-01-01', '2020-01-20',\n",
      "               '2020-02-17', '2020-05-25', '2020-07-03', '2020-09-07',\n",
      "               '2020-10-12', '2020-11-11', '2020-11-26', '2020-12-25',\n",
      "               '2021-01-01', '2021-01-18', '2021-02-15', '2021-05-31',\n",
      "               '2021-07-05', '2021-09-06', '2021-10-11', '2021-11-11',\n",
      "               '2021-11-25', '2021-12-24', '2021-12-31'],\n",
      "              dtype='datetime64[ns]', freq=None)\n",
      "False    25584\n",
      "True       720\n",
      "Name: special_holiday, dtype: int64\n"
     ]
    },
    {
     "data": {
      "text/plain": [
       "False    25560\n",
       "True       744\n",
       "Name: is_holiday, dtype: int64"
      ]
     },
     "execution_count": 19,
     "metadata": {},
     "output_type": "execute_result"
    }
   ],
   "source": [
    "holidays= gen_holiday_feat(test,test['datetime'].dt.date.min(),test['datetime'].dt.date.max())\n",
    "print(len(holidays))\n",
    "print(holidays)\n",
    "print(test['special_holiday'].value_counts())\n",
    "test['is_holiday'].value_counts()"
   ]
  },
  {
   "cell_type": "code",
   "execution_count": 20,
   "id": "a824a007",
   "metadata": {
    "execution": {
     "iopub.execute_input": "2022-11-20T09:36:08.262656Z",
     "iopub.status.busy": "2022-11-20T09:36:08.262260Z",
     "iopub.status.idle": "2022-11-20T09:36:08.267090Z",
     "shell.execute_reply": "2022-11-20T09:36:08.265809Z"
    },
    "papermill": {
     "duration": 0.026558,
     "end_time": "2022-11-20T09:36:08.269397",
     "exception": false,
     "start_time": "2022-11-20T09:36:08.242839",
     "status": "completed"
    },
    "tags": []
   },
   "outputs": [],
   "source": [
    "targetcol = 'energy'"
   ]
  },
  {
   "cell_type": "code",
   "execution_count": 21,
   "id": "4ee56a83",
   "metadata": {
    "execution": {
     "iopub.execute_input": "2022-11-20T09:36:08.308058Z",
     "iopub.status.busy": "2022-11-20T09:36:08.307631Z",
     "iopub.status.idle": "2022-11-20T09:36:08.314877Z",
     "shell.execute_reply": "2022-11-20T09:36:08.313755Z"
    },
    "papermill": {
     "duration": 0.029554,
     "end_time": "2022-11-20T09:36:08.317199",
     "exception": false,
     "start_time": "2022-11-20T09:36:08.287645",
     "status": "completed"
    },
    "tags": []
   },
   "outputs": [],
   "source": [
    "train[targetcol].fillna(train[targetcol].mean(),inplace=True)"
   ]
  },
  {
   "cell_type": "markdown",
   "id": "dd73f866",
   "metadata": {
    "papermill": {
     "duration": 0.017284,
     "end_time": "2022-11-20T09:36:08.352049",
     "exception": false,
     "start_time": "2022-11-20T09:36:08.334765",
     "status": "completed"
    },
    "tags": []
   },
   "source": [
    "Create Lag Features"
   ]
  },
  {
   "cell_type": "code",
   "execution_count": 22,
   "id": "69bac522",
   "metadata": {
    "execution": {
     "iopub.execute_input": "2022-11-20T09:36:08.389548Z",
     "iopub.status.busy": "2022-11-20T09:36:08.388578Z",
     "iopub.status.idle": "2022-11-20T09:36:08.396382Z",
     "shell.execute_reply": "2022-11-20T09:36:08.395059Z"
    },
    "papermill": {
     "duration": 0.02978,
     "end_time": "2022-11-20T09:36:08.399102",
     "exception": false,
     "start_time": "2022-11-20T09:36:08.369322",
     "status": "completed"
    },
    "tags": []
   },
   "outputs": [],
   "source": [
    "def create_lag(data,lagno_list):\n",
    "    res = pd.DataFrame()\n",
    "    for i in lagno_list:\n",
    "        shifted = data.shift(i)\n",
    "        res=pd.concat([res,shifted],axis=1)\n",
    "\n",
    "#     res=pd.concat([data.shift(i) for i in lagno_list],axis=1)\n",
    "    res.columns=[f'lag_{i}' for i in lagno_list]\n",
    "    return res"
   ]
  },
  {
   "cell_type": "code",
   "execution_count": 23,
   "id": "093a9af7",
   "metadata": {
    "execution": {
     "iopub.execute_input": "2022-11-20T09:36:08.438057Z",
     "iopub.status.busy": "2022-11-20T09:36:08.437604Z",
     "iopub.status.idle": "2022-11-20T09:36:08.444860Z",
     "shell.execute_reply": "2022-11-20T09:36:08.443608Z"
    },
    "papermill": {
     "duration": 0.029492,
     "end_time": "2022-11-20T09:36:08.447240",
     "exception": false,
     "start_time": "2022-11-20T09:36:08.417748",
     "status": "completed"
    },
    "tags": []
   },
   "outputs": [
    {
     "data": {
      "text/plain": [
       "(26304, 11)"
      ]
     },
     "execution_count": 23,
     "metadata": {},
     "output_type": "execute_result"
    }
   ],
   "source": [
    "test.shape"
   ]
  },
  {
   "cell_type": "code",
   "execution_count": 24,
   "id": "c5bfab22",
   "metadata": {
    "execution": {
     "iopub.execute_input": "2022-11-20T09:36:08.485254Z",
     "iopub.status.busy": "2022-11-20T09:36:08.484412Z",
     "iopub.status.idle": "2022-11-20T09:36:08.813303Z",
     "shell.execute_reply": "2022-11-20T09:36:08.811630Z"
    },
    "papermill": {
     "duration": 0.351692,
     "end_time": "2022-11-20T09:36:08.816636",
     "exception": false,
     "start_time": "2022-11-20T09:36:08.464944",
     "status": "completed"
    },
    "tags": []
   },
   "outputs": [
    {
     "name": "stdout",
     "output_type": "stream",
     "text": [
      "(94992, 18) (26304, 17)\n"
     ]
    }
   ],
   "source": [
    "train['istrain']=1\n",
    "test['istrain']=0\n",
    "combined = pd.concat([train,test],axis=0) \n",
    "#lag 1 year, 3 year, quarter, month,week\n",
    "lag_df = create_lag(combined[targetcol],[24,168,720,2160,8760,26304])\n",
    "combined=pd.concat([combined,lag_df],axis=1)\n",
    "train=combined[combined['istrain']==1]\n",
    "test=combined[combined['istrain']==0]\n",
    "\n",
    "del combined,train['istrain'],test['istrain'],test[targetcol]\n",
    "print(train.shape,test.shape)"
   ]
  },
  {
   "cell_type": "code",
   "execution_count": 25,
   "id": "c1ff2934",
   "metadata": {
    "execution": {
     "iopub.execute_input": "2022-11-20T09:36:08.854801Z",
     "iopub.status.busy": "2022-11-20T09:36:08.853874Z",
     "iopub.status.idle": "2022-11-20T09:36:08.861702Z",
     "shell.execute_reply": "2022-11-20T09:36:08.860494Z"
    },
    "papermill": {
     "duration": 0.029249,
     "end_time": "2022-11-20T09:36:08.864074",
     "exception": false,
     "start_time": "2022-11-20T09:36:08.834825",
     "status": "completed"
    },
    "tags": []
   },
   "outputs": [
    {
     "data": {
      "text/plain": [
       "Index(['row_id', 'datetime', 'energy', 'year', 'month', 'day', 'hour',\n",
       "       'quarter', 'is_weekend', 'day_part', 'is_holiday', 'special_holiday',\n",
       "       'lag_24', 'lag_168', 'lag_720', 'lag_2160', 'lag_8760', 'lag_26304'],\n",
       "      dtype='object')"
      ]
     },
     "execution_count": 25,
     "metadata": {},
     "output_type": "execute_result"
    }
   ],
   "source": [
    "# cols = [col for col in train.columns if col.startswith('lag_')]\n",
    "# train.drop(cols,axis=1,inplace=True)\n",
    "# test.drop(cols,axis=1,inplace=True)\n",
    "train.columns"
   ]
  },
  {
   "cell_type": "code",
   "execution_count": 26,
   "id": "6e8abb8d",
   "metadata": {
    "execution": {
     "iopub.execute_input": "2022-11-20T09:36:08.901440Z",
     "iopub.status.busy": "2022-11-20T09:36:08.901051Z",
     "iopub.status.idle": "2022-11-20T09:36:08.911948Z",
     "shell.execute_reply": "2022-11-20T09:36:08.910796Z"
    },
    "papermill": {
     "duration": 0.032551,
     "end_time": "2022-11-20T09:36:08.914485",
     "exception": false,
     "start_time": "2022-11-20T09:36:08.881934",
     "status": "completed"
    },
    "tags": []
   },
   "outputs": [],
   "source": [
    "cols = [col for col in train.columns if col.startswith('lag_')]\n",
    "target_mean = train[targetcol].mean()\n",
    "for col in cols:\n",
    "    train[col].fillna(target_mean,inplace=True)"
   ]
  },
  {
   "cell_type": "markdown",
   "id": "7b68000a",
   "metadata": {
    "papermill": {
     "duration": 0.017489,
     "end_time": "2022-11-20T09:36:08.949923",
     "exception": false,
     "start_time": "2022-11-20T09:36:08.932434",
     "status": "completed"
    },
    "tags": []
   },
   "source": [
    "Split Train into train and validation sets"
   ]
  },
  {
   "cell_type": "code",
   "execution_count": 27,
   "id": "142196ab",
   "metadata": {
    "execution": {
     "iopub.execute_input": "2022-11-20T09:36:08.987365Z",
     "iopub.status.busy": "2022-11-20T09:36:08.986987Z",
     "iopub.status.idle": "2022-11-20T09:36:08.991447Z",
     "shell.execute_reply": "2022-11-20T09:36:08.990253Z"
    },
    "papermill": {
     "duration": 0.026001,
     "end_time": "2022-11-20T09:36:08.993838",
     "exception": false,
     "start_time": "2022-11-20T09:36:08.967837",
     "status": "completed"
    },
    "tags": []
   },
   "outputs": [],
   "source": [
    "# import cudf\n",
    "# from cuml.tsa.arima import ARIMA"
   ]
  },
  {
   "cell_type": "code",
   "execution_count": 28,
   "id": "a326975f",
   "metadata": {
    "execution": {
     "iopub.execute_input": "2022-11-20T09:36:09.032418Z",
     "iopub.status.busy": "2022-11-20T09:36:09.032037Z",
     "iopub.status.idle": "2022-11-20T09:36:09.090984Z",
     "shell.execute_reply": "2022-11-20T09:36:09.089679Z"
    },
    "papermill": {
     "duration": 0.08179,
     "end_time": "2022-11-20T09:36:09.094324",
     "exception": false,
     "start_time": "2022-11-20T09:36:09.012534",
     "status": "completed"
    },
    "tags": []
   },
   "outputs": [
    {
     "name": "stdout",
     "output_type": "stream",
     "text": [
      "(68688, 18)\n",
      "(26304, 18)\n"
     ]
    },
    {
     "data": {
      "text/html": [
       "<div>\n",
       "<style scoped>\n",
       "    .dataframe tbody tr th:only-of-type {\n",
       "        vertical-align: middle;\n",
       "    }\n",
       "\n",
       "    .dataframe tbody tr th {\n",
       "        vertical-align: top;\n",
       "    }\n",
       "\n",
       "    .dataframe thead th {\n",
       "        text-align: right;\n",
       "    }\n",
       "</style>\n",
       "<table border=\"1\" class=\"dataframe\">\n",
       "  <thead>\n",
       "    <tr style=\"text-align: right;\">\n",
       "      <th></th>\n",
       "      <th>row_id</th>\n",
       "      <th>datetime</th>\n",
       "      <th>energy</th>\n",
       "      <th>year</th>\n",
       "      <th>month</th>\n",
       "      <th>day</th>\n",
       "      <th>hour</th>\n",
       "      <th>quarter</th>\n",
       "      <th>is_weekend</th>\n",
       "      <th>day_part</th>\n",
       "      <th>is_holiday</th>\n",
       "      <th>special_holiday</th>\n",
       "      <th>lag_24</th>\n",
       "      <th>lag_168</th>\n",
       "      <th>lag_720</th>\n",
       "      <th>lag_2160</th>\n",
       "      <th>lag_8760</th>\n",
       "      <th>lag_26304</th>\n",
       "    </tr>\n",
       "  </thead>\n",
       "  <tbody>\n",
       "    <tr>\n",
       "      <th>68688</th>\n",
       "      <td>68689</td>\n",
       "      <td>2016-01-01 00:00:00</td>\n",
       "      <td>2002.2470</td>\n",
       "      <td>2016</td>\n",
       "      <td>1</td>\n",
       "      <td>1</td>\n",
       "      <td>0</td>\n",
       "      <td>1</td>\n",
       "      <td>False</td>\n",
       "      <td>0</td>\n",
       "      <td>True</td>\n",
       "      <td>True</td>\n",
       "      <td>2045.0170</td>\n",
       "      <td>2274.7530</td>\n",
       "      <td>1983.0616</td>\n",
       "      <td>1878.091800</td>\n",
       "      <td>2287.2788</td>\n",
       "      <td>1479.1658</td>\n",
       "    </tr>\n",
       "    <tr>\n",
       "      <th>68689</th>\n",
       "      <td>68690</td>\n",
       "      <td>2016-01-01 01:00:00</td>\n",
       "      <td>1843.3870</td>\n",
       "      <td>2016</td>\n",
       "      <td>1</td>\n",
       "      <td>1</td>\n",
       "      <td>1</td>\n",
       "      <td>1</td>\n",
       "      <td>False</td>\n",
       "      <td>0</td>\n",
       "      <td>True</td>\n",
       "      <td>True</td>\n",
       "      <td>1881.1468</td>\n",
       "      <td>2118.4592</td>\n",
       "      <td>1827.3788</td>\n",
       "      <td>1702.995014</td>\n",
       "      <td>2120.5124</td>\n",
       "      <td>1375.2627</td>\n",
       "    </tr>\n",
       "    <tr>\n",
       "      <th>68690</th>\n",
       "      <td>68691</td>\n",
       "      <td>2016-01-01 02:00:00</td>\n",
       "      <td>1735.1178</td>\n",
       "      <td>2016</td>\n",
       "      <td>1</td>\n",
       "      <td>1</td>\n",
       "      <td>2</td>\n",
       "      <td>1</td>\n",
       "      <td>False</td>\n",
       "      <td>0</td>\n",
       "      <td>True</td>\n",
       "      <td>True</td>\n",
       "      <td>1781.7982</td>\n",
       "      <td>2020.4548</td>\n",
       "      <td>1719.9650</td>\n",
       "      <td>1627.704000</td>\n",
       "      <td>2015.9704</td>\n",
       "      <td>1307.8261</td>\n",
       "    </tr>\n",
       "    <tr>\n",
       "      <th>68691</th>\n",
       "      <td>68692</td>\n",
       "      <td>2016-01-01 03:00:00</td>\n",
       "      <td>1666.1970</td>\n",
       "      <td>2016</td>\n",
       "      <td>1</td>\n",
       "      <td>1</td>\n",
       "      <td>3</td>\n",
       "      <td>1</td>\n",
       "      <td>False</td>\n",
       "      <td>0</td>\n",
       "      <td>True</td>\n",
       "      <td>True</td>\n",
       "      <td>1719.5984</td>\n",
       "      <td>1936.5034</td>\n",
       "      <td>1648.2336</td>\n",
       "      <td>1564.526600</td>\n",
       "      <td>1939.9740</td>\n",
       "      <td>1261.5295</td>\n",
       "    </tr>\n",
       "    <tr>\n",
       "      <th>68692</th>\n",
       "      <td>68693</td>\n",
       "      <td>2016-01-01 04:00:00</td>\n",
       "      <td>1630.3924</td>\n",
       "      <td>2016</td>\n",
       "      <td>1</td>\n",
       "      <td>1</td>\n",
       "      <td>4</td>\n",
       "      <td>1</td>\n",
       "      <td>False</td>\n",
       "      <td>0</td>\n",
       "      <td>True</td>\n",
       "      <td>True</td>\n",
       "      <td>1657.1542</td>\n",
       "      <td>1895.8108</td>\n",
       "      <td>1603.2640</td>\n",
       "      <td>1541.553000</td>\n",
       "      <td>1885.3868</td>\n",
       "      <td>1228.8682</td>\n",
       "    </tr>\n",
       "  </tbody>\n",
       "</table>\n",
       "</div>"
      ],
      "text/plain": [
       "       row_id            datetime     energy  year  month  day  hour  quarter  \\\n",
       "68688   68689 2016-01-01 00:00:00  2002.2470  2016      1    1     0        1   \n",
       "68689   68690 2016-01-01 01:00:00  1843.3870  2016      1    1     1        1   \n",
       "68690   68691 2016-01-01 02:00:00  1735.1178  2016      1    1     2        1   \n",
       "68691   68692 2016-01-01 03:00:00  1666.1970  2016      1    1     3        1   \n",
       "68692   68693 2016-01-01 04:00:00  1630.3924  2016      1    1     4        1   \n",
       "\n",
       "       is_weekend  day_part  is_holiday  special_holiday     lag_24  \\\n",
       "68688       False         0        True             True  2045.0170   \n",
       "68689       False         0        True             True  1881.1468   \n",
       "68690       False         0        True             True  1781.7982   \n",
       "68691       False         0        True             True  1719.5984   \n",
       "68692       False         0        True             True  1657.1542   \n",
       "\n",
       "         lag_168    lag_720     lag_2160   lag_8760  lag_26304  \n",
       "68688  2274.7530  1983.0616  1878.091800  2287.2788  1479.1658  \n",
       "68689  2118.4592  1827.3788  1702.995014  2120.5124  1375.2627  \n",
       "68690  2020.4548  1719.9650  1627.704000  2015.9704  1307.8261  \n",
       "68691  1936.5034  1648.2336  1564.526600  1939.9740  1261.5295  \n",
       "68692  1895.8108  1603.2640  1541.553000  1885.3868  1228.8682  "
      ]
     },
     "execution_count": 28,
     "metadata": {},
     "output_type": "execute_result"
    }
   ],
   "source": [
    "import datetime \n",
    "train_start = datetime.datetime(year=2008,month=1,day=1,hour=0)\n",
    "val_start = datetime.datetime(year=2016,month=1,day=1,hour=0)\n",
    "val_end = datetime.datetime(year=2018,month=12,day=31,hour=23)\n",
    "# train_start = datetime.datetime(year=2017,month=1,day=1,hour=0)\n",
    "# val_start = datetime.datetime(year=2018,month=1,day=1,hour=0)\n",
    "# val_end = datetime.datetime(year=2018,month=12,day=31,hour=23)\n",
    "# hour_mask = (train['hour']>=0)\n",
    "X_val= train[(train['datetime']>=val_start) & (train['datetime']<=val_end)].copy()\n",
    "X_train= train[(train['datetime']>=train_start) & (train['datetime']<val_start)].copy()\n",
    "print(X_train.shape)\n",
    "print(X_val.shape)\n",
    "X_val.head()           "
   ]
  },
  {
   "cell_type": "code",
   "execution_count": 29,
   "id": "d510dcff",
   "metadata": {
    "execution": {
     "iopub.execute_input": "2022-11-20T09:36:09.133782Z",
     "iopub.status.busy": "2022-11-20T09:36:09.132948Z",
     "iopub.status.idle": "2022-11-20T09:36:09.140678Z",
     "shell.execute_reply": "2022-11-20T09:36:09.138990Z"
    },
    "papermill": {
     "duration": 0.031012,
     "end_time": "2022-11-20T09:36:09.144244",
     "exception": false,
     "start_time": "2022-11-20T09:36:09.113232",
     "status": "completed"
    },
    "tags": []
   },
   "outputs": [
    {
     "name": "stdout",
     "output_type": "stream",
     "text": [
      "0\n"
     ]
    }
   ],
   "source": [
    "val_target = X_val[targetcol]\n",
    "print(X_val[targetcol].isnull().sum())"
   ]
  },
  {
   "cell_type": "code",
   "execution_count": 30,
   "id": "cc4e9f21",
   "metadata": {
    "execution": {
     "iopub.execute_input": "2022-11-20T09:36:09.183630Z",
     "iopub.status.busy": "2022-11-20T09:36:09.183243Z",
     "iopub.status.idle": "2022-11-20T09:36:09.188350Z",
     "shell.execute_reply": "2022-11-20T09:36:09.186811Z"
    },
    "papermill": {
     "duration": 0.027697,
     "end_time": "2022-11-20T09:36:09.191052",
     "exception": false,
     "start_time": "2022-11-20T09:36:09.163355",
     "status": "completed"
    },
    "tags": []
   },
   "outputs": [],
   "source": [
    "# val_target.fillna(X_train[targetcol].mean(),inplace=True)"
   ]
  },
  {
   "cell_type": "code",
   "execution_count": 31,
   "id": "9a0d23e5",
   "metadata": {
    "execution": {
     "iopub.execute_input": "2022-11-20T09:36:09.230608Z",
     "iopub.status.busy": "2022-11-20T09:36:09.230205Z",
     "iopub.status.idle": "2022-11-20T09:36:10.367509Z",
     "shell.execute_reply": "2022-11-20T09:36:10.366196Z"
    },
    "papermill": {
     "duration": 1.161334,
     "end_time": "2022-11-20T09:36:10.371387",
     "exception": false,
     "start_time": "2022-11-20T09:36:09.210053",
     "status": "completed"
    },
    "tags": []
   },
   "outputs": [],
   "source": [
    "from sklearn.metrics import mean_squared_error"
   ]
  },
  {
   "cell_type": "code",
   "execution_count": 32,
   "id": "8f8c4a23",
   "metadata": {
    "execution": {
     "iopub.execute_input": "2022-11-20T09:36:10.409699Z",
     "iopub.status.busy": "2022-11-20T09:36:10.409283Z",
     "iopub.status.idle": "2022-11-20T09:36:10.415213Z",
     "shell.execute_reply": "2022-11-20T09:36:10.414382Z"
    },
    "papermill": {
     "duration": 0.027693,
     "end_time": "2022-11-20T09:36:10.417547",
     "exception": false,
     "start_time": "2022-11-20T09:36:10.389854",
     "status": "completed"
    },
    "tags": []
   },
   "outputs": [],
   "source": [
    "#compute baseline error by predicting train energy mean as the energy for all time\n",
    "val_preds_baseline = np.full(len(X_val),train[targetcol].mean())"
   ]
  },
  {
   "cell_type": "code",
   "execution_count": 33,
   "id": "d5d84e24",
   "metadata": {
    "execution": {
     "iopub.execute_input": "2022-11-20T09:36:10.455748Z",
     "iopub.status.busy": "2022-11-20T09:36:10.455314Z",
     "iopub.status.idle": "2022-11-20T09:36:10.459806Z",
     "shell.execute_reply": "2022-11-20T09:36:10.458610Z"
    },
    "papermill": {
     "duration": 0.026416,
     "end_time": "2022-11-20T09:36:10.462110",
     "exception": false,
     "start_time": "2022-11-20T09:36:10.435694",
     "status": "completed"
    },
    "tags": []
   },
   "outputs": [],
   "source": [
    "# print(X_train[targetcol].isnull().sum())\n",
    "# X_train.fillna(X_train[targetcol].mean(),inplace=True)\n",
    "# print(X_train[targetcol].isnull().sum())"
   ]
  },
  {
   "cell_type": "code",
   "execution_count": 34,
   "id": "10467ee6",
   "metadata": {
    "execution": {
     "iopub.execute_input": "2022-11-20T09:36:10.500136Z",
     "iopub.status.busy": "2022-11-20T09:36:10.499701Z",
     "iopub.status.idle": "2022-11-20T09:36:10.507479Z",
     "shell.execute_reply": "2022-11-20T09:36:10.506304Z"
    },
    "papermill": {
     "duration": 0.030566,
     "end_time": "2022-11-20T09:36:10.510829",
     "exception": false,
     "start_time": "2022-11-20T09:36:10.480263",
     "status": "completed"
    },
    "tags": []
   },
   "outputs": [
    {
     "name": "stdout",
     "output_type": "stream",
     "text": [
      "68688    2002.2470\n",
      "68689    1843.3870\n",
      "68690    1735.1178\n",
      "68691    1666.1970\n",
      "68692    1630.3924\n",
      "Name: energy, dtype: float64\n"
     ]
    }
   ],
   "source": [
    "print(val_target[0:5])"
   ]
  },
  {
   "cell_type": "code",
   "execution_count": 35,
   "id": "063b5fa1",
   "metadata": {
    "execution": {
     "iopub.execute_input": "2022-11-20T09:36:10.549738Z",
     "iopub.status.busy": "2022-11-20T09:36:10.549330Z",
     "iopub.status.idle": "2022-11-20T09:36:10.558243Z",
     "shell.execute_reply": "2022-11-20T09:36:10.556522Z"
    },
    "papermill": {
     "duration": 0.031555,
     "end_time": "2022-11-20T09:36:10.561424",
     "exception": false,
     "start_time": "2022-11-20T09:36:10.529869",
     "status": "completed"
    },
    "tags": []
   },
   "outputs": [
    {
     "name": "stdout",
     "output_type": "stream",
     "text": [
      "valid score: 427.29210032008933\n"
     ]
    }
   ],
   "source": [
    "#compute error score on baseline predictions\n",
    "val_score = mean_squared_error(val_target,val_preds_baseline,squared=False)\n",
    "print('valid score:',val_score)"
   ]
  },
  {
   "cell_type": "markdown",
   "id": "34c13742",
   "metadata": {
    "papermill": {
     "duration": 0.017972,
     "end_time": "2022-11-20T09:36:10.598543",
     "exception": false,
     "start_time": "2022-11-20T09:36:10.580571",
     "status": "completed"
    },
    "tags": []
   },
   "source": [
    "UCM"
   ]
  },
  {
   "cell_type": "code",
   "execution_count": 36,
   "id": "077a700b",
   "metadata": {
    "execution": {
     "iopub.execute_input": "2022-11-20T09:36:10.637121Z",
     "iopub.status.busy": "2022-11-20T09:36:10.636710Z",
     "iopub.status.idle": "2022-11-20T09:36:10.643555Z",
     "shell.execute_reply": "2022-11-20T09:36:10.642487Z"
    },
    "papermill": {
     "duration": 0.028951,
     "end_time": "2022-11-20T09:36:10.645803",
     "exception": false,
     "start_time": "2022-11-20T09:36:10.616852",
     "status": "completed"
    },
    "tags": []
   },
   "outputs": [
    {
     "data": {
      "text/plain": [
       "(68688, 18)"
      ]
     },
     "execution_count": 36,
     "metadata": {},
     "output_type": "execute_result"
    }
   ],
   "source": [
    "X_val.shape\n",
    "X_train.shape"
   ]
  },
  {
   "cell_type": "code",
   "execution_count": 37,
   "id": "a8d1de4e",
   "metadata": {
    "execution": {
     "iopub.execute_input": "2022-11-20T09:36:10.685711Z",
     "iopub.status.busy": "2022-11-20T09:36:10.685284Z",
     "iopub.status.idle": "2022-11-20T09:36:11.384405Z",
     "shell.execute_reply": "2022-11-20T09:36:11.383197Z"
    },
    "papermill": {
     "duration": 0.723276,
     "end_time": "2022-11-20T09:36:11.387345",
     "exception": false,
     "start_time": "2022-11-20T09:36:10.664069",
     "status": "completed"
    },
    "tags": []
   },
   "outputs": [],
   "source": [
    "import statsmodels.api as sm"
   ]
  },
  {
   "cell_type": "code",
   "execution_count": 38,
   "id": "8351c6a6",
   "metadata": {
    "execution": {
     "iopub.execute_input": "2022-11-20T09:36:11.427716Z",
     "iopub.status.busy": "2022-11-20T09:36:11.427286Z",
     "iopub.status.idle": "2022-11-20T09:36:11.431703Z",
     "shell.execute_reply": "2022-11-20T09:36:11.430557Z"
    },
    "papermill": {
     "duration": 0.027644,
     "end_time": "2022-11-20T09:36:11.434278",
     "exception": false,
     "start_time": "2022-11-20T09:36:11.406634",
     "status": "completed"
    },
    "tags": []
   },
   "outputs": [],
   "source": [
    "# X_train= X_train.set_index(X_train.datetime).sort_index()\n",
    "# X_val= X_val.set_index(X_val.datetime).sort_index()"
   ]
  },
  {
   "cell_type": "code",
   "execution_count": 39,
   "id": "939bfc88",
   "metadata": {
    "execution": {
     "iopub.execute_input": "2022-11-20T09:36:11.473224Z",
     "iopub.status.busy": "2022-11-20T09:36:11.472759Z",
     "iopub.status.idle": "2022-11-20T09:36:11.478970Z",
     "shell.execute_reply": "2022-11-20T09:36:11.477602Z"
    },
    "papermill": {
     "duration": 0.028482,
     "end_time": "2022-11-20T09:36:11.481270",
     "exception": false,
     "start_time": "2022-11-20T09:36:11.452788",
     "status": "completed"
    },
    "tags": []
   },
   "outputs": [],
   "source": [
    "def get_exog(data):\n",
    "    exog_data =data[['is_weekend','hour']]\n",
    "#     exog_data =data[['is_weekend','month','hour','is_holiday','special_holiday']]\n",
    "    cols = ['hour']\n",
    "    exog_data = pd.get_dummies(exog_data,prefix=cols,columns=cols)\n",
    "    return exog_data.astype('int')"
   ]
  },
  {
   "cell_type": "code",
   "execution_count": 40,
   "id": "8fd57fb9",
   "metadata": {
    "execution": {
     "iopub.execute_input": "2022-11-20T09:36:11.521289Z",
     "iopub.status.busy": "2022-11-20T09:36:11.520349Z",
     "iopub.status.idle": "2022-11-20T09:36:11.573008Z",
     "shell.execute_reply": "2022-11-20T09:36:11.571555Z"
    },
    "papermill": {
     "duration": 0.075443,
     "end_time": "2022-11-20T09:36:11.576044",
     "exception": false,
     "start_time": "2022-11-20T09:36:11.500601",
     "status": "completed"
    },
    "tags": []
   },
   "outputs": [
    {
     "name": "stdout",
     "output_type": "stream",
     "text": [
      "Index(['is_weekend', 'hour_0', 'hour_1', 'hour_2', 'hour_3', 'hour_4',\n",
      "       'hour_5', 'hour_6', 'hour_7', 'hour_8', 'hour_9', 'hour_10', 'hour_11',\n",
      "       'hour_12', 'hour_13', 'hour_14', 'hour_15', 'hour_16', 'hour_17',\n",
      "       'hour_18', 'hour_19', 'hour_20', 'hour_21', 'hour_22', 'hour_23'],\n",
      "      dtype='object')\n"
     ]
    }
   ],
   "source": [
    "exog_train = get_exog(X_train)\n",
    "exog_test = get_exog(X_val)\n",
    "print(exog_train.columns)"
   ]
  },
  {
   "cell_type": "code",
   "execution_count": 41,
   "id": "d24ef166",
   "metadata": {
    "execution": {
     "iopub.execute_input": "2022-11-20T09:36:11.615638Z",
     "iopub.status.busy": "2022-11-20T09:36:11.614493Z",
     "iopub.status.idle": "2022-11-20T09:47:01.728192Z",
     "shell.execute_reply": "2022-11-20T09:47:01.726878Z"
    },
    "papermill": {
     "duration": 650.138706,
     "end_time": "2022-11-20T09:47:01.733373",
     "exception": false,
     "start_time": "2022-11-20T09:36:11.594667",
     "status": "completed"
    },
    "tags": []
   },
   "outputs": [
    {
     "name": "stderr",
     "output_type": "stream",
     "text": [
      "/opt/conda/lib/python3.7/site-packages/statsmodels/tsa/base/tsa_model.py:471: ValueWarning: No frequency information was provided, so inferred frequency N will be used.\n",
      "  self._init_dates(dates, freq)\n"
     ]
    },
    {
     "name": "stdout",
     "output_type": "stream",
     "text": [
      "RUNNING THE L-BFGS-B CODE\n",
      "\n",
      "           * * *\n",
      "\n",
      "Machine precision = 2.220D-16\n",
      " N =           31     M =           10\n",
      "\n",
      "At X0         0 variables are exactly at the bounds\n",
      "\n",
      "At iterate    0    f=  6.69538D+00    |proj g|=  4.78283D-03\n"
     ]
    },
    {
     "name": "stderr",
     "output_type": "stream",
     "text": [
      " This problem is unconstrained.\n"
     ]
    },
    {
     "name": "stdout",
     "output_type": "stream",
     "text": [
      "\n",
      "At iterate    5    f=  5.73510D+00    |proj g|=  2.74141D-03\n",
      "\n",
      "At iterate   10    f=  5.72170D+00    |proj g|=  1.08399D-04\n",
      "\n",
      "At iterate   15    f=  5.72149D+00    |proj g|=  2.78096D-04\n",
      "\n",
      "At iterate   20    f=  5.72035D+00    |proj g|=  3.49265D-04\n",
      "\n",
      "At iterate   25    f=  5.71953D+00    |proj g|=  1.41257D-03\n",
      "\n",
      "At iterate   30    f=  5.71797D+00    |proj g|=  7.27714D-03\n",
      "\n",
      "At iterate   35    f=  5.71763D+00    |proj g|=  1.01750D-03\n",
      "\n",
      "At iterate   40    f=  5.71725D+00    |proj g|=  5.64932D-04\n",
      "\n",
      "At iterate   45    f=  5.71722D+00    |proj g|=  6.53390D-04\n",
      "\n",
      "At iterate   50    f=  5.71722D+00    |proj g|=  1.36541D-04\n",
      "\n",
      "           * * *\n",
      "\n",
      "Tit   = total number of iterations\n",
      "Tnf   = total number of function evaluations\n",
      "Tnint = total number of segments explored during Cauchy searches\n",
      "Skip  = number of BFGS updates skipped\n",
      "Nact  = number of active bounds at final generalized Cauchy point\n",
      "Projg = norm of the final projected gradient\n",
      "F     = final function value\n",
      "\n",
      "           * * *\n",
      "\n",
      "   N    Tit     Tnf  Tnint  Skip  Nact     Projg        F\n",
      "   31     50     71      1     0     0   1.365D-04   5.717D+00\n",
      "  F =   5.7172150015673537     \n",
      "\n",
      "STOP: TOTAL NO. of ITERATIONS REACHED LIMIT                 \n"
     ]
    },
    {
     "name": "stderr",
     "output_type": "stream",
     "text": [
      "/opt/conda/lib/python3.7/site-packages/statsmodels/base/model.py:606: ConvergenceWarning: Maximum Likelihood optimization failed to converge. Check mle_retvals\n",
      "  ConvergenceWarning)\n"
     ]
    },
    {
     "name": "stdout",
     "output_type": "stream",
     "text": [
      "                                 Unobserved Components Results                                 \n",
      "===============================================================================================\n",
      "Dep. Variable:                                  energy   No. Observations:                68688\n",
      "Model:                local linear deterministic trend   Log Likelihood             -392704.064\n",
      "                                + freq_seasonal(24(1))   AIC                         785470.128\n",
      "                               + freq_seasonal(168(1))   BIC                         785753.381\n",
      "                   + stochastic freq_seasonal(8766(2))   HQIC                        785557.566\n",
      "                                               + AR(2)                                         \n",
      "Date:                                 Sun, 20 Nov 2022                                         \n",
      "Time:                                         09:47:00                                         \n",
      "Sample:                                     01-01-1970                                         \n",
      "                                          - 01-01-1970                                         \n",
      "Covariance Type:                                   opg                                         \n",
      "================================================================================================\n",
      "                                   coef    std err          z      P>|z|      [0.025      0.975]\n",
      "------------------------------------------------------------------------------------------------\n",
      "sigma2.irregular                 0.7648    179.803      0.004      0.997    -351.642     353.172\n",
      "sigma2.level                   696.9270   2106.457      0.331      0.741   -3431.653    4825.507\n",
      "sigma2.freq_seasonal_8766(2)   265.1190   1015.049      0.261      0.794   -1724.341    2254.579\n",
      "sigma2.ar                     4097.7654   1160.310      3.532      0.000    1823.599    6371.932\n",
      "ar.L1                            0.6923      0.040     17.272      0.000       0.614       0.771\n",
      "ar.L2                            0.3077      0.040      7.679      0.000       0.229       0.386\n",
      "beta.is_weekend                -20.7285      2.924     -7.089      0.000     -26.460     -14.997\n",
      "beta.hour_0                    -72.4131      1.119    -64.733      0.000     -74.606     -70.221\n",
      "beta.hour_1                   -145.2315      1.069   -135.875      0.000    -147.326    -143.137\n",
      "beta.hour_2                   -188.9600      1.050   -179.954      0.000    -191.018    -186.902\n",
      "beta.hour_3                   -217.2866      1.090   -199.429      0.000    -219.422    -215.151\n",
      "beta.hour_4                   -225.2401      1.123   -200.521      0.000    -227.442    -223.039\n",
      "beta.hour_5                   -213.7155      1.144   -186.739      0.000    -215.959    -211.472\n",
      "beta.hour_6                   -157.6740      1.075   -146.707      0.000    -159.780    -155.567\n",
      "beta.hour_7                    -60.7411      0.995    -61.035      0.000     -62.692     -58.791\n",
      "beta.hour_8                      7.5978      1.015      7.487      0.000       5.609       9.587\n",
      "beta.hour_9                     39.5327      0.932     42.414      0.000      37.706      41.359\n",
      "beta.hour_10                    61.6879      0.924     66.727      0.000      59.876      63.500\n",
      "beta.hour_11                    78.7635      0.971     81.080      0.000      76.860      80.667\n",
      "beta.hour_12                    83.2305      1.038     80.213      0.000      81.197      85.264\n",
      "beta.hour_13                    85.6994      1.128     75.945      0.000      83.488      87.911\n",
      "beta.hour_14                    88.1695      1.182     74.622      0.000      85.854      90.485\n",
      "beta.hour_15                    80.1164      1.235     64.888      0.000      77.697      82.536\n",
      "beta.hour_16                    73.9249      1.310     56.442      0.000      71.358      76.492\n",
      "beta.hour_17                    84.7824      1.250     67.801      0.000      82.332      87.233\n",
      "beta.hour_18                   108.2348      1.100     98.409      0.000     106.079     110.390\n",
      "beta.hour_19                   124.8193      1.083    115.230      0.000     122.696     126.942\n",
      "beta.hour_20                   124.4752      1.089    114.347      0.000     122.342     126.609\n",
      "beta.hour_21                   123.3540      1.111    110.984      0.000     121.176     125.532\n",
      "beta.hour_22                   103.8220      1.196     86.810      0.000     101.478     106.166\n",
      "beta.hour_23                    27.8871      1.183     23.571      0.000      25.568      30.206\n",
      "===================================================================================\n",
      "Ljung-Box (L1) (Q):                   0.19   Jarque-Bera (JB):           2249844.33\n",
      "Prob(Q):                              0.66   Prob(JB):                         0.00\n",
      "Heteroskedasticity (H):               1.18   Skew:                             0.22\n",
      "Prob(H) (two-sided):                  0.00   Kurtosis:                        31.04\n",
      "===================================================================================\n",
      "\n",
      "Warnings:\n",
      "[1] Covariance matrix calculated using the outer product of gradients (complex-step).\n",
      "[2] Covariance matrix is singular or near-singular, with condition number 3.2e+23. Standard errors may be unstable.\n",
      "\n",
      "In-sample mean absolute error (MAE): 42, In-sample root mean squared error (RMSE): 74\n",
      "CPU times: user 16min 22s, sys: 8min 24s, total: 24min 46s\n",
      "Wall time: 10min 50s\n"
     ]
    }
   ],
   "source": [
    "%%time\n",
    "#splitting time series to train and test subsets\n",
    "y_train = X_train[targetcol].copy()\n",
    "y_test = X_val[targetcol].copy()\n",
    "\n",
    "# exog_train = X_train[['is_weekend','month','hour','is_holiday','special_holiday']].astype('int')\n",
    "# exog_test = X_val[['is_weekend','month','hour','is_holiday','special_holiday']].astype('int')\n",
    "\n",
    "#Unobserved Components model definition\n",
    "model_UC1 = sm.tsa.UnobservedComponents(y_train,\n",
    "                                        autoregressive=2,\n",
    "                                        level='lldtrend',\n",
    "                                        exog=exog_train,\n",
    "                                        cycle=False,\n",
    "                                        irregular=False,\n",
    "                                        stochastic_level = False,\n",
    "                                        stochastic_trend = False,\n",
    "                                        stochastic_freq_seasonal = [False,False,True],\n",
    "#                                         seasonal_period =24,\n",
    "                                        freq_seasonal=[{'period': 24, 'harmonics': 1},\n",
    "                                                       {'period': 168, 'harmonics': 1},\n",
    "#                                                        {'period': 5040, 'harmonics': 1},\n",
    "                                                       {'period': 8766, 'harmonics': 2}\n",
    "                                                      ]\n",
    "                                       )\n",
    "#fitting model to train data\n",
    "model_UC1res = model_UC1.fit()\n",
    "\n",
    "#printing statsmodels summary for model\n",
    "print(model_UC1res.summary())\n",
    "\n",
    "print(\"\")\n",
    "\n",
    "#calculating mean absolute error and root mean squared error for in-sample prediction of model\n",
    "print(f\"In-sample mean absolute error (MAE): {'%.0f' % model_UC1res.mae}, In-sample root mean squared error (RMSE): {'%.0f' % np.sqrt(model_UC1res.mse)}\")\n",
    "\n",
    "#model forecast"
   ]
  },
  {
   "cell_type": "code",
   "execution_count": 42,
   "id": "832a347f",
   "metadata": {
    "execution": {
     "iopub.execute_input": "2022-11-20T09:47:01.806797Z",
     "iopub.status.busy": "2022-11-20T09:47:01.805632Z",
     "iopub.status.idle": "2022-11-20T09:47:02.688667Z",
     "shell.execute_reply": "2022-11-20T09:47:02.687396Z"
    },
    "papermill": {
     "duration": 0.921245,
     "end_time": "2022-11-20T09:47:02.691147",
     "exception": false,
     "start_time": "2022-11-20T09:47:01.769902",
     "status": "completed"
    },
    "tags": []
   },
   "outputs": [
    {
     "name": "stdout",
     "output_type": "stream",
     "text": [
      "valid score: 259.2196756937167\n"
     ]
    }
   ],
   "source": [
    "forecast_UC1 = model_UC1res.forecast(steps=26304,exog=exog_test)\n",
    "#calculating root mean squared error\n",
    "RMSE_UC1 = mean_squared_error(y_test,forecast_UC1,squared=False)\n",
    "print('valid score:',RMSE_UC1)"
   ]
  },
  {
   "cell_type": "code",
   "execution_count": 43,
   "id": "85a3b6be",
   "metadata": {
    "execution": {
     "iopub.execute_input": "2022-11-20T09:47:02.736422Z",
     "iopub.status.busy": "2022-11-20T09:47:02.735709Z",
     "iopub.status.idle": "2022-11-20T09:47:02.740105Z",
     "shell.execute_reply": "2022-11-20T09:47:02.738944Z"
    },
    "papermill": {
     "duration": 0.029904,
     "end_time": "2022-11-20T09:47:02.742704",
     "exception": false,
     "start_time": "2022-11-20T09:47:02.712800",
     "status": "completed"
    },
    "tags": []
   },
   "outputs": [],
   "source": [
    "# 2*4"
   ]
  },
  {
   "cell_type": "code",
   "execution_count": 44,
   "id": "e813d811",
   "metadata": {
    "execution": {
     "iopub.execute_input": "2022-11-20T09:47:02.788226Z",
     "iopub.status.busy": "2022-11-20T09:47:02.787793Z",
     "iopub.status.idle": "2022-11-20T09:47:02.793759Z",
     "shell.execute_reply": "2022-11-20T09:47:02.791804Z"
    },
    "papermill": {
     "duration": 0.03167,
     "end_time": "2022-11-20T09:47:02.796650",
     "exception": false,
     "start_time": "2022-11-20T09:47:02.764980",
     "status": "completed"
    },
    "tags": []
   },
   "outputs": [],
   "source": [
    "# val_dummies = forecast_UC1.copy()"
   ]
  },
  {
   "cell_type": "code",
   "execution_count": 45,
   "id": "3eeaa448",
   "metadata": {
    "execution": {
     "iopub.execute_input": "2022-11-20T09:47:02.841245Z",
     "iopub.status.busy": "2022-11-20T09:47:02.838716Z",
     "iopub.status.idle": "2022-11-20T09:47:02.845011Z",
     "shell.execute_reply": "2022-11-20T09:47:02.843995Z"
    },
    "papermill": {
     "duration": 0.030347,
     "end_time": "2022-11-20T09:47:02.847364",
     "exception": false,
     "start_time": "2022-11-20T09:47:02.817017",
     "status": "completed"
    },
    "tags": []
   },
   "outputs": [],
   "source": [
    "import joblib"
   ]
  },
  {
   "cell_type": "code",
   "execution_count": 46,
   "id": "c320b79c",
   "metadata": {
    "execution": {
     "iopub.execute_input": "2022-11-20T09:47:02.891498Z",
     "iopub.status.busy": "2022-11-20T09:47:02.890385Z",
     "iopub.status.idle": "2022-11-20T09:48:19.090082Z",
     "shell.execute_reply": "2022-11-20T09:48:19.088514Z"
    },
    "papermill": {
     "duration": 76.224777,
     "end_time": "2022-11-20T09:48:19.093085",
     "exception": false,
     "start_time": "2022-11-20T09:47:02.868308",
     "status": "completed"
    },
    "tags": []
   },
   "outputs": [],
   "source": [
    "np.save('val_forecast_UC.npy',forecast_UC1)\n",
    "joblib.dump(model_UC1res,'UC_model_val.pkl',compress=True)\n",
    "X_val.to_csv('X_val.csv',index=False)"
   ]
  },
  {
   "cell_type": "code",
   "execution_count": 47,
   "id": "e19d3423",
   "metadata": {
    "execution": {
     "iopub.execute_input": "2022-11-20T09:48:19.138492Z",
     "iopub.status.busy": "2022-11-20T09:48:19.138094Z",
     "iopub.status.idle": "2022-11-20T09:48:19.150853Z",
     "shell.execute_reply": "2022-11-20T09:48:19.149678Z"
    },
    "papermill": {
     "duration": 0.037643,
     "end_time": "2022-11-20T09:48:19.153393",
     "exception": false,
     "start_time": "2022-11-20T09:48:19.115750",
     "status": "completed"
    },
    "tags": []
   },
   "outputs": [
    {
     "data": {
      "text/plain": [
       "count    26304.000000\n",
       "mean      2060.590990\n",
       "std        223.565571\n",
       "min       1434.313735\n",
       "25%       1908.034715\n",
       "50%       2061.884485\n",
       "75%       2224.323280\n",
       "max       2615.033293\n",
       "Name: predicted_mean, dtype: float64"
      ]
     },
     "execution_count": 47,
     "metadata": {},
     "output_type": "execute_result"
    }
   ],
   "source": [
    "pd.Series(forecast_UC1.describe())"
   ]
  },
  {
   "cell_type": "code",
   "execution_count": 48,
   "id": "d813109f",
   "metadata": {
    "execution": {
     "iopub.execute_input": "2022-11-20T09:48:19.197530Z",
     "iopub.status.busy": "2022-11-20T09:48:19.197116Z",
     "iopub.status.idle": "2022-11-20T09:48:19.202119Z",
     "shell.execute_reply": "2022-11-20T09:48:19.200784Z"
    },
    "papermill": {
     "duration": 0.030066,
     "end_time": "2022-11-20T09:48:19.205050",
     "exception": false,
     "start_time": "2022-11-20T09:48:19.174984",
     "status": "completed"
    },
    "tags": []
   },
   "outputs": [],
   "source": [
    "# pred_diff = y_test.values-forecast_UC1.reset_index(drop=True)\n",
    "# print(pd.Series(pred_diff).describe())\n",
    "# pd.Series(pred_diff.abs()).describe()"
   ]
  },
  {
   "cell_type": "code",
   "execution_count": 49,
   "id": "220968ed",
   "metadata": {
    "execution": {
     "iopub.execute_input": "2022-11-20T09:48:19.248915Z",
     "iopub.status.busy": "2022-11-20T09:48:19.247683Z",
     "iopub.status.idle": "2022-11-20T09:48:19.252847Z",
     "shell.execute_reply": "2022-11-20T09:48:19.251977Z"
    },
    "papermill": {
     "duration": 0.029164,
     "end_time": "2022-11-20T09:48:19.255268",
     "exception": false,
     "start_time": "2022-11-20T09:48:19.226104",
     "status": "completed"
    },
    "tags": []
   },
   "outputs": [],
   "source": [
    "# mask1 = (pred_diff <-100)\n",
    "# mask =  mask1 & (X_val.reset_index()['year']==2018) & (X_val.reset_index()['month']>0)\n",
    "# print(pred_diff[mask1].shape)\n",
    "# print(pred_diff[mask].shape)\n",
    "# X_val.reset_index().loc[mask,'hour'].value_counts()"
   ]
  },
  {
   "cell_type": "code",
   "execution_count": 50,
   "id": "5718e653",
   "metadata": {
    "execution": {
     "iopub.execute_input": "2022-11-20T09:48:19.301222Z",
     "iopub.status.busy": "2022-11-20T09:48:19.299879Z",
     "iopub.status.idle": "2022-11-20T09:48:19.306029Z",
     "shell.execute_reply": "2022-11-20T09:48:19.304600Z"
    },
    "papermill": {
     "duration": 0.031764,
     "end_time": "2022-11-20T09:48:19.308699",
     "exception": false,
     "start_time": "2022-11-20T09:48:19.276935",
     "status": "completed"
    },
    "tags": []
   },
   "outputs": [],
   "source": [
    "# from sklearn.preprocessing import MinMaxScaler\n",
    "# import tensorflow as tf\n",
    "# import os"
   ]
  },
  {
   "cell_type": "code",
   "execution_count": 51,
   "id": "22968df1",
   "metadata": {
    "execution": {
     "iopub.execute_input": "2022-11-20T09:48:19.357269Z",
     "iopub.status.busy": "2022-11-20T09:48:19.356829Z",
     "iopub.status.idle": "2022-11-20T09:48:19.363770Z",
     "shell.execute_reply": "2022-11-20T09:48:19.362124Z"
    },
    "papermill": {
     "duration": 0.03401,
     "end_time": "2022-11-20T09:48:19.366192",
     "exception": false,
     "start_time": "2022-11-20T09:48:19.332182",
     "status": "completed"
    },
    "tags": []
   },
   "outputs": [],
   "source": [
    "# create a differenced series\n",
    "def difference(dataset, interval=1):\n",
    "    diff = list()\n",
    "    for i in range(interval, len(dataset)):\n",
    "        value = dataset[i] - dataset[i - interval]\n",
    "        diff.append(value)\n",
    "    return pd.Series(diff)"
   ]
  },
  {
   "cell_type": "code",
   "execution_count": 52,
   "id": "184e7d6b",
   "metadata": {
    "execution": {
     "iopub.execute_input": "2022-11-20T09:48:19.412141Z",
     "iopub.status.busy": "2022-11-20T09:48:19.411707Z",
     "iopub.status.idle": "2022-11-20T09:48:19.416875Z",
     "shell.execute_reply": "2022-11-20T09:48:19.415604Z"
    },
    "papermill": {
     "duration": 0.031322,
     "end_time": "2022-11-20T09:48:19.419110",
     "exception": false,
     "start_time": "2022-11-20T09:48:19.387788",
     "status": "completed"
    },
    "tags": []
   },
   "outputs": [],
   "source": [
    "import matplotlib.pyplot as plt"
   ]
  },
  {
   "cell_type": "markdown",
   "id": "5de9aef0",
   "metadata": {
    "papermill": {
     "duration": 0.020734,
     "end_time": "2022-11-20T09:48:19.463681",
     "exception": false,
     "start_time": "2022-11-20T09:48:19.442947",
     "status": "completed"
    },
    "tags": []
   },
   "source": [
    "UC for Test Prediction"
   ]
  },
  {
   "cell_type": "code",
   "execution_count": 53,
   "id": "0d185798",
   "metadata": {
    "execution": {
     "iopub.execute_input": "2022-11-20T09:48:19.511300Z",
     "iopub.status.busy": "2022-11-20T09:48:19.510871Z",
     "iopub.status.idle": "2022-11-20T09:48:19.567861Z",
     "shell.execute_reply": "2022-11-20T09:48:19.565813Z"
    },
    "papermill": {
     "duration": 0.086553,
     "end_time": "2022-11-20T09:48:19.572423",
     "exception": false,
     "start_time": "2022-11-20T09:48:19.485870",
     "status": "completed"
    },
    "tags": []
   },
   "outputs": [
    {
     "name": "stdout",
     "output_type": "stream",
     "text": [
      "Index(['is_weekend', 'hour_0', 'hour_1', 'hour_2', 'hour_3', 'hour_4',\n",
      "       'hour_5', 'hour_6', 'hour_7', 'hour_8', 'hour_9', 'hour_10', 'hour_11',\n",
      "       'hour_12', 'hour_13', 'hour_14', 'hour_15', 'hour_16', 'hour_17',\n",
      "       'hour_18', 'hour_19', 'hour_20', 'hour_21', 'hour_22', 'hour_23'],\n",
      "      dtype='object')\n"
     ]
    }
   ],
   "source": [
    "exog_train_full = get_exog(train)\n",
    "exog_test_full = get_exog(test)\n",
    "print(exog_train.columns)"
   ]
  },
  {
   "cell_type": "code",
   "execution_count": 54,
   "id": "72b98fd6",
   "metadata": {
    "execution": {
     "iopub.execute_input": "2022-11-20T09:48:19.618086Z",
     "iopub.status.busy": "2022-11-20T09:48:19.616974Z",
     "iopub.status.idle": "2022-11-20T10:02:40.724439Z",
     "shell.execute_reply": "2022-11-20T10:02:40.723057Z"
    },
    "papermill": {
     "duration": 861.135688,
     "end_time": "2022-11-20T10:02:40.730139",
     "exception": false,
     "start_time": "2022-11-20T09:48:19.594451",
     "status": "completed"
    },
    "tags": []
   },
   "outputs": [
    {
     "name": "stderr",
     "output_type": "stream",
     "text": [
      "/opt/conda/lib/python3.7/site-packages/statsmodels/tsa/base/tsa_model.py:471: ValueWarning: No frequency information was provided, so inferred frequency N will be used.\n",
      "  self._init_dates(dates, freq)\n"
     ]
    },
    {
     "name": "stdout",
     "output_type": "stream",
     "text": [
      "RUNNING THE L-BFGS-B CODE\n",
      "\n",
      "           * * *\n",
      "\n",
      "Machine precision = 2.220D-16\n",
      " N =           31     M =           10\n",
      "\n",
      "At X0         0 variables are exactly at the bounds\n",
      "\n",
      "At iterate    0    f=  6.82442D+00    |proj g|=  4.92763D-03\n"
     ]
    },
    {
     "name": "stderr",
     "output_type": "stream",
     "text": [
      " This problem is unconstrained.\n"
     ]
    },
    {
     "name": "stdout",
     "output_type": "stream",
     "text": [
      "\n",
      "At iterate    5    f=  5.88391D+00    |proj g|=  4.60890D-03\n",
      "\n",
      "At iterate   10    f=  5.80199D+00    |proj g|=  1.00744D-04\n",
      "\n",
      "At iterate   15    f=  5.80149D+00    |proj g|=  1.03074D-03\n",
      "\n",
      "At iterate   20    f=  5.80017D+00    |proj g|=  2.42621D-04\n",
      "\n",
      "At iterate   25    f=  5.79872D+00    |proj g|=  4.50485D-03\n",
      "\n",
      "At iterate   30    f=  5.79844D+00    |proj g|=  1.09493D-04\n",
      "\n",
      "At iterate   35    f=  5.79830D+00    |proj g|=  5.59563D-05\n",
      "\n",
      "At iterate   40    f=  5.79816D+00    |proj g|=  2.32364D-03\n",
      "\n",
      "At iterate   45    f=  5.79797D+00    |proj g|=  3.47766D-04\n"
     ]
    },
    {
     "name": "stderr",
     "output_type": "stream",
     "text": [
      "/opt/conda/lib/python3.7/site-packages/statsmodels/base/model.py:606: ConvergenceWarning: Maximum Likelihood optimization failed to converge. Check mle_retvals\n",
      "  ConvergenceWarning)\n"
     ]
    },
    {
     "name": "stdout",
     "output_type": "stream",
     "text": [
      "\n",
      "At iterate   50    f=  5.79792D+00    |proj g|=  4.15484D-04\n",
      "\n",
      "           * * *\n",
      "\n",
      "Tit   = total number of iterations\n",
      "Tnf   = total number of function evaluations\n",
      "Tnint = total number of segments explored during Cauchy searches\n",
      "Skip  = number of BFGS updates skipped\n",
      "Nact  = number of active bounds at final generalized Cauchy point\n",
      "Projg = norm of the final projected gradient\n",
      "F     = final function value\n",
      "\n",
      "           * * *\n",
      "\n",
      "   N    Tit     Tnf  Tnint  Skip  Nact     Projg        F\n",
      "   31     50     72      1     0     0   4.155D-04   5.798D+00\n",
      "  F =   5.7979249838109217     \n",
      "\n",
      "STOP: TOTAL NO. of ITERATIONS REACHED LIMIT                 \n",
      "                                 Unobserved Components Results                                 \n",
      "===============================================================================================\n",
      "Dep. Variable:                                  energy   No. Observations:                94992\n",
      "Model:                local linear deterministic trend   Log Likelihood             -550756.490\n",
      "                                + freq_seasonal(24(1))   AIC                        1101574.980\n",
      "                               + freq_seasonal(168(1))   BIC                        1101868.285\n",
      "                   + stochastic freq_seasonal(8766(2))   HQIC                       1101664.197\n",
      "                                               + AR(2)                                         \n",
      "Date:                                 Sun, 20 Nov 2022                                         \n",
      "Time:                                         10:02:38                                         \n",
      "Sample:                                     01-01-1970                                         \n",
      "                                          - 01-01-1970                                         \n",
      "Covariance Type:                                   opg                                         \n",
      "================================================================================================\n",
      "                                   coef    std err          z      P>|z|      [0.025      0.975]\n",
      "------------------------------------------------------------------------------------------------\n",
      "sigma2.irregular               186.1456    146.788      1.268      0.205    -101.554     473.845\n",
      "sigma2.level                  1565.8340    637.914      2.455      0.014     315.545    2816.123\n",
      "sigma2.freq_seasonal_8766(2)     0.4313     31.087      0.014      0.989     -60.498      61.361\n",
      "sigma2.ar                     4409.5853    928.488      4.749      0.000    2589.783    6229.388\n",
      "ar.L1                            0.6891      0.030     23.106      0.000       0.631       0.748\n",
      "ar.L2                            0.3109      0.030     10.425      0.000       0.252       0.369\n",
      "beta.is_weekend                -20.1528      3.023     -6.666      0.000     -26.078     -14.227\n",
      "beta.hour_0                    -77.1243      1.193    -64.656      0.000     -79.462     -74.786\n",
      "beta.hour_1                   -154.5805      1.131   -136.700      0.000    -156.797    -152.364\n",
      "beta.hour_2                   -200.1691      1.084   -184.713      0.000    -202.293    -198.045\n",
      "beta.hour_3                   -228.0478      1.101   -207.164      0.000    -230.205    -225.890\n",
      "beta.hour_4                   -235.4298      1.110   -212.007      0.000    -237.606    -233.253\n",
      "beta.hour_5                   -222.2488      1.112   -199.908      0.000    -224.428    -220.070\n",
      "beta.hour_6                   -162.4761      1.035   -157.027      0.000    -164.504    -160.448\n",
      "beta.hour_7                    -59.7952      0.987    -60.588      0.000     -61.729     -57.861\n",
      "beta.hour_8                     10.3836      1.010     10.280      0.000       8.404      12.363\n",
      "beta.hour_9                     42.2800      0.970     43.566      0.000      40.378      44.182\n",
      "beta.hour_10                    66.2499      0.974     68.042      0.000      64.342      68.158\n",
      "beta.hour_11                    84.2747      0.982     85.785      0.000      82.349      86.200\n",
      "beta.hour_12                    86.3447      0.982     87.907      0.000      84.420      88.270\n",
      "beta.hour_13                    89.5990      1.025     87.374      0.000      87.589      91.609\n",
      "beta.hour_14                    90.9218      1.051     86.551      0.000      88.863      92.981\n",
      "beta.hour_15                    83.4182      1.074     77.660      0.000      81.313      85.523\n",
      "beta.hour_16                    75.7431      1.084     69.896      0.000      73.619      77.867\n",
      "beta.hour_17                    88.4358      1.059     83.519      0.000      86.360      90.511\n",
      "beta.hour_18                   113.2638      0.963    117.609      0.000     111.376     115.151\n",
      "beta.hour_19                   130.6336      0.971    134.533      0.000     128.730     132.537\n",
      "beta.hour_20                   129.7367      1.001    129.599      0.000     127.775     131.699\n",
      "beta.hour_21                   130.8522      1.051    124.490      0.000     128.792     132.912\n",
      "beta.hour_22                   106.9793      1.153     92.785      0.000     104.720     109.239\n",
      "beta.hour_23                    25.8707      1.222     21.171      0.000      23.476      28.266\n",
      "===================================================================================\n",
      "Ljung-Box (L1) (Q):                   0.27   Jarque-Bera (JB):           4615797.43\n",
      "Prob(Q):                              0.60   Prob(JB):                         0.00\n",
      "Heteroskedasticity (H):               1.67   Skew:                            -0.71\n",
      "Prob(H) (two-sided):                  0.00   Kurtosis:                        37.12\n",
      "===================================================================================\n",
      "\n",
      "Warnings:\n",
      "[1] Covariance matrix calculated using the outer product of gradients (complex-step).\n",
      "[2] Covariance matrix is singular or near-singular, with condition number 3.03e+22. Standard errors may be unstable.\n",
      "\n",
      "In-sample mean absolute error (MAE): 45, In-sample root mean squared error (RMSE): 80\n",
      "CPU times: user 19min 59s, sys: 8min 32s, total: 28min 31s\n",
      "Wall time: 14min 21s\n"
     ]
    }
   ],
   "source": [
    "%%time\n",
    "#splitting time series to train and test subsets\n",
    "y_train_full = train[targetcol].copy()\n",
    "\n",
    "# exog_train_full = train[['is_weekend','month','hour','is_holiday','special_holiday']].astype('int')\n",
    "# exog_test_full = test[['is_weekend','month','hour','is_holiday','special_holiday']].astype('int')\n",
    "\n",
    "#Unobserved Components model definition\n",
    "model_UC_full = sm.tsa.UnobservedComponents(y_train_full,\n",
    "                                        autoregressive=2,\n",
    "                                        level='lldtrend',\n",
    "                                        exog=exog_train_full,\n",
    "                                        cycle=False,\n",
    "                                        irregular=False,\n",
    "                                        stochastic_level = False,\n",
    "                                        stochastic_trend = False,\n",
    "                                        stochastic_freq_seasonal = [False,False,True],\n",
    "#                                         seasonal_period =24,\n",
    "                                        freq_seasonal=[{'period': 24, 'harmonics': 1},\n",
    "                                                       {'period': 168, 'harmonics': 1},\n",
    "#                                                        {'period': 5040, 'harmonics': 1},\n",
    "                                                       {'period': 8766, 'harmonics': 2}\n",
    "                                                      ]\n",
    "                                       )\n",
    "#fitting model to train data\n",
    "model_UC_full_res = model_UC_full.fit()\n",
    "\n",
    "#printing statsmodels summary for model\n",
    "print(model_UC_full_res.summary())\n",
    "\n",
    "print(\"\")\n",
    "\n",
    "#calculating mean absolute error and root mean squared error for in-sample prediction of model\n",
    "print(f\"In-sample mean absolute error (MAE): {'%.0f' % model_UC_full_res.mae}, In-sample root mean squared error (RMSE): {'%.0f' % np.sqrt(model_UC_full_res.mse)}\")"
   ]
  },
  {
   "cell_type": "code",
   "execution_count": 55,
   "id": "7014c9c8",
   "metadata": {
    "execution": {
     "iopub.execute_input": "2022-11-20T10:02:40.800781Z",
     "iopub.status.busy": "2022-11-20T10:02:40.799794Z",
     "iopub.status.idle": "2022-11-20T10:02:41.653031Z",
     "shell.execute_reply": "2022-11-20T10:02:41.651949Z"
    },
    "papermill": {
     "duration": 0.890584,
     "end_time": "2022-11-20T10:02:41.656059",
     "exception": false,
     "start_time": "2022-11-20T10:02:40.765475",
     "status": "completed"
    },
    "tags": []
   },
   "outputs": [],
   "source": [
    "#Predict Test Set\n",
    "forecast_UC_test = model_UC_full_res.forecast(steps=26304,exog=exog_test_full)"
   ]
  },
  {
   "cell_type": "code",
   "execution_count": 56,
   "id": "35d33c0e",
   "metadata": {
    "execution": {
     "iopub.execute_input": "2022-11-20T10:02:41.705114Z",
     "iopub.status.busy": "2022-11-20T10:02:41.704671Z",
     "iopub.status.idle": "2022-11-20T10:04:26.191383Z",
     "shell.execute_reply": "2022-11-20T10:04:26.190164Z"
    },
    "papermill": {
     "duration": 104.538043,
     "end_time": "2022-11-20T10:04:26.215520",
     "exception": false,
     "start_time": "2022-11-20T10:02:41.677477",
     "status": "completed"
    },
    "tags": []
   },
   "outputs": [
    {
     "data": {
      "text/plain": [
       "['UC_model_full.pkl']"
      ]
     },
     "execution_count": 56,
     "metadata": {},
     "output_type": "execute_result"
    }
   ],
   "source": [
    "joblib.dump(model_UC_full_res,'UC_model_full.pkl',compress=True)"
   ]
  },
  {
   "cell_type": "code",
   "execution_count": 57,
   "id": "5af5e446",
   "metadata": {
    "execution": {
     "iopub.execute_input": "2022-11-20T10:04:26.260765Z",
     "iopub.status.busy": "2022-11-20T10:04:26.260355Z",
     "iopub.status.idle": "2022-11-20T10:04:26.266237Z",
     "shell.execute_reply": "2022-11-20T10:04:26.264921Z"
    },
    "papermill": {
     "duration": 0.03247,
     "end_time": "2022-11-20T10:04:26.269844",
     "exception": false,
     "start_time": "2022-11-20T10:04:26.237374",
     "status": "completed"
    },
    "tags": []
   },
   "outputs": [
    {
     "name": "stdout",
     "output_type": "stream",
     "text": [
      "26304 26304\n"
     ]
    }
   ],
   "source": [
    "print(len(test),len(forecast_UC_test))"
   ]
  },
  {
   "cell_type": "code",
   "execution_count": 58,
   "id": "1d2eafd0",
   "metadata": {
    "execution": {
     "iopub.execute_input": "2022-11-20T10:04:26.316695Z",
     "iopub.status.busy": "2022-11-20T10:04:26.316281Z",
     "iopub.status.idle": "2022-11-20T10:04:26.324592Z",
     "shell.execute_reply": "2022-11-20T10:04:26.323777Z"
    },
    "papermill": {
     "duration": 0.033664,
     "end_time": "2022-11-20T10:04:26.326689",
     "exception": false,
     "start_time": "2022-11-20T10:04:26.293025",
     "status": "completed"
    },
    "tags": []
   },
   "outputs": [
    {
     "data": {
      "text/plain": [
       "DatetimeIndex(['1970-01-01 00:00:00.000094992',\n",
       "               '1970-01-01 00:00:00.000094993',\n",
       "               '1970-01-01 00:00:00.000094994',\n",
       "               '1970-01-01 00:00:00.000094995',\n",
       "               '1970-01-01 00:00:00.000094996',\n",
       "               '1970-01-01 00:00:00.000094997',\n",
       "               '1970-01-01 00:00:00.000094998',\n",
       "               '1970-01-01 00:00:00.000094999',\n",
       "                  '1970-01-01 00:00:00.000095',\n",
       "               '1970-01-01 00:00:00.000095001',\n",
       "               ...\n",
       "               '1970-01-01 00:00:00.000121286',\n",
       "               '1970-01-01 00:00:00.000121287',\n",
       "               '1970-01-01 00:00:00.000121288',\n",
       "               '1970-01-01 00:00:00.000121289',\n",
       "               '1970-01-01 00:00:00.000121290',\n",
       "               '1970-01-01 00:00:00.000121291',\n",
       "               '1970-01-01 00:00:00.000121292',\n",
       "               '1970-01-01 00:00:00.000121293',\n",
       "               '1970-01-01 00:00:00.000121294',\n",
       "               '1970-01-01 00:00:00.000121295'],\n",
       "              dtype='datetime64[ns]', length=26304, freq='N')"
      ]
     },
     "execution_count": 58,
     "metadata": {},
     "output_type": "execute_result"
    }
   ],
   "source": [
    "forecast_UC_test.index"
   ]
  },
  {
   "cell_type": "code",
   "execution_count": 59,
   "id": "9df99f9f",
   "metadata": {
    "execution": {
     "iopub.execute_input": "2022-11-20T10:04:26.371709Z",
     "iopub.status.busy": "2022-11-20T10:04:26.371309Z",
     "iopub.status.idle": "2022-11-20T10:04:26.384165Z",
     "shell.execute_reply": "2022-11-20T10:04:26.382942Z"
    },
    "papermill": {
     "duration": 0.038346,
     "end_time": "2022-11-20T10:04:26.386706",
     "exception": false,
     "start_time": "2022-11-20T10:04:26.348360",
     "status": "completed"
    },
    "tags": []
   },
   "outputs": [
    {
     "data": {
      "text/plain": [
       "count    26304.000000\n",
       "mean      2255.913112\n",
       "std        221.983456\n",
       "min       1617.137830\n",
       "25%       2104.827323\n",
       "50%       2259.719179\n",
       "75%       2415.184428\n",
       "max       2827.322343\n",
       "Name: predicted_mean, dtype: float64"
      ]
     },
     "execution_count": 59,
     "metadata": {},
     "output_type": "execute_result"
    }
   ],
   "source": [
    "pd.Series(forecast_UC_test).describe()"
   ]
  },
  {
   "cell_type": "code",
   "execution_count": 60,
   "id": "eaa8e56d",
   "metadata": {
    "execution": {
     "iopub.execute_input": "2022-11-20T10:04:26.432244Z",
     "iopub.status.busy": "2022-11-20T10:04:26.431829Z",
     "iopub.status.idle": "2022-11-20T10:04:26.495179Z",
     "shell.execute_reply": "2022-11-20T10:04:26.493665Z"
    },
    "papermill": {
     "duration": 0.089977,
     "end_time": "2022-11-20T10:04:26.498907",
     "exception": false,
     "start_time": "2022-11-20T10:04:26.408930",
     "status": "completed"
    },
    "tags": []
   },
   "outputs": [],
   "source": [
    "subm = pd.DataFrame()\n",
    "subm['row_id'] = test['row_id']\n",
    "subm[targetcol]=forecast_UC_test.values\n",
    "subm.to_csv('submission.csv',index=False)"
   ]
  },
  {
   "cell_type": "code",
   "execution_count": 61,
   "id": "658cd57e",
   "metadata": {
    "execution": {
     "iopub.execute_input": "2022-11-20T10:04:26.545521Z",
     "iopub.status.busy": "2022-11-20T10:04:26.545053Z",
     "iopub.status.idle": "2022-11-20T10:04:26.565587Z",
     "shell.execute_reply": "2022-11-20T10:04:26.564501Z"
    },
    "papermill": {
     "duration": 0.04672,
     "end_time": "2022-11-20T10:04:26.568008",
     "exception": false,
     "start_time": "2022-11-20T10:04:26.521288",
     "status": "completed"
    },
    "tags": []
   },
   "outputs": [
    {
     "data": {
      "text/html": [
       "<div>\n",
       "<style scoped>\n",
       "    .dataframe tbody tr th:only-of-type {\n",
       "        vertical-align: middle;\n",
       "    }\n",
       "\n",
       "    .dataframe tbody tr th {\n",
       "        vertical-align: top;\n",
       "    }\n",
       "\n",
       "    .dataframe thead th {\n",
       "        text-align: right;\n",
       "    }\n",
       "</style>\n",
       "<table border=\"1\" class=\"dataframe\">\n",
       "  <thead>\n",
       "    <tr style=\"text-align: right;\">\n",
       "      <th></th>\n",
       "      <th>row_id</th>\n",
       "      <th>energy</th>\n",
       "    </tr>\n",
       "  </thead>\n",
       "  <tbody>\n",
       "    <tr>\n",
       "      <th>0</th>\n",
       "      <td>94993</td>\n",
       "      <td>2094.054174</td>\n",
       "    </tr>\n",
       "    <tr>\n",
       "      <th>1</th>\n",
       "      <td>94994</td>\n",
       "      <td>2009.154000</td>\n",
       "    </tr>\n",
       "    <tr>\n",
       "      <th>2</th>\n",
       "      <td>94995</td>\n",
       "      <td>1964.350686</td>\n",
       "    </tr>\n",
       "    <tr>\n",
       "      <th>3</th>\n",
       "      <td>94996</td>\n",
       "      <td>1936.391871</td>\n",
       "    </tr>\n",
       "    <tr>\n",
       "      <th>4</th>\n",
       "      <td>94997</td>\n",
       "      <td>1931.100313</td>\n",
       "    </tr>\n",
       "  </tbody>\n",
       "</table>\n",
       "</div>"
      ],
      "text/plain": [
       "   row_id       energy\n",
       "0   94993  2094.054174\n",
       "1   94994  2009.154000\n",
       "2   94995  1964.350686\n",
       "3   94996  1936.391871\n",
       "4   94997  1931.100313"
      ]
     },
     "execution_count": 61,
     "metadata": {},
     "output_type": "execute_result"
    }
   ],
   "source": [
    "#check saved submission data\n",
    "pd.read_csv('submission.csv').head()"
   ]
  },
  {
   "cell_type": "code",
   "execution_count": 62,
   "id": "06cd93a3",
   "metadata": {
    "execution": {
     "iopub.execute_input": "2022-11-20T10:04:26.613510Z",
     "iopub.status.busy": "2022-11-20T10:04:26.613093Z",
     "iopub.status.idle": "2022-11-20T10:04:26.618022Z",
     "shell.execute_reply": "2022-11-20T10:04:26.616821Z"
    },
    "papermill": {
     "duration": 0.030383,
     "end_time": "2022-11-20T10:04:26.620424",
     "exception": false,
     "start_time": "2022-11-20T10:04:26.590041",
     "status": "completed"
    },
    "tags": []
   },
   "outputs": [],
   "source": [
    "# import pmdarima as pm"
   ]
  }
 ],
 "metadata": {
  "kernelspec": {
   "display_name": "Python 3",
   "language": "python",
   "name": "python3"
  },
  "language_info": {
   "codemirror_mode": {
    "name": "ipython",
    "version": 3
   },
   "file_extension": ".py",
   "mimetype": "text/x-python",
   "name": "python",
   "nbconvert_exporter": "python",
   "pygments_lexer": "ipython3",
   "version": "3.7.12"
  },
  "papermill": {
   "default_parameters": {},
   "duration": 1725.700597,
   "end_time": "2022-11-20T10:04:27.670264",
   "environment_variables": {},
   "exception": null,
   "input_path": "__notebook__.ipynb",
   "output_path": "__notebook__.ipynb",
   "parameters": {},
   "start_time": "2022-11-20T09:35:41.969667",
   "version": "2.3.4"
  }
 },
 "nbformat": 4,
 "nbformat_minor": 5
}
