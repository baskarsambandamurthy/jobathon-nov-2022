{
 "cells": [
  {
   "cell_type": "markdown",
   "id": "6f8d2229-ad63-479b-90b0-272ebce36ee2",
   "metadata": {
    "execution": {
     "iopub.execute_input": "2022-11-23T13:38:24.925980Z",
     "iopub.status.busy": "2022-11-23T13:38:24.925572Z",
     "iopub.status.idle": "2022-11-23T13:38:24.929355Z",
     "shell.execute_reply": "2022-11-23T13:38:24.928598Z",
     "shell.execute_reply.started": "2022-11-23T13:38:24.925954Z"
    }
   },
   "source": [
    "# Jobathon Nov 2022 Time series Model\n",
    "\n",
    "## Table of Contents\n",
    "### 1. [Read Train and Test ](#read)\n",
    "### 2. [Feature Generation](#feature)\n",
    "### 3. [Train and Validation Split](#split)\n",
    "### 4. [Model Evaluation using Unobserved Components](#model_eval)\n",
    "### 5. [Model Finalization for Test Prediction](#model_final)"
   ]
  },
  {
   "cell_type": "code",
   "execution_count": 1,
   "id": "7b0086a0",
   "metadata": {
    "_cell_guid": "b1076dfc-b9ad-4769-8c92-a6c4dae69d19",
    "_uuid": "8f2839f25d086af736a60e9eeb907d3b93b6e0e5",
    "execution": {
     "iopub.execute_input": "2022-11-20T17:42:37.674849Z",
     "iopub.status.busy": "2022-11-20T17:42:37.674158Z",
     "iopub.status.idle": "2022-11-20T17:42:37.696282Z",
     "shell.execute_reply": "2022-11-20T17:42:37.695495Z"
    },
    "papermill": {
     "duration": 0.042209,
     "end_time": "2022-11-20T17:42:37.698387",
     "exception": false,
     "start_time": "2022-11-20T17:42:37.656178",
     "status": "completed"
    },
    "tags": []
   },
   "outputs": [
    {
     "name": "stdout",
     "output_type": "stream",
     "text": [
      "/kaggle/input/jobathon-nov-2022/sample_submission.csv\n",
      "/kaggle/input/jobathon-nov-2022/train.csv\n",
      "/kaggle/input/jobathon-nov-2022/test.csv\n"
     ]
    }
   ],
   "source": [
    "# This Python 3 environment comes with many helpful analytics libraries installed\n",
    "# It is defined by the kaggle/python Docker image: https://github.com/kaggle/docker-python\n",
    "# For example, here's several helpful packages to load\n",
    "\n",
    "import numpy as np # linear algebra\n",
    "import pandas as pd # data processing, CSV file I/O (e.g. pd.read_csv)\n",
    "\n",
    "# Input data files are available in the read-only \"../input/\" directory\n",
    "# For example, running this (by clicking run or pressing Shift+Enter) will list all files under the input directory\n",
    "\n",
    "import os\n",
    "for dirname, _, filenames in os.walk('/kaggle/input'):\n",
    "    for filename in filenames:\n",
    "        print(os.path.join(dirname, filename))\n",
    "\n",
    "# You can write up to 20GB to the current directory (/kaggle/working/) that gets preserved as output when you create a version using \"Save & Run All\" \n",
    "# You can also write temporary files to /kaggle/temp/, but they won't be saved outside of the current session"
   ]
  },
  {
   "cell_type": "code",
   "execution_count": 2,
   "id": "6e223e16",
   "metadata": {
    "execution": {
     "iopub.execute_input": "2022-11-20T17:42:37.731866Z",
     "iopub.status.busy": "2022-11-20T17:42:37.731221Z",
     "iopub.status.idle": "2022-11-20T17:42:37.735619Z",
     "shell.execute_reply": "2022-11-20T17:42:37.734487Z"
    },
    "papermill": {
     "duration": 0.023811,
     "end_time": "2022-11-20T17:42:37.737917",
     "exception": false,
     "start_time": "2022-11-20T17:42:37.714106",
     "status": "completed"
    },
    "tags": []
   },
   "outputs": [],
   "source": [
    "pd.options.display.max_columns=500\n",
    "pd.options.display.max_rows=500\n"
   ]
  },
  {
   "cell_type": "code",
   "execution_count": 3,
   "id": "fa6f3b25",
   "metadata": {
    "execution": {
     "iopub.execute_input": "2022-11-20T17:42:37.771420Z",
     "iopub.status.busy": "2022-11-20T17:42:37.770758Z",
     "iopub.status.idle": "2022-11-20T17:42:37.782895Z",
     "shell.execute_reply": "2022-11-20T17:42:37.782048Z"
    },
    "papermill": {
     "duration": 0.031757,
     "end_time": "2022-11-20T17:42:37.785286",
     "exception": false,
     "start_time": "2022-11-20T17:42:37.753529",
     "status": "completed"
    },
    "tags": []
   },
   "outputs": [],
   "source": [
    "from pandas.tseries.holiday import *"
   ]
  },
  {
   "cell_type": "code",
   "execution_count": 4,
   "id": "21256b0e",
   "metadata": {
    "execution": {
     "iopub.execute_input": "2022-11-20T17:42:37.818150Z",
     "iopub.status.busy": "2022-11-20T17:42:37.817730Z",
     "iopub.status.idle": "2022-11-20T17:42:50.471736Z",
     "shell.execute_reply": "2022-11-20T17:42:50.470175Z"
    },
    "papermill": {
     "duration": 12.673432,
     "end_time": "2022-11-20T17:42:50.474352",
     "exception": false,
     "start_time": "2022-11-20T17:42:37.800920",
     "status": "completed"
    },
    "tags": []
   },
   "outputs": [
    {
     "name": "stdout",
     "output_type": "stream",
     "text": [
      "Collecting pmdarima\n",
      "  Downloading pmdarima-2.0.1-cp37-cp37m-manylinux_2_17_x86_64.manylinux2014_x86_64.manylinux_2_28_x86_64.whl (1.8 MB)\n",
      "\u001b[2K     \u001b[90m━━━━━━━━━━━━━━━━━━━━━━━━━━━━━━━━━━━━━━━━\u001b[0m \u001b[32m1.8/1.8 MB\u001b[0m \u001b[31m3.6 MB/s\u001b[0m eta \u001b[36m0:00:00\u001b[0m\n",
      "\u001b[?25hRequirement already satisfied: numpy>=1.21 in /opt/conda/lib/python3.7/site-packages (from pmdarima) (1.21.6)\n",
      "Requirement already satisfied: statsmodels>=0.13.2 in /opt/conda/lib/python3.7/site-packages (from pmdarima) (0.13.2)\n",
      "Requirement already satisfied: pandas>=0.19 in /opt/conda/lib/python3.7/site-packages (from pmdarima) (1.3.5)\n",
      "Requirement already satisfied: setuptools!=50.0.0,>=38.6.0 in /opt/conda/lib/python3.7/site-packages (from pmdarima) (59.8.0)\n",
      "Requirement already satisfied: scikit-learn>=0.22 in /opt/conda/lib/python3.7/site-packages (from pmdarima) (1.0.2)\n",
      "Requirement already satisfied: Cython!=0.29.18,!=0.29.31,>=0.29 in /opt/conda/lib/python3.7/site-packages (from pmdarima) (0.29.32)\n",
      "Requirement already satisfied: scipy>=1.3.2 in /opt/conda/lib/python3.7/site-packages (from pmdarima) (1.7.3)\n",
      "Requirement already satisfied: joblib>=0.11 in /opt/conda/lib/python3.7/site-packages (from pmdarima) (1.0.1)\n",
      "Requirement already satisfied: urllib3 in /opt/conda/lib/python3.7/site-packages (from pmdarima) (1.26.12)\n",
      "Requirement already satisfied: python-dateutil>=2.7.3 in /opt/conda/lib/python3.7/site-packages (from pandas>=0.19->pmdarima) (2.8.2)\n",
      "Requirement already satisfied: pytz>=2017.3 in /opt/conda/lib/python3.7/site-packages (from pandas>=0.19->pmdarima) (2022.1)\n",
      "Requirement already satisfied: threadpoolctl>=2.0.0 in /opt/conda/lib/python3.7/site-packages (from scikit-learn>=0.22->pmdarima) (3.1.0)\n",
      "Requirement already satisfied: packaging>=21.3 in /opt/conda/lib/python3.7/site-packages (from statsmodels>=0.13.2->pmdarima) (21.3)\n",
      "Requirement already satisfied: patsy>=0.5.2 in /opt/conda/lib/python3.7/site-packages (from statsmodels>=0.13.2->pmdarima) (0.5.2)\n",
      "Requirement already satisfied: pyparsing!=3.0.5,>=2.0.2 in /opt/conda/lib/python3.7/site-packages (from packaging>=21.3->statsmodels>=0.13.2->pmdarima) (3.0.9)\n",
      "Requirement already satisfied: six in /opt/conda/lib/python3.7/site-packages (from patsy>=0.5.2->statsmodels>=0.13.2->pmdarima) (1.15.0)\n",
      "Installing collected packages: pmdarima\n",
      "Successfully installed pmdarima-2.0.1\n",
      "\u001b[33mWARNING: Running pip as the 'root' user can result in broken permissions and conflicting behaviour with the system package manager. It is recommended to use a virtual environment instead: https://pip.pypa.io/warnings/venv\u001b[0m\u001b[33m\n",
      "\u001b[0m"
     ]
    }
   ],
   "source": [
    "!pip install pmdarima"
   ]
  },
  {
   "cell_type": "markdown",
   "id": "860a5176-169d-410b-826a-51c95b9593a5",
   "metadata": {},
   "source": [
    "<a id='read'></a>\n",
    "## Read Train and Test Data"
   ]
  },
  {
   "cell_type": "code",
   "execution_count": 5,
   "id": "5fa38e40",
   "metadata": {
    "execution": {
     "iopub.execute_input": "2022-11-20T17:42:50.510115Z",
     "iopub.status.busy": "2022-11-20T17:42:50.509765Z",
     "iopub.status.idle": "2022-11-20T17:42:50.643878Z",
     "shell.execute_reply": "2022-11-20T17:42:50.643232Z"
    },
    "papermill": {
     "duration": 0.154547,
     "end_time": "2022-11-20T17:42:50.645780",
     "exception": false,
     "start_time": "2022-11-20T17:42:50.491233",
     "status": "completed"
    },
    "tags": []
   },
   "outputs": [
    {
     "name": "stdout",
     "output_type": "stream",
     "text": [
      "(94992, 3)\n"
     ]
    }
   ],
   "source": [
    "train=pd.read_csv('/kaggle/input/jobathon-nov-2022/train.csv')\n",
    "print(train.shape)"
   ]
  },
  {
   "cell_type": "code",
   "execution_count": 6,
   "id": "56cf27d4",
   "metadata": {
    "execution": {
     "iopub.execute_input": "2022-11-20T17:42:50.681065Z",
     "iopub.status.busy": "2022-11-20T17:42:50.680519Z",
     "iopub.status.idle": "2022-11-20T17:42:50.715823Z",
     "shell.execute_reply": "2022-11-20T17:42:50.714033Z"
    },
    "papermill": {
     "duration": 0.055999,
     "end_time": "2022-11-20T17:42:50.718309",
     "exception": false,
     "start_time": "2022-11-20T17:42:50.662310",
     "status": "completed"
    },
    "tags": []
   },
   "outputs": [
    {
     "name": "stdout",
     "output_type": "stream",
     "text": [
      "(26304, 2)\n"
     ]
    }
   ],
   "source": [
    "test=pd.read_csv('/kaggle/input/jobathon-nov-2022/test.csv')\n",
    "print(test.shape)"
   ]
  },
  {
   "cell_type": "code",
   "execution_count": 7,
   "id": "689ce3ba",
   "metadata": {
    "execution": {
     "iopub.execute_input": "2022-11-20T17:42:50.753279Z",
     "iopub.status.busy": "2022-11-20T17:42:50.752594Z",
     "iopub.status.idle": "2022-11-20T17:42:50.772646Z",
     "shell.execute_reply": "2022-11-20T17:42:50.771954Z"
    },
    "papermill": {
     "duration": 0.039662,
     "end_time": "2022-11-20T17:42:50.774458",
     "exception": false,
     "start_time": "2022-11-20T17:42:50.734796",
     "status": "completed"
    },
    "tags": []
   },
   "outputs": [
    {
     "data": {
      "text/html": [
       "<div>\n",
       "<style scoped>\n",
       "    .dataframe tbody tr th:only-of-type {\n",
       "        vertical-align: middle;\n",
       "    }\n",
       "\n",
       "    .dataframe tbody tr th {\n",
       "        vertical-align: top;\n",
       "    }\n",
       "\n",
       "    .dataframe thead th {\n",
       "        text-align: right;\n",
       "    }\n",
       "</style>\n",
       "<table border=\"1\" class=\"dataframe\">\n",
       "  <thead>\n",
       "    <tr style=\"text-align: right;\">\n",
       "      <th></th>\n",
       "      <th>row_id</th>\n",
       "      <th>datetime</th>\n",
       "      <th>energy</th>\n",
       "    </tr>\n",
       "  </thead>\n",
       "  <tbody>\n",
       "    <tr>\n",
       "      <th>0</th>\n",
       "      <td>1</td>\n",
       "      <td>2008-03-01 00:00:00</td>\n",
       "      <td>1259.985563</td>\n",
       "    </tr>\n",
       "    <tr>\n",
       "      <th>1</th>\n",
       "      <td>2</td>\n",
       "      <td>2008-03-01 01:00:00</td>\n",
       "      <td>1095.541500</td>\n",
       "    </tr>\n",
       "    <tr>\n",
       "      <th>2</th>\n",
       "      <td>3</td>\n",
       "      <td>2008-03-01 02:00:00</td>\n",
       "      <td>1056.247500</td>\n",
       "    </tr>\n",
       "    <tr>\n",
       "      <th>3</th>\n",
       "      <td>4</td>\n",
       "      <td>2008-03-01 03:00:00</td>\n",
       "      <td>1034.742000</td>\n",
       "    </tr>\n",
       "    <tr>\n",
       "      <th>4</th>\n",
       "      <td>5</td>\n",
       "      <td>2008-03-01 04:00:00</td>\n",
       "      <td>1026.334500</td>\n",
       "    </tr>\n",
       "  </tbody>\n",
       "</table>\n",
       "</div>"
      ],
      "text/plain": [
       "   row_id             datetime       energy\n",
       "0       1  2008-03-01 00:00:00  1259.985563\n",
       "1       2  2008-03-01 01:00:00  1095.541500\n",
       "2       3  2008-03-01 02:00:00  1056.247500\n",
       "3       4  2008-03-01 03:00:00  1034.742000\n",
       "4       5  2008-03-01 04:00:00  1026.334500"
      ]
     },
     "execution_count": 7,
     "metadata": {},
     "output_type": "execute_result"
    }
   ],
   "source": [
    "train.head()"
   ]
  },
  {
   "cell_type": "code",
   "execution_count": 8,
   "id": "25a352f4",
   "metadata": {
    "execution": {
     "iopub.execute_input": "2022-11-20T17:42:50.811221Z",
     "iopub.status.busy": "2022-11-20T17:42:50.810562Z",
     "iopub.status.idle": "2022-11-20T17:42:50.843200Z",
     "shell.execute_reply": "2022-11-20T17:42:50.841277Z"
    },
    "papermill": {
     "duration": 0.053593,
     "end_time": "2022-11-20T17:42:50.845376",
     "exception": false,
     "start_time": "2022-11-20T17:42:50.791783",
     "status": "completed"
    },
    "tags": []
   },
   "outputs": [
    {
     "name": "stdout",
     "output_type": "stream",
     "text": [
      "<class 'pandas.core.frame.DataFrame'>\n",
      "RangeIndex: 94992 entries, 0 to 94991\n",
      "Data columns (total 3 columns):\n",
      " #   Column    Non-Null Count  Dtype  \n",
      "---  ------    --------------  -----  \n",
      " 0   row_id    94992 non-null  int64  \n",
      " 1   datetime  94992 non-null  object \n",
      " 2   energy    93092 non-null  float64\n",
      "dtypes: float64(1), int64(1), object(1)\n",
      "memory usage: 2.2+ MB\n"
     ]
    }
   ],
   "source": [
    "train.info()"
   ]
  },
  {
   "cell_type": "code",
   "execution_count": 9,
   "id": "0c8df0f7",
   "metadata": {
    "execution": {
     "iopub.execute_input": "2022-11-20T17:42:50.881576Z",
     "iopub.status.busy": "2022-11-20T17:42:50.880453Z",
     "iopub.status.idle": "2022-11-20T17:42:50.896869Z",
     "shell.execute_reply": "2022-11-20T17:42:50.895591Z"
    },
    "papermill": {
     "duration": 0.037191,
     "end_time": "2022-11-20T17:42:50.899469",
     "exception": false,
     "start_time": "2022-11-20T17:42:50.862278",
     "status": "completed"
    },
    "tags": []
   },
   "outputs": [],
   "source": [
    "train['energy'].describe()\n",
    "targetcol='energy'"
   ]
  },
  {
   "cell_type": "code",
   "execution_count": 10,
   "id": "d2ed935d",
   "metadata": {
    "execution": {
     "iopub.execute_input": "2022-11-20T17:42:50.936054Z",
     "iopub.status.busy": "2022-11-20T17:42:50.935648Z",
     "iopub.status.idle": "2022-11-20T17:42:50.970921Z",
     "shell.execute_reply": "2022-11-20T17:42:50.969632Z"
    },
    "papermill": {
     "duration": 0.056347,
     "end_time": "2022-11-20T17:42:50.973811",
     "exception": false,
     "start_time": "2022-11-20T17:42:50.917464",
     "status": "completed"
    },
    "tags": []
   },
   "outputs": [],
   "source": [
    "train['datetime']=pd.to_datetime(train['datetime'],infer_datetime_format=True)\n",
    "test['datetime']=pd.to_datetime(test['datetime'],infer_datetime_format=True)"
   ]
  },
  {
   "cell_type": "code",
   "execution_count": 11,
   "id": "f0c75c0a",
   "metadata": {
    "execution": {
     "iopub.execute_input": "2022-11-20T17:42:51.010005Z",
     "iopub.status.busy": "2022-11-20T17:42:51.009622Z",
     "iopub.status.idle": "2022-11-20T17:42:51.020141Z",
     "shell.execute_reply": "2022-11-20T17:42:51.018671Z"
    },
    "papermill": {
     "duration": 0.031487,
     "end_time": "2022-11-20T17:42:51.022639",
     "exception": false,
     "start_time": "2022-11-20T17:42:50.991152",
     "status": "completed"
    },
    "tags": []
   },
   "outputs": [
    {
     "data": {
      "text/plain": [
       "(Timestamp('2008-03-01 00:00:00'), Timestamp('2018-12-31 23:00:00'))"
      ]
     },
     "execution_count": 11,
     "metadata": {},
     "output_type": "execute_result"
    }
   ],
   "source": [
    "train['datetime'].min(),train['datetime'].max()"
   ]
  },
  {
   "cell_type": "markdown",
   "id": "40242ea4-3b1f-4503-b751-4ca8260b005f",
   "metadata": {},
   "source": [
    "<a id='feature'></a>\n",
    "## Feature Generation"
   ]
  },
  {
   "cell_type": "code",
   "execution_count": 12,
   "id": "97c1577c",
   "metadata": {
    "execution": {
     "iopub.execute_input": "2022-11-20T17:42:51.058796Z",
     "iopub.status.busy": "2022-11-20T17:42:51.058407Z",
     "iopub.status.idle": "2022-11-20T17:42:51.064647Z",
     "shell.execute_reply": "2022-11-20T17:42:51.063461Z"
    },
    "papermill": {
     "duration": 0.026568,
     "end_time": "2022-11-20T17:42:51.066443",
     "exception": false,
     "start_time": "2022-11-20T17:42:51.039875",
     "status": "completed"
    },
    "tags": []
   },
   "outputs": [],
   "source": [
    "#create hour map based on business, non - business , sleeping hours etc.\n",
    "hour_map={0:0,1:0,2:0,3:0,4:0,5:0,\n",
    "         6:1,7:1,8:1,\n",
    "         9:2,10:2,11:2,\n",
    "         12:3,13:3,14:3,15:3,\n",
    "         16:4,17:4,\n",
    "         18:5,19:5,20:5,\n",
    "         21:6,22:6,23:6}\n",
    " \n",
    "#Monday and Sunday as group 1, Saturday as group 2, Otherdays as group 3\n",
    "dayofweek_map = {0:1,6:1,\n",
    "                5:2,\n",
    "                1:3,2:3,3:3,4:3}"
   ]
  },
  {
   "cell_type": "markdown",
   "id": "cc6530a8-e270-4a3f-a229-356ef725d091",
   "metadata": {},
   "source": [
    "create basic date related features"
   ]
  },
  {
   "cell_type": "code",
   "execution_count": 13,
   "id": "f41fbece",
   "metadata": {
    "execution": {
     "iopub.execute_input": "2022-11-20T17:42:51.102185Z",
     "iopub.status.busy": "2022-11-20T17:42:51.101833Z",
     "iopub.status.idle": "2022-11-20T17:42:51.108569Z",
     "shell.execute_reply": "2022-11-20T17:42:51.107412Z"
    },
    "papermill": {
     "duration": 0.027608,
     "end_time": "2022-11-20T17:42:51.111174",
     "exception": false,
     "start_time": "2022-11-20T17:42:51.083566",
     "status": "completed"
    },
    "tags": []
   },
   "outputs": [],
   "source": [
    "def gen_datefeats(data):\n",
    "    data['year']=data['datetime'].dt.year\n",
    "    data['month']=data['datetime'].dt.month\n",
    "    data['day']=data['datetime'].dt.day\n",
    "    data['hour']=data['datetime'].dt.hour\n",
    "    data['weekofyear']=data['datetime'].dt.isocalendar().week\n",
    "    data['dayofweek']=data['datetime'].dt.dayofweek\n",
    "    data['dayofweek_grp']=data['dayofweek'].replace(dayofweek_map)\n",
    "    data['quarter']=data['datetime'].dt.quarter\n",
    "    data['is_weekend']=data['datetime'].dt.dayofweek > 4\n",
    "    data['day_part']=data['hour'].replace(hour_map)"
   ]
  },
  {
   "cell_type": "code",
   "execution_count": 14,
   "id": "c398ab69",
   "metadata": {
    "execution": {
     "iopub.execute_input": "2022-11-20T17:42:51.147648Z",
     "iopub.status.busy": "2022-11-20T17:42:51.147241Z",
     "iopub.status.idle": "2022-11-20T17:42:51.229840Z",
     "shell.execute_reply": "2022-11-20T17:42:51.228759Z"
    },
    "papermill": {
     "duration": 0.103529,
     "end_time": "2022-11-20T17:42:51.232171",
     "exception": false,
     "start_time": "2022-11-20T17:42:51.128642",
     "status": "completed"
    },
    "tags": []
   },
   "outputs": [],
   "source": [
    "gen_datefeats(train)\n",
    "gen_datefeats(test)"
   ]
  },
  {
   "cell_type": "markdown",
   "id": "f0f1bca9-6cc1-4344-b176-4c3f10f43d4d",
   "metadata": {},
   "source": [
    "create holiday features with special holiday denoting christmas long holidays"
   ]
  },
  {
   "cell_type": "code",
   "execution_count": 15,
   "id": "9f06f7df",
   "metadata": {
    "execution": {
     "iopub.execute_input": "2022-11-20T17:42:51.268039Z",
     "iopub.status.busy": "2022-11-20T17:42:51.267587Z",
     "iopub.status.idle": "2022-11-20T17:42:51.274675Z",
     "shell.execute_reply": "2022-11-20T17:42:51.273867Z"
    },
    "papermill": {
     "duration": 0.027955,
     "end_time": "2022-11-20T17:42:51.277144",
     "exception": false,
     "start_time": "2022-11-20T17:42:51.249189",
     "status": "completed"
    },
    "tags": []
   },
   "outputs": [],
   "source": [
    "#generate holidays feature\n",
    "def gen_holiday_feat(data,start,end):\n",
    "    cal = USFederalHolidayCalendar()\n",
    "    holiday_dates = cal.holidays(start=start, end=end)\n",
    "    data['is_holiday'] = False\n",
    "    mask = data['datetime'].dt.date.astype('datetime64').isin(holiday_dates)\n",
    "    data.loc[mask,'is_holiday']=True   \n",
    "    \n",
    "    data['special_holiday']=False\n",
    "    mask= ((data['datetime'].dt.month==12) & (data['datetime'].dt.day>=24))  \\\n",
    "           | ((data['datetime'].dt.month==1) & (data['datetime'].dt.day<3)) \n",
    "    data.loc[mask,'special_holiday']=True   \n",
    "        \n",
    "    return holiday_dates"
   ]
  },
  {
   "cell_type": "code",
   "execution_count": 16,
   "id": "8072a97a",
   "metadata": {
    "execution": {
     "iopub.execute_input": "2022-11-20T17:42:51.312954Z",
     "iopub.status.busy": "2022-11-20T17:42:51.312318Z",
     "iopub.status.idle": "2022-11-20T17:42:51.442420Z",
     "shell.execute_reply": "2022-11-20T17:42:51.440796Z"
    },
    "papermill": {
     "duration": 0.151153,
     "end_time": "2022-11-20T17:42:51.445268",
     "exception": false,
     "start_time": "2022-11-20T17:42:51.294115",
     "status": "completed"
    },
    "tags": []
   },
   "outputs": [
    {
     "name": "stdout",
     "output_type": "stream",
     "text": [
      "DatetimeIndex(['2008-05-26', '2008-07-04', '2008-09-01', '2008-10-13',\n",
      "               '2008-11-11', '2008-11-27', '2008-12-25', '2009-01-01',\n",
      "               '2009-01-19', '2009-02-16',\n",
      "               ...\n",
      "               '2018-01-01', '2018-01-15', '2018-02-19', '2018-05-28',\n",
      "               '2018-07-04', '2018-09-03', '2018-10-08', '2018-11-12',\n",
      "               '2018-11-22', '2018-12-25'],\n",
      "              dtype='datetime64[ns]', length=107, freq=None)\n",
      "False    92400\n",
      "True      2592\n",
      "Name: special_holiday, dtype: int64\n"
     ]
    },
    {
     "data": {
      "text/plain": [
       "False    92424\n",
       "True      2568\n",
       "Name: is_holiday, dtype: int64"
      ]
     },
     "execution_count": 16,
     "metadata": {},
     "output_type": "execute_result"
    }
   ],
   "source": [
    "holidays= gen_holiday_feat(train,train['datetime'].dt.date.min(),train['datetime'].dt.date.max())\n",
    "print(holidays)\n",
    "print(train['special_holiday'].value_counts())\n",
    "train['is_holiday'].value_counts()"
   ]
  },
  {
   "cell_type": "code",
   "execution_count": 17,
   "id": "59f2da18",
   "metadata": {
    "execution": {
     "iopub.execute_input": "2022-11-20T17:42:51.481130Z",
     "iopub.status.busy": "2022-11-20T17:42:51.480794Z",
     "iopub.status.idle": "2022-11-20T17:42:51.496186Z",
     "shell.execute_reply": "2022-11-20T17:42:51.494797Z"
    },
    "papermill": {
     "duration": 0.035528,
     "end_time": "2022-11-20T17:42:51.498133",
     "exception": false,
     "start_time": "2022-11-20T17:42:51.462605",
     "status": "completed"
    },
    "tags": []
   },
   "outputs": [
    {
     "data": {
      "text/html": [
       "<div>\n",
       "<style scoped>\n",
       "    .dataframe tbody tr th:only-of-type {\n",
       "        vertical-align: middle;\n",
       "    }\n",
       "\n",
       "    .dataframe tbody tr th {\n",
       "        vertical-align: top;\n",
       "    }\n",
       "\n",
       "    .dataframe thead th {\n",
       "        text-align: right;\n",
       "    }\n",
       "</style>\n",
       "<table border=\"1\" class=\"dataframe\">\n",
       "  <thead>\n",
       "    <tr style=\"text-align: right;\">\n",
       "      <th></th>\n",
       "      <th>row_id</th>\n",
       "      <th>datetime</th>\n",
       "      <th>energy</th>\n",
       "      <th>year</th>\n",
       "      <th>month</th>\n",
       "      <th>day</th>\n",
       "      <th>hour</th>\n",
       "      <th>weekofyear</th>\n",
       "      <th>dayofweek</th>\n",
       "      <th>dayofweek_grp</th>\n",
       "      <th>quarter</th>\n",
       "      <th>is_weekend</th>\n",
       "      <th>day_part</th>\n",
       "      <th>is_holiday</th>\n",
       "      <th>special_holiday</th>\n",
       "    </tr>\n",
       "  </thead>\n",
       "  <tbody>\n",
       "    <tr>\n",
       "      <th>0</th>\n",
       "      <td>1</td>\n",
       "      <td>2008-03-01 00:00:00</td>\n",
       "      <td>1259.985563</td>\n",
       "      <td>2008</td>\n",
       "      <td>3</td>\n",
       "      <td>1</td>\n",
       "      <td>0</td>\n",
       "      <td>9</td>\n",
       "      <td>5</td>\n",
       "      <td>2</td>\n",
       "      <td>1</td>\n",
       "      <td>True</td>\n",
       "      <td>0</td>\n",
       "      <td>False</td>\n",
       "      <td>False</td>\n",
       "    </tr>\n",
       "    <tr>\n",
       "      <th>1</th>\n",
       "      <td>2</td>\n",
       "      <td>2008-03-01 01:00:00</td>\n",
       "      <td>1095.541500</td>\n",
       "      <td>2008</td>\n",
       "      <td>3</td>\n",
       "      <td>1</td>\n",
       "      <td>1</td>\n",
       "      <td>9</td>\n",
       "      <td>5</td>\n",
       "      <td>2</td>\n",
       "      <td>1</td>\n",
       "      <td>True</td>\n",
       "      <td>0</td>\n",
       "      <td>False</td>\n",
       "      <td>False</td>\n",
       "    </tr>\n",
       "    <tr>\n",
       "      <th>2</th>\n",
       "      <td>3</td>\n",
       "      <td>2008-03-01 02:00:00</td>\n",
       "      <td>1056.247500</td>\n",
       "      <td>2008</td>\n",
       "      <td>3</td>\n",
       "      <td>1</td>\n",
       "      <td>2</td>\n",
       "      <td>9</td>\n",
       "      <td>5</td>\n",
       "      <td>2</td>\n",
       "      <td>1</td>\n",
       "      <td>True</td>\n",
       "      <td>0</td>\n",
       "      <td>False</td>\n",
       "      <td>False</td>\n",
       "    </tr>\n",
       "    <tr>\n",
       "      <th>3</th>\n",
       "      <td>4</td>\n",
       "      <td>2008-03-01 03:00:00</td>\n",
       "      <td>1034.742000</td>\n",
       "      <td>2008</td>\n",
       "      <td>3</td>\n",
       "      <td>1</td>\n",
       "      <td>3</td>\n",
       "      <td>9</td>\n",
       "      <td>5</td>\n",
       "      <td>2</td>\n",
       "      <td>1</td>\n",
       "      <td>True</td>\n",
       "      <td>0</td>\n",
       "      <td>False</td>\n",
       "      <td>False</td>\n",
       "    </tr>\n",
       "    <tr>\n",
       "      <th>4</th>\n",
       "      <td>5</td>\n",
       "      <td>2008-03-01 04:00:00</td>\n",
       "      <td>1026.334500</td>\n",
       "      <td>2008</td>\n",
       "      <td>3</td>\n",
       "      <td>1</td>\n",
       "      <td>4</td>\n",
       "      <td>9</td>\n",
       "      <td>5</td>\n",
       "      <td>2</td>\n",
       "      <td>1</td>\n",
       "      <td>True</td>\n",
       "      <td>0</td>\n",
       "      <td>False</td>\n",
       "      <td>False</td>\n",
       "    </tr>\n",
       "  </tbody>\n",
       "</table>\n",
       "</div>"
      ],
      "text/plain": [
       "   row_id            datetime       energy  year  month  day  hour  \\\n",
       "0       1 2008-03-01 00:00:00  1259.985563  2008      3    1     0   \n",
       "1       2 2008-03-01 01:00:00  1095.541500  2008      3    1     1   \n",
       "2       3 2008-03-01 02:00:00  1056.247500  2008      3    1     2   \n",
       "3       4 2008-03-01 03:00:00  1034.742000  2008      3    1     3   \n",
       "4       5 2008-03-01 04:00:00  1026.334500  2008      3    1     4   \n",
       "\n",
       "   weekofyear  dayofweek  dayofweek_grp  quarter  is_weekend  day_part  \\\n",
       "0           9          5              2        1        True         0   \n",
       "1           9          5              2        1        True         0   \n",
       "2           9          5              2        1        True         0   \n",
       "3           9          5              2        1        True         0   \n",
       "4           9          5              2        1        True         0   \n",
       "\n",
       "   is_holiday  special_holiday  \n",
       "0       False            False  \n",
       "1       False            False  \n",
       "2       False            False  \n",
       "3       False            False  \n",
       "4       False            False  "
      ]
     },
     "execution_count": 17,
     "metadata": {},
     "output_type": "execute_result"
    }
   ],
   "source": [
    "train.head()"
   ]
  },
  {
   "cell_type": "markdown",
   "id": "82d0f5fd-f3d2-451c-8163-74678d9dad19",
   "metadata": {},
   "source": [
    "generate hour aggregate features month-wise, quarter-wise, week of year-wise and week day group wise"
   ]
  },
  {
   "cell_type": "code",
   "execution_count": 18,
   "id": "27ed9f2b",
   "metadata": {
    "execution": {
     "iopub.execute_input": "2022-11-20T17:42:51.534729Z",
     "iopub.status.busy": "2022-11-20T17:42:51.534290Z",
     "iopub.status.idle": "2022-11-20T17:42:51.542801Z",
     "shell.execute_reply": "2022-11-20T17:42:51.541361Z"
    },
    "papermill": {
     "duration": 0.029418,
     "end_time": "2022-11-20T17:42:51.544967",
     "exception": false,
     "start_time": "2022-11-20T17:42:51.515549",
     "status": "completed"
    },
    "tags": []
   },
   "outputs": [],
   "source": [
    "def gen_mean_feats(train,test,cols,newcolname):\n",
    "    grouped=train.groupby(cols)[targetcol].mean().reset_index()\n",
    "    grouped.columns=cols+[newcolname]\n",
    "    train=train.merge(grouped,on=cols)    \n",
    "    test=test.merge(grouped,on=cols)   \n",
    "    return train,test\n",
    "    \n",
    "def gen_mean_feats_all(train,test):\n",
    "    train,test=gen_mean_feats(train,test,['month','hour'],'month_hour_mean')\n",
    "    train,test=gen_mean_feats(train,test,['quarter','hour'],'quarter_hour_mean')\n",
    "    train,test=gen_mean_feats(train,test,['weekofyear','hour'],'weekofyear_mean')\n",
    "    train,test=gen_mean_feats(train,test,['dayofweek_grp','hour'],'dayofweek_grp_mean')  \n",
    "    \n",
    "    train.sort_values('datetime',inplace=True)\n",
    "    train.reset_index(drop=True,inplace=True)\n",
    "    test.sort_values('datetime',inplace=True)\n",
    "    test.reset_index(drop=True,inplace=True)\n",
    "    return train,test"
   ]
  },
  {
   "cell_type": "code",
   "execution_count": 19,
   "id": "9674c275",
   "metadata": {
    "execution": {
     "iopub.execute_input": "2022-11-20T17:42:51.581277Z",
     "iopub.status.busy": "2022-11-20T17:42:51.580882Z",
     "iopub.status.idle": "2022-11-20T17:42:51.762450Z",
     "shell.execute_reply": "2022-11-20T17:42:51.760903Z"
    },
    "papermill": {
     "duration": 0.20247,
     "end_time": "2022-11-20T17:42:51.764813",
     "exception": false,
     "start_time": "2022-11-20T17:42:51.562343",
     "status": "completed"
    },
    "tags": []
   },
   "outputs": [],
   "source": [
    "train,test=gen_mean_feats_all(train,test)"
   ]
  },
  {
   "cell_type": "code",
   "execution_count": 20,
   "id": "989560cf",
   "metadata": {
    "execution": {
     "iopub.execute_input": "2022-11-20T17:42:51.800318Z",
     "iopub.status.busy": "2022-11-20T17:42:51.800003Z",
     "iopub.status.idle": "2022-11-20T17:42:51.821338Z",
     "shell.execute_reply": "2022-11-20T17:42:51.820125Z"
    },
    "papermill": {
     "duration": 0.041075,
     "end_time": "2022-11-20T17:42:51.823190",
     "exception": false,
     "start_time": "2022-11-20T17:42:51.782115",
     "status": "completed"
    },
    "tags": []
   },
   "outputs": [
    {
     "data": {
      "text/html": [
       "<div>\n",
       "<style scoped>\n",
       "    .dataframe tbody tr th:only-of-type {\n",
       "        vertical-align: middle;\n",
       "    }\n",
       "\n",
       "    .dataframe tbody tr th {\n",
       "        vertical-align: top;\n",
       "    }\n",
       "\n",
       "    .dataframe thead th {\n",
       "        text-align: right;\n",
       "    }\n",
       "</style>\n",
       "<table border=\"1\" class=\"dataframe\">\n",
       "  <thead>\n",
       "    <tr style=\"text-align: right;\">\n",
       "      <th></th>\n",
       "      <th>row_id</th>\n",
       "      <th>datetime</th>\n",
       "      <th>energy</th>\n",
       "      <th>year</th>\n",
       "      <th>month</th>\n",
       "      <th>day</th>\n",
       "      <th>hour</th>\n",
       "      <th>weekofyear</th>\n",
       "      <th>dayofweek</th>\n",
       "      <th>dayofweek_grp</th>\n",
       "      <th>quarter</th>\n",
       "      <th>is_weekend</th>\n",
       "      <th>day_part</th>\n",
       "      <th>is_holiday</th>\n",
       "      <th>special_holiday</th>\n",
       "      <th>month_hour_mean</th>\n",
       "      <th>quarter_hour_mean</th>\n",
       "      <th>weekofyear_mean</th>\n",
       "      <th>dayofweek_grp_mean</th>\n",
       "    </tr>\n",
       "  </thead>\n",
       "  <tbody>\n",
       "    <tr>\n",
       "      <th>0</th>\n",
       "      <td>1</td>\n",
       "      <td>2008-03-01 00:00:00</td>\n",
       "      <td>1259.985563</td>\n",
       "      <td>2008</td>\n",
       "      <td>3</td>\n",
       "      <td>1</td>\n",
       "      <td>0</td>\n",
       "      <td>9</td>\n",
       "      <td>5</td>\n",
       "      <td>2</td>\n",
       "      <td>1</td>\n",
       "      <td>True</td>\n",
       "      <td>0</td>\n",
       "      <td>False</td>\n",
       "      <td>False</td>\n",
       "      <td>1397.227508</td>\n",
       "      <td>1504.829986</td>\n",
       "      <td>1392.384333</td>\n",
       "      <td>1654.027936</td>\n",
       "    </tr>\n",
       "    <tr>\n",
       "      <th>1</th>\n",
       "      <td>2</td>\n",
       "      <td>2008-03-01 01:00:00</td>\n",
       "      <td>1095.541500</td>\n",
       "      <td>2008</td>\n",
       "      <td>3</td>\n",
       "      <td>1</td>\n",
       "      <td>1</td>\n",
       "      <td>9</td>\n",
       "      <td>5</td>\n",
       "      <td>2</td>\n",
       "      <td>1</td>\n",
       "      <td>True</td>\n",
       "      <td>0</td>\n",
       "      <td>False</td>\n",
       "      <td>False</td>\n",
       "      <td>1326.027668</td>\n",
       "      <td>1412.376876</td>\n",
       "      <td>1306.621744</td>\n",
       "      <td>1566.045064</td>\n",
       "    </tr>\n",
       "    <tr>\n",
       "      <th>2</th>\n",
       "      <td>3</td>\n",
       "      <td>2008-03-01 02:00:00</td>\n",
       "      <td>1056.247500</td>\n",
       "      <td>2008</td>\n",
       "      <td>3</td>\n",
       "      <td>1</td>\n",
       "      <td>2</td>\n",
       "      <td>9</td>\n",
       "      <td>5</td>\n",
       "      <td>2</td>\n",
       "      <td>1</td>\n",
       "      <td>True</td>\n",
       "      <td>0</td>\n",
       "      <td>False</td>\n",
       "      <td>False</td>\n",
       "      <td>1287.670058</td>\n",
       "      <td>1352.371501</td>\n",
       "      <td>1259.495448</td>\n",
       "      <td>1511.553768</td>\n",
       "    </tr>\n",
       "    <tr>\n",
       "      <th>3</th>\n",
       "      <td>4</td>\n",
       "      <td>2008-03-01 03:00:00</td>\n",
       "      <td>1034.742000</td>\n",
       "      <td>2008</td>\n",
       "      <td>3</td>\n",
       "      <td>1</td>\n",
       "      <td>3</td>\n",
       "      <td>9</td>\n",
       "      <td>5</td>\n",
       "      <td>2</td>\n",
       "      <td>1</td>\n",
       "      <td>True</td>\n",
       "      <td>0</td>\n",
       "      <td>False</td>\n",
       "      <td>False</td>\n",
       "      <td>1262.746667</td>\n",
       "      <td>1315.962924</td>\n",
       "      <td>1230.416947</td>\n",
       "      <td>1478.168590</td>\n",
       "    </tr>\n",
       "    <tr>\n",
       "      <th>4</th>\n",
       "      <td>5</td>\n",
       "      <td>2008-03-01 04:00:00</td>\n",
       "      <td>1026.334500</td>\n",
       "      <td>2008</td>\n",
       "      <td>3</td>\n",
       "      <td>1</td>\n",
       "      <td>4</td>\n",
       "      <td>9</td>\n",
       "      <td>5</td>\n",
       "      <td>2</td>\n",
       "      <td>1</td>\n",
       "      <td>True</td>\n",
       "      <td>0</td>\n",
       "      <td>False</td>\n",
       "      <td>False</td>\n",
       "      <td>1260.754616</td>\n",
       "      <td>1298.825422</td>\n",
       "      <td>1221.394201</td>\n",
       "      <td>1473.652068</td>\n",
       "    </tr>\n",
       "    <tr>\n",
       "      <th>5</th>\n",
       "      <td>6</td>\n",
       "      <td>2008-03-01 05:00:00</td>\n",
       "      <td>1033.768500</td>\n",
       "      <td>2008</td>\n",
       "      <td>3</td>\n",
       "      <td>1</td>\n",
       "      <td>5</td>\n",
       "      <td>9</td>\n",
       "      <td>5</td>\n",
       "      <td>2</td>\n",
       "      <td>1</td>\n",
       "      <td>True</td>\n",
       "      <td>0</td>\n",
       "      <td>False</td>\n",
       "      <td>False</td>\n",
       "      <td>1275.482187</td>\n",
       "      <td>1305.534563</td>\n",
       "      <td>1230.498917</td>\n",
       "      <td>1493.890931</td>\n",
       "    </tr>\n",
       "    <tr>\n",
       "      <th>6</th>\n",
       "      <td>7</td>\n",
       "      <td>2008-03-01 06:00:00</td>\n",
       "      <td>1086.780000</td>\n",
       "      <td>2008</td>\n",
       "      <td>3</td>\n",
       "      <td>1</td>\n",
       "      <td>6</td>\n",
       "      <td>9</td>\n",
       "      <td>5</td>\n",
       "      <td>2</td>\n",
       "      <td>1</td>\n",
       "      <td>True</td>\n",
       "      <td>1</td>\n",
       "      <td>False</td>\n",
       "      <td>False</td>\n",
       "      <td>1337.872697</td>\n",
       "      <td>1358.662339</td>\n",
       "      <td>1295.098037</td>\n",
       "      <td>1566.537865</td>\n",
       "    </tr>\n",
       "    <tr>\n",
       "      <th>7</th>\n",
       "      <td>8</td>\n",
       "      <td>2008-03-01 07:00:00</td>\n",
       "      <td>1211.742000</td>\n",
       "      <td>2008</td>\n",
       "      <td>3</td>\n",
       "      <td>1</td>\n",
       "      <td>7</td>\n",
       "      <td>9</td>\n",
       "      <td>5</td>\n",
       "      <td>2</td>\n",
       "      <td>1</td>\n",
       "      <td>True</td>\n",
       "      <td>1</td>\n",
       "      <td>False</td>\n",
       "      <td>False</td>\n",
       "      <td>1464.527791</td>\n",
       "      <td>1470.300187</td>\n",
       "      <td>1412.661900</td>\n",
       "      <td>1697.378282</td>\n",
       "    </tr>\n",
       "    <tr>\n",
       "      <th>8</th>\n",
       "      <td>9</td>\n",
       "      <td>2008-03-01 08:00:00</td>\n",
       "      <td>1293.693000</td>\n",
       "      <td>2008</td>\n",
       "      <td>3</td>\n",
       "      <td>1</td>\n",
       "      <td>8</td>\n",
       "      <td>9</td>\n",
       "      <td>5</td>\n",
       "      <td>2</td>\n",
       "      <td>1</td>\n",
       "      <td>True</td>\n",
       "      <td>1</td>\n",
       "      <td>False</td>\n",
       "      <td>False</td>\n",
       "      <td>1556.391201</td>\n",
       "      <td>1543.597804</td>\n",
       "      <td>1493.338281</td>\n",
       "      <td>1781.379368</td>\n",
       "    </tr>\n",
       "    <tr>\n",
       "      <th>9</th>\n",
       "      <td>10</td>\n",
       "      <td>2008-03-01 09:00:00</td>\n",
       "      <td>1318.915500</td>\n",
       "      <td>2008</td>\n",
       "      <td>3</td>\n",
       "      <td>1</td>\n",
       "      <td>9</td>\n",
       "      <td>9</td>\n",
       "      <td>5</td>\n",
       "      <td>2</td>\n",
       "      <td>1</td>\n",
       "      <td>True</td>\n",
       "      <td>2</td>\n",
       "      <td>False</td>\n",
       "      <td>False</td>\n",
       "      <td>1577.528044</td>\n",
       "      <td>1589.814926</td>\n",
       "      <td>1517.786396</td>\n",
       "      <td>1804.679326</td>\n",
       "    </tr>\n",
       "  </tbody>\n",
       "</table>\n",
       "</div>"
      ],
      "text/plain": [
       "   row_id            datetime       energy  year  month  day  hour  \\\n",
       "0       1 2008-03-01 00:00:00  1259.985563  2008      3    1     0   \n",
       "1       2 2008-03-01 01:00:00  1095.541500  2008      3    1     1   \n",
       "2       3 2008-03-01 02:00:00  1056.247500  2008      3    1     2   \n",
       "3       4 2008-03-01 03:00:00  1034.742000  2008      3    1     3   \n",
       "4       5 2008-03-01 04:00:00  1026.334500  2008      3    1     4   \n",
       "5       6 2008-03-01 05:00:00  1033.768500  2008      3    1     5   \n",
       "6       7 2008-03-01 06:00:00  1086.780000  2008      3    1     6   \n",
       "7       8 2008-03-01 07:00:00  1211.742000  2008      3    1     7   \n",
       "8       9 2008-03-01 08:00:00  1293.693000  2008      3    1     8   \n",
       "9      10 2008-03-01 09:00:00  1318.915500  2008      3    1     9   \n",
       "\n",
       "   weekofyear  dayofweek  dayofweek_grp  quarter  is_weekend  day_part  \\\n",
       "0           9          5              2        1        True         0   \n",
       "1           9          5              2        1        True         0   \n",
       "2           9          5              2        1        True         0   \n",
       "3           9          5              2        1        True         0   \n",
       "4           9          5              2        1        True         0   \n",
       "5           9          5              2        1        True         0   \n",
       "6           9          5              2        1        True         1   \n",
       "7           9          5              2        1        True         1   \n",
       "8           9          5              2        1        True         1   \n",
       "9           9          5              2        1        True         2   \n",
       "\n",
       "   is_holiday  special_holiday  month_hour_mean  quarter_hour_mean  \\\n",
       "0       False            False      1397.227508        1504.829986   \n",
       "1       False            False      1326.027668        1412.376876   \n",
       "2       False            False      1287.670058        1352.371501   \n",
       "3       False            False      1262.746667        1315.962924   \n",
       "4       False            False      1260.754616        1298.825422   \n",
       "5       False            False      1275.482187        1305.534563   \n",
       "6       False            False      1337.872697        1358.662339   \n",
       "7       False            False      1464.527791        1470.300187   \n",
       "8       False            False      1556.391201        1543.597804   \n",
       "9       False            False      1577.528044        1589.814926   \n",
       "\n",
       "   weekofyear_mean  dayofweek_grp_mean  \n",
       "0      1392.384333         1654.027936  \n",
       "1      1306.621744         1566.045064  \n",
       "2      1259.495448         1511.553768  \n",
       "3      1230.416947         1478.168590  \n",
       "4      1221.394201         1473.652068  \n",
       "5      1230.498917         1493.890931  \n",
       "6      1295.098037         1566.537865  \n",
       "7      1412.661900         1697.378282  \n",
       "8      1493.338281         1781.379368  \n",
       "9      1517.786396         1804.679326  "
      ]
     },
     "execution_count": 20,
     "metadata": {},
     "output_type": "execute_result"
    }
   ],
   "source": [
    "train.head(10)"
   ]
  },
  {
   "cell_type": "code",
   "execution_count": 21,
   "id": "e3a9ecd2",
   "metadata": {
    "execution": {
     "iopub.execute_input": "2022-11-20T17:42:51.860618Z",
     "iopub.status.busy": "2022-11-20T17:42:51.860272Z",
     "iopub.status.idle": "2022-11-20T17:42:51.876130Z",
     "shell.execute_reply": "2022-11-20T17:42:51.874989Z"
    },
    "papermill": {
     "duration": 0.036977,
     "end_time": "2022-11-20T17:42:51.877910",
     "exception": false,
     "start_time": "2022-11-20T17:42:51.840933",
     "status": "completed"
    },
    "tags": []
   },
   "outputs": [
    {
     "data": {
      "text/html": [
       "<div>\n",
       "<style scoped>\n",
       "    .dataframe tbody tr th:only-of-type {\n",
       "        vertical-align: middle;\n",
       "    }\n",
       "\n",
       "    .dataframe tbody tr th {\n",
       "        vertical-align: top;\n",
       "    }\n",
       "\n",
       "    .dataframe thead th {\n",
       "        text-align: right;\n",
       "    }\n",
       "</style>\n",
       "<table border=\"1\" class=\"dataframe\">\n",
       "  <thead>\n",
       "    <tr style=\"text-align: right;\">\n",
       "      <th></th>\n",
       "      <th>row_id</th>\n",
       "      <th>datetime</th>\n",
       "      <th>year</th>\n",
       "      <th>month</th>\n",
       "      <th>day</th>\n",
       "      <th>hour</th>\n",
       "      <th>weekofyear</th>\n",
       "      <th>dayofweek</th>\n",
       "      <th>dayofweek_grp</th>\n",
       "      <th>quarter</th>\n",
       "      <th>is_weekend</th>\n",
       "      <th>day_part</th>\n",
       "      <th>month_hour_mean</th>\n",
       "      <th>quarter_hour_mean</th>\n",
       "      <th>weekofyear_mean</th>\n",
       "      <th>dayofweek_grp_mean</th>\n",
       "    </tr>\n",
       "  </thead>\n",
       "  <tbody>\n",
       "    <tr>\n",
       "      <th>0</th>\n",
       "      <td>94993</td>\n",
       "      <td>2019-01-01 00:00:00</td>\n",
       "      <td>2019</td>\n",
       "      <td>1</td>\n",
       "      <td>1</td>\n",
       "      <td>0</td>\n",
       "      <td>1</td>\n",
       "      <td>1</td>\n",
       "      <td>3</td>\n",
       "      <td>1</td>\n",
       "      <td>False</td>\n",
       "      <td>0</td>\n",
       "      <td>1661.002682</td>\n",
       "      <td>1504.829986</td>\n",
       "      <td>1711.103516</td>\n",
       "      <td>1625.815769</td>\n",
       "    </tr>\n",
       "    <tr>\n",
       "      <th>1</th>\n",
       "      <td>94994</td>\n",
       "      <td>2019-01-01 01:00:00</td>\n",
       "      <td>2019</td>\n",
       "      <td>1</td>\n",
       "      <td>1</td>\n",
       "      <td>1</td>\n",
       "      <td>1</td>\n",
       "      <td>1</td>\n",
       "      <td>3</td>\n",
       "      <td>1</td>\n",
       "      <td>False</td>\n",
       "      <td>0</td>\n",
       "      <td>1543.596544</td>\n",
       "      <td>1412.376876</td>\n",
       "      <td>1592.733254</td>\n",
       "      <td>1543.548695</td>\n",
       "    </tr>\n",
       "    <tr>\n",
       "      <th>2</th>\n",
       "      <td>94995</td>\n",
       "      <td>2019-01-01 02:00:00</td>\n",
       "      <td>2019</td>\n",
       "      <td>1</td>\n",
       "      <td>1</td>\n",
       "      <td>2</td>\n",
       "      <td>1</td>\n",
       "      <td>1</td>\n",
       "      <td>3</td>\n",
       "      <td>1</td>\n",
       "      <td>False</td>\n",
       "      <td>0</td>\n",
       "      <td>1462.390875</td>\n",
       "      <td>1352.371501</td>\n",
       "      <td>1506.964956</td>\n",
       "      <td>1493.577402</td>\n",
       "    </tr>\n",
       "    <tr>\n",
       "      <th>3</th>\n",
       "      <td>94996</td>\n",
       "      <td>2019-01-01 03:00:00</td>\n",
       "      <td>2019</td>\n",
       "      <td>1</td>\n",
       "      <td>1</td>\n",
       "      <td>3</td>\n",
       "      <td>1</td>\n",
       "      <td>1</td>\n",
       "      <td>3</td>\n",
       "      <td>1</td>\n",
       "      <td>False</td>\n",
       "      <td>0</td>\n",
       "      <td>1410.076914</td>\n",
       "      <td>1315.962924</td>\n",
       "      <td>1439.720612</td>\n",
       "      <td>1465.825460</td>\n",
       "    </tr>\n",
       "    <tr>\n",
       "      <th>4</th>\n",
       "      <td>94997</td>\n",
       "      <td>2019-01-01 04:00:00</td>\n",
       "      <td>2019</td>\n",
       "      <td>1</td>\n",
       "      <td>1</td>\n",
       "      <td>4</td>\n",
       "      <td>1</td>\n",
       "      <td>1</td>\n",
       "      <td>3</td>\n",
       "      <td>1</td>\n",
       "      <td>False</td>\n",
       "      <td>0</td>\n",
       "      <td>1378.289974</td>\n",
       "      <td>1298.825422</td>\n",
       "      <td>1415.453093</td>\n",
       "      <td>1459.997669</td>\n",
       "    </tr>\n",
       "  </tbody>\n",
       "</table>\n",
       "</div>"
      ],
      "text/plain": [
       "   row_id            datetime  year  month  day  hour  weekofyear  dayofweek  \\\n",
       "0   94993 2019-01-01 00:00:00  2019      1    1     0           1          1   \n",
       "1   94994 2019-01-01 01:00:00  2019      1    1     1           1          1   \n",
       "2   94995 2019-01-01 02:00:00  2019      1    1     2           1          1   \n",
       "3   94996 2019-01-01 03:00:00  2019      1    1     3           1          1   \n",
       "4   94997 2019-01-01 04:00:00  2019      1    1     4           1          1   \n",
       "\n",
       "   dayofweek_grp  quarter  is_weekend  day_part  month_hour_mean  \\\n",
       "0              3        1       False         0      1661.002682   \n",
       "1              3        1       False         0      1543.596544   \n",
       "2              3        1       False         0      1462.390875   \n",
       "3              3        1       False         0      1410.076914   \n",
       "4              3        1       False         0      1378.289974   \n",
       "\n",
       "   quarter_hour_mean  weekofyear_mean  dayofweek_grp_mean  \n",
       "0        1504.829986      1711.103516         1625.815769  \n",
       "1        1412.376876      1592.733254         1543.548695  \n",
       "2        1352.371501      1506.964956         1493.577402  \n",
       "3        1315.962924      1439.720612         1465.825460  \n",
       "4        1298.825422      1415.453093         1459.997669  "
      ]
     },
     "execution_count": 21,
     "metadata": {},
     "output_type": "execute_result"
    }
   ],
   "source": [
    "test.head()"
   ]
  },
  {
   "cell_type": "code",
   "execution_count": 22,
   "id": "96ade172",
   "metadata": {
    "execution": {
     "iopub.execute_input": "2022-11-20T17:42:51.914426Z",
     "iopub.status.busy": "2022-11-20T17:42:51.914087Z",
     "iopub.status.idle": "2022-11-20T17:42:51.922384Z",
     "shell.execute_reply": "2022-11-20T17:42:51.920878Z"
    },
    "papermill": {
     "duration": 0.029744,
     "end_time": "2022-11-20T17:42:51.925114",
     "exception": false,
     "start_time": "2022-11-20T17:42:51.895370",
     "status": "completed"
    },
    "tags": []
   },
   "outputs": [
    {
     "data": {
      "text/plain": [
       "array([2008, 2009, 2010, 2011, 2012, 2013, 2014, 2015, 2016, 2017, 2018])"
      ]
     },
     "execution_count": 22,
     "metadata": {},
     "output_type": "execute_result"
    }
   ],
   "source": [
    "train['year'].unique()"
   ]
  },
  {
   "cell_type": "code",
   "execution_count": 23,
   "id": "5c73dda9",
   "metadata": {
    "execution": {
     "iopub.execute_input": "2022-11-20T17:42:51.964804Z",
     "iopub.status.busy": "2022-11-20T17:42:51.964385Z",
     "iopub.status.idle": "2022-11-20T17:42:51.972794Z",
     "shell.execute_reply": "2022-11-20T17:42:51.971758Z"
    },
    "papermill": {
     "duration": 0.030887,
     "end_time": "2022-11-20T17:42:51.974723",
     "exception": false,
     "start_time": "2022-11-20T17:42:51.943836",
     "status": "completed"
    },
    "tags": []
   },
   "outputs": [
    {
     "data": {
      "text/plain": [
       "(Timestamp('2019-01-01 00:00:00'), Timestamp('2021-12-31 23:00:00'))"
      ]
     },
     "execution_count": 23,
     "metadata": {},
     "output_type": "execute_result"
    }
   ],
   "source": [
    "test['datetime'].min(),test['datetime'].max()"
   ]
  },
  {
   "cell_type": "code",
   "execution_count": 24,
   "id": "22ac6a7b",
   "metadata": {
    "execution": {
     "iopub.execute_input": "2022-11-20T17:42:52.012227Z",
     "iopub.status.busy": "2022-11-20T17:42:52.011830Z",
     "iopub.status.idle": "2022-11-20T17:42:52.072454Z",
     "shell.execute_reply": "2022-11-20T17:42:52.070727Z"
    },
    "papermill": {
     "duration": 0.082353,
     "end_time": "2022-11-20T17:42:52.075063",
     "exception": false,
     "start_time": "2022-11-20T17:42:51.992710",
     "status": "completed"
    },
    "tags": []
   },
   "outputs": [
    {
     "name": "stdout",
     "output_type": "stream",
     "text": [
      "31\n",
      "DatetimeIndex(['2019-01-01', '2019-01-21', '2019-02-18', '2019-05-27',\n",
      "               '2019-07-04', '2019-09-02', '2019-10-14', '2019-11-11',\n",
      "               '2019-11-28', '2019-12-25', '2020-01-01', '2020-01-20',\n",
      "               '2020-02-17', '2020-05-25', '2020-07-03', '2020-09-07',\n",
      "               '2020-10-12', '2020-11-11', '2020-11-26', '2020-12-25',\n",
      "               '2021-01-01', '2021-01-18', '2021-02-15', '2021-05-31',\n",
      "               '2021-07-05', '2021-09-06', '2021-10-11', '2021-11-11',\n",
      "               '2021-11-25', '2021-12-24', '2021-12-31'],\n",
      "              dtype='datetime64[ns]', freq=None)\n",
      "False    25584\n",
      "True       720\n",
      "Name: special_holiday, dtype: int64\n"
     ]
    },
    {
     "data": {
      "text/plain": [
       "False    25560\n",
       "True       744\n",
       "Name: is_holiday, dtype: int64"
      ]
     },
     "execution_count": 24,
     "metadata": {},
     "output_type": "execute_result"
    }
   ],
   "source": [
    "holidays= gen_holiday_feat(test,test['datetime'].dt.date.min(),test['datetime'].dt.date.max())\n",
    "print(len(holidays))\n",
    "print(holidays)\n",
    "print(test['special_holiday'].value_counts())\n",
    "test['is_holiday'].value_counts()"
   ]
  },
  {
   "cell_type": "code",
   "execution_count": 25,
   "id": "512494e5",
   "metadata": {
    "execution": {
     "iopub.execute_input": "2022-11-20T17:42:52.113655Z",
     "iopub.status.busy": "2022-11-20T17:42:52.113003Z",
     "iopub.status.idle": "2022-11-20T17:42:52.117132Z",
     "shell.execute_reply": "2022-11-20T17:42:52.116150Z"
    },
    "papermill": {
     "duration": 0.025892,
     "end_time": "2022-11-20T17:42:52.119183",
     "exception": false,
     "start_time": "2022-11-20T17:42:52.093291",
     "status": "completed"
    },
    "tags": []
   },
   "outputs": [],
   "source": [
    "targetcol = 'energy'"
   ]
  },
  {
   "cell_type": "code",
   "execution_count": 27,
   "id": "323cc742",
   "metadata": {
    "execution": {
     "iopub.execute_input": "2022-11-20T17:42:52.202642Z",
     "iopub.status.busy": "2022-11-20T17:42:52.202269Z",
     "iopub.status.idle": "2022-11-20T17:42:52.210052Z",
     "shell.execute_reply": "2022-11-20T17:42:52.209086Z"
    },
    "papermill": {
     "duration": 0.029331,
     "end_time": "2022-11-20T17:42:52.211917",
     "exception": false,
     "start_time": "2022-11-20T17:42:52.182586",
     "status": "completed"
    },
    "tags": []
   },
   "outputs": [],
   "source": [
    "# train[targetcol].fillna(train[targetcol].mean(),inplace=True)\n",
    "train[targetcol].fillna(method='ffill',inplace=True)"
   ]
  },
  {
   "cell_type": "markdown",
   "id": "e40da6b0",
   "metadata": {
    "papermill": {
     "duration": 0.017895,
     "end_time": "2022-11-20T17:42:52.248160",
     "exception": false,
     "start_time": "2022-11-20T17:42:52.230265",
     "status": "completed"
    },
    "tags": []
   },
   "source": [
    "Create Lag Features"
   ]
  },
  {
   "cell_type": "code",
   "execution_count": 28,
   "id": "256e9dc3",
   "metadata": {
    "execution": {
     "iopub.execute_input": "2022-11-20T17:42:52.287705Z",
     "iopub.status.busy": "2022-11-20T17:42:52.287276Z",
     "iopub.status.idle": "2022-11-20T17:42:52.294055Z",
     "shell.execute_reply": "2022-11-20T17:42:52.292681Z"
    },
    "papermill": {
     "duration": 0.029879,
     "end_time": "2022-11-20T17:42:52.296529",
     "exception": false,
     "start_time": "2022-11-20T17:42:52.266650",
     "status": "completed"
    },
    "tags": []
   },
   "outputs": [],
   "source": [
    "def create_lag(data,lagno_list):\n",
    "    res = pd.DataFrame()\n",
    "    for i in lagno_list:\n",
    "        shifted = data.shift(i)\n",
    "        res=pd.concat([res,shifted],axis=1)\n",
    "\n",
    "#     res=pd.concat([data.shift(i) for i in lagno_list],axis=1)\n",
    "    res.columns=[f'lag_{i}' for i in lagno_list]\n",
    "    return res"
   ]
  },
  {
   "cell_type": "code",
   "execution_count": 29,
   "id": "26e3c0b7",
   "metadata": {
    "execution": {
     "iopub.execute_input": "2022-11-20T17:42:52.335249Z",
     "iopub.status.busy": "2022-11-20T17:42:52.334234Z",
     "iopub.status.idle": "2022-11-20T17:42:52.342392Z",
     "shell.execute_reply": "2022-11-20T17:42:52.341350Z"
    },
    "papermill": {
     "duration": 0.029713,
     "end_time": "2022-11-20T17:42:52.344483",
     "exception": false,
     "start_time": "2022-11-20T17:42:52.314770",
     "status": "completed"
    },
    "tags": []
   },
   "outputs": [
    {
     "data": {
      "text/plain": [
       "(26304, 18)"
      ]
     },
     "execution_count": 29,
     "metadata": {},
     "output_type": "execute_result"
    }
   ],
   "source": [
    "test.shape"
   ]
  },
  {
   "cell_type": "code",
   "execution_count": 30,
   "id": "5a96e26b",
   "metadata": {
    "execution": {
     "iopub.execute_input": "2022-11-20T17:42:52.383296Z",
     "iopub.status.busy": "2022-11-20T17:42:52.382774Z",
     "iopub.status.idle": "2022-11-20T17:42:52.647566Z",
     "shell.execute_reply": "2022-11-20T17:42:52.646637Z"
    },
    "papermill": {
     "duration": 0.287026,
     "end_time": "2022-11-20T17:42:52.650018",
     "exception": false,
     "start_time": "2022-11-20T17:42:52.362992",
     "status": "completed"
    },
    "tags": []
   },
   "outputs": [
    {
     "name": "stdout",
     "output_type": "stream",
     "text": [
      "(94992, 25) (26304, 24)\n"
     ]
    }
   ],
   "source": [
    "train['istrain']=1\n",
    "test['istrain']=0\n",
    "combined = pd.concat([train,test],axis=0) \n",
    "#lag 1 year, 3 year, quarter, month,week\n",
    "lag_df = create_lag(combined[targetcol],[24,168,720,2160,8760,26304])\n",
    "combined=pd.concat([combined,lag_df],axis=1)\n",
    "train=combined[combined['istrain']==1]\n",
    "test=combined[combined['istrain']==0]\n",
    "\n",
    "del combined,train['istrain'],test['istrain'],test[targetcol]\n",
    "print(train.shape,test.shape)"
   ]
  },
  {
   "cell_type": "code",
   "execution_count": 31,
   "id": "656bc766",
   "metadata": {
    "execution": {
     "iopub.execute_input": "2022-11-20T17:42:52.688337Z",
     "iopub.status.busy": "2022-11-20T17:42:52.687969Z",
     "iopub.status.idle": "2022-11-20T17:42:52.711207Z",
     "shell.execute_reply": "2022-11-20T17:42:52.710218Z"
    },
    "papermill": {
     "duration": 0.04547,
     "end_time": "2022-11-20T17:42:52.713993",
     "exception": false,
     "start_time": "2022-11-20T17:42:52.668523",
     "status": "completed"
    },
    "tags": []
   },
   "outputs": [
    {
     "data": {
      "text/html": [
       "<div>\n",
       "<style scoped>\n",
       "    .dataframe tbody tr th:only-of-type {\n",
       "        vertical-align: middle;\n",
       "    }\n",
       "\n",
       "    .dataframe tbody tr th {\n",
       "        vertical-align: top;\n",
       "    }\n",
       "\n",
       "    .dataframe thead th {\n",
       "        text-align: right;\n",
       "    }\n",
       "</style>\n",
       "<table border=\"1\" class=\"dataframe\">\n",
       "  <thead>\n",
       "    <tr style=\"text-align: right;\">\n",
       "      <th></th>\n",
       "      <th>row_id</th>\n",
       "      <th>datetime</th>\n",
       "      <th>energy</th>\n",
       "      <th>year</th>\n",
       "      <th>month</th>\n",
       "      <th>day</th>\n",
       "      <th>hour</th>\n",
       "      <th>weekofyear</th>\n",
       "      <th>dayofweek</th>\n",
       "      <th>dayofweek_grp</th>\n",
       "      <th>quarter</th>\n",
       "      <th>is_weekend</th>\n",
       "      <th>day_part</th>\n",
       "      <th>is_holiday</th>\n",
       "      <th>special_holiday</th>\n",
       "      <th>month_hour_mean</th>\n",
       "      <th>quarter_hour_mean</th>\n",
       "      <th>weekofyear_mean</th>\n",
       "      <th>dayofweek_grp_mean</th>\n",
       "      <th>lag_24</th>\n",
       "      <th>lag_168</th>\n",
       "      <th>lag_720</th>\n",
       "      <th>lag_2160</th>\n",
       "      <th>lag_8760</th>\n",
       "      <th>lag_26304</th>\n",
       "    </tr>\n",
       "  </thead>\n",
       "  <tbody>\n",
       "    <tr>\n",
       "      <th>0</th>\n",
       "      <td>1</td>\n",
       "      <td>2008-03-01 00:00:00</td>\n",
       "      <td>1259.985563</td>\n",
       "      <td>2008</td>\n",
       "      <td>3</td>\n",
       "      <td>1</td>\n",
       "      <td>0</td>\n",
       "      <td>9</td>\n",
       "      <td>5</td>\n",
       "      <td>2</td>\n",
       "      <td>1</td>\n",
       "      <td>True</td>\n",
       "      <td>0</td>\n",
       "      <td>False</td>\n",
       "      <td>False</td>\n",
       "      <td>1397.227508</td>\n",
       "      <td>1504.829986</td>\n",
       "      <td>1392.384333</td>\n",
       "      <td>1654.027936</td>\n",
       "      <td>NaN</td>\n",
       "      <td>NaN</td>\n",
       "      <td>NaN</td>\n",
       "      <td>NaN</td>\n",
       "      <td>NaN</td>\n",
       "      <td>NaN</td>\n",
       "    </tr>\n",
       "    <tr>\n",
       "      <th>1</th>\n",
       "      <td>2</td>\n",
       "      <td>2008-03-01 01:00:00</td>\n",
       "      <td>1095.541500</td>\n",
       "      <td>2008</td>\n",
       "      <td>3</td>\n",
       "      <td>1</td>\n",
       "      <td>1</td>\n",
       "      <td>9</td>\n",
       "      <td>5</td>\n",
       "      <td>2</td>\n",
       "      <td>1</td>\n",
       "      <td>True</td>\n",
       "      <td>0</td>\n",
       "      <td>False</td>\n",
       "      <td>False</td>\n",
       "      <td>1326.027668</td>\n",
       "      <td>1412.376876</td>\n",
       "      <td>1306.621744</td>\n",
       "      <td>1566.045064</td>\n",
       "      <td>NaN</td>\n",
       "      <td>NaN</td>\n",
       "      <td>NaN</td>\n",
       "      <td>NaN</td>\n",
       "      <td>NaN</td>\n",
       "      <td>NaN</td>\n",
       "    </tr>\n",
       "    <tr>\n",
       "      <th>2</th>\n",
       "      <td>3</td>\n",
       "      <td>2008-03-01 02:00:00</td>\n",
       "      <td>1056.247500</td>\n",
       "      <td>2008</td>\n",
       "      <td>3</td>\n",
       "      <td>1</td>\n",
       "      <td>2</td>\n",
       "      <td>9</td>\n",
       "      <td>5</td>\n",
       "      <td>2</td>\n",
       "      <td>1</td>\n",
       "      <td>True</td>\n",
       "      <td>0</td>\n",
       "      <td>False</td>\n",
       "      <td>False</td>\n",
       "      <td>1287.670058</td>\n",
       "      <td>1352.371501</td>\n",
       "      <td>1259.495448</td>\n",
       "      <td>1511.553768</td>\n",
       "      <td>NaN</td>\n",
       "      <td>NaN</td>\n",
       "      <td>NaN</td>\n",
       "      <td>NaN</td>\n",
       "      <td>NaN</td>\n",
       "      <td>NaN</td>\n",
       "    </tr>\n",
       "    <tr>\n",
       "      <th>3</th>\n",
       "      <td>4</td>\n",
       "      <td>2008-03-01 03:00:00</td>\n",
       "      <td>1034.742000</td>\n",
       "      <td>2008</td>\n",
       "      <td>3</td>\n",
       "      <td>1</td>\n",
       "      <td>3</td>\n",
       "      <td>9</td>\n",
       "      <td>5</td>\n",
       "      <td>2</td>\n",
       "      <td>1</td>\n",
       "      <td>True</td>\n",
       "      <td>0</td>\n",
       "      <td>False</td>\n",
       "      <td>False</td>\n",
       "      <td>1262.746667</td>\n",
       "      <td>1315.962924</td>\n",
       "      <td>1230.416947</td>\n",
       "      <td>1478.168590</td>\n",
       "      <td>NaN</td>\n",
       "      <td>NaN</td>\n",
       "      <td>NaN</td>\n",
       "      <td>NaN</td>\n",
       "      <td>NaN</td>\n",
       "      <td>NaN</td>\n",
       "    </tr>\n",
       "    <tr>\n",
       "      <th>4</th>\n",
       "      <td>5</td>\n",
       "      <td>2008-03-01 04:00:00</td>\n",
       "      <td>1026.334500</td>\n",
       "      <td>2008</td>\n",
       "      <td>3</td>\n",
       "      <td>1</td>\n",
       "      <td>4</td>\n",
       "      <td>9</td>\n",
       "      <td>5</td>\n",
       "      <td>2</td>\n",
       "      <td>1</td>\n",
       "      <td>True</td>\n",
       "      <td>0</td>\n",
       "      <td>False</td>\n",
       "      <td>False</td>\n",
       "      <td>1260.754616</td>\n",
       "      <td>1298.825422</td>\n",
       "      <td>1221.394201</td>\n",
       "      <td>1473.652068</td>\n",
       "      <td>NaN</td>\n",
       "      <td>NaN</td>\n",
       "      <td>NaN</td>\n",
       "      <td>NaN</td>\n",
       "      <td>NaN</td>\n",
       "      <td>NaN</td>\n",
       "    </tr>\n",
       "  </tbody>\n",
       "</table>\n",
       "</div>"
      ],
      "text/plain": [
       "   row_id            datetime       energy  year  month  day  hour  \\\n",
       "0       1 2008-03-01 00:00:00  1259.985563  2008      3    1     0   \n",
       "1       2 2008-03-01 01:00:00  1095.541500  2008      3    1     1   \n",
       "2       3 2008-03-01 02:00:00  1056.247500  2008      3    1     2   \n",
       "3       4 2008-03-01 03:00:00  1034.742000  2008      3    1     3   \n",
       "4       5 2008-03-01 04:00:00  1026.334500  2008      3    1     4   \n",
       "\n",
       "   weekofyear  dayofweek  dayofweek_grp  quarter  is_weekend  day_part  \\\n",
       "0           9          5              2        1        True         0   \n",
       "1           9          5              2        1        True         0   \n",
       "2           9          5              2        1        True         0   \n",
       "3           9          5              2        1        True         0   \n",
       "4           9          5              2        1        True         0   \n",
       "\n",
       "   is_holiday  special_holiday  month_hour_mean  quarter_hour_mean  \\\n",
       "0       False            False      1397.227508        1504.829986   \n",
       "1       False            False      1326.027668        1412.376876   \n",
       "2       False            False      1287.670058        1352.371501   \n",
       "3       False            False      1262.746667        1315.962924   \n",
       "4       False            False      1260.754616        1298.825422   \n",
       "\n",
       "   weekofyear_mean  dayofweek_grp_mean  lag_24  lag_168  lag_720  lag_2160  \\\n",
       "0      1392.384333         1654.027936     NaN      NaN      NaN       NaN   \n",
       "1      1306.621744         1566.045064     NaN      NaN      NaN       NaN   \n",
       "2      1259.495448         1511.553768     NaN      NaN      NaN       NaN   \n",
       "3      1230.416947         1478.168590     NaN      NaN      NaN       NaN   \n",
       "4      1221.394201         1473.652068     NaN      NaN      NaN       NaN   \n",
       "\n",
       "   lag_8760  lag_26304  \n",
       "0       NaN        NaN  \n",
       "1       NaN        NaN  \n",
       "2       NaN        NaN  \n",
       "3       NaN        NaN  \n",
       "4       NaN        NaN  "
      ]
     },
     "execution_count": 31,
     "metadata": {},
     "output_type": "execute_result"
    }
   ],
   "source": [
    "train.head()"
   ]
  },
  {
   "cell_type": "code",
   "execution_count": 32,
   "id": "dc21d41e",
   "metadata": {
    "execution": {
     "iopub.execute_input": "2022-11-20T17:42:52.754237Z",
     "iopub.status.busy": "2022-11-20T17:42:52.753849Z",
     "iopub.status.idle": "2022-11-20T17:42:52.762524Z",
     "shell.execute_reply": "2022-11-20T17:42:52.761084Z"
    },
    "papermill": {
     "duration": 0.032198,
     "end_time": "2022-11-20T17:42:52.765366",
     "exception": false,
     "start_time": "2022-11-20T17:42:52.733168",
     "status": "completed"
    },
    "tags": []
   },
   "outputs": [
    {
     "data": {
      "text/plain": [
       "Index(['row_id', 'datetime', 'energy', 'year', 'month', 'day', 'hour',\n",
       "       'weekofyear', 'dayofweek', 'dayofweek_grp', 'quarter', 'is_weekend',\n",
       "       'day_part', 'is_holiday', 'special_holiday', 'month_hour_mean',\n",
       "       'quarter_hour_mean', 'weekofyear_mean', 'dayofweek_grp_mean', 'lag_24',\n",
       "       'lag_168', 'lag_720', 'lag_2160', 'lag_8760', 'lag_26304'],\n",
       "      dtype='object')"
      ]
     },
     "execution_count": 32,
     "metadata": {},
     "output_type": "execute_result"
    }
   ],
   "source": [
    "train.columns"
   ]
  },
  {
   "cell_type": "markdown",
   "id": "4e76ecee-32ab-49fe-bfd8-510b65dc93e1",
   "metadata": {},
   "source": [
    "Fill null values in train data using previous hour values"
   ]
  },
  {
   "cell_type": "code",
   "execution_count": 33,
   "id": "edb45964",
   "metadata": {
    "execution": {
     "iopub.execute_input": "2022-11-20T17:42:52.804453Z",
     "iopub.status.busy": "2022-11-20T17:42:52.804064Z",
     "iopub.status.idle": "2022-11-20T17:42:52.813848Z",
     "shell.execute_reply": "2022-11-20T17:42:52.812366Z"
    },
    "papermill": {
     "duration": 0.031939,
     "end_time": "2022-11-20T17:42:52.816335",
     "exception": false,
     "start_time": "2022-11-20T17:42:52.784396",
     "status": "completed"
    },
    "tags": []
   },
   "outputs": [],
   "source": [
    "cols = [col for col in train.columns if col.startswith('lag_')]\n",
    "target_mean = train[targetcol].mean()\n",
    "for col in cols:\n",
    "    train[col].fillna(0,inplace=True)"
   ]
  },
  {
   "cell_type": "markdown",
   "id": "86683575",
   "metadata": {
    "papermill": {
     "duration": 0.018615,
     "end_time": "2022-11-20T17:42:52.853734",
     "exception": false,
     "start_time": "2022-11-20T17:42:52.835119",
     "status": "completed"
    },
    "tags": []
   },
   "source": [
    "<a id='split'></a>\n",
    "## Train and Validation Split"
   ]
  },
  {
   "cell_type": "markdown",
   "id": "d99c3ad9-982b-4b63-81d4-3dd36430e5e6",
   "metadata": {
    "execution": {
     "iopub.execute_input": "2022-11-23T11:52:02.969899Z",
     "iopub.status.busy": "2022-11-23T11:52:02.969472Z",
     "iopub.status.idle": "2022-11-23T11:52:02.977127Z",
     "shell.execute_reply": "2022-11-23T11:52:02.976368Z",
     "shell.execute_reply.started": "2022-11-23T11:52:02.969826Z"
    }
   },
   "source": [
    "Validation Set from 2016 to 2018 <br>\n",
    "Train Set from 2008 to 2015"
   ]
  },
  {
   "cell_type": "code",
   "execution_count": 35,
   "id": "14a5434d",
   "metadata": {
    "execution": {
     "iopub.execute_input": "2022-11-20T17:42:52.940129Z",
     "iopub.status.busy": "2022-11-20T17:42:52.939756Z",
     "iopub.status.idle": "2022-11-20T17:42:52.995836Z",
     "shell.execute_reply": "2022-11-20T17:42:52.994837Z"
    },
    "papermill": {
     "duration": 0.079642,
     "end_time": "2022-11-20T17:42:52.997709",
     "exception": false,
     "start_time": "2022-11-20T17:42:52.918067",
     "status": "completed"
    },
    "tags": []
   },
   "outputs": [
    {
     "name": "stdout",
     "output_type": "stream",
     "text": [
      "(68688, 25)\n",
      "(26304, 25)\n"
     ]
    },
    {
     "data": {
      "text/html": [
       "<div>\n",
       "<style scoped>\n",
       "    .dataframe tbody tr th:only-of-type {\n",
       "        vertical-align: middle;\n",
       "    }\n",
       "\n",
       "    .dataframe tbody tr th {\n",
       "        vertical-align: top;\n",
       "    }\n",
       "\n",
       "    .dataframe thead th {\n",
       "        text-align: right;\n",
       "    }\n",
       "</style>\n",
       "<table border=\"1\" class=\"dataframe\">\n",
       "  <thead>\n",
       "    <tr style=\"text-align: right;\">\n",
       "      <th></th>\n",
       "      <th>row_id</th>\n",
       "      <th>datetime</th>\n",
       "      <th>energy</th>\n",
       "      <th>year</th>\n",
       "      <th>month</th>\n",
       "      <th>day</th>\n",
       "      <th>hour</th>\n",
       "      <th>weekofyear</th>\n",
       "      <th>dayofweek</th>\n",
       "      <th>dayofweek_grp</th>\n",
       "      <th>quarter</th>\n",
       "      <th>is_weekend</th>\n",
       "      <th>day_part</th>\n",
       "      <th>is_holiday</th>\n",
       "      <th>special_holiday</th>\n",
       "      <th>month_hour_mean</th>\n",
       "      <th>quarter_hour_mean</th>\n",
       "      <th>weekofyear_mean</th>\n",
       "      <th>dayofweek_grp_mean</th>\n",
       "      <th>lag_24</th>\n",
       "      <th>lag_168</th>\n",
       "      <th>lag_720</th>\n",
       "      <th>lag_2160</th>\n",
       "      <th>lag_8760</th>\n",
       "      <th>lag_26304</th>\n",
       "    </tr>\n",
       "  </thead>\n",
       "  <tbody>\n",
       "    <tr>\n",
       "      <th>68688</th>\n",
       "      <td>68689</td>\n",
       "      <td>2016-01-01 00:00:00</td>\n",
       "      <td>2002.2470</td>\n",
       "      <td>2016</td>\n",
       "      <td>1</td>\n",
       "      <td>1</td>\n",
       "      <td>0</td>\n",
       "      <td>53</td>\n",
       "      <td>4</td>\n",
       "      <td>3</td>\n",
       "      <td>1</td>\n",
       "      <td>False</td>\n",
       "      <td>0</td>\n",
       "      <td>True</td>\n",
       "      <td>True</td>\n",
       "      <td>1661.002682</td>\n",
       "      <td>1504.829986</td>\n",
       "      <td>1874.91005</td>\n",
       "      <td>1625.815769</td>\n",
       "      <td>2045.0170</td>\n",
       "      <td>2274.7530</td>\n",
       "      <td>1983.0616</td>\n",
       "      <td>1878.0918</td>\n",
       "      <td>2287.2788</td>\n",
       "      <td>1479.1658</td>\n",
       "    </tr>\n",
       "    <tr>\n",
       "      <th>68689</th>\n",
       "      <td>68690</td>\n",
       "      <td>2016-01-01 01:00:00</td>\n",
       "      <td>1843.3870</td>\n",
       "      <td>2016</td>\n",
       "      <td>1</td>\n",
       "      <td>1</td>\n",
       "      <td>1</td>\n",
       "      <td>53</td>\n",
       "      <td>4</td>\n",
       "      <td>3</td>\n",
       "      <td>1</td>\n",
       "      <td>False</td>\n",
       "      <td>0</td>\n",
       "      <td>True</td>\n",
       "      <td>True</td>\n",
       "      <td>1543.596544</td>\n",
       "      <td>1412.376876</td>\n",
       "      <td>1734.62185</td>\n",
       "      <td>1543.548695</td>\n",
       "      <td>1881.1468</td>\n",
       "      <td>2118.4592</td>\n",
       "      <td>1827.3788</td>\n",
       "      <td>1878.0918</td>\n",
       "      <td>2120.5124</td>\n",
       "      <td>1375.2627</td>\n",
       "    </tr>\n",
       "    <tr>\n",
       "      <th>68690</th>\n",
       "      <td>68691</td>\n",
       "      <td>2016-01-01 02:00:00</td>\n",
       "      <td>1735.1178</td>\n",
       "      <td>2016</td>\n",
       "      <td>1</td>\n",
       "      <td>1</td>\n",
       "      <td>2</td>\n",
       "      <td>53</td>\n",
       "      <td>4</td>\n",
       "      <td>3</td>\n",
       "      <td>1</td>\n",
       "      <td>False</td>\n",
       "      <td>0</td>\n",
       "      <td>True</td>\n",
       "      <td>True</td>\n",
       "      <td>1462.390875</td>\n",
       "      <td>1352.371501</td>\n",
       "      <td>1633.81205</td>\n",
       "      <td>1493.577402</td>\n",
       "      <td>1781.7982</td>\n",
       "      <td>2020.4548</td>\n",
       "      <td>1719.9650</td>\n",
       "      <td>1627.7040</td>\n",
       "      <td>2015.9704</td>\n",
       "      <td>1307.8261</td>\n",
       "    </tr>\n",
       "    <tr>\n",
       "      <th>68691</th>\n",
       "      <td>68692</td>\n",
       "      <td>2016-01-01 03:00:00</td>\n",
       "      <td>1666.1970</td>\n",
       "      <td>2016</td>\n",
       "      <td>1</td>\n",
       "      <td>1</td>\n",
       "      <td>3</td>\n",
       "      <td>53</td>\n",
       "      <td>4</td>\n",
       "      <td>3</td>\n",
       "      <td>1</td>\n",
       "      <td>False</td>\n",
       "      <td>0</td>\n",
       "      <td>True</td>\n",
       "      <td>True</td>\n",
       "      <td>1410.076914</td>\n",
       "      <td>1315.962924</td>\n",
       "      <td>1578.16560</td>\n",
       "      <td>1465.825460</td>\n",
       "      <td>1719.5984</td>\n",
       "      <td>1936.5034</td>\n",
       "      <td>1648.2336</td>\n",
       "      <td>1564.5266</td>\n",
       "      <td>1939.9740</td>\n",
       "      <td>1261.5295</td>\n",
       "    </tr>\n",
       "    <tr>\n",
       "      <th>68692</th>\n",
       "      <td>68693</td>\n",
       "      <td>2016-01-01 04:00:00</td>\n",
       "      <td>1630.3924</td>\n",
       "      <td>2016</td>\n",
       "      <td>1</td>\n",
       "      <td>1</td>\n",
       "      <td>4</td>\n",
       "      <td>53</td>\n",
       "      <td>4</td>\n",
       "      <td>3</td>\n",
       "      <td>1</td>\n",
       "      <td>False</td>\n",
       "      <td>0</td>\n",
       "      <td>True</td>\n",
       "      <td>True</td>\n",
       "      <td>1378.289974</td>\n",
       "      <td>1298.825422</td>\n",
       "      <td>1542.43910</td>\n",
       "      <td>1459.997669</td>\n",
       "      <td>1657.1542</td>\n",
       "      <td>1895.8108</td>\n",
       "      <td>1603.2640</td>\n",
       "      <td>1541.5530</td>\n",
       "      <td>1885.3868</td>\n",
       "      <td>1228.8682</td>\n",
       "    </tr>\n",
       "  </tbody>\n",
       "</table>\n",
       "</div>"
      ],
      "text/plain": [
       "       row_id            datetime     energy  year  month  day  hour  \\\n",
       "68688   68689 2016-01-01 00:00:00  2002.2470  2016      1    1     0   \n",
       "68689   68690 2016-01-01 01:00:00  1843.3870  2016      1    1     1   \n",
       "68690   68691 2016-01-01 02:00:00  1735.1178  2016      1    1     2   \n",
       "68691   68692 2016-01-01 03:00:00  1666.1970  2016      1    1     3   \n",
       "68692   68693 2016-01-01 04:00:00  1630.3924  2016      1    1     4   \n",
       "\n",
       "       weekofyear  dayofweek  dayofweek_grp  quarter  is_weekend  day_part  \\\n",
       "68688          53          4              3        1       False         0   \n",
       "68689          53          4              3        1       False         0   \n",
       "68690          53          4              3        1       False         0   \n",
       "68691          53          4              3        1       False         0   \n",
       "68692          53          4              3        1       False         0   \n",
       "\n",
       "       is_holiday  special_holiday  month_hour_mean  quarter_hour_mean  \\\n",
       "68688        True             True      1661.002682        1504.829986   \n",
       "68689        True             True      1543.596544        1412.376876   \n",
       "68690        True             True      1462.390875        1352.371501   \n",
       "68691        True             True      1410.076914        1315.962924   \n",
       "68692        True             True      1378.289974        1298.825422   \n",
       "\n",
       "       weekofyear_mean  dayofweek_grp_mean     lag_24    lag_168    lag_720  \\\n",
       "68688       1874.91005         1625.815769  2045.0170  2274.7530  1983.0616   \n",
       "68689       1734.62185         1543.548695  1881.1468  2118.4592  1827.3788   \n",
       "68690       1633.81205         1493.577402  1781.7982  2020.4548  1719.9650   \n",
       "68691       1578.16560         1465.825460  1719.5984  1936.5034  1648.2336   \n",
       "68692       1542.43910         1459.997669  1657.1542  1895.8108  1603.2640   \n",
       "\n",
       "        lag_2160   lag_8760  lag_26304  \n",
       "68688  1878.0918  2287.2788  1479.1658  \n",
       "68689  1878.0918  2120.5124  1375.2627  \n",
       "68690  1627.7040  2015.9704  1307.8261  \n",
       "68691  1564.5266  1939.9740  1261.5295  \n",
       "68692  1541.5530  1885.3868  1228.8682  "
      ]
     },
     "execution_count": 35,
     "metadata": {},
     "output_type": "execute_result"
    }
   ],
   "source": [
    "import datetime \n",
    "train_start = datetime.datetime(year=2008,month=1,day=1,hour=0)\n",
    "val_start = datetime.datetime(year=2016,month=1,day=1,hour=0)\n",
    "val_end = datetime.datetime(year=2018,month=12,day=31,hour=23)\n",
    "\n",
    "X_val= train[(train['datetime']>=val_start) & (train['datetime']<=val_end)].copy()\n",
    "X_train= train[(train['datetime']>=train_start) & (train['datetime']<val_start)].copy()\n",
    "print(X_train.shape)\n",
    "print(X_val.shape)\n",
    "X_val.head()           "
   ]
  },
  {
   "cell_type": "code",
   "execution_count": 36,
   "id": "f4bfc2cb",
   "metadata": {
    "execution": {
     "iopub.execute_input": "2022-11-20T17:42:53.043522Z",
     "iopub.status.busy": "2022-11-20T17:42:53.043194Z",
     "iopub.status.idle": "2022-11-20T17:42:53.049256Z",
     "shell.execute_reply": "2022-11-20T17:42:53.048396Z"
    },
    "papermill": {
     "duration": 0.029736,
     "end_time": "2022-11-20T17:42:53.051554",
     "exception": false,
     "start_time": "2022-11-20T17:42:53.021818",
     "status": "completed"
    },
    "tags": []
   },
   "outputs": [
    {
     "name": "stdout",
     "output_type": "stream",
     "text": [
      "0\n"
     ]
    }
   ],
   "source": [
    "val_target = X_val[targetcol]\n",
    "print(X_val[targetcol].isnull().sum())"
   ]
  },
  {
   "cell_type": "markdown",
   "id": "a5230694-a49c-4fe1-af3a-7a750ab14f26",
   "metadata": {},
   "source": [
    "Create simple validation prediction baseline using train mean value "
   ]
  },
  {
   "cell_type": "code",
   "execution_count": 38,
   "id": "320651c7",
   "metadata": {
    "execution": {
     "iopub.execute_input": "2022-11-20T17:42:53.137048Z",
     "iopub.status.busy": "2022-11-20T17:42:53.136657Z",
     "iopub.status.idle": "2022-11-20T17:42:54.275997Z",
     "shell.execute_reply": "2022-11-20T17:42:54.274633Z"
    },
    "papermill": {
     "duration": 1.161869,
     "end_time": "2022-11-20T17:42:54.278360",
     "exception": false,
     "start_time": "2022-11-20T17:42:53.116491",
     "status": "completed"
    },
    "tags": []
   },
   "outputs": [],
   "source": [
    "from sklearn.metrics import mean_squared_error"
   ]
  },
  {
   "cell_type": "code",
   "execution_count": 39,
   "id": "ec809cad",
   "metadata": {
    "execution": {
     "iopub.execute_input": "2022-11-20T17:42:54.318488Z",
     "iopub.status.busy": "2022-11-20T17:42:54.318118Z",
     "iopub.status.idle": "2022-11-20T17:42:54.323797Z",
     "shell.execute_reply": "2022-11-20T17:42:54.322871Z"
    },
    "papermill": {
     "duration": 0.02799,
     "end_time": "2022-11-20T17:42:54.325629",
     "exception": false,
     "start_time": "2022-11-20T17:42:54.297639",
     "status": "completed"
    },
    "tags": []
   },
   "outputs": [],
   "source": [
    "#compute baseline error by predicting train energy mean as the energy for all time\n",
    "val_preds_baseline = np.full(len(X_val),train[targetcol].mean())"
   ]
  },
  {
   "cell_type": "code",
   "execution_count": 42,
   "id": "e9a6fd03",
   "metadata": {
    "execution": {
     "iopub.execute_input": "2022-11-20T17:42:54.460193Z",
     "iopub.status.busy": "2022-11-20T17:42:54.459183Z",
     "iopub.status.idle": "2022-11-20T17:42:54.467005Z",
     "shell.execute_reply": "2022-11-20T17:42:54.464857Z"
    },
    "papermill": {
     "duration": 0.030687,
     "end_time": "2022-11-20T17:42:54.469578",
     "exception": false,
     "start_time": "2022-11-20T17:42:54.438891",
     "status": "completed"
    },
    "tags": []
   },
   "outputs": [
    {
     "name": "stdout",
     "output_type": "stream",
     "text": [
      "valid score: 431.7300102305795\n"
     ]
    }
   ],
   "source": [
    "#compute error score on baseline predictions\n",
    "val_score = mean_squared_error(val_target,val_preds_baseline,squared=False)\n",
    "print('valid score:',val_score)"
   ]
  },
  {
   "cell_type": "markdown",
   "id": "4b6c5b5b",
   "metadata": {
    "papermill": {
     "duration": 0.019307,
     "end_time": "2022-11-20T17:42:54.508552",
     "exception": false,
     "start_time": "2022-11-20T17:42:54.489245",
     "status": "completed"
    },
    "tags": []
   },
   "source": [
    "<a id='model_eval'></a>\n",
    "## Model Evaluation using Unobserved Components"
   ]
  },
  {
   "cell_type": "code",
   "execution_count": 43,
   "id": "0eb91b30",
   "metadata": {
    "execution": {
     "iopub.execute_input": "2022-11-20T17:42:54.549592Z",
     "iopub.status.busy": "2022-11-20T17:42:54.549236Z",
     "iopub.status.idle": "2022-11-20T17:42:54.555511Z",
     "shell.execute_reply": "2022-11-20T17:42:54.554160Z"
    },
    "papermill": {
     "duration": 0.02962,
     "end_time": "2022-11-20T17:42:54.557914",
     "exception": false,
     "start_time": "2022-11-20T17:42:54.528294",
     "status": "completed"
    },
    "tags": []
   },
   "outputs": [
    {
     "data": {
      "text/plain": [
       "(68688, 25)"
      ]
     },
     "execution_count": 43,
     "metadata": {},
     "output_type": "execute_result"
    }
   ],
   "source": [
    "X_val.shape\n",
    "X_train.shape"
   ]
  },
  {
   "cell_type": "code",
   "execution_count": 44,
   "id": "bb233e16",
   "metadata": {
    "execution": {
     "iopub.execute_input": "2022-11-20T17:42:54.598413Z",
     "iopub.status.busy": "2022-11-20T17:42:54.598015Z",
     "iopub.status.idle": "2022-11-20T17:42:55.399021Z",
     "shell.execute_reply": "2022-11-20T17:42:55.398063Z"
    },
    "papermill": {
     "duration": 0.824126,
     "end_time": "2022-11-20T17:42:55.401421",
     "exception": false,
     "start_time": "2022-11-20T17:42:54.577295",
     "status": "completed"
    },
    "tags": []
   },
   "outputs": [],
   "source": [
    "import statsmodels.api as sm"
   ]
  },
  {
   "cell_type": "code",
   "execution_count": 46,
   "id": "5d150b97",
   "metadata": {
    "execution": {
     "iopub.execute_input": "2022-11-20T17:42:55.488100Z",
     "iopub.status.busy": "2022-11-20T17:42:55.487655Z",
     "iopub.status.idle": "2022-11-20T17:42:55.493059Z",
     "shell.execute_reply": "2022-11-20T17:42:55.492253Z"
    },
    "papermill": {
     "duration": 0.027728,
     "end_time": "2022-11-20T17:42:55.494869",
     "exception": false,
     "start_time": "2022-11-20T17:42:55.467141",
     "status": "completed"
    },
    "tags": []
   },
   "outputs": [],
   "source": [
    "def get_exog(data):\n",
    "    exog_data =data[[\n",
    "#                     'is_weekend',\n",
    "                     'hour',\n",
    "                     'month_hour_mean','quarter_hour_mean','weekofyear_mean',\n",
    "                      'dayofweek_grp_mean',  \n",
    "                    ]]\n",
    "#     exog_data =data[['is_weekend','month','hour','is_holiday','special_holiday']]\n",
    "    cols = ['hour']\n",
    "    exog_data = pd.get_dummies(exog_data,prefix=cols,columns=cols)\n",
    "    return exog_data.astype('int')"
   ]
  },
  {
   "cell_type": "code",
   "execution_count": 47,
   "id": "70179040",
   "metadata": {
    "execution": {
     "iopub.execute_input": "2022-11-20T17:42:55.537194Z",
     "iopub.status.busy": "2022-11-20T17:42:55.536802Z",
     "iopub.status.idle": "2022-11-20T17:42:55.543752Z",
     "shell.execute_reply": "2022-11-20T17:42:55.542455Z"
    },
    "papermill": {
     "duration": 0.032272,
     "end_time": "2022-11-20T17:42:55.546679",
     "exception": false,
     "start_time": "2022-11-20T17:42:55.514407",
     "status": "completed"
    },
    "tags": []
   },
   "outputs": [
    {
     "data": {
      "text/plain": [
       "(26304, 25)"
      ]
     },
     "execution_count": 47,
     "metadata": {},
     "output_type": "execute_result"
    }
   ],
   "source": [
    "X_val.shape"
   ]
  },
  {
   "cell_type": "code",
   "execution_count": 48,
   "id": "43e4c980",
   "metadata": {
    "execution": {
     "iopub.execute_input": "2022-11-20T17:42:55.588644Z",
     "iopub.status.busy": "2022-11-20T17:42:55.588017Z",
     "iopub.status.idle": "2022-11-20T17:42:55.595134Z",
     "shell.execute_reply": "2022-11-20T17:42:55.594482Z"
    },
    "papermill": {
     "duration": 0.029936,
     "end_time": "2022-11-20T17:42:55.596790",
     "exception": false,
     "start_time": "2022-11-20T17:42:55.566854",
     "status": "completed"
    },
    "tags": []
   },
   "outputs": [
    {
     "data": {
      "text/plain": [
       "Index([    0,     1,     2,     3,     4,     5,     6,     7,     8,     9,\n",
       "       ...\n",
       "       68678, 68679, 68680, 68681, 68682, 68683, 68684, 68685, 68686, 68687],\n",
       "      dtype='object', length=68688)"
      ]
     },
     "execution_count": 48,
     "metadata": {},
     "output_type": "execute_result"
    }
   ],
   "source": [
    "X_train.index"
   ]
  },
  {
   "cell_type": "code",
   "execution_count": 50,
   "id": "6dc038fe",
   "metadata": {
    "execution": {
     "iopub.execute_input": "2022-11-20T17:42:55.682981Z",
     "iopub.status.busy": "2022-11-20T17:42:55.682414Z",
     "iopub.status.idle": "2022-11-20T17:42:55.686790Z",
     "shell.execute_reply": "2022-11-20T17:42:55.685455Z"
    },
    "papermill": {
     "duration": 0.027185,
     "end_time": "2022-11-20T17:42:55.688858",
     "exception": false,
     "start_time": "2022-11-20T17:42:55.661673",
     "status": "completed"
    },
    "tags": []
   },
   "outputs": [],
   "source": [
    "# exog_train = get_exog(X_train)\n",
    "# exog_test = get_exog(X_val)\n",
    "# print(exog_train.columns)\n",
    "\n",
    "# y_train = X_train[targetcol].copy()\n",
    "# y_test = X_val[targetcol].copy()"
   ]
  },
  {
   "cell_type": "code",
   "execution_count": 51,
   "id": "76176bae",
   "metadata": {
    "execution": {
     "iopub.execute_input": "2022-11-20T17:42:55.729561Z",
     "iopub.status.busy": "2022-11-20T17:42:55.729040Z",
     "iopub.status.idle": "2022-11-20T17:42:55.738594Z",
     "shell.execute_reply": "2022-11-20T17:42:55.737278Z"
    },
    "papermill": {
     "duration": 0.033015,
     "end_time": "2022-11-20T17:42:55.741172",
     "exception": false,
     "start_time": "2022-11-20T17:42:55.708157",
     "status": "completed"
    },
    "tags": []
   },
   "outputs": [],
   "source": [
    "exog_train = X_train[['month_hour_mean','quarter_hour_mean','weekofyear_mean','dayofweek_grp_mean']].astype('int')\n",
    "exog_test = X_val[['month_hour_mean','quarter_hour_mean','weekofyear_mean','dayofweek_grp_mean']].astype('int')\n",
    "\n",
    "y_train = X_train[targetcol].copy()\n",
    "y_test = X_val[targetcol].copy()\n"
   ]
  },
  {
   "cell_type": "markdown",
   "id": "fe6fa90f-afce-4b6b-854e-1e9f08e2ada1",
   "metadata": {},
   "source": [
    "Create UCM model with 3 seasonalities and set other parameters as determined during EDA"
   ]
  },
  {
   "cell_type": "code",
   "execution_count": 52,
   "id": "02b05eeb",
   "metadata": {
    "execution": {
     "iopub.execute_input": "2022-11-20T17:42:55.783202Z",
     "iopub.status.busy": "2022-11-20T17:42:55.782884Z",
     "iopub.status.idle": "2022-11-20T17:45:19.706888Z",
     "shell.execute_reply": "2022-11-20T17:45:19.706066Z"
    },
    "papermill": {
     "duration": 143.948102,
     "end_time": "2022-11-20T17:45:19.709425",
     "exception": false,
     "start_time": "2022-11-20T17:42:55.761323",
     "status": "completed"
    },
    "tags": []
   },
   "outputs": [
    {
     "name": "stderr",
     "output_type": "stream",
     "text": [
      "/opt/conda/lib/python3.7/site-packages/statsmodels/tsa/base/tsa_model.py:471: ValueWarning: No frequency information was provided, so inferred frequency N will be used.\n",
      "  self._init_dates(dates, freq)\n",
      " This problem is unconstrained.\n"
     ]
    },
    {
     "name": "stdout",
     "output_type": "stream",
     "text": [
      "RUNNING THE L-BFGS-B CODE\n",
      "\n",
      "           * * *\n",
      "\n",
      "Machine precision = 2.220D-16\n",
      " N =           10     M =           10\n",
      "\n",
      "At X0         0 variables are exactly at the bounds\n",
      "\n",
      "At iterate    0    f=  6.60858D+00    |proj g|=  2.06045D-02\n",
      "\n",
      "At iterate    5    f=  6.58712D+00    |proj g|=  3.30647D-03\n",
      "\n",
      "At iterate   10    f=  6.44908D+00    |proj g|=  3.46181D-02\n",
      "\n",
      "At iterate   15    f=  5.54640D+00    |proj g|=  1.41002D-01\n",
      "\n",
      "At iterate   20    f=  5.20858D+00    |proj g|=  5.39570D-02\n",
      "\n",
      "At iterate   25    f=  5.10238D+00    |proj g|=  1.91475D-02\n",
      "\n",
      "At iterate   30    f=  4.78196D+00    |proj g|=  4.72114D-01\n",
      "\n",
      "At iterate   35    f=  4.65346D+00    |proj g|=  4.26132D-02\n",
      "\n",
      "At iterate   40    f=  4.65243D+00    |proj g|=  5.99829D-03\n",
      "\n",
      "At iterate   45    f=  4.64664D+00    |proj g|=  3.93707D-02\n",
      "\n",
      "At iterate   50    f=  4.64117D+00    |proj g|=  1.61984D-02\n",
      "\n",
      "           * * *\n",
      "\n",
      "Tit   = total number of iterations\n",
      "Tnf   = total number of function evaluations\n",
      "Tnint = total number of segments explored during Cauchy searches\n",
      "Skip  = number of BFGS updates skipped\n",
      "Nact  = number of active bounds at final generalized Cauchy point\n",
      "Projg = norm of the final projected gradient\n",
      "F     = final function value\n",
      "\n",
      "           * * *\n",
      "\n",
      "   N    Tit     Tnf  Tnint  Skip  Nact     Projg        F\n",
      "   10     50     63      1     0     0   1.620D-02   4.641D+00\n",
      "  F =   4.6411745096951140     \n",
      "\n",
      "STOP: TOTAL NO. of ITERATIONS REACHED LIMIT                 \n"
     ]
    },
    {
     "name": "stderr",
     "output_type": "stream",
     "text": [
      "/opt/conda/lib/python3.7/site-packages/statsmodels/base/model.py:606: ConvergenceWarning: Maximum Likelihood optimization failed to converge. Check mle_retvals\n",
      "  ConvergenceWarning)\n"
     ]
    },
    {
     "name": "stdout",
     "output_type": "stream",
     "text": [
      "                                 Unobserved Components Results                                 \n",
      "===============================================================================================\n",
      "Dep. Variable:                                  energy   No. Observations:                68688\n",
      "Model:                local linear deterministic trend   Log Likelihood             -318792.995\n",
      "                                + freq_seasonal(24(1))   AIC                         637605.989\n",
      "                               + freq_seasonal(168(1))   BIC                         637697.361\n",
      "                   + stochastic freq_seasonal(8766(2))   HQIC                        637634.195\n",
      "                                               + AR(2)                                         \n",
      "Date:                                 Sun, 20 Nov 2022                                         \n",
      "Time:                                         17:45:19                                         \n",
      "Sample:                                     01-01-1970                                         \n",
      "                                          - 01-01-1970                                         \n",
      "Covariance Type:                                   opg                                         \n",
      "================================================================================================\n",
      "                                   coef    std err          z      P>|z|      [0.025      0.975]\n",
      "------------------------------------------------------------------------------------------------\n",
      "sigma2.irregular                 1.5727      1.794      0.877      0.381      -1.943       5.088\n",
      "sigma2.level                   578.8350     40.838     14.174      0.000     498.795     658.875\n",
      "sigma2.freq_seasonal_8766(2)     3.5556     20.056      0.177      0.859     -35.753      42.864\n",
      "sigma2.ar                       11.5898      1.688      6.867      0.000       8.282      14.898\n",
      "ar.L1                            1.8119      0.016    113.499      0.000       1.781       1.843\n",
      "ar.L2                           -0.8156      0.016    -50.080      0.000      -0.848      -0.784\n",
      "beta.month_hour_mean             0.3223      0.005     68.430      0.000       0.313       0.332\n",
      "beta.quarter_hour_mean          -0.1112      0.006    -19.349      0.000      -0.123      -0.100\n",
      "beta.weekofyear_mean             0.5446      0.005    102.430      0.000       0.534       0.555\n",
      "beta.dayofweek_grp_mean          0.2693      0.003     87.407      0.000       0.263       0.275\n",
      "===================================================================================\n",
      "Ljung-Box (L1) (Q):                3517.82   Jarque-Bera (JB):           8243427.87\n",
      "Prob(Q):                              0.00   Prob(JB):                         0.00\n",
      "Heteroskedasticity (H):               1.62   Skew:                             0.04\n",
      "Prob(H) (two-sided):                  0.00   Kurtosis:                        56.67\n",
      "===================================================================================\n",
      "\n",
      "Warnings:\n",
      "[1] Covariance matrix calculated using the outer product of gradients (complex-step).\n",
      "\n",
      "In-sample mean absolute error (MAE): 17, In-sample root mean squared error (RMSE): 25\n",
      "CPU times: user 3min 9s, sys: 3min 25s, total: 6min 35s\n",
      "Wall time: 2min 23s\n"
     ]
    }
   ],
   "source": [
    "%%time\n",
    "#splitting time series to train and test subsets\n",
    "\n",
    "#Unobserved Components model definition\n",
    "model_UC1 = sm.tsa.UnobservedComponents(y_train,\n",
    "                                        autoregressive=2,\n",
    "                                        level='lldtrend',\n",
    "                                        exog=exog_train,\n",
    "                                        cycle=False,\n",
    "                                        irregular=False,\n",
    "                                        stochastic_level = False,\n",
    "                                        stochastic_trend = False,\n",
    "                                        stochastic_freq_seasonal = [False,False,True],\n",
    "                                        freq_seasonal=[{'period': 24, 'harmonics': 1},\n",
    "                                                       {'period': 168, 'harmonics': 1},\n",
    "                                                       {'period': 8766, 'harmonics': 2}\n",
    "                                                      ]\n",
    "                                       )\n",
    "#fitting model to train data\n",
    "model_UC1res = model_UC1.fit()\n",
    "\n",
    "#printing statsmodels summary for model\n",
    "print(model_UC1res.summary())\n",
    "\n",
    "print(\"\")\n",
    "#calculating mean absolute error and root mean squared error for in-sample prediction of model\n",
    "print(f\"In-sample mean absolute error (MAE): {'%.0f' % model_UC1res.mae}, In-sample root mean squared error (RMSE): {'%.0f' % np.sqrt(model_UC1res.mse)}\")\n",
    "\n",
    "#model forecast"
   ]
  },
  {
   "cell_type": "markdown",
   "id": "b9a779db-55df-4729-9493-26688f122b52",
   "metadata": {},
   "source": [
    "Predict validation data set using the above trained model"
   ]
  },
  {
   "cell_type": "code",
   "execution_count": 53,
   "id": "8cece43c",
   "metadata": {
    "execution": {
     "iopub.execute_input": "2022-11-20T17:45:19.765299Z",
     "iopub.status.busy": "2022-11-20T17:45:19.764883Z",
     "iopub.status.idle": "2022-11-20T17:45:20.355701Z",
     "shell.execute_reply": "2022-11-20T17:45:20.354840Z"
    },
    "papermill": {
     "duration": 0.622427,
     "end_time": "2022-11-20T17:45:20.358989",
     "exception": false,
     "start_time": "2022-11-20T17:45:19.736562",
     "status": "completed"
    },
    "tags": []
   },
   "outputs": [
    {
     "name": "stdout",
     "output_type": "stream",
     "text": [
      "valid score: 210.14759367685278\n"
     ]
    }
   ],
   "source": [
    "forecast_UC1 = model_UC1res.forecast(steps=26304,exog=exog_test.reset_index(drop=True),\n",
    "#                                      signal_only='abcd'\n",
    "                                    )\n",
    "#calculating root mean squared error\n",
    "RMSE_UC1 = mean_squared_error(y_test,forecast_UC1,squared=False)\n",
    "print('valid score:',RMSE_UC1)"
   ]
  },
  {
   "cell_type": "code",
   "execution_count": 57,
   "id": "fb2929ab",
   "metadata": {
    "execution": {
     "iopub.execute_input": "2022-11-20T17:45:20.552127Z",
     "iopub.status.busy": "2022-11-20T17:45:20.550838Z",
     "iopub.status.idle": "2022-11-20T17:45:20.555317Z",
     "shell.execute_reply": "2022-11-20T17:45:20.554643Z"
    },
    "papermill": {
     "duration": 0.02894,
     "end_time": "2022-11-20T17:45:20.557760",
     "exception": false,
     "start_time": "2022-11-20T17:45:20.528820",
     "status": "completed"
    },
    "tags": []
   },
   "outputs": [],
   "source": [
    "import joblib"
   ]
  },
  {
   "cell_type": "markdown",
   "id": "dd540b0d-1d60-428d-b104-0a203bf947fa",
   "metadata": {},
   "source": [
    "Save the model file and validation set and validation predictions"
   ]
  },
  {
   "cell_type": "code",
   "execution_count": 58,
   "id": "7bb1e59e",
   "metadata": {
    "execution": {
     "iopub.execute_input": "2022-11-20T17:45:20.602486Z",
     "iopub.status.busy": "2022-11-20T17:45:20.601114Z",
     "iopub.status.idle": "2022-11-20T17:46:26.202414Z",
     "shell.execute_reply": "2022-11-20T17:46:26.201234Z"
    },
    "papermill": {
     "duration": 65.626151,
     "end_time": "2022-11-20T17:46:26.205164",
     "exception": false,
     "start_time": "2022-11-20T17:45:20.579013",
     "status": "completed"
    },
    "tags": []
   },
   "outputs": [],
   "source": [
    "np.save('val_forecast_UC.npy',forecast_UC1)\n",
    "joblib.dump(model_UC1res,'UC_model_val.pkl',compress=True)\n",
    "X_val.to_csv('X_val.csv',index=False)"
   ]
  },
  {
   "cell_type": "code",
   "execution_count": 59,
   "id": "0939b2f1",
   "metadata": {
    "execution": {
     "iopub.execute_input": "2022-11-20T17:46:26.249265Z",
     "iopub.status.busy": "2022-11-20T17:46:26.248858Z",
     "iopub.status.idle": "2022-11-20T17:46:26.261903Z",
     "shell.execute_reply": "2022-11-20T17:46:26.260745Z"
    },
    "papermill": {
     "duration": 0.037537,
     "end_time": "2022-11-20T17:46:26.264024",
     "exception": false,
     "start_time": "2022-11-20T17:46:26.226487",
     "status": "completed"
    },
    "tags": []
   },
   "outputs": [
    {
     "data": {
      "text/plain": [
       "count    26304.000000\n",
       "mean      1889.893129\n",
       "std        239.034764\n",
       "min       1265.702516\n",
       "25%       1719.378875\n",
       "50%       1876.667720\n",
       "75%       2071.568487\n",
       "max       2500.430957\n",
       "Name: predicted_mean, dtype: float64"
      ]
     },
     "execution_count": 59,
     "metadata": {},
     "output_type": "execute_result"
    }
   ],
   "source": [
    "pd.Series(forecast_UC1.describe())"
   ]
  },
  {
   "cell_type": "code",
   "execution_count": 64,
   "id": "3dc3af68",
   "metadata": {
    "execution": {
     "iopub.execute_input": "2022-11-20T17:46:26.505714Z",
     "iopub.status.busy": "2022-11-20T17:46:26.505313Z",
     "iopub.status.idle": "2022-11-20T17:46:26.509807Z",
     "shell.execute_reply": "2022-11-20T17:46:26.508856Z"
    },
    "papermill": {
     "duration": 0.028369,
     "end_time": "2022-11-20T17:46:26.512007",
     "exception": false,
     "start_time": "2022-11-20T17:46:26.483638",
     "status": "completed"
    },
    "tags": []
   },
   "outputs": [],
   "source": [
    "import matplotlib.pyplot as plt"
   ]
  },
  {
   "cell_type": "markdown",
   "id": "348cb659",
   "metadata": {
    "papermill": {
     "duration": 0.02291,
     "end_time": "2022-11-20T17:46:26.555453",
     "exception": false,
     "start_time": "2022-11-20T17:46:26.532543",
     "status": "completed"
    },
    "tags": []
   },
   "source": [
    "<a id='model_final'></a>\n",
    "## Model Finalization for Test Prediction"
   ]
  },
  {
   "cell_type": "markdown",
   "id": "66d3a6a7-74a6-4050-a74c-77666c1ca7e1",
   "metadata": {},
   "source": [
    "Train the model using complete data and perform test prediction using this model"
   ]
  },
  {
   "cell_type": "code",
   "execution_count": 66,
   "id": "4d2ebb0e",
   "metadata": {
    "execution": {
     "iopub.execute_input": "2022-11-20T17:46:26.651663Z",
     "iopub.status.busy": "2022-11-20T17:46:26.651285Z",
     "iopub.status.idle": "2022-11-20T17:46:26.660057Z",
     "shell.execute_reply": "2022-11-20T17:46:26.659131Z"
    },
    "papermill": {
     "duration": 0.033128,
     "end_time": "2022-11-20T17:46:26.662169",
     "exception": false,
     "start_time": "2022-11-20T17:46:26.629041",
     "status": "completed"
    },
    "tags": []
   },
   "outputs": [],
   "source": [
    "exog_train_full = train[['month_hour_mean','quarter_hour_mean','weekofyear_mean','dayofweek_grp_mean']].astype('int')\n",
    "exog_test_full = test[['month_hour_mean','quarter_hour_mean','weekofyear_mean','dayofweek_grp_mean']].astype('int')\n"
   ]
  },
  {
   "cell_type": "markdown",
   "id": "fa12af21-57c7-46b9-87b0-a08c3f685843",
   "metadata": {},
   "source": [
    "Use the same model configuration as that of model evaluation phase, but fit the model on full train data"
   ]
  },
  {
   "cell_type": "code",
   "execution_count": 67,
   "id": "759c395e",
   "metadata": {
    "execution": {
     "iopub.execute_input": "2022-11-20T17:46:26.706243Z",
     "iopub.status.busy": "2022-11-20T17:46:26.705868Z",
     "iopub.status.idle": "2022-11-20T17:49:32.233822Z",
     "shell.execute_reply": "2022-11-20T17:49:32.232957Z"
    },
    "papermill": {
     "duration": 185.552458,
     "end_time": "2022-11-20T17:49:32.235848",
     "exception": false,
     "start_time": "2022-11-20T17:46:26.683390",
     "status": "completed"
    },
    "tags": []
   },
   "outputs": [
    {
     "name": "stderr",
     "output_type": "stream",
     "text": [
      "/opt/conda/lib/python3.7/site-packages/statsmodels/tsa/base/tsa_model.py:471: ValueWarning: No frequency information was provided, so inferred frequency N will be used.\n",
      "  self._init_dates(dates, freq)\n"
     ]
    },
    {
     "name": "stdout",
     "output_type": "stream",
     "text": [
      "RUNNING THE L-BFGS-B CODE\n",
      "\n",
      "           * * *\n",
      "\n",
      "Machine precision = 2.220D-16\n",
      " N =           10     M =           10\n",
      "\n",
      "At X0         0 variables are exactly at the bounds\n",
      "\n",
      "At iterate    0    f=  6.74571D+00    |proj g|=  1.65115D-02\n"
     ]
    },
    {
     "name": "stderr",
     "output_type": "stream",
     "text": [
      " This problem is unconstrained.\n"
     ]
    },
    {
     "name": "stdout",
     "output_type": "stream",
     "text": [
      "\n",
      "At iterate    5    f=  6.72746D+00    |proj g|=  2.89559D-03\n",
      "\n",
      "At iterate   10    f=  6.60047D+00    |proj g|=  2.28351D-02\n",
      "\n",
      "At iterate   15    f=  5.59100D+00    |proj g|=  1.85184D-01\n",
      "\n",
      "At iterate   20    f=  5.23756D+00    |proj g|=  5.52484D-02\n",
      "\n",
      "At iterate   25    f=  5.15310D+00    |proj g|=  7.38187D-02\n",
      "\n",
      "At iterate   30    f=  4.81392D+00    |proj g|=  1.17701D-01\n",
      "\n",
      "At iterate   35    f=  4.72962D+00    |proj g|=  1.20128D-02\n",
      "\n",
      "At iterate   40    f=  4.72134D+00    |proj g|=  3.74185D-02\n",
      "\n",
      "At iterate   45    f=  4.71795D+00    |proj g|=  2.72116D-03\n"
     ]
    },
    {
     "name": "stderr",
     "output_type": "stream",
     "text": [
      "/opt/conda/lib/python3.7/site-packages/statsmodels/base/model.py:606: ConvergenceWarning: Maximum Likelihood optimization failed to converge. Check mle_retvals\n",
      "  ConvergenceWarning)\n"
     ]
    },
    {
     "name": "stdout",
     "output_type": "stream",
     "text": [
      "\n",
      "At iterate   50    f=  4.71793D+00    |proj g|=  7.27483D-05\n",
      "\n",
      "           * * *\n",
      "\n",
      "Tit   = total number of iterations\n",
      "Tnf   = total number of function evaluations\n",
      "Tnint = total number of segments explored during Cauchy searches\n",
      "Skip  = number of BFGS updates skipped\n",
      "Nact  = number of active bounds at final generalized Cauchy point\n",
      "Projg = norm of the final projected gradient\n",
      "F     = final function value\n",
      "\n",
      "           * * *\n",
      "\n",
      "   N    Tit     Tnf  Tnint  Skip  Nact     Projg        F\n",
      "   10     50     63      1     0     0   7.275D-05   4.718D+00\n",
      "  F =   4.7179349548425202     \n",
      "\n",
      "STOP: TOTAL NO. of ITERATIONS REACHED LIMIT                 \n",
      "                                 Unobserved Components Results                                 \n",
      "===============================================================================================\n",
      "Dep. Variable:                                  energy   No. Observations:                94992\n",
      "Model:                local linear deterministic trend   Log Likelihood             -448166.077\n",
      "                                + freq_seasonal(24(1))   AIC                         896352.154\n",
      "                               + freq_seasonal(168(1))   BIC                         896446.769\n",
      "                   + stochastic freq_seasonal(8766(2))   HQIC                        896380.934\n",
      "                                               + AR(2)                                         \n",
      "Date:                                 Sun, 20 Nov 2022                                         \n",
      "Time:                                         17:49:31                                         \n",
      "Sample:                                     01-01-1970                                         \n",
      "                                          - 01-01-1970                                         \n",
      "Covariance Type:                                   opg                                         \n",
      "================================================================================================\n",
      "                                   coef    std err          z      P>|z|      [0.025      0.975]\n",
      "------------------------------------------------------------------------------------------------\n",
      "sigma2.irregular                 0.0024      1.960      0.001      0.999      -3.840       3.845\n",
      "sigma2.level                   729.7630     23.482     31.078      0.000     683.739     775.787\n",
      "sigma2.freq_seasonal_8766(2)     1.9619     11.398      0.172      0.863     -20.377      24.301\n",
      "sigma2.ar                     1.408e-05      0.930   1.51e-05      1.000      -1.822       1.822\n",
      "ar.L1                            0.1045   1.45e+04   7.21e-06      1.000   -2.84e+04    2.84e+04\n",
      "ar.L2                            0.8954   1.31e+04   6.82e-05      1.000   -2.57e+04    2.57e+04\n",
      "beta.month_hour_mean             0.3812      0.004     84.802      0.000       0.372       0.390\n",
      "beta.quarter_hour_mean          -0.1149      0.005    -21.865      0.000      -0.125      -0.105\n",
      "beta.weekofyear_mean             0.5468      0.005    111.875      0.000       0.537       0.556\n",
      "beta.dayofweek_grp_mean          0.2724      0.003     97.088      0.000       0.267       0.278\n",
      "===================================================================================\n",
      "Ljung-Box (L1) (Q):                8223.96   Jarque-Bera (JB):           3375594.78\n",
      "Prob(Q):                              0.00   Prob(JB):                         0.00\n",
      "Heteroskedasticity (H):               1.79   Skew:                             0.07\n",
      "Prob(H) (two-sided):                  0.00   Kurtosis:                        32.20\n",
      "===================================================================================\n",
      "\n",
      "Warnings:\n",
      "[1] Covariance matrix calculated using the outer product of gradients (complex-step).\n",
      "[2] Covariance matrix is singular or near-singular, with condition number 4.81e+14. Standard errors may be unstable.\n",
      "\n",
      "In-sample mean absolute error (MAE): 19, In-sample root mean squared error (RMSE): 27\n",
      "CPU times: user 3min 51s, sys: 3min 26s, total: 7min 18s\n",
      "Wall time: 3min 5s\n"
     ]
    }
   ],
   "source": [
    "%%time\n",
    "#splitting time series to train and test subsets\n",
    "y_train_full = train[targetcol].copy()\n",
    "\n",
    "#Unobserved Components model definition\n",
    "model_UC_full = sm.tsa.UnobservedComponents(y_train_full,\n",
    "                                        autoregressive=2,\n",
    "                                        level='lldtrend',\n",
    "                                        exog=exog_train_full,\n",
    "                                        cycle=False,\n",
    "                                        irregular=False,\n",
    "                                        stochastic_level = False,\n",
    "                                        stochastic_trend = False,\n",
    "                                        stochastic_freq_seasonal = [False,False,True],\n",
    "                                        freq_seasonal=[{'period': 24, 'harmonics': 1},\n",
    "                                                       {'period': 168, 'harmonics': 1},\n",
    "                                                       {'period': 8766, 'harmonics': 2}\n",
    "                                                      ]\n",
    "                                       )\n",
    "#fitting model to train data\n",
    "model_UC_full_res = model_UC_full.fit()\n",
    "\n",
    "#printing statsmodels summary for model\n",
    "print(model_UC_full_res.summary())\n",
    "\n",
    "print(\"\")\n",
    "#calculating mean absolute error and root mean squared error for in-sample prediction of model\n",
    "print(f\"In-sample mean absolute error (MAE): {'%.0f' % model_UC_full_res.mae}, In-sample root mean squared error (RMSE): {'%.0f' % np.sqrt(model_UC_full_res.mse)}\")"
   ]
  },
  {
   "cell_type": "code",
   "execution_count": 68,
   "id": "444844b4",
   "metadata": {
    "execution": {
     "iopub.execute_input": "2022-11-20T17:49:32.293585Z",
     "iopub.status.busy": "2022-11-20T17:49:32.293209Z",
     "iopub.status.idle": "2022-11-20T17:49:32.878994Z",
     "shell.execute_reply": "2022-11-20T17:49:32.878000Z"
    },
    "papermill": {
     "duration": 0.617684,
     "end_time": "2022-11-20T17:49:32.881342",
     "exception": false,
     "start_time": "2022-11-20T17:49:32.263658",
     "status": "completed"
    },
    "tags": []
   },
   "outputs": [],
   "source": [
    "#Predict Test Set\n",
    "forecast_UC_test = model_UC_full_res.forecast(steps=26304,exog=exog_test_full)"
   ]
  },
  {
   "cell_type": "code",
   "execution_count": 69,
   "id": "2c263e63",
   "metadata": {
    "execution": {
     "iopub.execute_input": "2022-11-20T17:49:32.926195Z",
     "iopub.status.busy": "2022-11-20T17:49:32.925495Z",
     "iopub.status.idle": "2022-11-20T17:51:02.413110Z",
     "shell.execute_reply": "2022-11-20T17:51:02.411733Z"
    },
    "papermill": {
     "duration": 89.533201,
     "end_time": "2022-11-20T17:51:02.436290",
     "exception": false,
     "start_time": "2022-11-20T17:49:32.903089",
     "status": "completed"
    },
    "tags": []
   },
   "outputs": [
    {
     "data": {
      "text/plain": [
       "['UC_model_full.pkl']"
      ]
     },
     "execution_count": 69,
     "metadata": {},
     "output_type": "execute_result"
    }
   ],
   "source": [
    "joblib.dump(model_UC_full_res,'UC_model_full.pkl',compress=True)"
   ]
  },
  {
   "cell_type": "code",
   "execution_count": 70,
   "id": "a7f58cf7",
   "metadata": {
    "execution": {
     "iopub.execute_input": "2022-11-20T17:51:02.480998Z",
     "iopub.status.busy": "2022-11-20T17:51:02.480617Z",
     "iopub.status.idle": "2022-11-20T17:51:02.486441Z",
     "shell.execute_reply": "2022-11-20T17:51:02.484893Z"
    },
    "papermill": {
     "duration": 0.030695,
     "end_time": "2022-11-20T17:51:02.488571",
     "exception": false,
     "start_time": "2022-11-20T17:51:02.457876",
     "status": "completed"
    },
    "tags": []
   },
   "outputs": [
    {
     "name": "stdout",
     "output_type": "stream",
     "text": [
      "26304 26304\n"
     ]
    }
   ],
   "source": [
    "print(len(test),len(forecast_UC_test))"
   ]
  },
  {
   "cell_type": "code",
   "execution_count": 71,
   "id": "81169685",
   "metadata": {
    "execution": {
     "iopub.execute_input": "2022-11-20T17:51:02.533520Z",
     "iopub.status.busy": "2022-11-20T17:51:02.532998Z",
     "iopub.status.idle": "2022-11-20T17:51:02.539478Z",
     "shell.execute_reply": "2022-11-20T17:51:02.538736Z"
    },
    "papermill": {
     "duration": 0.031181,
     "end_time": "2022-11-20T17:51:02.541350",
     "exception": false,
     "start_time": "2022-11-20T17:51:02.510169",
     "status": "completed"
    },
    "tags": []
   },
   "outputs": [
    {
     "data": {
      "text/plain": [
       "DatetimeIndex(['1970-01-01 00:00:00.000094992',\n",
       "               '1970-01-01 00:00:00.000094993',\n",
       "               '1970-01-01 00:00:00.000094994',\n",
       "               '1970-01-01 00:00:00.000094995',\n",
       "               '1970-01-01 00:00:00.000094996',\n",
       "               '1970-01-01 00:00:00.000094997',\n",
       "               '1970-01-01 00:00:00.000094998',\n",
       "               '1970-01-01 00:00:00.000094999',\n",
       "                  '1970-01-01 00:00:00.000095',\n",
       "               '1970-01-01 00:00:00.000095001',\n",
       "               ...\n",
       "               '1970-01-01 00:00:00.000121286',\n",
       "               '1970-01-01 00:00:00.000121287',\n",
       "               '1970-01-01 00:00:00.000121288',\n",
       "               '1970-01-01 00:00:00.000121289',\n",
       "               '1970-01-01 00:00:00.000121290',\n",
       "               '1970-01-01 00:00:00.000121291',\n",
       "               '1970-01-01 00:00:00.000121292',\n",
       "               '1970-01-01 00:00:00.000121293',\n",
       "               '1970-01-01 00:00:00.000121294',\n",
       "               '1970-01-01 00:00:00.000121295'],\n",
       "              dtype='datetime64[ns]', length=26304, freq='N')"
      ]
     },
     "execution_count": 71,
     "metadata": {},
     "output_type": "execute_result"
    }
   ],
   "source": [
    "forecast_UC_test.index"
   ]
  },
  {
   "cell_type": "code",
   "execution_count": 72,
   "id": "241845de",
   "metadata": {
    "execution": {
     "iopub.execute_input": "2022-11-20T17:51:02.586162Z",
     "iopub.status.busy": "2022-11-20T17:51:02.585559Z",
     "iopub.status.idle": "2022-11-20T17:51:02.597215Z",
     "shell.execute_reply": "2022-11-20T17:51:02.596100Z"
    },
    "papermill": {
     "duration": 0.036746,
     "end_time": "2022-11-20T17:51:02.599588",
     "exception": false,
     "start_time": "2022-11-20T17:51:02.562842",
     "status": "completed"
    },
    "tags": []
   },
   "outputs": [
    {
     "data": {
      "text/plain": [
       "count    26304.000000\n",
       "mean      2175.961016\n",
       "std        253.653072\n",
       "min       1531.577046\n",
       "25%       1992.191260\n",
       "50%       2166.163701\n",
       "75%       2367.162571\n",
       "max       2824.182355\n",
       "Name: predicted_mean, dtype: float64"
      ]
     },
     "execution_count": 72,
     "metadata": {},
     "output_type": "execute_result"
    }
   ],
   "source": [
    "pd.Series(forecast_UC_test).describe()"
   ]
  },
  {
   "cell_type": "code",
   "execution_count": 73,
   "id": "ff645088",
   "metadata": {
    "execution": {
     "iopub.execute_input": "2022-11-20T17:51:02.644493Z",
     "iopub.status.busy": "2022-11-20T17:51:02.644130Z",
     "iopub.status.idle": "2022-11-20T17:51:02.690366Z",
     "shell.execute_reply": "2022-11-20T17:51:02.689204Z"
    },
    "papermill": {
     "duration": 0.071664,
     "end_time": "2022-11-20T17:51:02.692763",
     "exception": false,
     "start_time": "2022-11-20T17:51:02.621099",
     "status": "completed"
    },
    "tags": []
   },
   "outputs": [],
   "source": [
    "subm = pd.DataFrame()\n",
    "subm['row_id'] = test['row_id']\n",
    "subm[targetcol]=forecast_UC_test.values\n",
    "subm.to_csv('submission.csv',index=False)"
   ]
  },
  {
   "cell_type": "code",
   "execution_count": 74,
   "id": "07973625",
   "metadata": {
    "execution": {
     "iopub.execute_input": "2022-11-20T17:51:02.737445Z",
     "iopub.status.busy": "2022-11-20T17:51:02.737075Z",
     "iopub.status.idle": "2022-11-20T17:51:02.753756Z",
     "shell.execute_reply": "2022-11-20T17:51:02.752432Z"
    },
    "papermill": {
     "duration": 0.041311,
     "end_time": "2022-11-20T17:51:02.755817",
     "exception": false,
     "start_time": "2022-11-20T17:51:02.714506",
     "status": "completed"
    },
    "tags": []
   },
   "outputs": [
    {
     "data": {
      "text/html": [
       "<div>\n",
       "<style scoped>\n",
       "    .dataframe tbody tr th:only-of-type {\n",
       "        vertical-align: middle;\n",
       "    }\n",
       "\n",
       "    .dataframe tbody tr th {\n",
       "        vertical-align: top;\n",
       "    }\n",
       "\n",
       "    .dataframe thead th {\n",
       "        text-align: right;\n",
       "    }\n",
       "</style>\n",
       "<table border=\"1\" class=\"dataframe\">\n",
       "  <thead>\n",
       "    <tr style=\"text-align: right;\">\n",
       "      <th></th>\n",
       "      <th>row_id</th>\n",
       "      <th>energy</th>\n",
       "    </tr>\n",
       "  </thead>\n",
       "  <tbody>\n",
       "    <tr>\n",
       "      <th>0</th>\n",
       "      <td>94993</td>\n",
       "      <td>2043.411609</td>\n",
       "    </tr>\n",
       "    <tr>\n",
       "      <th>1</th>\n",
       "      <td>94994</td>\n",
       "      <td>1926.746250</td>\n",
       "    </tr>\n",
       "    <tr>\n",
       "      <th>2</th>\n",
       "      <td>94995</td>\n",
       "      <td>1846.524746</td>\n",
       "    </tr>\n",
       "    <tr>\n",
       "      <th>3</th>\n",
       "      <td>94996</td>\n",
       "      <td>1790.194676</td>\n",
       "    </tr>\n",
       "    <tr>\n",
       "      <th>4</th>\n",
       "      <td>94997</td>\n",
       "      <td>1767.701016</td>\n",
       "    </tr>\n",
       "  </tbody>\n",
       "</table>\n",
       "</div>"
      ],
      "text/plain": [
       "   row_id       energy\n",
       "0   94993  2043.411609\n",
       "1   94994  1926.746250\n",
       "2   94995  1846.524746\n",
       "3   94996  1790.194676\n",
       "4   94997  1767.701016"
      ]
     },
     "execution_count": 74,
     "metadata": {},
     "output_type": "execute_result"
    }
   ],
   "source": [
    "#check saved submission data\n",
    "pd.read_csv('submission.csv').head()"
   ]
  }
 ],
 "metadata": {
  "kernelspec": {
   "display_name": "saturn (Python 3)",
   "language": "python",
   "name": "python3"
  },
  "language_info": {
   "codemirror_mode": {
    "name": "ipython",
    "version": 3
   },
   "file_extension": ".py",
   "mimetype": "text/x-python",
   "name": "python",
   "nbconvert_exporter": "python",
   "pygments_lexer": "ipython3",
   "version": "3.9.13"
  },
  "papermill": {
   "default_parameters": {},
   "duration": 513.868629,
   "end_time": "2022-11-20T17:51:03.750543",
   "environment_variables": {},
   "exception": null,
   "input_path": "__notebook__.ipynb",
   "output_path": "__notebook__.ipynb",
   "parameters": {},
   "start_time": "2022-11-20T17:42:29.881914",
   "version": "2.3.4"
  }
 },
 "nbformat": 4,
 "nbformat_minor": 5
}
