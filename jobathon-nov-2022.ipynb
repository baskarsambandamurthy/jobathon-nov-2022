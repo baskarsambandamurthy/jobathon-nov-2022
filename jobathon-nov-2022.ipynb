{
 "cells": [
  {
   "cell_type": "code",
   "execution_count": 1,
   "id": "602425d8",
   "metadata": {
    "_cell_guid": "b1076dfc-b9ad-4769-8c92-a6c4dae69d19",
    "_uuid": "8f2839f25d086af736a60e9eeb907d3b93b6e0e5",
    "execution": {
     "iopub.execute_input": "2022-11-19T13:54:40.102962Z",
     "iopub.status.busy": "2022-11-19T13:54:40.101780Z",
     "iopub.status.idle": "2022-11-19T13:54:40.130223Z",
     "shell.execute_reply": "2022-11-19T13:54:40.128883Z"
    },
    "papermill": {
     "duration": 0.050279,
     "end_time": "2022-11-19T13:54:40.134375",
     "exception": false,
     "start_time": "2022-11-19T13:54:40.084096",
     "status": "completed"
    },
    "tags": []
   },
   "outputs": [
    {
     "name": "stdout",
     "output_type": "stream",
     "text": [
      "/kaggle/input/jobathon-nov-2022/sample_submission.csv\n",
      "/kaggle/input/jobathon-nov-2022/train.csv\n",
      "/kaggle/input/jobathon-nov-2022/test.csv\n"
     ]
    }
   ],
   "source": [
    "# This Python 3 environment comes with many helpful analytics libraries installed\n",
    "# It is defined by the kaggle/python Docker image: https://github.com/kaggle/docker-python\n",
    "# For example, here's several helpful packages to load\n",
    "\n",
    "import numpy as np # linear algebra\n",
    "import pandas as pd # data processing, CSV file I/O (e.g. pd.read_csv)\n",
    "\n",
    "# Input data files are available in the read-only \"../input/\" directory\n",
    "# For example, running this (by clicking run or pressing Shift+Enter) will list all files under the input directory\n",
    "\n",
    "import os\n",
    "for dirname, _, filenames in os.walk('/kaggle/input'):\n",
    "    for filename in filenames:\n",
    "        print(os.path.join(dirname, filename))\n",
    "\n",
    "# You can write up to 20GB to the current directory (/kaggle/working/) that gets preserved as output when you create a version using \"Save & Run All\" \n",
    "# You can also write temporary files to /kaggle/temp/, but they won't be saved outside of the current session"
   ]
  },
  {
   "cell_type": "code",
   "execution_count": 2,
   "id": "55a6e0fa",
   "metadata": {
    "execution": {
     "iopub.execute_input": "2022-11-19T13:54:40.160082Z",
     "iopub.status.busy": "2022-11-19T13:54:40.159167Z",
     "iopub.status.idle": "2022-11-19T13:54:55.711975Z",
     "shell.execute_reply": "2022-11-19T13:54:55.710417Z"
    },
    "papermill": {
     "duration": 15.568943,
     "end_time": "2022-11-19T13:54:55.715321",
     "exception": false,
     "start_time": "2022-11-19T13:54:40.146378",
     "status": "completed"
    },
    "tags": []
   },
   "outputs": [
    {
     "name": "stdout",
     "output_type": "stream",
     "text": [
      "Collecting pmdarima\r\n",
      "  Downloading pmdarima-2.0.1-cp37-cp37m-manylinux_2_17_x86_64.manylinux2014_x86_64.manylinux_2_28_x86_64.whl (1.8 MB)\r\n",
      "\u001b[2K     \u001b[90m━━━━━━━━━━━━━━━━━━━━━━━━━━━━━━━━━━━━━━━━\u001b[0m \u001b[32m1.8/1.8 MB\u001b[0m \u001b[31m3.8 MB/s\u001b[0m eta \u001b[36m0:00:00\u001b[0m\r\n",
      "\u001b[?25hRequirement already satisfied: numpy>=1.21 in /opt/conda/lib/python3.7/site-packages (from pmdarima) (1.21.6)\r\n",
      "Requirement already satisfied: statsmodels>=0.13.2 in /opt/conda/lib/python3.7/site-packages (from pmdarima) (0.13.2)\r\n",
      "Requirement already satisfied: joblib>=0.11 in /opt/conda/lib/python3.7/site-packages (from pmdarima) (1.0.1)\r\n",
      "Requirement already satisfied: Cython!=0.29.18,!=0.29.31,>=0.29 in /opt/conda/lib/python3.7/site-packages (from pmdarima) (0.29.32)\r\n",
      "Requirement already satisfied: scipy>=1.3.2 in /opt/conda/lib/python3.7/site-packages (from pmdarima) (1.7.3)\r\n",
      "Requirement already satisfied: setuptools!=50.0.0,>=38.6.0 in /opt/conda/lib/python3.7/site-packages (from pmdarima) (59.8.0)\r\n",
      "Requirement already satisfied: pandas>=0.19 in /opt/conda/lib/python3.7/site-packages (from pmdarima) (1.3.5)\r\n",
      "Requirement already satisfied: urllib3 in /opt/conda/lib/python3.7/site-packages (from pmdarima) (1.26.12)\r\n",
      "Requirement already satisfied: scikit-learn>=0.22 in /opt/conda/lib/python3.7/site-packages (from pmdarima) (1.0.2)\r\n",
      "Requirement already satisfied: python-dateutil>=2.7.3 in /opt/conda/lib/python3.7/site-packages (from pandas>=0.19->pmdarima) (2.8.2)\r\n",
      "Requirement already satisfied: pytz>=2017.3 in /opt/conda/lib/python3.7/site-packages (from pandas>=0.19->pmdarima) (2022.1)\r\n",
      "Requirement already satisfied: threadpoolctl>=2.0.0 in /opt/conda/lib/python3.7/site-packages (from scikit-learn>=0.22->pmdarima) (3.1.0)\r\n",
      "Requirement already satisfied: packaging>=21.3 in /opt/conda/lib/python3.7/site-packages (from statsmodels>=0.13.2->pmdarima) (21.3)\r\n",
      "Requirement already satisfied: patsy>=0.5.2 in /opt/conda/lib/python3.7/site-packages (from statsmodels>=0.13.2->pmdarima) (0.5.2)\r\n",
      "Requirement already satisfied: pyparsing!=3.0.5,>=2.0.2 in /opt/conda/lib/python3.7/site-packages (from packaging>=21.3->statsmodels>=0.13.2->pmdarima) (3.0.9)\r\n",
      "Requirement already satisfied: six in /opt/conda/lib/python3.7/site-packages (from patsy>=0.5.2->statsmodels>=0.13.2->pmdarima) (1.15.0)\r\n",
      "Installing collected packages: pmdarima\r\n",
      "Successfully installed pmdarima-2.0.1\r\n",
      "\u001b[33mWARNING: Running pip as the 'root' user can result in broken permissions and conflicting behaviour with the system package manager. It is recommended to use a virtual environment instead: https://pip.pypa.io/warnings/venv\u001b[0m\u001b[33m\r\n",
      "\u001b[0m"
     ]
    }
   ],
   "source": [
    "!pip install pmdarima"
   ]
  },
  {
   "cell_type": "code",
   "execution_count": 3,
   "id": "296792a9",
   "metadata": {
    "execution": {
     "iopub.execute_input": "2022-11-19T13:54:55.744980Z",
     "iopub.status.busy": "2022-11-19T13:54:55.744450Z",
     "iopub.status.idle": "2022-11-19T13:54:55.912104Z",
     "shell.execute_reply": "2022-11-19T13:54:55.910634Z"
    },
    "papermill": {
     "duration": 0.184465,
     "end_time": "2022-11-19T13:54:55.914776",
     "exception": false,
     "start_time": "2022-11-19T13:54:55.730311",
     "status": "completed"
    },
    "tags": []
   },
   "outputs": [
    {
     "name": "stdout",
     "output_type": "stream",
     "text": [
      "(94992, 3)\n"
     ]
    }
   ],
   "source": [
    "train=pd.read_csv('/kaggle/input/jobathon-nov-2022/train.csv')\n",
    "print(train.shape)"
   ]
  },
  {
   "cell_type": "code",
   "execution_count": 4,
   "id": "af7845f6",
   "metadata": {
    "execution": {
     "iopub.execute_input": "2022-11-19T13:54:55.943888Z",
     "iopub.status.busy": "2022-11-19T13:54:55.942547Z",
     "iopub.status.idle": "2022-11-19T13:54:56.021994Z",
     "shell.execute_reply": "2022-11-19T13:54:56.020888Z"
    },
    "papermill": {
     "duration": 0.098838,
     "end_time": "2022-11-19T13:54:56.026899",
     "exception": false,
     "start_time": "2022-11-19T13:54:55.928061",
     "status": "completed"
    },
    "tags": []
   },
   "outputs": [
    {
     "name": "stdout",
     "output_type": "stream",
     "text": [
      "(26304, 2)\n"
     ]
    }
   ],
   "source": [
    "test=pd.read_csv('/kaggle/input/jobathon-nov-2022/test.csv')\n",
    "print(test.shape)"
   ]
  },
  {
   "cell_type": "code",
   "execution_count": 5,
   "id": "fff95192",
   "metadata": {
    "execution": {
     "iopub.execute_input": "2022-11-19T13:54:56.055073Z",
     "iopub.status.busy": "2022-11-19T13:54:56.053992Z",
     "iopub.status.idle": "2022-11-19T13:54:56.088715Z",
     "shell.execute_reply": "2022-11-19T13:54:56.087582Z"
    },
    "papermill": {
     "duration": 0.05163,
     "end_time": "2022-11-19T13:54:56.091576",
     "exception": false,
     "start_time": "2022-11-19T13:54:56.039946",
     "status": "completed"
    },
    "tags": []
   },
   "outputs": [
    {
     "data": {
      "text/html": [
       "<div>\n",
       "<style scoped>\n",
       "    .dataframe tbody tr th:only-of-type {\n",
       "        vertical-align: middle;\n",
       "    }\n",
       "\n",
       "    .dataframe tbody tr th {\n",
       "        vertical-align: top;\n",
       "    }\n",
       "\n",
       "    .dataframe thead th {\n",
       "        text-align: right;\n",
       "    }\n",
       "</style>\n",
       "<table border=\"1\" class=\"dataframe\">\n",
       "  <thead>\n",
       "    <tr style=\"text-align: right;\">\n",
       "      <th></th>\n",
       "      <th>row_id</th>\n",
       "      <th>datetime</th>\n",
       "      <th>energy</th>\n",
       "    </tr>\n",
       "  </thead>\n",
       "  <tbody>\n",
       "    <tr>\n",
       "      <th>0</th>\n",
       "      <td>1</td>\n",
       "      <td>2008-03-01 00:00:00</td>\n",
       "      <td>1259.985563</td>\n",
       "    </tr>\n",
       "    <tr>\n",
       "      <th>1</th>\n",
       "      <td>2</td>\n",
       "      <td>2008-03-01 01:00:00</td>\n",
       "      <td>1095.541500</td>\n",
       "    </tr>\n",
       "    <tr>\n",
       "      <th>2</th>\n",
       "      <td>3</td>\n",
       "      <td>2008-03-01 02:00:00</td>\n",
       "      <td>1056.247500</td>\n",
       "    </tr>\n",
       "    <tr>\n",
       "      <th>3</th>\n",
       "      <td>4</td>\n",
       "      <td>2008-03-01 03:00:00</td>\n",
       "      <td>1034.742000</td>\n",
       "    </tr>\n",
       "    <tr>\n",
       "      <th>4</th>\n",
       "      <td>5</td>\n",
       "      <td>2008-03-01 04:00:00</td>\n",
       "      <td>1026.334500</td>\n",
       "    </tr>\n",
       "  </tbody>\n",
       "</table>\n",
       "</div>"
      ],
      "text/plain": [
       "   row_id             datetime       energy\n",
       "0       1  2008-03-01 00:00:00  1259.985563\n",
       "1       2  2008-03-01 01:00:00  1095.541500\n",
       "2       3  2008-03-01 02:00:00  1056.247500\n",
       "3       4  2008-03-01 03:00:00  1034.742000\n",
       "4       5  2008-03-01 04:00:00  1026.334500"
      ]
     },
     "execution_count": 5,
     "metadata": {},
     "output_type": "execute_result"
    }
   ],
   "source": [
    "train.head()"
   ]
  },
  {
   "cell_type": "code",
   "execution_count": 6,
   "id": "215e1ab4",
   "metadata": {
    "execution": {
     "iopub.execute_input": "2022-11-19T13:54:56.119716Z",
     "iopub.status.busy": "2022-11-19T13:54:56.119242Z",
     "iopub.status.idle": "2022-11-19T13:54:56.155135Z",
     "shell.execute_reply": "2022-11-19T13:54:56.153731Z"
    },
    "papermill": {
     "duration": 0.054592,
     "end_time": "2022-11-19T13:54:56.158850",
     "exception": false,
     "start_time": "2022-11-19T13:54:56.104258",
     "status": "completed"
    },
    "tags": []
   },
   "outputs": [
    {
     "name": "stdout",
     "output_type": "stream",
     "text": [
      "<class 'pandas.core.frame.DataFrame'>\n",
      "RangeIndex: 94992 entries, 0 to 94991\n",
      "Data columns (total 3 columns):\n",
      " #   Column    Non-Null Count  Dtype  \n",
      "---  ------    --------------  -----  \n",
      " 0   row_id    94992 non-null  int64  \n",
      " 1   datetime  94992 non-null  object \n",
      " 2   energy    93092 non-null  float64\n",
      "dtypes: float64(1), int64(1), object(1)\n",
      "memory usage: 2.2+ MB\n"
     ]
    }
   ],
   "source": [
    "train.info()"
   ]
  },
  {
   "cell_type": "code",
   "execution_count": 7,
   "id": "188b839b",
   "metadata": {
    "execution": {
     "iopub.execute_input": "2022-11-19T13:54:56.187096Z",
     "iopub.status.busy": "2022-11-19T13:54:56.186551Z",
     "iopub.status.idle": "2022-11-19T13:54:56.212256Z",
     "shell.execute_reply": "2022-11-19T13:54:56.211172Z"
    },
    "papermill": {
     "duration": 0.042476,
     "end_time": "2022-11-19T13:54:56.214705",
     "exception": false,
     "start_time": "2022-11-19T13:54:56.172229",
     "status": "completed"
    },
    "tags": []
   },
   "outputs": [
    {
     "data": {
      "text/plain": [
       "count    93092.000000\n",
       "mean      1702.995014\n",
       "std        369.322103\n",
       "min        866.388600\n",
       "25%       1431.541100\n",
       "50%       1654.465800\n",
       "75%       1935.993450\n",
       "max       3374.399600\n",
       "Name: energy, dtype: float64"
      ]
     },
     "execution_count": 7,
     "metadata": {},
     "output_type": "execute_result"
    }
   ],
   "source": [
    "train['energy'].describe()"
   ]
  },
  {
   "cell_type": "code",
   "execution_count": 8,
   "id": "7df19130",
   "metadata": {
    "execution": {
     "iopub.execute_input": "2022-11-19T13:54:56.242498Z",
     "iopub.status.busy": "2022-11-19T13:54:56.241581Z",
     "iopub.status.idle": "2022-11-19T13:54:56.276345Z",
     "shell.execute_reply": "2022-11-19T13:54:56.274983Z"
    },
    "papermill": {
     "duration": 0.052003,
     "end_time": "2022-11-19T13:54:56.279390",
     "exception": false,
     "start_time": "2022-11-19T13:54:56.227387",
     "status": "completed"
    },
    "tags": []
   },
   "outputs": [],
   "source": [
    "train['datetime']=pd.to_datetime(train['datetime'],infer_datetime_format=True)"
   ]
  },
  {
   "cell_type": "code",
   "execution_count": 9,
   "id": "a274f8f0",
   "metadata": {
    "execution": {
     "iopub.execute_input": "2022-11-19T13:54:56.308202Z",
     "iopub.status.busy": "2022-11-19T13:54:56.307401Z",
     "iopub.status.idle": "2022-11-19T13:54:56.318292Z",
     "shell.execute_reply": "2022-11-19T13:54:56.316992Z"
    },
    "papermill": {
     "duration": 0.02797,
     "end_time": "2022-11-19T13:54:56.320943",
     "exception": false,
     "start_time": "2022-11-19T13:54:56.292973",
     "status": "completed"
    },
    "tags": []
   },
   "outputs": [
    {
     "data": {
      "text/plain": [
       "(Timestamp('2008-03-01 00:00:00'), Timestamp('2018-12-31 23:00:00'))"
      ]
     },
     "execution_count": 9,
     "metadata": {},
     "output_type": "execute_result"
    }
   ],
   "source": [
    "train['datetime'].min(),train['datetime'].max()"
   ]
  },
  {
   "cell_type": "code",
   "execution_count": 10,
   "id": "93c7a7de",
   "metadata": {
    "execution": {
     "iopub.execute_input": "2022-11-19T13:54:56.349997Z",
     "iopub.status.busy": "2022-11-19T13:54:56.348573Z",
     "iopub.status.idle": "2022-11-19T13:54:56.356534Z",
     "shell.execute_reply": "2022-11-19T13:54:56.355202Z"
    },
    "papermill": {
     "duration": 0.025489,
     "end_time": "2022-11-19T13:54:56.359575",
     "exception": false,
     "start_time": "2022-11-19T13:54:56.334086",
     "status": "completed"
    },
    "tags": []
   },
   "outputs": [],
   "source": [
    "hour_map={0:0,1:0,2:0,3:0,4:0,5:0,\n",
    "         6:1,7:1,8:1,\n",
    "         9:2,10:2,11:2,\n",
    "         12:3,13:3,14:3,15:3,\n",
    "         16:4,17:4,\n",
    "         18:5,19:5,20:5,\n",
    "         21:6,22:6,23:6}"
   ]
  },
  {
   "cell_type": "code",
   "execution_count": 11,
   "id": "397f665c",
   "metadata": {
    "execution": {
     "iopub.execute_input": "2022-11-19T13:54:56.387642Z",
     "iopub.status.busy": "2022-11-19T13:54:56.387131Z",
     "iopub.status.idle": "2022-11-19T13:54:56.456499Z",
     "shell.execute_reply": "2022-11-19T13:54:56.455153Z"
    },
    "papermill": {
     "duration": 0.08705,
     "end_time": "2022-11-19T13:54:56.459614",
     "exception": false,
     "start_time": "2022-11-19T13:54:56.372564",
     "status": "completed"
    },
    "tags": []
   },
   "outputs": [],
   "source": [
    "train['year']=train['datetime'].dt.year\n",
    "train['month']=train['datetime'].dt.month\n",
    "train['day']=train['datetime'].dt.day\n",
    "train['hour']=train['datetime'].dt.hour\n",
    "train['is_weekend']=train['datetime'].dt.dayofweek >4\n",
    "train['day_part']=train['hour'].replace(hour_map)"
   ]
  },
  {
   "cell_type": "code",
   "execution_count": 12,
   "id": "0cc4fcd9",
   "metadata": {
    "execution": {
     "iopub.execute_input": "2022-11-19T13:54:56.489836Z",
     "iopub.status.busy": "2022-11-19T13:54:56.488566Z",
     "iopub.status.idle": "2022-11-19T13:54:56.499082Z",
     "shell.execute_reply": "2022-11-19T13:54:56.497882Z"
    },
    "papermill": {
     "duration": 0.028173,
     "end_time": "2022-11-19T13:54:56.501386",
     "exception": false,
     "start_time": "2022-11-19T13:54:56.473213",
     "status": "completed"
    },
    "tags": []
   },
   "outputs": [
    {
     "data": {
      "text/plain": [
       "array([2008, 2009, 2010, 2011, 2012, 2013, 2014, 2015, 2016, 2017, 2018])"
      ]
     },
     "execution_count": 12,
     "metadata": {},
     "output_type": "execute_result"
    }
   ],
   "source": [
    "train['year'].unique()"
   ]
  },
  {
   "cell_type": "code",
   "execution_count": 13,
   "id": "097d4a7c",
   "metadata": {
    "execution": {
     "iopub.execute_input": "2022-11-19T13:54:56.530123Z",
     "iopub.status.busy": "2022-11-19T13:54:56.528960Z",
     "iopub.status.idle": "2022-11-19T13:54:56.545569Z",
     "shell.execute_reply": "2022-11-19T13:54:56.544488Z"
    },
    "papermill": {
     "duration": 0.033922,
     "end_time": "2022-11-19T13:54:56.548275",
     "exception": false,
     "start_time": "2022-11-19T13:54:56.514353",
     "status": "completed"
    },
    "tags": []
   },
   "outputs": [],
   "source": [
    "test['datetime']=pd.to_datetime(test['datetime'],infer_datetime_format=True)"
   ]
  },
  {
   "cell_type": "code",
   "execution_count": 14,
   "id": "ad2ba310",
   "metadata": {
    "execution": {
     "iopub.execute_input": "2022-11-19T13:54:56.576559Z",
     "iopub.status.busy": "2022-11-19T13:54:56.576078Z",
     "iopub.status.idle": "2022-11-19T13:54:56.586245Z",
     "shell.execute_reply": "2022-11-19T13:54:56.584978Z"
    },
    "papermill": {
     "duration": 0.027398,
     "end_time": "2022-11-19T13:54:56.588840",
     "exception": false,
     "start_time": "2022-11-19T13:54:56.561442",
     "status": "completed"
    },
    "tags": []
   },
   "outputs": [
    {
     "data": {
      "text/plain": [
       "(Timestamp('2019-01-01 00:00:00'), Timestamp('2021-12-31 23:00:00'))"
      ]
     },
     "execution_count": 14,
     "metadata": {},
     "output_type": "execute_result"
    }
   ],
   "source": [
    "test['datetime'].min(),test['datetime'].max()"
   ]
  },
  {
   "cell_type": "code",
   "execution_count": 15,
   "id": "c859fc98",
   "metadata": {
    "execution": {
     "iopub.execute_input": "2022-11-19T13:54:56.617401Z",
     "iopub.status.busy": "2022-11-19T13:54:56.616911Z",
     "iopub.status.idle": "2022-11-19T13:54:56.645545Z",
     "shell.execute_reply": "2022-11-19T13:54:56.644173Z"
    },
    "papermill": {
     "duration": 0.047029,
     "end_time": "2022-11-19T13:54:56.648773",
     "exception": false,
     "start_time": "2022-11-19T13:54:56.601744",
     "status": "completed"
    },
    "tags": []
   },
   "outputs": [],
   "source": [
    "test['year']=test['datetime'].dt.year\n",
    "test['month']=test['datetime'].dt.month\n",
    "test['day']=test['datetime'].dt.day\n",
    "test['hour']=test['datetime'].dt.hour\n",
    "test['is_weekend']=test['datetime'].dt.dayofweek >4\n",
    "test['day_part']=test['hour'].replace(hour_map)"
   ]
  },
  {
   "cell_type": "code",
   "execution_count": 16,
   "id": "989daa96",
   "metadata": {
    "execution": {
     "iopub.execute_input": "2022-11-19T13:54:56.677827Z",
     "iopub.status.busy": "2022-11-19T13:54:56.677344Z",
     "iopub.status.idle": "2022-11-19T13:54:56.682615Z",
     "shell.execute_reply": "2022-11-19T13:54:56.681222Z"
    },
    "papermill": {
     "duration": 0.023113,
     "end_time": "2022-11-19T13:54:56.685137",
     "exception": false,
     "start_time": "2022-11-19T13:54:56.662024",
     "status": "completed"
    },
    "tags": []
   },
   "outputs": [],
   "source": [
    "targetcol = 'energy'"
   ]
  },
  {
   "cell_type": "code",
   "execution_count": 17,
   "id": "46744ce5",
   "metadata": {
    "execution": {
     "iopub.execute_input": "2022-11-19T13:54:56.713610Z",
     "iopub.status.busy": "2022-11-19T13:54:56.713111Z",
     "iopub.status.idle": "2022-11-19T13:54:57.306310Z",
     "shell.execute_reply": "2022-11-19T13:54:57.304799Z"
    },
    "papermill": {
     "duration": 0.611175,
     "end_time": "2022-11-19T13:54:57.309498",
     "exception": false,
     "start_time": "2022-11-19T13:54:56.698323",
     "status": "completed"
    },
    "tags": []
   },
   "outputs": [],
   "source": [
    "train.fillna(train[targetcol].mean(),inplace=True)"
   ]
  },
  {
   "cell_type": "markdown",
   "id": "c678e85f",
   "metadata": {
    "papermill": {
     "duration": 0.012703,
     "end_time": "2022-11-19T13:54:57.335586",
     "exception": false,
     "start_time": "2022-11-19T13:54:57.322883",
     "status": "completed"
    },
    "tags": []
   },
   "source": [
    "Split Train into train and validation sets"
   ]
  },
  {
   "cell_type": "code",
   "execution_count": 18,
   "id": "df21d9d3",
   "metadata": {
    "execution": {
     "iopub.execute_input": "2022-11-19T13:54:57.363939Z",
     "iopub.status.busy": "2022-11-19T13:54:57.363463Z",
     "iopub.status.idle": "2022-11-19T13:54:57.368416Z",
     "shell.execute_reply": "2022-11-19T13:54:57.367207Z"
    },
    "papermill": {
     "duration": 0.0223,
     "end_time": "2022-11-19T13:54:57.370925",
     "exception": false,
     "start_time": "2022-11-19T13:54:57.348625",
     "status": "completed"
    },
    "tags": []
   },
   "outputs": [],
   "source": [
    "# import cudf\n",
    "# from cuml.tsa.arima import ARIMA"
   ]
  },
  {
   "cell_type": "code",
   "execution_count": 19,
   "id": "81ab45e4",
   "metadata": {
    "execution": {
     "iopub.execute_input": "2022-11-19T13:54:57.400585Z",
     "iopub.status.busy": "2022-11-19T13:54:57.400137Z",
     "iopub.status.idle": "2022-11-19T13:54:57.443916Z",
     "shell.execute_reply": "2022-11-19T13:54:57.441282Z"
    },
    "papermill": {
     "duration": 0.062807,
     "end_time": "2022-11-19T13:54:57.447015",
     "exception": false,
     "start_time": "2022-11-19T13:54:57.384208",
     "status": "completed"
    },
    "tags": []
   },
   "outputs": [
    {
     "name": "stdout",
     "output_type": "stream",
     "text": [
      "(68688, 9)\n",
      "(26304, 9)\n"
     ]
    },
    {
     "data": {
      "text/html": [
       "<div>\n",
       "<style scoped>\n",
       "    .dataframe tbody tr th:only-of-type {\n",
       "        vertical-align: middle;\n",
       "    }\n",
       "\n",
       "    .dataframe tbody tr th {\n",
       "        vertical-align: top;\n",
       "    }\n",
       "\n",
       "    .dataframe thead th {\n",
       "        text-align: right;\n",
       "    }\n",
       "</style>\n",
       "<table border=\"1\" class=\"dataframe\">\n",
       "  <thead>\n",
       "    <tr style=\"text-align: right;\">\n",
       "      <th></th>\n",
       "      <th>row_id</th>\n",
       "      <th>datetime</th>\n",
       "      <th>energy</th>\n",
       "      <th>year</th>\n",
       "      <th>month</th>\n",
       "      <th>day</th>\n",
       "      <th>hour</th>\n",
       "      <th>is_weekend</th>\n",
       "      <th>day_part</th>\n",
       "    </tr>\n",
       "  </thead>\n",
       "  <tbody>\n",
       "    <tr>\n",
       "      <th>68688</th>\n",
       "      <td>68689</td>\n",
       "      <td>2016-01-01 00:00:00</td>\n",
       "      <td>2002.2470</td>\n",
       "      <td>2016</td>\n",
       "      <td>1</td>\n",
       "      <td>1</td>\n",
       "      <td>0</td>\n",
       "      <td>False</td>\n",
       "      <td>0</td>\n",
       "    </tr>\n",
       "    <tr>\n",
       "      <th>68689</th>\n",
       "      <td>68690</td>\n",
       "      <td>2016-01-01 01:00:00</td>\n",
       "      <td>1843.3870</td>\n",
       "      <td>2016</td>\n",
       "      <td>1</td>\n",
       "      <td>1</td>\n",
       "      <td>1</td>\n",
       "      <td>False</td>\n",
       "      <td>0</td>\n",
       "    </tr>\n",
       "    <tr>\n",
       "      <th>68690</th>\n",
       "      <td>68691</td>\n",
       "      <td>2016-01-01 02:00:00</td>\n",
       "      <td>1735.1178</td>\n",
       "      <td>2016</td>\n",
       "      <td>1</td>\n",
       "      <td>1</td>\n",
       "      <td>2</td>\n",
       "      <td>False</td>\n",
       "      <td>0</td>\n",
       "    </tr>\n",
       "    <tr>\n",
       "      <th>68691</th>\n",
       "      <td>68692</td>\n",
       "      <td>2016-01-01 03:00:00</td>\n",
       "      <td>1666.1970</td>\n",
       "      <td>2016</td>\n",
       "      <td>1</td>\n",
       "      <td>1</td>\n",
       "      <td>3</td>\n",
       "      <td>False</td>\n",
       "      <td>0</td>\n",
       "    </tr>\n",
       "    <tr>\n",
       "      <th>68692</th>\n",
       "      <td>68693</td>\n",
       "      <td>2016-01-01 04:00:00</td>\n",
       "      <td>1630.3924</td>\n",
       "      <td>2016</td>\n",
       "      <td>1</td>\n",
       "      <td>1</td>\n",
       "      <td>4</td>\n",
       "      <td>False</td>\n",
       "      <td>0</td>\n",
       "    </tr>\n",
       "  </tbody>\n",
       "</table>\n",
       "</div>"
      ],
      "text/plain": [
       "       row_id            datetime     energy  year  month  day  hour  \\\n",
       "68688   68689 2016-01-01 00:00:00  2002.2470  2016      1    1     0   \n",
       "68689   68690 2016-01-01 01:00:00  1843.3870  2016      1    1     1   \n",
       "68690   68691 2016-01-01 02:00:00  1735.1178  2016      1    1     2   \n",
       "68691   68692 2016-01-01 03:00:00  1666.1970  2016      1    1     3   \n",
       "68692   68693 2016-01-01 04:00:00  1630.3924  2016      1    1     4   \n",
       "\n",
       "       is_weekend  day_part  \n",
       "68688       False         0  \n",
       "68689       False         0  \n",
       "68690       False         0  \n",
       "68691       False         0  \n",
       "68692       False         0  "
      ]
     },
     "execution_count": 19,
     "metadata": {},
     "output_type": "execute_result"
    }
   ],
   "source": [
    "import datetime \n",
    "train_start = datetime.datetime(year=2008,month=1,day=1,hour=0)\n",
    "val_start = datetime.datetime(year=2016,month=1,day=1,hour=0)\n",
    "val_end = datetime.datetime(year=2018,month=12,day=31,hour=23)\n",
    "# train_start = datetime.datetime(year=2017,month=1,day=1,hour=0)\n",
    "# val_start = datetime.datetime(year=2018,month=1,day=1,hour=0)\n",
    "# val_end = datetime.datetime(year=2018,month=12,day=31,hour=23)\n",
    "hour_mask = (train['hour']>=0)\n",
    "X_val= train[(train['datetime']>=val_start) & (train['datetime']<=val_end) & hour_mask].copy()\n",
    "X_train= train[(train['datetime']>=train_start) & (train['datetime']<val_start) & hour_mask].copy()\n",
    "print(X_train.shape)\n",
    "print(X_val.shape)\n",
    "X_val.head()           "
   ]
  },
  {
   "cell_type": "code",
   "execution_count": 20,
   "id": "6da14e83",
   "metadata": {
    "execution": {
     "iopub.execute_input": "2022-11-19T13:54:57.476654Z",
     "iopub.status.busy": "2022-11-19T13:54:57.475902Z",
     "iopub.status.idle": "2022-11-19T13:54:57.484210Z",
     "shell.execute_reply": "2022-11-19T13:54:57.482866Z"
    },
    "papermill": {
     "duration": 0.025935,
     "end_time": "2022-11-19T13:54:57.486900",
     "exception": false,
     "start_time": "2022-11-19T13:54:57.460965",
     "status": "completed"
    },
    "tags": []
   },
   "outputs": [
    {
     "name": "stdout",
     "output_type": "stream",
     "text": [
      "0\n"
     ]
    }
   ],
   "source": [
    "val_target = X_val[targetcol]\n",
    "print(X_val[targetcol].isnull().sum())"
   ]
  },
  {
   "cell_type": "code",
   "execution_count": 21,
   "id": "602c9f16",
   "metadata": {
    "execution": {
     "iopub.execute_input": "2022-11-19T13:54:57.516403Z",
     "iopub.status.busy": "2022-11-19T13:54:57.515934Z",
     "iopub.status.idle": "2022-11-19T13:54:57.521259Z",
     "shell.execute_reply": "2022-11-19T13:54:57.519961Z"
    },
    "papermill": {
     "duration": 0.023332,
     "end_time": "2022-11-19T13:54:57.523512",
     "exception": false,
     "start_time": "2022-11-19T13:54:57.500180",
     "status": "completed"
    },
    "tags": []
   },
   "outputs": [],
   "source": [
    "# val_target.fillna(X_train[targetcol].mean(),inplace=True)"
   ]
  },
  {
   "cell_type": "code",
   "execution_count": 22,
   "id": "7fe5f9a7",
   "metadata": {
    "execution": {
     "iopub.execute_input": "2022-11-19T13:54:57.552597Z",
     "iopub.status.busy": "2022-11-19T13:54:57.551852Z",
     "iopub.status.idle": "2022-11-19T13:54:58.934046Z",
     "shell.execute_reply": "2022-11-19T13:54:58.932759Z"
    },
    "papermill": {
     "duration": 1.400675,
     "end_time": "2022-11-19T13:54:58.937331",
     "exception": false,
     "start_time": "2022-11-19T13:54:57.536656",
     "status": "completed"
    },
    "tags": []
   },
   "outputs": [],
   "source": [
    "from sklearn.metrics import mean_squared_error"
   ]
  },
  {
   "cell_type": "code",
   "execution_count": 23,
   "id": "42a85084",
   "metadata": {
    "execution": {
     "iopub.execute_input": "2022-11-19T13:54:58.967374Z",
     "iopub.status.busy": "2022-11-19T13:54:58.966889Z",
     "iopub.status.idle": "2022-11-19T13:54:58.974200Z",
     "shell.execute_reply": "2022-11-19T13:54:58.972958Z"
    },
    "papermill": {
     "duration": 0.024989,
     "end_time": "2022-11-19T13:54:58.976565",
     "exception": false,
     "start_time": "2022-11-19T13:54:58.951576",
     "status": "completed"
    },
    "tags": []
   },
   "outputs": [],
   "source": [
    "#compute baseline error by predicting train energy mean as the energy for all time\n",
    "val_preds_baseline = np.full(len(X_val),train[targetcol].mean())"
   ]
  },
  {
   "cell_type": "code",
   "execution_count": 24,
   "id": "25f2084a",
   "metadata": {
    "execution": {
     "iopub.execute_input": "2022-11-19T13:54:59.006275Z",
     "iopub.status.busy": "2022-11-19T13:54:59.005624Z",
     "iopub.status.idle": "2022-11-19T13:54:59.011516Z",
     "shell.execute_reply": "2022-11-19T13:54:59.010039Z"
    },
    "papermill": {
     "duration": 0.024073,
     "end_time": "2022-11-19T13:54:59.013985",
     "exception": false,
     "start_time": "2022-11-19T13:54:58.989912",
     "status": "completed"
    },
    "tags": []
   },
   "outputs": [],
   "source": [
    "# print(X_train[targetcol].isnull().sum())\n",
    "# X_train.fillna(X_train[targetcol].mean(),inplace=True)\n",
    "# print(X_train[targetcol].isnull().sum())"
   ]
  },
  {
   "cell_type": "code",
   "execution_count": 25,
   "id": "8b030025",
   "metadata": {
    "execution": {
     "iopub.execute_input": "2022-11-19T13:54:59.042676Z",
     "iopub.status.busy": "2022-11-19T13:54:59.042199Z",
     "iopub.status.idle": "2022-11-19T13:54:59.049487Z",
     "shell.execute_reply": "2022-11-19T13:54:59.048231Z"
    },
    "papermill": {
     "duration": 0.025089,
     "end_time": "2022-11-19T13:54:59.052382",
     "exception": false,
     "start_time": "2022-11-19T13:54:59.027293",
     "status": "completed"
    },
    "tags": []
   },
   "outputs": [
    {
     "name": "stdout",
     "output_type": "stream",
     "text": [
      "68688    2002.2470\n",
      "68689    1843.3870\n",
      "68690    1735.1178\n",
      "68691    1666.1970\n",
      "68692    1630.3924\n",
      "Name: energy, dtype: float64\n"
     ]
    }
   ],
   "source": [
    "print(val_target[0:5])"
   ]
  },
  {
   "cell_type": "code",
   "execution_count": 26,
   "id": "76171263",
   "metadata": {
    "execution": {
     "iopub.execute_input": "2022-11-19T13:54:59.081528Z",
     "iopub.status.busy": "2022-11-19T13:54:59.080581Z",
     "iopub.status.idle": "2022-11-19T13:54:59.088948Z",
     "shell.execute_reply": "2022-11-19T13:54:59.087745Z"
    },
    "papermill": {
     "duration": 0.025669,
     "end_time": "2022-11-19T13:54:59.091271",
     "exception": false,
     "start_time": "2022-11-19T13:54:59.065602",
     "status": "completed"
    },
    "tags": []
   },
   "outputs": [
    {
     "name": "stdout",
     "output_type": "stream",
     "text": [
      "valid score: 427.29210032008933\n"
     ]
    }
   ],
   "source": [
    "#compute error score on baseline predictions\n",
    "val_score = mean_squared_error(val_target,val_preds_baseline,squared=False)\n",
    "print('valid score:',val_score)"
   ]
  },
  {
   "cell_type": "markdown",
   "id": "5223e1c8",
   "metadata": {
    "papermill": {
     "duration": 0.01274,
     "end_time": "2022-11-19T13:54:59.117380",
     "exception": false,
     "start_time": "2022-11-19T13:54:59.104640",
     "status": "completed"
    },
    "tags": []
   },
   "source": [
    "UCM"
   ]
  },
  {
   "cell_type": "code",
   "execution_count": 27,
   "id": "9756dfe9",
   "metadata": {
    "execution": {
     "iopub.execute_input": "2022-11-19T13:54:59.146599Z",
     "iopub.status.busy": "2022-11-19T13:54:59.145079Z",
     "iopub.status.idle": "2022-11-19T13:54:59.153760Z",
     "shell.execute_reply": "2022-11-19T13:54:59.152535Z"
    },
    "papermill": {
     "duration": 0.026054,
     "end_time": "2022-11-19T13:54:59.156533",
     "exception": false,
     "start_time": "2022-11-19T13:54:59.130479",
     "status": "completed"
    },
    "tags": []
   },
   "outputs": [
    {
     "data": {
      "text/plain": [
       "(68688, 9)"
      ]
     },
     "execution_count": 27,
     "metadata": {},
     "output_type": "execute_result"
    }
   ],
   "source": [
    "X_val.shape\n",
    "X_train.shape"
   ]
  },
  {
   "cell_type": "code",
   "execution_count": 28,
   "id": "e2427e9c",
   "metadata": {
    "execution": {
     "iopub.execute_input": "2022-11-19T13:54:59.186500Z",
     "iopub.status.busy": "2022-11-19T13:54:59.185419Z",
     "iopub.status.idle": "2022-11-19T13:55:00.115800Z",
     "shell.execute_reply": "2022-11-19T13:55:00.113975Z"
    },
    "papermill": {
     "duration": 0.949026,
     "end_time": "2022-11-19T13:55:00.119215",
     "exception": false,
     "start_time": "2022-11-19T13:54:59.170189",
     "status": "completed"
    },
    "tags": []
   },
   "outputs": [],
   "source": [
    "import statsmodels.api as sm"
   ]
  },
  {
   "cell_type": "code",
   "execution_count": 29,
   "id": "d922c1bf",
   "metadata": {
    "execution": {
     "iopub.execute_input": "2022-11-19T13:55:00.150621Z",
     "iopub.status.busy": "2022-11-19T13:55:00.150203Z",
     "iopub.status.idle": "2022-11-19T13:55:00.155285Z",
     "shell.execute_reply": "2022-11-19T13:55:00.154279Z"
    },
    "papermill": {
     "duration": 0.023555,
     "end_time": "2022-11-19T13:55:00.157828",
     "exception": false,
     "start_time": "2022-11-19T13:55:00.134273",
     "status": "completed"
    },
    "tags": []
   },
   "outputs": [],
   "source": [
    "# X_train= X_train.set_index(X_train.datetime).sort_index()\n",
    "# X_val= X_val.set_index(X_val.datetime).sort_index()"
   ]
  },
  {
   "cell_type": "code",
   "execution_count": 30,
   "id": "21e7e325",
   "metadata": {
    "execution": {
     "iopub.execute_input": "2022-11-19T13:55:00.188424Z",
     "iopub.status.busy": "2022-11-19T13:55:00.187917Z",
     "iopub.status.idle": "2022-11-19T13:58:23.396931Z",
     "shell.execute_reply": "2022-11-19T13:58:23.395524Z"
    },
    "papermill": {
     "duration": 203.232583,
     "end_time": "2022-11-19T13:58:23.405021",
     "exception": false,
     "start_time": "2022-11-19T13:55:00.172438",
     "status": "completed"
    },
    "tags": []
   },
   "outputs": [
    {
     "name": "stdout",
     "output_type": "stream",
     "text": [
      "RUNNING THE L-BFGS-B CODE\n",
      "\n",
      "           * * *\n",
      "\n",
      "Machine precision = 2.220D-16\n",
      " N =            9     M =           10\n",
      "\n",
      "At X0         0 variables are exactly at the bounds\n",
      "\n",
      "At iterate    0    f=  6.74947D+00    |proj g|=  3.54122D-03\n"
     ]
    },
    {
     "name": "stderr",
     "output_type": "stream",
     "text": [
      " This problem is unconstrained.\n"
     ]
    },
    {
     "name": "stdout",
     "output_type": "stream",
     "text": [
      "\n",
      "At iterate    5    f=  6.71677D+00    |proj g|=  2.18922D-02\n",
      "\n",
      "At iterate   10    f=  5.86081D+00    |proj g|=  4.27136D-03\n",
      "\n",
      "At iterate   15    f=  5.81348D+00    |proj g|=  9.86097D-04\n",
      "\n",
      "At iterate   20    f=  5.81284D+00    |proj g|=  5.12348D-04\n",
      "\n",
      "At iterate   25    f=  5.81119D+00    |proj g|=  4.17727D-03\n",
      "\n",
      "At iterate   30    f=  5.80957D+00    |proj g|=  1.07680D-03\n",
      "\n",
      "At iterate   35    f=  5.80945D+00    |proj g|=  4.03421D-05\n",
      "\n",
      "At iterate   40    f=  5.80922D+00    |proj g|=  4.28360D-04\n",
      "\n",
      "At iterate   45    f=  5.80916D+00    |proj g|=  3.55446D-05\n",
      "\n",
      "At iterate   50    f=  5.80912D+00    |proj g|=  1.21617D-03\n",
      "\n",
      "           * * *\n",
      "\n",
      "Tit   = total number of iterations\n",
      "Tnf   = total number of function evaluations\n",
      "Tnint = total number of segments explored during Cauchy searches\n",
      "Skip  = number of BFGS updates skipped\n",
      "Nact  = number of active bounds at final generalized Cauchy point\n",
      "Projg = norm of the final projected gradient\n",
      "F     = final function value\n",
      "\n",
      "           * * *\n",
      "\n",
      "   N    Tit     Tnf  Tnint  Skip  Nact     Projg        F\n",
      "    9     50     59      1     0     0   1.216D-03   5.809D+00\n",
      "  F =   5.8091196136044703     \n",
      "\n",
      "STOP: TOTAL NO. of ITERATIONS REACHED LIMIT                 \n"
     ]
    },
    {
     "name": "stderr",
     "output_type": "stream",
     "text": [
      "/opt/conda/lib/python3.7/site-packages/statsmodels/base/model.py:606: ConvergenceWarning: Maximum Likelihood optimization failed to converge. Check mle_retvals\n",
      "  ConvergenceWarning)\n"
     ]
    },
    {
     "name": "stdout",
     "output_type": "stream",
     "text": [
      "                                 Unobserved Components Results                                 \n",
      "===============================================================================================\n",
      "Dep. Variable:                                  energy   No. Observations:                68688\n",
      "Model:                local linear deterministic trend   Log Likelihood             -399016.808\n",
      "                                + freq_seasonal(24(1))   AIC                         798051.616\n",
      "                               + freq_seasonal(168(1))   BIC                         798133.851\n",
      "                   + stochastic freq_seasonal(8766(2))   HQIC                        798077.001\n",
      "                                               + AR(2)                                         \n",
      "Date:                                 Sat, 19 Nov 2022                                         \n",
      "Time:                                         13:58:22                                         \n",
      "Sample:                                              0                                         \n",
      "                                               - 68688                                         \n",
      "Covariance Type:                                   opg                                         \n",
      "================================================================================================\n",
      "                                   coef    std err          z      P>|z|      [0.025      0.975]\n",
      "------------------------------------------------------------------------------------------------\n",
      "sigma2.irregular                 8.0803     94.913      0.085      0.932    -177.947     194.107\n",
      "sigma2.level                  4678.7229    219.294     21.335      0.000    4248.915    5108.531\n",
      "sigma2.freq_seasonal_8766(2)     0.0100     72.898      0.000      1.000    -142.867     142.887\n",
      "sigma2.ar                     1526.7252    335.393      4.552      0.000     869.368    2184.083\n",
      "ar.L1                            0.5200      0.038     13.731      0.000       0.446       0.594\n",
      "ar.L2                            0.4800      0.038     12.674      0.000       0.406       0.554\n",
      "beta.is_weekend                -21.8425      3.525     -6.197      0.000     -28.751     -14.934\n",
      "beta.month                       2.1010      4.007      0.524      0.600      -5.753       9.955\n",
      "beta.hour                        3.6145      0.082     44.088      0.000       3.454       3.775\n",
      "===================================================================================\n",
      "Ljung-Box (L1) (Q):                  10.65   Jarque-Bera (JB):           1354722.28\n",
      "Prob(Q):                              0.00   Prob(JB):                         0.00\n",
      "Heteroskedasticity (H):               1.14   Skew:                             0.15\n",
      "Prob(H) (two-sided):                  0.00   Kurtosis:                        24.76\n",
      "===================================================================================\n",
      "\n",
      "Warnings:\n",
      "[1] Covariance matrix calculated using the outer product of gradients (complex-step).\n",
      "\n",
      "In-sample mean absolute error (MAE): 49, In-sample root mean squared error (RMSE): 81\n",
      "CPU times: user 4min 47s, sys: 2min 15s, total: 7min 3s\n",
      "Wall time: 3min 23s\n"
     ]
    }
   ],
   "source": [
    "%%time\n",
    "#splitting time series to train and test subsets\n",
    "y_train = X_train[targetcol].copy()\n",
    "y_test = X_val[targetcol].copy()\n",
    "\n",
    "exog_train = X_train[['is_weekend','month','hour']].astype('int')\n",
    "exog_test = X_val[['is_weekend','month','hour']].astype('int')\n",
    "\n",
    "#Unobserved Components model definition\n",
    "model_UC1 = sm.tsa.UnobservedComponents(y_train,\n",
    "                                        autoregressive=2,\n",
    "                                        level='lldtrend',\n",
    "                                        exog=exog_train,\n",
    "                                        cycle=False,\n",
    "                                        irregular=False,\n",
    "                                        stochastic_level = False,\n",
    "                                        stochastic_trend = False,\n",
    "                                        stochastic_freq_seasonal = [False,False,True],\n",
    "#                                         seasonal_period =24,\n",
    "                                        freq_seasonal=[{'period': 24, 'harmonics': 1},\n",
    "                                                       {'period': 168, 'harmonics': 1},\n",
    "#                                                        {'period': 5040, 'harmonics': 1},\n",
    "                                                       {'period': 8766, 'harmonics': 2}\n",
    "                                                      ]\n",
    "                                       )\n",
    "#fitting model to train data\n",
    "model_UC1res = model_UC1.fit()\n",
    "\n",
    "#printing statsmodels summary for model\n",
    "print(model_UC1res.summary())\n",
    "\n",
    "print(\"\")\n",
    "\n",
    "#calculating mean absolute error and root mean squared error for in-sample prediction of model\n",
    "print(f\"In-sample mean absolute error (MAE): {'%.0f' % model_UC1res.mae}, In-sample root mean squared error (RMSE): {'%.0f' % np.sqrt(model_UC1res.mse)}\")\n",
    "\n",
    "#model forecast"
   ]
  },
  {
   "cell_type": "code",
   "execution_count": 31,
   "id": "d181cf5c",
   "metadata": {
    "execution": {
     "iopub.execute_input": "2022-11-19T13:58:23.476673Z",
     "iopub.status.busy": "2022-11-19T13:58:23.476186Z",
     "iopub.status.idle": "2022-11-19T13:58:24.414323Z",
     "shell.execute_reply": "2022-11-19T13:58:24.412856Z"
    },
    "papermill": {
     "duration": 0.973868,
     "end_time": "2022-11-19T13:58:24.418128",
     "exception": false,
     "start_time": "2022-11-19T13:58:23.444260",
     "status": "completed"
    },
    "tags": []
   },
   "outputs": [
    {
     "name": "stdout",
     "output_type": "stream",
     "text": [
      "valid score: 279.16511925488896\n"
     ]
    }
   ],
   "source": [
    "forecast_UC1 = model_UC1res.forecast(steps=26304,exog=exog_test)\n",
    "#calculating root mean squared error\n",
    "RMSE_UC1 = mean_squared_error(y_test,forecast_UC1,squared=False)\n",
    "print('valid score:',RMSE_UC1)"
   ]
  },
  {
   "cell_type": "code",
   "execution_count": 32,
   "id": "bcfc4cee",
   "metadata": {
    "execution": {
     "iopub.execute_input": "2022-11-19T13:58:24.450761Z",
     "iopub.status.busy": "2022-11-19T13:58:24.449584Z",
     "iopub.status.idle": "2022-11-19T13:58:24.463062Z",
     "shell.execute_reply": "2022-11-19T13:58:24.461854Z"
    },
    "papermill": {
     "duration": 0.032044,
     "end_time": "2022-11-19T13:58:24.465600",
     "exception": false,
     "start_time": "2022-11-19T13:58:24.433556",
     "status": "completed"
    },
    "tags": []
   },
   "outputs": [
    {
     "data": {
      "text/plain": [
       "count    26304.000000\n",
       "mean      2106.579278\n",
       "std        193.114917\n",
       "min       1606.235923\n",
       "25%       1968.989750\n",
       "50%       2106.503829\n",
       "75%       2244.389964\n",
       "max       2626.933114\n",
       "Name: predicted_mean, dtype: float64"
      ]
     },
     "execution_count": 32,
     "metadata": {},
     "output_type": "execute_result"
    }
   ],
   "source": [
    "pd.Series(forecast_UC1.describe())"
   ]
  },
  {
   "cell_type": "code",
   "execution_count": 33,
   "id": "2ef2ad70",
   "metadata": {
    "execution": {
     "iopub.execute_input": "2022-11-19T13:58:24.512286Z",
     "iopub.status.busy": "2022-11-19T13:58:24.511058Z",
     "iopub.status.idle": "2022-11-19T13:58:24.517176Z",
     "shell.execute_reply": "2022-11-19T13:58:24.515755Z"
    },
    "papermill": {
     "duration": 0.028935,
     "end_time": "2022-11-19T13:58:24.520595",
     "exception": false,
     "start_time": "2022-11-19T13:58:24.491660",
     "status": "completed"
    },
    "tags": []
   },
   "outputs": [],
   "source": [
    "# from sklearn.preprocessing import MinMaxScaler\n",
    "# import tensorflow as tf\n",
    "# import os"
   ]
  },
  {
   "cell_type": "code",
   "execution_count": 34,
   "id": "6064206c",
   "metadata": {
    "execution": {
     "iopub.execute_input": "2022-11-19T13:58:24.563721Z",
     "iopub.status.busy": "2022-11-19T13:58:24.562647Z",
     "iopub.status.idle": "2022-11-19T13:58:24.570492Z",
     "shell.execute_reply": "2022-11-19T13:58:24.569159Z"
    },
    "papermill": {
     "duration": 0.02903,
     "end_time": "2022-11-19T13:58:24.573387",
     "exception": false,
     "start_time": "2022-11-19T13:58:24.544357",
     "status": "completed"
    },
    "tags": []
   },
   "outputs": [],
   "source": [
    "# create a differenced series\n",
    "def difference(dataset, interval=1):\n",
    "    diff = list()\n",
    "    for i in range(interval, len(dataset)):\n",
    "        value = dataset[i] - dataset[i - interval]\n",
    "        diff.append(value)\n",
    "    return pd.Series(diff)"
   ]
  },
  {
   "cell_type": "code",
   "execution_count": 35,
   "id": "05606546",
   "metadata": {
    "execution": {
     "iopub.execute_input": "2022-11-19T13:58:24.615500Z",
     "iopub.status.busy": "2022-11-19T13:58:24.614592Z",
     "iopub.status.idle": "2022-11-19T13:58:24.620935Z",
     "shell.execute_reply": "2022-11-19T13:58:24.619835Z"
    },
    "papermill": {
     "duration": 0.032209,
     "end_time": "2022-11-19T13:58:24.623173",
     "exception": false,
     "start_time": "2022-11-19T13:58:24.590964",
     "status": "completed"
    },
    "tags": []
   },
   "outputs": [],
   "source": [
    "import matplotlib.pyplot as plt"
   ]
  },
  {
   "cell_type": "markdown",
   "id": "d2753aba",
   "metadata": {
    "papermill": {
     "duration": 0.014312,
     "end_time": "2022-11-19T13:58:24.652964",
     "exception": false,
     "start_time": "2022-11-19T13:58:24.638652",
     "status": "completed"
    },
    "tags": []
   },
   "source": [
    "UC for Test Prediction"
   ]
  },
  {
   "cell_type": "code",
   "execution_count": 36,
   "id": "18a8197d",
   "metadata": {
    "execution": {
     "iopub.execute_input": "2022-11-19T13:58:24.685561Z",
     "iopub.status.busy": "2022-11-19T13:58:24.684489Z",
     "iopub.status.idle": "2022-11-19T14:03:16.263138Z",
     "shell.execute_reply": "2022-11-19T14:03:16.261841Z"
    },
    "papermill": {
     "duration": 291.599151,
     "end_time": "2022-11-19T14:03:16.266727",
     "exception": false,
     "start_time": "2022-11-19T13:58:24.667576",
     "status": "completed"
    },
    "tags": []
   },
   "outputs": [
    {
     "name": "stderr",
     "output_type": "stream",
     "text": [
      " This problem is unconstrained.\n"
     ]
    },
    {
     "name": "stdout",
     "output_type": "stream",
     "text": [
      "RUNNING THE L-BFGS-B CODE\n",
      "\n",
      "           * * *\n",
      "\n",
      "Machine precision = 2.220D-16\n",
      " N =            9     M =           10\n",
      "\n",
      "At X0         0 variables are exactly at the bounds\n",
      "\n",
      "At iterate    0    f=  6.87063D+00    |proj g|=  3.38148D-03\n",
      "\n",
      "At iterate    5    f=  6.69184D+00    |proj g|=  2.28698D-02\n",
      "\n",
      "At iterate   10    f=  5.90283D+00    |proj g|=  2.71825D-03\n",
      "\n",
      "At iterate   15    f=  5.88951D+00    |proj g|=  1.81722D-04\n",
      "\n",
      "At iterate   20    f=  5.88747D+00    |proj g|=  1.25732D-03\n",
      "\n",
      "At iterate   25    f=  5.88644D+00    |proj g|=  1.07707D-03\n",
      "\n",
      "At iterate   30    f=  5.88610D+00    |proj g|=  4.26233D-04\n",
      "\n",
      "At iterate   35    f=  5.88609D+00    |proj g|=  6.02562D-05\n",
      "\n",
      "At iterate   40    f=  5.88607D+00    |proj g|=  3.10294D-04\n",
      "\n",
      "At iterate   45    f=  5.88594D+00    |proj g|=  1.61634D-04\n"
     ]
    },
    {
     "name": "stderr",
     "output_type": "stream",
     "text": [
      "/opt/conda/lib/python3.7/site-packages/statsmodels/base/model.py:606: ConvergenceWarning: Maximum Likelihood optimization failed to converge. Check mle_retvals\n",
      "  ConvergenceWarning)\n"
     ]
    },
    {
     "name": "stdout",
     "output_type": "stream",
     "text": [
      "\n",
      "At iterate   50    f=  5.88591D+00    |proj g|=  5.06279D-06\n",
      "\n",
      "           * * *\n",
      "\n",
      "Tit   = total number of iterations\n",
      "Tnf   = total number of function evaluations\n",
      "Tnint = total number of segments explored during Cauchy searches\n",
      "Skip  = number of BFGS updates skipped\n",
      "Nact  = number of active bounds at final generalized Cauchy point\n",
      "Projg = norm of the final projected gradient\n",
      "F     = final function value\n",
      "\n",
      "           * * *\n",
      "\n",
      "   N    Tit     Tnf  Tnint  Skip  Nact     Projg        F\n",
      "    9     50     66      1     0     0   5.063D-06   5.886D+00\n",
      "  F =   5.8859056646091723     \n",
      "\n",
      "STOP: TOTAL NO. of ITERATIONS REACHED LIMIT                 \n",
      "                                 Unobserved Components Results                                 \n",
      "===============================================================================================\n",
      "Dep. Variable:                                  energy   No. Observations:                94992\n",
      "Model:                local linear deterministic trend   Log Likelihood             -559113.951\n",
      "                                + freq_seasonal(24(1))   AIC                        1118245.902\n",
      "                               + freq_seasonal(168(1))   BIC                        1118331.055\n",
      "                   + stochastic freq_seasonal(8766(2))   HQIC                       1118271.804\n",
      "                                               + AR(2)                                         \n",
      "Date:                                 Sat, 19 Nov 2022                                         \n",
      "Time:                                         14:03:14                                         \n",
      "Sample:                                              0                                         \n",
      "                                               - 94992                                         \n",
      "Covariance Type:                                   opg                                         \n",
      "================================================================================================\n",
      "                                   coef    std err          z      P>|z|      [0.025      0.975]\n",
      "------------------------------------------------------------------------------------------------\n",
      "sigma2.irregular                 0.1728    100.031      0.002      0.999    -195.885     196.230\n",
      "sigma2.level                  4876.0234    251.527     19.386      0.000    4383.040    5369.007\n",
      "sigma2.freq_seasonal_8766(2)     0.0589     42.734      0.001      0.999     -83.698      83.815\n",
      "sigma2.ar                     2415.6229    423.953      5.698      0.000    1584.690    3246.555\n",
      "ar.L1                            0.5860      0.028     20.596      0.000       0.530       0.642\n",
      "ar.L2                            0.4140      0.028     14.543      0.000       0.358       0.470\n",
      "beta.is_weekend                -20.0257      3.594     -5.572      0.000     -27.070     -12.982\n",
      "beta.month                       3.8051      4.957      0.768      0.443      -5.911      13.521\n",
      "beta.hour                        3.7831      0.081     46.843      0.000       3.625       3.941\n",
      "===================================================================================\n",
      "Ljung-Box (L1) (Q):                  10.74   Jarque-Bera (JB):           2857027.11\n",
      "Prob(Q):                              0.00   Prob(JB):                         0.00\n",
      "Heteroskedasticity (H):               1.61   Skew:                            -0.30\n",
      "Prob(H) (two-sided):                  0.00   Kurtosis:                        29.86\n",
      "===================================================================================\n",
      "\n",
      "Warnings:\n",
      "[1] Covariance matrix calculated using the outer product of gradients (complex-step).\n",
      "\n",
      "In-sample mean absolute error (MAE): 52, In-sample root mean squared error (RMSE): 87\n",
      "CPU times: user 6min 27s, sys: 2min 32s, total: 8min 59s\n",
      "Wall time: 4min 51s\n"
     ]
    }
   ],
   "source": [
    "%%time\n",
    "#splitting time series to train and test subsets\n",
    "y_train_full = train[targetcol].copy()\n",
    "\n",
    "exog_train_full = train[['is_weekend','month','hour']].astype('int')\n",
    "exog_test_full = test[['is_weekend','month','hour']].astype('int')\n",
    "\n",
    "#Unobserved Components model definition\n",
    "model_UC_full = sm.tsa.UnobservedComponents(y_train_full,\n",
    "                                        autoregressive=2,\n",
    "                                        level='lldtrend',\n",
    "                                        exog=exog_train_full,\n",
    "                                        cycle=False,\n",
    "                                        irregular=False,\n",
    "                                        stochastic_level = False,\n",
    "                                        stochastic_trend = False,\n",
    "                                        stochastic_freq_seasonal = [False,False,True],\n",
    "#                                         seasonal_period =24,\n",
    "                                        freq_seasonal=[{'period': 24, 'harmonics': 1},\n",
    "                                                       {'period': 168, 'harmonics': 1},\n",
    "#                                                        {'period': 5040, 'harmonics': 1},\n",
    "                                                       {'period': 8766, 'harmonics': 2}\n",
    "                                                      ]\n",
    "                                       )\n",
    "#fitting model to train data\n",
    "model_UC_full_res = model_UC_full.fit()\n",
    "\n",
    "#printing statsmodels summary for model\n",
    "print(model_UC_full_res.summary())\n",
    "\n",
    "print(\"\")\n",
    "\n",
    "#calculating mean absolute error and root mean squared error for in-sample prediction of model\n",
    "print(f\"In-sample mean absolute error (MAE): {'%.0f' % model_UC_full_res.mae}, In-sample root mean squared error (RMSE): {'%.0f' % np.sqrt(model_UC_full_res.mse)}\")"
   ]
  },
  {
   "cell_type": "code",
   "execution_count": 37,
   "id": "77a91029",
   "metadata": {
    "execution": {
     "iopub.execute_input": "2022-11-19T14:03:16.341732Z",
     "iopub.status.busy": "2022-11-19T14:03:16.341286Z",
     "iopub.status.idle": "2022-11-19T14:03:17.265649Z",
     "shell.execute_reply": "2022-11-19T14:03:17.264260Z"
    },
    "papermill": {
     "duration": 0.961487,
     "end_time": "2022-11-19T14:03:17.268777",
     "exception": false,
     "start_time": "2022-11-19T14:03:16.307290",
     "status": "completed"
    },
    "tags": []
   },
   "outputs": [],
   "source": [
    "#Predict Test Set\n",
    "forecast_UC_test = model_UC_full_res.forecast(steps=26304,exog=exog_test_full)"
   ]
  },
  {
   "cell_type": "code",
   "execution_count": 38,
   "id": "1ffd27c0",
   "metadata": {
    "execution": {
     "iopub.execute_input": "2022-11-19T14:03:17.302540Z",
     "iopub.status.busy": "2022-11-19T14:03:17.302049Z",
     "iopub.status.idle": "2022-11-19T14:03:17.307769Z",
     "shell.execute_reply": "2022-11-19T14:03:17.306702Z"
    },
    "papermill": {
     "duration": 0.025689,
     "end_time": "2022-11-19T14:03:17.310252",
     "exception": false,
     "start_time": "2022-11-19T14:03:17.284563",
     "status": "completed"
    },
    "tags": []
   },
   "outputs": [
    {
     "name": "stdout",
     "output_type": "stream",
     "text": [
      "26304 26304\n"
     ]
    }
   ],
   "source": [
    "print(len(test),len(forecast_UC_test))"
   ]
  },
  {
   "cell_type": "code",
   "execution_count": 39,
   "id": "9e04f54c",
   "metadata": {
    "execution": {
     "iopub.execute_input": "2022-11-19T14:03:17.344623Z",
     "iopub.status.busy": "2022-11-19T14:03:17.343686Z",
     "iopub.status.idle": "2022-11-19T14:03:17.352003Z",
     "shell.execute_reply": "2022-11-19T14:03:17.350914Z"
    },
    "papermill": {
     "duration": 0.028405,
     "end_time": "2022-11-19T14:03:17.354557",
     "exception": false,
     "start_time": "2022-11-19T14:03:17.326152",
     "status": "completed"
    },
    "tags": []
   },
   "outputs": [
    {
     "data": {
      "text/plain": [
       "RangeIndex(start=94992, stop=121296, step=1)"
      ]
     },
     "execution_count": 39,
     "metadata": {},
     "output_type": "execute_result"
    }
   ],
   "source": [
    "forecast_UC_test.index"
   ]
  },
  {
   "cell_type": "code",
   "execution_count": 40,
   "id": "23d0bb78",
   "metadata": {
    "execution": {
     "iopub.execute_input": "2022-11-19T14:03:17.388889Z",
     "iopub.status.busy": "2022-11-19T14:03:17.388409Z",
     "iopub.status.idle": "2022-11-19T14:03:17.400757Z",
     "shell.execute_reply": "2022-11-19T14:03:17.399579Z"
    },
    "papermill": {
     "duration": 0.03196,
     "end_time": "2022-11-19T14:03:17.402979",
     "exception": false,
     "start_time": "2022-11-19T14:03:17.371019",
     "status": "completed"
    },
    "tags": []
   },
   "outputs": [
    {
     "data": {
      "text/plain": [
       "count    26304.000000\n",
       "mean      2245.786163\n",
       "std        206.741366\n",
       "min       1706.726121\n",
       "25%       2098.440395\n",
       "50%       2244.774674\n",
       "75%       2392.296883\n",
       "max       2814.446614\n",
       "Name: predicted_mean, dtype: float64"
      ]
     },
     "execution_count": 40,
     "metadata": {},
     "output_type": "execute_result"
    }
   ],
   "source": [
    "pd.Series(forecast_UC_test).describe()"
   ]
  },
  {
   "cell_type": "code",
   "execution_count": 41,
   "id": "ba75c819",
   "metadata": {
    "execution": {
     "iopub.execute_input": "2022-11-19T14:03:17.437212Z",
     "iopub.status.busy": "2022-11-19T14:03:17.436715Z",
     "iopub.status.idle": "2022-11-19T14:03:17.514363Z",
     "shell.execute_reply": "2022-11-19T14:03:17.512640Z"
    },
    "papermill": {
     "duration": 0.09866,
     "end_time": "2022-11-19T14:03:17.517694",
     "exception": false,
     "start_time": "2022-11-19T14:03:17.419034",
     "status": "completed"
    },
    "tags": []
   },
   "outputs": [],
   "source": [
    "subm = pd.DataFrame()\n",
    "subm['row_id'] = test['row_id']\n",
    "subm[targetcol]=forecast_UC_test.values\n",
    "subm.to_csv('submission.csv',index=False)"
   ]
  },
  {
   "cell_type": "code",
   "execution_count": 42,
   "id": "f1056fe8",
   "metadata": {
    "execution": {
     "iopub.execute_input": "2022-11-19T14:03:17.551923Z",
     "iopub.status.busy": "2022-11-19T14:03:17.551448Z",
     "iopub.status.idle": "2022-11-19T14:03:17.572142Z",
     "shell.execute_reply": "2022-11-19T14:03:17.571248Z"
    },
    "papermill": {
     "duration": 0.040671,
     "end_time": "2022-11-19T14:03:17.574689",
     "exception": false,
     "start_time": "2022-11-19T14:03:17.534018",
     "status": "completed"
    },
    "tags": []
   },
   "outputs": [
    {
     "data": {
      "text/html": [
       "<div>\n",
       "<style scoped>\n",
       "    .dataframe tbody tr th:only-of-type {\n",
       "        vertical-align: middle;\n",
       "    }\n",
       "\n",
       "    .dataframe tbody tr th {\n",
       "        vertical-align: top;\n",
       "    }\n",
       "\n",
       "    .dataframe thead th {\n",
       "        text-align: right;\n",
       "    }\n",
       "</style>\n",
       "<table border=\"1\" class=\"dataframe\">\n",
       "  <thead>\n",
       "    <tr style=\"text-align: right;\">\n",
       "      <th></th>\n",
       "      <th>row_id</th>\n",
       "      <th>energy</th>\n",
       "    </tr>\n",
       "  </thead>\n",
       "  <tbody>\n",
       "    <tr>\n",
       "      <th>0</th>\n",
       "      <td>94993</td>\n",
       "      <td>2038.440855</td>\n",
       "    </tr>\n",
       "    <tr>\n",
       "      <th>1</th>\n",
       "      <td>94994</td>\n",
       "      <td>2006.741063</td>\n",
       "    </tr>\n",
       "    <tr>\n",
       "      <th>2</th>\n",
       "      <td>94995</td>\n",
       "      <td>1994.880913</td>\n",
       "    </tr>\n",
       "    <tr>\n",
       "      <th>3</th>\n",
       "      <td>94996</td>\n",
       "      <td>1987.600845</td>\n",
       "    </tr>\n",
       "    <tr>\n",
       "      <th>4</th>\n",
       "      <td>94997</td>\n",
       "      <td>1992.652133</td>\n",
       "    </tr>\n",
       "  </tbody>\n",
       "</table>\n",
       "</div>"
      ],
      "text/plain": [
       "   row_id       energy\n",
       "0   94993  2038.440855\n",
       "1   94994  2006.741063\n",
       "2   94995  1994.880913\n",
       "3   94996  1987.600845\n",
       "4   94997  1992.652133"
      ]
     },
     "execution_count": 42,
     "metadata": {},
     "output_type": "execute_result"
    }
   ],
   "source": [
    "#check saved submission data\n",
    "pd.read_csv('submission.csv').head()"
   ]
  },
  {
   "cell_type": "code",
   "execution_count": 43,
   "id": "33dcbb8a",
   "metadata": {
    "execution": {
     "iopub.execute_input": "2022-11-19T14:03:17.611528Z",
     "iopub.status.busy": "2022-11-19T14:03:17.610298Z",
     "iopub.status.idle": "2022-11-19T14:03:17.615859Z",
     "shell.execute_reply": "2022-11-19T14:03:17.614863Z"
    },
    "papermill": {
     "duration": 0.026702,
     "end_time": "2022-11-19T14:03:17.618318",
     "exception": false,
     "start_time": "2022-11-19T14:03:17.591616",
     "status": "completed"
    },
    "tags": []
   },
   "outputs": [],
   "source": [
    "# import pmdarima as pm"
   ]
  }
 ],
 "metadata": {
  "kernelspec": {
   "display_name": "Python 3",
   "language": "python",
   "name": "python3"
  },
  "language_info": {
   "codemirror_mode": {
    "name": "ipython",
    "version": 3
   },
   "file_extension": ".py",
   "mimetype": "text/x-python",
   "name": "python",
   "nbconvert_exporter": "python",
   "pygments_lexer": "ipython3",
   "version": "3.7.12"
  },
  "papermill": {
   "default_parameters": {},
   "duration": 528.385563,
   "end_time": "2022-11-19T14:03:18.966526",
   "environment_variables": {},
   "exception": null,
   "input_path": "__notebook__.ipynb",
   "output_path": "__notebook__.ipynb",
   "parameters": {},
   "start_time": "2022-11-19T13:54:30.580963",
   "version": "2.3.4"
  }
 },
 "nbformat": 4,
 "nbformat_minor": 5
}
