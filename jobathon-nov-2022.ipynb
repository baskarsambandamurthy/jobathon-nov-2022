{
 "cells": [
  {
   "cell_type": "code",
   "execution_count": 1,
   "id": "a360009d",
   "metadata": {
    "_cell_guid": "b1076dfc-b9ad-4769-8c92-a6c4dae69d19",
    "_uuid": "8f2839f25d086af736a60e9eeb907d3b93b6e0e5",
    "execution": {
     "iopub.execute_input": "2022-11-18T17:07:04.222901Z",
     "iopub.status.busy": "2022-11-18T17:07:04.222357Z",
     "iopub.status.idle": "2022-11-18T17:07:04.245743Z",
     "shell.execute_reply": "2022-11-18T17:07:04.244819Z"
    },
    "papermill": {
     "duration": 0.035808,
     "end_time": "2022-11-18T17:07:04.248036",
     "exception": false,
     "start_time": "2022-11-18T17:07:04.212228",
     "status": "completed"
    },
    "tags": []
   },
   "outputs": [
    {
     "name": "stdout",
     "output_type": "stream",
     "text": [
      "/kaggle/input/jobathon-nov-2022/sample_submission.csv\n",
      "/kaggle/input/jobathon-nov-2022/train.csv\n",
      "/kaggle/input/jobathon-nov-2022/test.csv\n"
     ]
    }
   ],
   "source": [
    "# This Python 3 environment comes with many helpful analytics libraries installed\n",
    "# It is defined by the kaggle/python Docker image: https://github.com/kaggle/docker-python\n",
    "# For example, here's several helpful packages to load\n",
    "\n",
    "import numpy as np # linear algebra\n",
    "import pandas as pd # data processing, CSV file I/O (e.g. pd.read_csv)\n",
    "\n",
    "# Input data files are available in the read-only \"../input/\" directory\n",
    "# For example, running this (by clicking run or pressing Shift+Enter) will list all files under the input directory\n",
    "\n",
    "import os\n",
    "for dirname, _, filenames in os.walk('/kaggle/input'):\n",
    "    for filename in filenames:\n",
    "        print(os.path.join(dirname, filename))\n",
    "\n",
    "# You can write up to 20GB to the current directory (/kaggle/working/) that gets preserved as output when you create a version using \"Save & Run All\" \n",
    "# You can also write temporary files to /kaggle/temp/, but they won't be saved outside of the current session"
   ]
  },
  {
   "cell_type": "code",
   "execution_count": 2,
   "id": "2ba1cf82",
   "metadata": {
    "execution": {
     "iopub.execute_input": "2022-11-18T17:07:04.266074Z",
     "iopub.status.busy": "2022-11-18T17:07:04.265350Z",
     "iopub.status.idle": "2022-11-18T17:07:17.230140Z",
     "shell.execute_reply": "2022-11-18T17:07:17.228142Z"
    },
    "papermill": {
     "duration": 12.976722,
     "end_time": "2022-11-18T17:07:17.232894",
     "exception": false,
     "start_time": "2022-11-18T17:07:04.256172",
     "status": "completed"
    },
    "tags": []
   },
   "outputs": [
    {
     "name": "stdout",
     "output_type": "stream",
     "text": [
      "Collecting pmdarima\r\n",
      "  Downloading pmdarima-2.0.1-cp37-cp37m-manylinux_2_17_x86_64.manylinux2014_x86_64.manylinux_2_28_x86_64.whl (1.8 MB)\r\n",
      "\u001b[2K     \u001b[90m━━━━━━━━━━━━━━━━━━━━━━━━━━━━━━━━━━━━━━━━\u001b[0m \u001b[32m1.8/1.8 MB\u001b[0m \u001b[31m3.6 MB/s\u001b[0m eta \u001b[36m0:00:00\u001b[0m\r\n",
      "\u001b[?25hRequirement already satisfied: scipy>=1.3.2 in /opt/conda/lib/python3.7/site-packages (from pmdarima) (1.7.3)\r\n",
      "Requirement already satisfied: urllib3 in /opt/conda/lib/python3.7/site-packages (from pmdarima) (1.26.12)\r\n",
      "Requirement already satisfied: numpy>=1.21 in /opt/conda/lib/python3.7/site-packages (from pmdarima) (1.21.6)\r\n",
      "Requirement already satisfied: statsmodels>=0.13.2 in /opt/conda/lib/python3.7/site-packages (from pmdarima) (0.13.2)\r\n",
      "Requirement already satisfied: joblib>=0.11 in /opt/conda/lib/python3.7/site-packages (from pmdarima) (1.0.1)\r\n",
      "Requirement already satisfied: Cython!=0.29.18,!=0.29.31,>=0.29 in /opt/conda/lib/python3.7/site-packages (from pmdarima) (0.29.32)\r\n",
      "Requirement already satisfied: scikit-learn>=0.22 in /opt/conda/lib/python3.7/site-packages (from pmdarima) (1.0.2)\r\n",
      "Requirement already satisfied: setuptools!=50.0.0,>=38.6.0 in /opt/conda/lib/python3.7/site-packages (from pmdarima) (59.8.0)\r\n",
      "Requirement already satisfied: pandas>=0.19 in /opt/conda/lib/python3.7/site-packages (from pmdarima) (1.3.5)\r\n",
      "Requirement already satisfied: python-dateutil>=2.7.3 in /opt/conda/lib/python3.7/site-packages (from pandas>=0.19->pmdarima) (2.8.2)\r\n",
      "Requirement already satisfied: pytz>=2017.3 in /opt/conda/lib/python3.7/site-packages (from pandas>=0.19->pmdarima) (2022.1)\r\n",
      "Requirement already satisfied: threadpoolctl>=2.0.0 in /opt/conda/lib/python3.7/site-packages (from scikit-learn>=0.22->pmdarima) (3.1.0)\r\n",
      "Requirement already satisfied: packaging>=21.3 in /opt/conda/lib/python3.7/site-packages (from statsmodels>=0.13.2->pmdarima) (21.3)\r\n",
      "Requirement already satisfied: patsy>=0.5.2 in /opt/conda/lib/python3.7/site-packages (from statsmodels>=0.13.2->pmdarima) (0.5.2)\r\n",
      "Requirement already satisfied: pyparsing!=3.0.5,>=2.0.2 in /opt/conda/lib/python3.7/site-packages (from packaging>=21.3->statsmodels>=0.13.2->pmdarima) (3.0.9)\r\n",
      "Requirement already satisfied: six in /opt/conda/lib/python3.7/site-packages (from patsy>=0.5.2->statsmodels>=0.13.2->pmdarima) (1.15.0)\r\n",
      "Installing collected packages: pmdarima\r\n",
      "Successfully installed pmdarima-2.0.1\r\n",
      "\u001b[33mWARNING: Running pip as the 'root' user can result in broken permissions and conflicting behaviour with the system package manager. It is recommended to use a virtual environment instead: https://pip.pypa.io/warnings/venv\u001b[0m\u001b[33m\r\n",
      "\u001b[0m"
     ]
    }
   ],
   "source": [
    "!pip install pmdarima"
   ]
  },
  {
   "cell_type": "code",
   "execution_count": 3,
   "id": "0049376c",
   "metadata": {
    "execution": {
     "iopub.execute_input": "2022-11-18T17:07:17.253603Z",
     "iopub.status.busy": "2022-11-18T17:07:17.253186Z",
     "iopub.status.idle": "2022-11-18T17:07:17.387307Z",
     "shell.execute_reply": "2022-11-18T17:07:17.385869Z"
    },
    "papermill": {
     "duration": 0.148254,
     "end_time": "2022-11-18T17:07:17.389960",
     "exception": false,
     "start_time": "2022-11-18T17:07:17.241706",
     "status": "completed"
    },
    "tags": []
   },
   "outputs": [
    {
     "name": "stdout",
     "output_type": "stream",
     "text": [
      "(94992, 3)\n"
     ]
    }
   ],
   "source": [
    "train=pd.read_csv('/kaggle/input/jobathon-nov-2022/train.csv')\n",
    "print(train.shape)"
   ]
  },
  {
   "cell_type": "code",
   "execution_count": 4,
   "id": "5ccf9212",
   "metadata": {
    "execution": {
     "iopub.execute_input": "2022-11-18T17:07:17.410998Z",
     "iopub.status.busy": "2022-11-18T17:07:17.410619Z",
     "iopub.status.idle": "2022-11-18T17:07:17.445990Z",
     "shell.execute_reply": "2022-11-18T17:07:17.443846Z"
    },
    "papermill": {
     "duration": 0.049201,
     "end_time": "2022-11-18T17:07:17.448219",
     "exception": false,
     "start_time": "2022-11-18T17:07:17.399018",
     "status": "completed"
    },
    "tags": []
   },
   "outputs": [
    {
     "name": "stdout",
     "output_type": "stream",
     "text": [
      "(26304, 2)\n"
     ]
    }
   ],
   "source": [
    "test=pd.read_csv('/kaggle/input/jobathon-nov-2022/test.csv')\n",
    "print(test.shape)"
   ]
  },
  {
   "cell_type": "code",
   "execution_count": 5,
   "id": "71d2ba28",
   "metadata": {
    "execution": {
     "iopub.execute_input": "2022-11-18T17:07:17.468639Z",
     "iopub.status.busy": "2022-11-18T17:07:17.468226Z",
     "iopub.status.idle": "2022-11-18T17:07:17.495833Z",
     "shell.execute_reply": "2022-11-18T17:07:17.494178Z"
    },
    "papermill": {
     "duration": 0.04167,
     "end_time": "2022-11-18T17:07:17.498730",
     "exception": false,
     "start_time": "2022-11-18T17:07:17.457060",
     "status": "completed"
    },
    "tags": []
   },
   "outputs": [
    {
     "data": {
      "text/html": [
       "<div>\n",
       "<style scoped>\n",
       "    .dataframe tbody tr th:only-of-type {\n",
       "        vertical-align: middle;\n",
       "    }\n",
       "\n",
       "    .dataframe tbody tr th {\n",
       "        vertical-align: top;\n",
       "    }\n",
       "\n",
       "    .dataframe thead th {\n",
       "        text-align: right;\n",
       "    }\n",
       "</style>\n",
       "<table border=\"1\" class=\"dataframe\">\n",
       "  <thead>\n",
       "    <tr style=\"text-align: right;\">\n",
       "      <th></th>\n",
       "      <th>row_id</th>\n",
       "      <th>datetime</th>\n",
       "      <th>energy</th>\n",
       "    </tr>\n",
       "  </thead>\n",
       "  <tbody>\n",
       "    <tr>\n",
       "      <th>0</th>\n",
       "      <td>1</td>\n",
       "      <td>2008-03-01 00:00:00</td>\n",
       "      <td>1259.985563</td>\n",
       "    </tr>\n",
       "    <tr>\n",
       "      <th>1</th>\n",
       "      <td>2</td>\n",
       "      <td>2008-03-01 01:00:00</td>\n",
       "      <td>1095.541500</td>\n",
       "    </tr>\n",
       "    <tr>\n",
       "      <th>2</th>\n",
       "      <td>3</td>\n",
       "      <td>2008-03-01 02:00:00</td>\n",
       "      <td>1056.247500</td>\n",
       "    </tr>\n",
       "    <tr>\n",
       "      <th>3</th>\n",
       "      <td>4</td>\n",
       "      <td>2008-03-01 03:00:00</td>\n",
       "      <td>1034.742000</td>\n",
       "    </tr>\n",
       "    <tr>\n",
       "      <th>4</th>\n",
       "      <td>5</td>\n",
       "      <td>2008-03-01 04:00:00</td>\n",
       "      <td>1026.334500</td>\n",
       "    </tr>\n",
       "  </tbody>\n",
       "</table>\n",
       "</div>"
      ],
      "text/plain": [
       "   row_id             datetime       energy\n",
       "0       1  2008-03-01 00:00:00  1259.985563\n",
       "1       2  2008-03-01 01:00:00  1095.541500\n",
       "2       3  2008-03-01 02:00:00  1056.247500\n",
       "3       4  2008-03-01 03:00:00  1034.742000\n",
       "4       5  2008-03-01 04:00:00  1026.334500"
      ]
     },
     "execution_count": 5,
     "metadata": {},
     "output_type": "execute_result"
    }
   ],
   "source": [
    "train.head()"
   ]
  },
  {
   "cell_type": "code",
   "execution_count": 6,
   "id": "458b76b3",
   "metadata": {
    "execution": {
     "iopub.execute_input": "2022-11-18T17:07:17.518914Z",
     "iopub.status.busy": "2022-11-18T17:07:17.518526Z",
     "iopub.status.idle": "2022-11-18T17:07:17.553930Z",
     "shell.execute_reply": "2022-11-18T17:07:17.552559Z"
    },
    "papermill": {
     "duration": 0.048707,
     "end_time": "2022-11-18T17:07:17.556613",
     "exception": false,
     "start_time": "2022-11-18T17:07:17.507906",
     "status": "completed"
    },
    "tags": []
   },
   "outputs": [
    {
     "name": "stdout",
     "output_type": "stream",
     "text": [
      "<class 'pandas.core.frame.DataFrame'>\n",
      "RangeIndex: 94992 entries, 0 to 94991\n",
      "Data columns (total 3 columns):\n",
      " #   Column    Non-Null Count  Dtype  \n",
      "---  ------    --------------  -----  \n",
      " 0   row_id    94992 non-null  int64  \n",
      " 1   datetime  94992 non-null  object \n",
      " 2   energy    93092 non-null  float64\n",
      "dtypes: float64(1), int64(1), object(1)\n",
      "memory usage: 2.2+ MB\n"
     ]
    }
   ],
   "source": [
    "train.info()"
   ]
  },
  {
   "cell_type": "code",
   "execution_count": 7,
   "id": "3dddf107",
   "metadata": {
    "execution": {
     "iopub.execute_input": "2022-11-18T17:07:17.577334Z",
     "iopub.status.busy": "2022-11-18T17:07:17.576140Z",
     "iopub.status.idle": "2022-11-18T17:07:17.597136Z",
     "shell.execute_reply": "2022-11-18T17:07:17.595787Z"
    },
    "papermill": {
     "duration": 0.033905,
     "end_time": "2022-11-18T17:07:17.599712",
     "exception": false,
     "start_time": "2022-11-18T17:07:17.565807",
     "status": "completed"
    },
    "tags": []
   },
   "outputs": [
    {
     "data": {
      "text/plain": [
       "count    93092.000000\n",
       "mean      1702.995014\n",
       "std        369.322103\n",
       "min        866.388600\n",
       "25%       1431.541100\n",
       "50%       1654.465800\n",
       "75%       1935.993450\n",
       "max       3374.399600\n",
       "Name: energy, dtype: float64"
      ]
     },
     "execution_count": 7,
     "metadata": {},
     "output_type": "execute_result"
    }
   ],
   "source": [
    "train['energy'].describe()"
   ]
  },
  {
   "cell_type": "code",
   "execution_count": 8,
   "id": "80a6f96f",
   "metadata": {
    "execution": {
     "iopub.execute_input": "2022-11-18T17:07:17.620913Z",
     "iopub.status.busy": "2022-11-18T17:07:17.620222Z",
     "iopub.status.idle": "2022-11-18T17:07:17.647433Z",
     "shell.execute_reply": "2022-11-18T17:07:17.646298Z"
    },
    "papermill": {
     "duration": 0.040726,
     "end_time": "2022-11-18T17:07:17.650067",
     "exception": false,
     "start_time": "2022-11-18T17:07:17.609341",
     "status": "completed"
    },
    "tags": []
   },
   "outputs": [],
   "source": [
    "train['datetime']=pd.to_datetime(train['datetime'],infer_datetime_format=True)"
   ]
  },
  {
   "cell_type": "code",
   "execution_count": 9,
   "id": "febac26d",
   "metadata": {
    "execution": {
     "iopub.execute_input": "2022-11-18T17:07:17.670633Z",
     "iopub.status.busy": "2022-11-18T17:07:17.670228Z",
     "iopub.status.idle": "2022-11-18T17:07:17.678997Z",
     "shell.execute_reply": "2022-11-18T17:07:17.678170Z"
    },
    "papermill": {
     "duration": 0.021573,
     "end_time": "2022-11-18T17:07:17.681135",
     "exception": false,
     "start_time": "2022-11-18T17:07:17.659562",
     "status": "completed"
    },
    "tags": []
   },
   "outputs": [
    {
     "data": {
      "text/plain": [
       "(Timestamp('2008-03-01 00:00:00'), Timestamp('2018-12-31 23:00:00'))"
      ]
     },
     "execution_count": 9,
     "metadata": {},
     "output_type": "execute_result"
    }
   ],
   "source": [
    "train['datetime'].min(),train['datetime'].max()"
   ]
  },
  {
   "cell_type": "code",
   "execution_count": 10,
   "id": "bd209593",
   "metadata": {
    "execution": {
     "iopub.execute_input": "2022-11-18T17:07:17.702582Z",
     "iopub.status.busy": "2022-11-18T17:07:17.701726Z",
     "iopub.status.idle": "2022-11-18T17:07:17.722640Z",
     "shell.execute_reply": "2022-11-18T17:07:17.721576Z"
    },
    "papermill": {
     "duration": 0.033976,
     "end_time": "2022-11-18T17:07:17.724808",
     "exception": false,
     "start_time": "2022-11-18T17:07:17.690832",
     "status": "completed"
    },
    "tags": []
   },
   "outputs": [],
   "source": [
    "train['year']=train['datetime'].dt.year\n",
    "train['month']=train['datetime'].dt.month\n",
    "train['day']=train['datetime'].dt.day\n",
    "train['hour']=train['datetime'].dt.hour"
   ]
  },
  {
   "cell_type": "code",
   "execution_count": 11,
   "id": "601cddba",
   "metadata": {
    "execution": {
     "iopub.execute_input": "2022-11-18T17:07:17.747001Z",
     "iopub.status.busy": "2022-11-18T17:07:17.745726Z",
     "iopub.status.idle": "2022-11-18T17:07:17.757335Z",
     "shell.execute_reply": "2022-11-18T17:07:17.756401Z"
    },
    "papermill": {
     "duration": 0.025694,
     "end_time": "2022-11-18T17:07:17.760092",
     "exception": false,
     "start_time": "2022-11-18T17:07:17.734398",
     "status": "completed"
    },
    "tags": []
   },
   "outputs": [
    {
     "data": {
      "text/plain": [
       "array([2008, 2009, 2010, 2011, 2012, 2013, 2014, 2015, 2016, 2017, 2018])"
      ]
     },
     "execution_count": 11,
     "metadata": {},
     "output_type": "execute_result"
    }
   ],
   "source": [
    "train['year'].unique()"
   ]
  },
  {
   "cell_type": "code",
   "execution_count": 12,
   "id": "228a08fa",
   "metadata": {
    "execution": {
     "iopub.execute_input": "2022-11-18T17:07:17.781952Z",
     "iopub.status.busy": "2022-11-18T17:07:17.781567Z",
     "iopub.status.idle": "2022-11-18T17:07:17.795937Z",
     "shell.execute_reply": "2022-11-18T17:07:17.794728Z"
    },
    "papermill": {
     "duration": 0.028365,
     "end_time": "2022-11-18T17:07:17.798184",
     "exception": false,
     "start_time": "2022-11-18T17:07:17.769819",
     "status": "completed"
    },
    "tags": []
   },
   "outputs": [],
   "source": [
    "test['datetime']=pd.to_datetime(test['datetime'],infer_datetime_format=True)"
   ]
  },
  {
   "cell_type": "code",
   "execution_count": 13,
   "id": "84d02d79",
   "metadata": {
    "execution": {
     "iopub.execute_input": "2022-11-18T17:07:17.818578Z",
     "iopub.status.busy": "2022-11-18T17:07:17.818228Z",
     "iopub.status.idle": "2022-11-18T17:07:17.826615Z",
     "shell.execute_reply": "2022-11-18T17:07:17.825512Z"
    },
    "papermill": {
     "duration": 0.0215,
     "end_time": "2022-11-18T17:07:17.829151",
     "exception": false,
     "start_time": "2022-11-18T17:07:17.807651",
     "status": "completed"
    },
    "tags": []
   },
   "outputs": [
    {
     "data": {
      "text/plain": [
       "(Timestamp('2019-01-01 00:00:00'), Timestamp('2021-12-31 23:00:00'))"
      ]
     },
     "execution_count": 13,
     "metadata": {},
     "output_type": "execute_result"
    }
   ],
   "source": [
    "test['datetime'].min(),test['datetime'].max()"
   ]
  },
  {
   "cell_type": "code",
   "execution_count": 14,
   "id": "c26a6edb",
   "metadata": {
    "execution": {
     "iopub.execute_input": "2022-11-18T17:07:17.851233Z",
     "iopub.status.busy": "2022-11-18T17:07:17.850792Z",
     "iopub.status.idle": "2022-11-18T17:07:17.862128Z",
     "shell.execute_reply": "2022-11-18T17:07:17.860676Z"
    },
    "papermill": {
     "duration": 0.025775,
     "end_time": "2022-11-18T17:07:17.865061",
     "exception": false,
     "start_time": "2022-11-18T17:07:17.839286",
     "status": "completed"
    },
    "tags": []
   },
   "outputs": [],
   "source": [
    "test['year']=test['datetime'].dt.year\n",
    "test['month']=test['datetime'].dt.month\n",
    "test['day']=test['datetime'].dt.day\n",
    "test['hour']=test['datetime'].dt.hour"
   ]
  },
  {
   "cell_type": "markdown",
   "id": "d7c3e7d8",
   "metadata": {
    "papermill": {
     "duration": 0.009565,
     "end_time": "2022-11-18T17:07:17.884310",
     "exception": false,
     "start_time": "2022-11-18T17:07:17.874745",
     "status": "completed"
    },
    "tags": []
   },
   "source": [
    "Split Train into train and validation sets"
   ]
  },
  {
   "cell_type": "code",
   "execution_count": 15,
   "id": "f077cd4b",
   "metadata": {
    "execution": {
     "iopub.execute_input": "2022-11-18T17:07:17.905892Z",
     "iopub.status.busy": "2022-11-18T17:07:17.905181Z",
     "iopub.status.idle": "2022-11-18T17:07:17.929246Z",
     "shell.execute_reply": "2022-11-18T17:07:17.928234Z"
    },
    "papermill": {
     "duration": 0.03783,
     "end_time": "2022-11-18T17:07:17.931777",
     "exception": false,
     "start_time": "2022-11-18T17:07:17.893947",
     "status": "completed"
    },
    "tags": []
   },
   "outputs": [
    {
     "name": "stdout",
     "output_type": "stream",
     "text": [
      "(1464, 7)\n",
      "(8760, 7)\n"
     ]
    },
    {
     "data": {
      "text/html": [
       "<div>\n",
       "<style scoped>\n",
       "    .dataframe tbody tr th:only-of-type {\n",
       "        vertical-align: middle;\n",
       "    }\n",
       "\n",
       "    .dataframe tbody tr th {\n",
       "        vertical-align: top;\n",
       "    }\n",
       "\n",
       "    .dataframe thead th {\n",
       "        text-align: right;\n",
       "    }\n",
       "</style>\n",
       "<table border=\"1\" class=\"dataframe\">\n",
       "  <thead>\n",
       "    <tr style=\"text-align: right;\">\n",
       "      <th></th>\n",
       "      <th>row_id</th>\n",
       "      <th>datetime</th>\n",
       "      <th>energy</th>\n",
       "      <th>year</th>\n",
       "      <th>month</th>\n",
       "      <th>day</th>\n",
       "      <th>hour</th>\n",
       "    </tr>\n",
       "  </thead>\n",
       "  <tbody>\n",
       "    <tr>\n",
       "      <th>86232</th>\n",
       "      <td>86233</td>\n",
       "      <td>2018-01-01 00:00:00</td>\n",
       "      <td>1642.7628</td>\n",
       "      <td>2018</td>\n",
       "      <td>1</td>\n",
       "      <td>1</td>\n",
       "      <td>0</td>\n",
       "    </tr>\n",
       "    <tr>\n",
       "      <th>86233</th>\n",
       "      <td>86234</td>\n",
       "      <td>2018-01-01 01:00:00</td>\n",
       "      <td>NaN</td>\n",
       "      <td>2018</td>\n",
       "      <td>1</td>\n",
       "      <td>1</td>\n",
       "      <td>1</td>\n",
       "    </tr>\n",
       "    <tr>\n",
       "      <th>86234</th>\n",
       "      <td>86235</td>\n",
       "      <td>2018-01-01 02:00:00</td>\n",
       "      <td>1463.6552</td>\n",
       "      <td>2018</td>\n",
       "      <td>1</td>\n",
       "      <td>1</td>\n",
       "      <td>2</td>\n",
       "    </tr>\n",
       "    <tr>\n",
       "      <th>86235</th>\n",
       "      <td>86236</td>\n",
       "      <td>2018-01-01 03:00:00</td>\n",
       "      <td>1413.1208</td>\n",
       "      <td>2018</td>\n",
       "      <td>1</td>\n",
       "      <td>1</td>\n",
       "      <td>3</td>\n",
       "    </tr>\n",
       "    <tr>\n",
       "      <th>86236</th>\n",
       "      <td>86237</td>\n",
       "      <td>2018-01-01 04:00:00</td>\n",
       "      <td>1385.8796</td>\n",
       "      <td>2018</td>\n",
       "      <td>1</td>\n",
       "      <td>1</td>\n",
       "      <td>4</td>\n",
       "    </tr>\n",
       "  </tbody>\n",
       "</table>\n",
       "</div>"
      ],
      "text/plain": [
       "       row_id            datetime     energy  year  month  day  hour\n",
       "86232   86233 2018-01-01 00:00:00  1642.7628  2018      1    1     0\n",
       "86233   86234 2018-01-01 01:00:00        NaN  2018      1    1     1\n",
       "86234   86235 2018-01-01 02:00:00  1463.6552  2018      1    1     2\n",
       "86235   86236 2018-01-01 03:00:00  1413.1208  2018      1    1     3\n",
       "86236   86237 2018-01-01 04:00:00  1385.8796  2018      1    1     4"
      ]
     },
     "execution_count": 15,
     "metadata": {},
     "output_type": "execute_result"
    }
   ],
   "source": [
    "import datetime \n",
    "train_start = datetime.datetime(year=2017,month=11,day=1,hour=0)\n",
    "val_start = datetime.datetime(year=2018,month=1,day=1,hour=0)\n",
    "val_end = datetime.datetime(year=2018,month=12,day=31,hour=23)\n",
    "# val_start = datetime.datetime(year=2016,month=1,day=1,hour=0)\n",
    "# val_end = datetime.datetime(year=2018,month=12,day=31,hour=23)\n",
    "X_val= train[(train['datetime']>=val_start) & (train['datetime']<=val_end)].copy()\n",
    "X_train= train[(train['datetime']>=train_start) & (train['datetime']<val_start)].copy()\n",
    "print(X_train.shape)\n",
    "print(X_val.shape)\n",
    "X_val.head()           "
   ]
  },
  {
   "cell_type": "code",
   "execution_count": 16,
   "id": "b5b99f13",
   "metadata": {
    "execution": {
     "iopub.execute_input": "2022-11-18T17:07:17.953605Z",
     "iopub.status.busy": "2022-11-18T17:07:17.953213Z",
     "iopub.status.idle": "2022-11-18T17:07:17.961348Z",
     "shell.execute_reply": "2022-11-18T17:07:17.959954Z"
    },
    "papermill": {
     "duration": 0.02315,
     "end_time": "2022-11-18T17:07:17.965075",
     "exception": false,
     "start_time": "2022-11-18T17:07:17.941925",
     "status": "completed"
    },
    "tags": []
   },
   "outputs": [
    {
     "name": "stdout",
     "output_type": "stream",
     "text": [
      "174\n"
     ]
    }
   ],
   "source": [
    "targetcol = 'energy'\n",
    "val_target = X_val[targetcol]\n",
    "print(X_val[targetcol].isnull().sum())"
   ]
  },
  {
   "cell_type": "code",
   "execution_count": 17,
   "id": "928e31e0",
   "metadata": {
    "execution": {
     "iopub.execute_input": "2022-11-18T17:07:17.988706Z",
     "iopub.status.busy": "2022-11-18T17:07:17.987443Z",
     "iopub.status.idle": "2022-11-18T17:07:17.995912Z",
     "shell.execute_reply": "2022-11-18T17:07:17.994183Z"
    },
    "papermill": {
     "duration": 0.023512,
     "end_time": "2022-11-18T17:07:17.999130",
     "exception": false,
     "start_time": "2022-11-18T17:07:17.975618",
     "status": "completed"
    },
    "tags": []
   },
   "outputs": [],
   "source": [
    "val_target.fillna(X_train[targetcol].mean(),inplace=True)"
   ]
  },
  {
   "cell_type": "code",
   "execution_count": 18,
   "id": "65bd59af",
   "metadata": {
    "execution": {
     "iopub.execute_input": "2022-11-18T17:07:18.021331Z",
     "iopub.status.busy": "2022-11-18T17:07:18.020955Z",
     "iopub.status.idle": "2022-11-18T17:07:19.169881Z",
     "shell.execute_reply": "2022-11-18T17:07:19.169121Z"
    },
    "papermill": {
     "duration": 1.163103,
     "end_time": "2022-11-18T17:07:19.172574",
     "exception": false,
     "start_time": "2022-11-18T17:07:18.009471",
     "status": "completed"
    },
    "tags": []
   },
   "outputs": [],
   "source": [
    "from sklearn.metrics import mean_squared_error"
   ]
  },
  {
   "cell_type": "code",
   "execution_count": 19,
   "id": "ca04aa96",
   "metadata": {
    "execution": {
     "iopub.execute_input": "2022-11-18T17:07:19.202513Z",
     "iopub.status.busy": "2022-11-18T17:07:19.201628Z",
     "iopub.status.idle": "2022-11-18T17:07:19.208317Z",
     "shell.execute_reply": "2022-11-18T17:07:19.206984Z"
    },
    "papermill": {
     "duration": 0.024131,
     "end_time": "2022-11-18T17:07:19.211785",
     "exception": false,
     "start_time": "2022-11-18T17:07:19.187654",
     "status": "completed"
    },
    "tags": []
   },
   "outputs": [],
   "source": [
    "#compute baseline error by predicting train energy mean as the energy for all time\n",
    "val_preds_baseline = np.full(len(X_val),train[targetcol].mean())"
   ]
  },
  {
   "cell_type": "code",
   "execution_count": 20,
   "id": "1710d1ec",
   "metadata": {
    "execution": {
     "iopub.execute_input": "2022-11-18T17:07:19.235721Z",
     "iopub.status.busy": "2022-11-18T17:07:19.235330Z",
     "iopub.status.idle": "2022-11-18T17:07:19.251024Z",
     "shell.execute_reply": "2022-11-18T17:07:19.249379Z"
    },
    "papermill": {
     "duration": 0.030068,
     "end_time": "2022-11-18T17:07:19.254028",
     "exception": false,
     "start_time": "2022-11-18T17:07:19.223960",
     "status": "completed"
    },
    "tags": []
   },
   "outputs": [
    {
     "name": "stdout",
     "output_type": "stream",
     "text": [
      "33\n",
      "0\n"
     ]
    }
   ],
   "source": [
    "print(X_train[targetcol].isnull().sum())\n",
    "X_train.fillna(X_train[targetcol].mean(),inplace=True)\n",
    "print(X_train[targetcol].isnull().sum())"
   ]
  },
  {
   "cell_type": "code",
   "execution_count": 21,
   "id": "9cb36b3b",
   "metadata": {
    "execution": {
     "iopub.execute_input": "2022-11-18T17:07:19.276669Z",
     "iopub.status.busy": "2022-11-18T17:07:19.275654Z",
     "iopub.status.idle": "2022-11-18T17:07:19.284199Z",
     "shell.execute_reply": "2022-11-18T17:07:19.282367Z"
    },
    "papermill": {
     "duration": 0.02333,
     "end_time": "2022-11-18T17:07:19.287684",
     "exception": false,
     "start_time": "2022-11-18T17:07:19.264354",
     "status": "completed"
    },
    "tags": []
   },
   "outputs": [
    {
     "name": "stdout",
     "output_type": "stream",
     "text": [
      "86232    1642.762800\n",
      "86233    1973.609798\n",
      "86234    1463.655200\n",
      "86235    1413.120800\n",
      "86236    1385.879600\n",
      "Name: energy, dtype: float64\n"
     ]
    }
   ],
   "source": [
    "print(val_target[0:5])"
   ]
  },
  {
   "cell_type": "code",
   "execution_count": 22,
   "id": "59a082a9",
   "metadata": {
    "execution": {
     "iopub.execute_input": "2022-11-18T17:07:19.309754Z",
     "iopub.status.busy": "2022-11-18T17:07:19.309406Z",
     "iopub.status.idle": "2022-11-18T17:07:19.318249Z",
     "shell.execute_reply": "2022-11-18T17:07:19.316447Z"
    },
    "papermill": {
     "duration": 0.022168,
     "end_time": "2022-11-18T17:07:19.320447",
     "exception": false,
     "start_time": "2022-11-18T17:07:19.298279",
     "status": "completed"
    },
    "tags": []
   },
   "outputs": [
    {
     "name": "stdout",
     "output_type": "stream",
     "text": [
      "valid score: 482.5800266525437\n"
     ]
    }
   ],
   "source": [
    "#compute error score on predictions\n",
    "val_score = mean_squared_error(val_target,val_preds_baseline,squared=False)\n",
    "print('valid score:',val_score)\n",
    "#458.85 for median baseline\n",
    "#427.85 for mean baseline\n",
    "#857 for auto arima\n",
    "#203 for auto arima seasonality\n",
    "\n",
    "#381.12 for 14 days for mean baseline  197 auto arima\n",
    "#340 for 90 days for mean baseline  289 auto arima\n",
    "#482 for 365 days for mean baseline 349 auto arima"
   ]
  },
  {
   "cell_type": "code",
   "execution_count": 23,
   "id": "57afa1a8",
   "metadata": {
    "execution": {
     "iopub.execute_input": "2022-11-18T17:07:19.342583Z",
     "iopub.status.busy": "2022-11-18T17:07:19.342201Z",
     "iopub.status.idle": "2022-11-18T17:07:19.346331Z",
     "shell.execute_reply": "2022-11-18T17:07:19.345432Z"
    },
    "papermill": {
     "duration": 0.017567,
     "end_time": "2022-11-18T17:07:19.348237",
     "exception": false,
     "start_time": "2022-11-18T17:07:19.330670",
     "status": "completed"
    },
    "tags": []
   },
   "outputs": [],
   "source": [
    "# valid score: 418.17182076917203"
   ]
  },
  {
   "cell_type": "markdown",
   "id": "72c67011",
   "metadata": {
    "papermill": {
     "duration": 0.010607,
     "end_time": "2022-11-18T17:07:19.369283",
     "exception": false,
     "start_time": "2022-11-18T17:07:19.358676",
     "status": "completed"
    },
    "tags": []
   },
   "source": [
    "Test Predictions Baseline"
   ]
  },
  {
   "cell_type": "code",
   "execution_count": 24,
   "id": "a896d1ef",
   "metadata": {
    "execution": {
     "iopub.execute_input": "2022-11-18T17:07:19.392701Z",
     "iopub.status.busy": "2022-11-18T17:07:19.392243Z",
     "iopub.status.idle": "2022-11-18T17:07:19.399206Z",
     "shell.execute_reply": "2022-11-18T17:07:19.398250Z"
    },
    "papermill": {
     "duration": 0.022048,
     "end_time": "2022-11-18T17:07:19.402228",
     "exception": false,
     "start_time": "2022-11-18T17:07:19.380180",
     "status": "completed"
    },
    "tags": []
   },
   "outputs": [],
   "source": [
    "test_preds_baseline = np.full(len(test),train[targetcol].mean())"
   ]
  },
  {
   "cell_type": "code",
   "execution_count": 25,
   "id": "21642dc1",
   "metadata": {
    "execution": {
     "iopub.execute_input": "2022-11-18T17:07:19.425092Z",
     "iopub.status.busy": "2022-11-18T17:07:19.424706Z",
     "iopub.status.idle": "2022-11-18T17:07:19.484942Z",
     "shell.execute_reply": "2022-11-18T17:07:19.483131Z"
    },
    "papermill": {
     "duration": 0.075425,
     "end_time": "2022-11-18T17:07:19.487918",
     "exception": false,
     "start_time": "2022-11-18T17:07:19.412493",
     "status": "completed"
    },
    "tags": []
   },
   "outputs": [],
   "source": [
    "subm = pd.DataFrame()\n",
    "subm['row_id'] = test['row_id']\n",
    "subm[targetcol]=test_preds_baseline\n",
    "subm.to_csv('submission.csv',index=False)"
   ]
  },
  {
   "cell_type": "code",
   "execution_count": 26,
   "id": "dae6c661",
   "metadata": {
    "execution": {
     "iopub.execute_input": "2022-11-18T17:07:19.509049Z",
     "iopub.status.busy": "2022-11-18T17:07:19.508704Z",
     "iopub.status.idle": "2022-11-18T17:07:19.520158Z",
     "shell.execute_reply": "2022-11-18T17:07:19.518742Z"
    },
    "papermill": {
     "duration": 0.025025,
     "end_time": "2022-11-18T17:07:19.522943",
     "exception": false,
     "start_time": "2022-11-18T17:07:19.497918",
     "status": "completed"
    },
    "tags": []
   },
   "outputs": [
    {
     "data": {
      "text/plain": [
       "count    94992.000000\n",
       "mean     47496.500000\n",
       "std      27421.972723\n",
       "min          1.000000\n",
       "25%      23748.750000\n",
       "50%      47496.500000\n",
       "75%      71244.250000\n",
       "max      94992.000000\n",
       "Name: row_id, dtype: float64"
      ]
     },
     "execution_count": 26,
     "metadata": {},
     "output_type": "execute_result"
    }
   ],
   "source": [
    "train['row_id'].describe()"
   ]
  },
  {
   "cell_type": "code",
   "execution_count": 27,
   "id": "3e972ce5",
   "metadata": {
    "execution": {
     "iopub.execute_input": "2022-11-18T17:07:19.545547Z",
     "iopub.status.busy": "2022-11-18T17:07:19.545149Z",
     "iopub.status.idle": "2022-11-18T17:07:19.562145Z",
     "shell.execute_reply": "2022-11-18T17:07:19.560564Z"
    },
    "papermill": {
     "duration": 0.031456,
     "end_time": "2022-11-18T17:07:19.564937",
     "exception": false,
     "start_time": "2022-11-18T17:07:19.533481",
     "status": "completed"
    },
    "tags": []
   },
   "outputs": [
    {
     "data": {
      "text/html": [
       "<div>\n",
       "<style scoped>\n",
       "    .dataframe tbody tr th:only-of-type {\n",
       "        vertical-align: middle;\n",
       "    }\n",
       "\n",
       "    .dataframe tbody tr th {\n",
       "        vertical-align: top;\n",
       "    }\n",
       "\n",
       "    .dataframe thead th {\n",
       "        text-align: right;\n",
       "    }\n",
       "</style>\n",
       "<table border=\"1\" class=\"dataframe\">\n",
       "  <thead>\n",
       "    <tr style=\"text-align: right;\">\n",
       "      <th></th>\n",
       "      <th>row_id</th>\n",
       "      <th>energy</th>\n",
       "    </tr>\n",
       "  </thead>\n",
       "  <tbody>\n",
       "    <tr>\n",
       "      <th>0</th>\n",
       "      <td>94993</td>\n",
       "      <td>1702.995014</td>\n",
       "    </tr>\n",
       "    <tr>\n",
       "      <th>1</th>\n",
       "      <td>94994</td>\n",
       "      <td>1702.995014</td>\n",
       "    </tr>\n",
       "    <tr>\n",
       "      <th>2</th>\n",
       "      <td>94995</td>\n",
       "      <td>1702.995014</td>\n",
       "    </tr>\n",
       "    <tr>\n",
       "      <th>3</th>\n",
       "      <td>94996</td>\n",
       "      <td>1702.995014</td>\n",
       "    </tr>\n",
       "    <tr>\n",
       "      <th>4</th>\n",
       "      <td>94997</td>\n",
       "      <td>1702.995014</td>\n",
       "    </tr>\n",
       "  </tbody>\n",
       "</table>\n",
       "</div>"
      ],
      "text/plain": [
       "   row_id       energy\n",
       "0   94993  1702.995014\n",
       "1   94994  1702.995014\n",
       "2   94995  1702.995014\n",
       "3   94996  1702.995014\n",
       "4   94997  1702.995014"
      ]
     },
     "execution_count": 27,
     "metadata": {},
     "output_type": "execute_result"
    }
   ],
   "source": [
    "#check saved s.absbmission data\n",
    "pd.read_csv('submission.csv').head()"
   ]
  },
  {
   "cell_type": "markdown",
   "id": "c89f4a3b",
   "metadata": {
    "papermill": {
     "duration": 0.009717,
     "end_time": "2022-11-18T17:07:19.585926",
     "exception": false,
     "start_time": "2022-11-18T17:07:19.576209",
     "status": "completed"
    },
    "tags": []
   },
   "source": [
    "Auto ARIMA model"
   ]
  },
  {
   "cell_type": "code",
   "execution_count": 28,
   "id": "93942eaf",
   "metadata": {
    "execution": {
     "iopub.execute_input": "2022-11-18T17:07:19.608117Z",
     "iopub.status.busy": "2022-11-18T17:07:19.607704Z",
     "iopub.status.idle": "2022-11-18T17:07:19.612987Z",
     "shell.execute_reply": "2022-11-18T17:07:19.611583Z"
    },
    "papermill": {
     "duration": 0.019619,
     "end_time": "2022-11-18T17:07:19.615818",
     "exception": false,
     "start_time": "2022-11-18T17:07:19.596199",
     "status": "completed"
    },
    "tags": []
   },
   "outputs": [],
   "source": [
    "# import pmdarima as pm"
   ]
  },
  {
   "cell_type": "code",
   "execution_count": 29,
   "id": "5b092ab4",
   "metadata": {
    "execution": {
     "iopub.execute_input": "2022-11-18T17:07:19.638257Z",
     "iopub.status.busy": "2022-11-18T17:07:19.637865Z",
     "iopub.status.idle": "2022-11-18T17:07:19.642717Z",
     "shell.execute_reply": "2022-11-18T17:07:19.641514Z"
    },
    "papermill": {
     "duration": 0.018534,
     "end_time": "2022-11-18T17:07:19.644994",
     "exception": false,
     "start_time": "2022-11-18T17:07:19.626460",
     "status": "completed"
    },
    "tags": []
   },
   "outputs": [],
   "source": [
    "# X_train.tail(25)"
   ]
  },
  {
   "cell_type": "code",
   "execution_count": 30,
   "id": "9dd97c46",
   "metadata": {
    "execution": {
     "iopub.execute_input": "2022-11-18T17:07:19.668216Z",
     "iopub.status.busy": "2022-11-18T17:07:19.667802Z",
     "iopub.status.idle": "2022-11-18T17:07:19.673046Z",
     "shell.execute_reply": "2022-11-18T17:07:19.671536Z"
    },
    "papermill": {
     "duration": 0.020336,
     "end_time": "2022-11-18T17:07:19.675565",
     "exception": false,
     "start_time": "2022-11-18T17:07:19.655229",
     "status": "completed"
    },
    "tags": []
   },
   "outputs": [],
   "source": [
    "# %%time\n",
    "# # auto_arima = pm.auto_arima(X_train[[targetcol]], n_jobs =-1,\n",
    "# #                            stepwise=False, seasonal=False)\n",
    "# auto_arima = pm.auto_arima(X_train[[targetcol]], n_jobs =-1,\n",
    "#                            stepwise=False, seasonal=True,m=24)\n",
    "# auto_arima"
   ]
  },
  {
   "cell_type": "code",
   "execution_count": 31,
   "id": "ae9a4d68",
   "metadata": {
    "execution": {
     "iopub.execute_input": "2022-11-18T17:07:19.698904Z",
     "iopub.status.busy": "2022-11-18T17:07:19.698516Z",
     "iopub.status.idle": "2022-11-18T17:07:19.704750Z",
     "shell.execute_reply": "2022-11-18T17:07:19.702706Z"
    },
    "papermill": {
     "duration": 0.02138,
     "end_time": "2022-11-18T17:07:19.707606",
     "exception": false,
     "start_time": "2022-11-18T17:07:19.686226",
     "status": "completed"
    },
    "tags": []
   },
   "outputs": [],
   "source": [
    "# auto_arima.summary()"
   ]
  },
  {
   "cell_type": "code",
   "execution_count": 32,
   "id": "dc9ad491",
   "metadata": {
    "execution": {
     "iopub.execute_input": "2022-11-18T17:07:19.730783Z",
     "iopub.status.busy": "2022-11-18T17:07:19.730424Z",
     "iopub.status.idle": "2022-11-18T17:07:19.734858Z",
     "shell.execute_reply": "2022-11-18T17:07:19.733915Z"
    },
    "papermill": {
     "duration": 0.01833,
     "end_time": "2022-11-18T17:07:19.736878",
     "exception": false,
     "start_time": "2022-11-18T17:07:19.718548",
     "status": "completed"
    },
    "tags": []
   },
   "outputs": [],
   "source": [
    "# %%time\n",
    "# forecast_test_auto = auto_arima.predict(n_periods=len(X_val))\n",
    "# # val_forecast_auto = [None]*len(X_train) + list(forecast_test_auto)\n",
    "# val_forecast_auto = np.array(list(forecast_test_auto))"
   ]
  },
  {
   "cell_type": "code",
   "execution_count": 33,
   "id": "31c91e0b",
   "metadata": {
    "execution": {
     "iopub.execute_input": "2022-11-18T17:07:19.759558Z",
     "iopub.status.busy": "2022-11-18T17:07:19.759159Z",
     "iopub.status.idle": "2022-11-18T17:07:19.764220Z",
     "shell.execute_reply": "2022-11-18T17:07:19.763089Z"
    },
    "papermill": {
     "duration": 0.018698,
     "end_time": "2022-11-18T17:07:19.766129",
     "exception": false,
     "start_time": "2022-11-18T17:07:19.747431",
     "status": "completed"
    },
    "tags": []
   },
   "outputs": [],
   "source": [
    "# #compute error score on predictions\n",
    "# val_score = mean_squared_error(val_target,val_forecast_auto,squared=False)\n",
    "# print('valid score:',val_score)"
   ]
  },
  {
   "cell_type": "code",
   "execution_count": null,
   "id": "4b780e43",
   "metadata": {
    "papermill": {
     "duration": 0.009687,
     "end_time": "2022-11-18T17:07:19.786240",
     "exception": false,
     "start_time": "2022-11-18T17:07:19.776553",
     "status": "completed"
    },
    "tags": []
   },
   "outputs": [],
   "source": []
  }
 ],
 "metadata": {
  "kernelspec": {
   "display_name": "Python 3",
   "language": "python",
   "name": "python3"
  },
  "language_info": {
   "codemirror_mode": {
    "name": "ipython",
    "version": 3
   },
   "file_extension": ".py",
   "mimetype": "text/x-python",
   "name": "python",
   "nbconvert_exporter": "python",
   "pygments_lexer": "ipython3",
   "version": "3.7.12"
  },
  "papermill": {
   "default_parameters": {},
   "duration": 24.541144,
   "end_time": "2022-11-18T17:07:20.619682",
   "environment_variables": {},
   "exception": null,
   "input_path": "__notebook__.ipynb",
   "output_path": "__notebook__.ipynb",
   "parameters": {},
   "start_time": "2022-11-18T17:06:56.078538",
   "version": "2.3.4"
  }
 },
 "nbformat": 4,
 "nbformat_minor": 5
}
